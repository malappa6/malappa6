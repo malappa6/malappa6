{
  "nbformat": 4,
  "nbformat_minor": 0,
  "metadata": {
    "kernelspec": {
      "display_name": "Python 3",
      "language": "python",
      "name": "python3"
    },
    "language_info": {
      "codemirror_mode": {
        "name": "ipython",
        "version": 3
      },
      "file_extension": ".py",
      "mimetype": "text/x-python",
      "name": "python",
      "nbconvert_exporter": "python",
      "pygments_lexer": "ipython3",
      "version": "3.7.6"
    },
    "colab": {
      "name": "___ Assignment 1 Dphi VGG - soumis.ipynb",
      "provenance": [],
      "collapsed_sections": [
        "gr4vxV3_EGNh"
      ],
      "toc_visible": true
    },
    "accelerator": "GPU"
  },
  "cells": [
    {
      "cell_type": "markdown",
      "metadata": {
        "id": "bPugR8PrEGMB",
        "colab_type": "text"
      },
      "source": [
        "Score = 81.6%"
      ]
    },
    {
      "cell_type": "code",
      "metadata": {
        "id": "jCw6kIyTEGMC",
        "colab_type": "code",
        "colab": {}
      },
      "source": [
        "from keras.models import Sequential\n",
        "from keras.applications import VGG19\n",
        "from tensorflow.keras.applications.vgg19 import preprocess_input\n",
        "\n",
        "from tensorflow.keras.models import Sequential\n",
        "from tensorflow.keras.layers import Dense, Flatten, Conv2D, MaxPooling2D, Dropout, BatchNormalization\n",
        "from tensorflow.keras.losses import sparse_categorical_crossentropy\n",
        "from keras.callbacks import EarlyStopping\n",
        "from tensorflow.keras.optimizers import Adam\n",
        "import matplotlib.pyplot as plt\n",
        "from keras.constraints import maxnorm\n",
        "from keras.optimizers import SGD\n",
        "from keras.utils import np_utils\n",
        "\n",
        "import pandas as pd\n",
        "import numpy as np\n",
        "import matplotlib.pyplot as plt\n",
        "\n",
        "import warnings\n",
        "warnings.filterwarnings(\"ignore\")\n",
        "\n",
        "from numpy.random import seed\n",
        "seed(1)\n",
        "\n",
        "import tensorflow\n",
        "tensorflow.random.set_seed(2)"
      ],
      "execution_count": 1,
      "outputs": []
    },
    {
      "cell_type": "code",
      "metadata": {
        "id": "ySSk4oVfEGMK",
        "colab_type": "code",
        "colab": {
          "base_uri": "https://localhost:8080/",
          "height": 51
        },
        "outputId": "ebda2b3e-60e7-4a4b-888e-34a4befb1736"
      },
      "source": [
        "from tensorflow.keras.datasets.cifar10 import load_data\n",
        "(X_train, y_train), (X_test, y_test) = load_data()"
      ],
      "execution_count": 2,
      "outputs": [
        {
          "output_type": "stream",
          "text": [
            "Downloading data from https://www.cs.toronto.edu/~kriz/cifar-10-python.tar.gz\n",
            "170500096/170498071 [==============================] - 6s 0us/step\n"
          ],
          "name": "stdout"
        }
      ]
    },
    {
      "cell_type": "code",
      "metadata": {
        "id": "i12fMaUjEGMO",
        "colab_type": "code",
        "colab": {
          "base_uri": "https://localhost:8080/",
          "height": 34
        },
        "outputId": "a4a632ba-6dcc-4896-eada-f692ab0e3af5"
      },
      "source": [
        "X_train.shape"
      ],
      "execution_count": 3,
      "outputs": [
        {
          "output_type": "execute_result",
          "data": {
            "text/plain": [
              "(50000, 32, 32, 3)"
            ]
          },
          "metadata": {
            "tags": []
          },
          "execution_count": 3
        }
      ]
    },
    {
      "cell_type": "code",
      "metadata": {
        "id": "ibRcdUfUEGMV",
        "colab_type": "code",
        "colab": {}
      },
      "source": [
        "#X_train = X_train.astype('float32')\n",
        "#X_test = X_test.astype('float32')\n",
        "\n",
        "# Normalize data\n",
        "X_train = X_train / 255\n",
        "X_test = X_test / 255"
      ],
      "execution_count": 4,
      "outputs": []
    },
    {
      "cell_type": "code",
      "metadata": {
        "id": "a4ub0jb1EGMe",
        "colab_type": "code",
        "colab": {
          "base_uri": "https://localhost:8080/",
          "height": 34
        },
        "outputId": "9758108e-67df-4bf9-addf-47f52ef56285"
      },
      "source": [
        "X_train.shape"
      ],
      "execution_count": 5,
      "outputs": [
        {
          "output_type": "execute_result",
          "data": {
            "text/plain": [
              "(50000, 32, 32, 3)"
            ]
          },
          "metadata": {
            "tags": []
          },
          "execution_count": 5
        }
      ]
    },
    {
      "cell_type": "markdown",
      "metadata": {
        "id": "BQi0mYIZEGMl",
        "colab_type": "text"
      },
      "source": [
        "IL SERA PEUT ETRE NECESSAIRE D'ANNULER LA LIGNE DE CODE CI DESSOUS"
      ]
    },
    {
      "cell_type": "code",
      "metadata": {
        "id": "WRmbvC1eEGMx",
        "colab_type": "code",
        "colab": {
          "base_uri": "https://localhost:8080/",
          "height": 34
        },
        "outputId": "4b81a6bd-753b-4e21-c661-35e825b446ea"
      },
      "source": [
        "X_train.shape"
      ],
      "execution_count": 6,
      "outputs": [
        {
          "output_type": "execute_result",
          "data": {
            "text/plain": [
              "(50000, 32, 32, 3)"
            ]
          },
          "metadata": {
            "tags": []
          },
          "execution_count": 6
        }
      ]
    },
    {
      "cell_type": "code",
      "metadata": {
        "id": "C_1E-156EGM0",
        "colab_type": "code",
        "colab": {
          "base_uri": "https://localhost:8080/",
          "height": 955
        },
        "outputId": "0865054a-2544-48f4-d72f-9b430982bef0"
      },
      "source": [
        "INPUT_SHAPE = (32, 32, 3)\n",
        "# get the VGG19 model\n",
        "vgg_layers = VGG19(weights='imagenet', include_top=False, \n",
        "                                               input_shape=INPUT_SHAPE)\n",
        "\n",
        "vgg_layers.summary()"
      ],
      "execution_count": 7,
      "outputs": [
        {
          "output_type": "stream",
          "text": [
            "Downloading data from https://storage.googleapis.com/tensorflow/keras-applications/vgg19/vgg19_weights_tf_dim_ordering_tf_kernels_notop.h5\n",
            "80142336/80134624 [==============================] - 2s 0us/step\n",
            "Model: \"vgg19\"\n",
            "_________________________________________________________________\n",
            "Layer (type)                 Output Shape              Param #   \n",
            "=================================================================\n",
            "input_1 (InputLayer)         [(None, 32, 32, 3)]       0         \n",
            "_________________________________________________________________\n",
            "block1_conv1 (Conv2D)        (None, 32, 32, 64)        1792      \n",
            "_________________________________________________________________\n",
            "block1_conv2 (Conv2D)        (None, 32, 32, 64)        36928     \n",
            "_________________________________________________________________\n",
            "block1_pool (MaxPooling2D)   (None, 16, 16, 64)        0         \n",
            "_________________________________________________________________\n",
            "block2_conv1 (Conv2D)        (None, 16, 16, 128)       73856     \n",
            "_________________________________________________________________\n",
            "block2_conv2 (Conv2D)        (None, 16, 16, 128)       147584    \n",
            "_________________________________________________________________\n",
            "block2_pool (MaxPooling2D)   (None, 8, 8, 128)         0         \n",
            "_________________________________________________________________\n",
            "block3_conv1 (Conv2D)        (None, 8, 8, 256)         295168    \n",
            "_________________________________________________________________\n",
            "block3_conv2 (Conv2D)        (None, 8, 8, 256)         590080    \n",
            "_________________________________________________________________\n",
            "block3_conv3 (Conv2D)        (None, 8, 8, 256)         590080    \n",
            "_________________________________________________________________\n",
            "block3_conv4 (Conv2D)        (None, 8, 8, 256)         590080    \n",
            "_________________________________________________________________\n",
            "block3_pool (MaxPooling2D)   (None, 4, 4, 256)         0         \n",
            "_________________________________________________________________\n",
            "block4_conv1 (Conv2D)        (None, 4, 4, 512)         1180160   \n",
            "_________________________________________________________________\n",
            "block4_conv2 (Conv2D)        (None, 4, 4, 512)         2359808   \n",
            "_________________________________________________________________\n",
            "block4_conv3 (Conv2D)        (None, 4, 4, 512)         2359808   \n",
            "_________________________________________________________________\n",
            "block4_conv4 (Conv2D)        (None, 4, 4, 512)         2359808   \n",
            "_________________________________________________________________\n",
            "block4_pool (MaxPooling2D)   (None, 2, 2, 512)         0         \n",
            "_________________________________________________________________\n",
            "block5_conv1 (Conv2D)        (None, 2, 2, 512)         2359808   \n",
            "_________________________________________________________________\n",
            "block5_conv2 (Conv2D)        (None, 2, 2, 512)         2359808   \n",
            "_________________________________________________________________\n",
            "block5_conv3 (Conv2D)        (None, 2, 2, 512)         2359808   \n",
            "_________________________________________________________________\n",
            "block5_conv4 (Conv2D)        (None, 2, 2, 512)         2359808   \n",
            "_________________________________________________________________\n",
            "block5_pool (MaxPooling2D)   (None, 1, 1, 512)         0         \n",
            "=================================================================\n",
            "Total params: 20,024,384\n",
            "Trainable params: 20,024,384\n",
            "Non-trainable params: 0\n",
            "_________________________________________________________________\n"
          ],
          "name": "stdout"
        }
      ]
    },
    {
      "cell_type": "code",
      "metadata": {
        "id": "ygs6MXJ2EGNA",
        "colab_type": "code",
        "colab": {
          "base_uri": "https://localhost:8080/",
          "height": 391
        },
        "outputId": "fa904180-5141-488d-bb00-29a5a437ce10"
      },
      "source": [
        "# Fine-tune all the layers\n",
        "for layer in vgg_layers.layers:\n",
        "    layer.trainable = True\n",
        "\n",
        "# Check the trainable status of the individual layers\n",
        "for layer in vgg_layers.layers:\n",
        "    print(layer, layer.trainable)"
      ],
      "execution_count": 8,
      "outputs": [
        {
          "output_type": "stream",
          "text": [
            "<tensorflow.python.keras.engine.input_layer.InputLayer object at 0x7f026ad42b38> True\n",
            "<tensorflow.python.keras.layers.convolutional.Conv2D object at 0x7f026a2b3160> True\n",
            "<tensorflow.python.keras.layers.convolutional.Conv2D object at 0x7f026a2b3470> True\n",
            "<tensorflow.python.keras.layers.pooling.MaxPooling2D object at 0x7f026a2b3898> True\n",
            "<tensorflow.python.keras.layers.convolutional.Conv2D object at 0x7f0269a88588> True\n",
            "<tensorflow.python.keras.layers.convolutional.Conv2D object at 0x7f0269a960b8> True\n",
            "<tensorflow.python.keras.layers.pooling.MaxPooling2D object at 0x7f0269a96828> True\n",
            "<tensorflow.python.keras.layers.convolutional.Conv2D object at 0x7f0269a9d048> True\n",
            "<tensorflow.python.keras.layers.convolutional.Conv2D object at 0x7f0269a9de80> True\n",
            "<tensorflow.python.keras.layers.convolutional.Conv2D object at 0x7f0269aa8208> True\n",
            "<tensorflow.python.keras.layers.convolutional.Conv2D object at 0x7f0269aa8b70> True\n",
            "<tensorflow.python.keras.layers.pooling.MaxPooling2D object at 0x7f020e087748> True\n",
            "<tensorflow.python.keras.layers.convolutional.Conv2D object at 0x7f020e090278> True\n",
            "<tensorflow.python.keras.layers.convolutional.Conv2D object at 0x7f020e090e80> True\n",
            "<tensorflow.python.keras.layers.convolutional.Conv2D object at 0x7f020e095518> True\n",
            "<tensorflow.python.keras.layers.convolutional.Conv2D object at 0x7f020e095d68> True\n",
            "<tensorflow.python.keras.layers.pooling.MaxPooling2D object at 0x7f020e0a0978> True\n",
            "<tensorflow.python.keras.layers.convolutional.Conv2D object at 0x7f020e0a94a8> True\n",
            "<tensorflow.python.keras.layers.convolutional.Conv2D object at 0x7f020e0b0320> True\n",
            "<tensorflow.python.keras.layers.convolutional.Conv2D object at 0x7f020e0b0748> True\n",
            "<tensorflow.python.keras.layers.convolutional.Conv2D object at 0x7f020e0b92b0> True\n",
            "<tensorflow.python.keras.layers.pooling.MaxPooling2D object at 0x7f020e0b9ba8> True\n"
          ],
          "name": "stdout"
        }
      ]
    },
    {
      "cell_type": "code",
      "metadata": {
        "id": "Y_5LP1YAEGND",
        "colab_type": "code",
        "colab": {
          "base_uri": "https://localhost:8080/",
          "height": 391
        },
        "outputId": "afb47163-8c4a-40a6-dd9b-a59977568860"
      },
      "source": [
        "# define sequential model\n",
        "model = Sequential()\n",
        "\n",
        "# Add the vgg convolutional base model\n",
        "model.add(vgg_layers)\n",
        "\n",
        "# add flatten layer\n",
        "model.add(Flatten())\n",
        "\n",
        "# add dense layers with some dropout\n",
        "model.add(Dense(256, activation='relu'))\n",
        "model.add(Dropout(rate=0.3))\n",
        "model.add(Dense(256, activation='relu'))\n",
        "model.add(Dropout(rate=0.3))\n",
        "\n",
        "# add output layer\n",
        "model.add(Dense(10, activation='softmax'))\n",
        "\n",
        "# compile model\n",
        "model.compile(optimizer=Adam(learning_rate=2e-5), \n",
        "              loss='sparse_categorical_crossentropy', \n",
        "              metrics=['accuracy'])\n",
        "\n",
        "# view model layers\n",
        "model.summary()\n"
      ],
      "execution_count": 9,
      "outputs": [
        {
          "output_type": "stream",
          "text": [
            "Model: \"sequential\"\n",
            "_________________________________________________________________\n",
            "Layer (type)                 Output Shape              Param #   \n",
            "=================================================================\n",
            "vgg19 (Functional)           (None, 1, 1, 512)         20024384  \n",
            "_________________________________________________________________\n",
            "flatten (Flatten)            (None, 512)               0         \n",
            "_________________________________________________________________\n",
            "dense (Dense)                (None, 256)               131328    \n",
            "_________________________________________________________________\n",
            "dropout (Dropout)            (None, 256)               0         \n",
            "_________________________________________________________________\n",
            "dense_1 (Dense)              (None, 256)               65792     \n",
            "_________________________________________________________________\n",
            "dropout_1 (Dropout)          (None, 256)               0         \n",
            "_________________________________________________________________\n",
            "dense_2 (Dense)              (None, 10)                2570      \n",
            "=================================================================\n",
            "Total params: 20,224,074\n",
            "Trainable params: 20,224,074\n",
            "Non-trainable params: 0\n",
            "_________________________________________________________________\n"
          ],
          "name": "stdout"
        }
      ]
    },
    {
      "cell_type": "code",
      "metadata": {
        "scrolled": false,
        "id": "6vxHe52oEGNH",
        "colab_type": "code",
        "colab": {
          "base_uri": "https://localhost:8080/",
          "height": 547
        },
        "outputId": "f97da0ea-67bb-46e4-e797-cd8aa4c473bf"
      },
      "source": [
        "EPOCHS = 15\n",
        "\n",
        "#es_callback = EarlyStopping(monitor='val_loss', patience=2, \n",
        "                                               #restore_best_weights=True,\n",
        "                                               #verbose=1)\n",
        "\n",
        "history = model.fit(X_train, y_train,\n",
        "                    batch_size=32, \n",
        "                    validation_split=0.1, epochs=EPOCHS,\n",
        "                    verbose=1)\n",
        "# A FAIRE CHANGER A 128 BATCH SIZE, 50 EPOCHS ET PATIENCE 5\n",
        "# TO CATEGORICAL POUR TARGET LABEL?\n",
        "\n",
        "# J'AI RETIRER CALLBACKS DU MODEL.FIT \"callbacks=[es_callback]\"\""
      ],
      "execution_count": 10,
      "outputs": [
        {
          "output_type": "stream",
          "text": [
            "Epoch 1/15\n",
            "1407/1407 [==============================] - 32s 23ms/step - loss: 1.1803 - accuracy: 0.6013 - val_loss: 0.7630 - val_accuracy: 0.7456\n",
            "Epoch 2/15\n",
            "1407/1407 [==============================] - 32s 23ms/step - loss: 0.7125 - accuracy: 0.7686 - val_loss: 0.5863 - val_accuracy: 0.7978\n",
            "Epoch 3/15\n",
            "1407/1407 [==============================] - 32s 23ms/step - loss: 0.5607 - accuracy: 0.8186 - val_loss: 0.5425 - val_accuracy: 0.8212\n",
            "Epoch 4/15\n",
            "1407/1407 [==============================] - 32s 23ms/step - loss: 0.4557 - accuracy: 0.8520 - val_loss: 0.5167 - val_accuracy: 0.8310\n",
            "Epoch 5/15\n",
            "1407/1407 [==============================] - 32s 23ms/step - loss: 0.3669 - accuracy: 0.8820 - val_loss: 0.5005 - val_accuracy: 0.8422\n",
            "Epoch 6/15\n",
            "1407/1407 [==============================] - 32s 23ms/step - loss: 0.2881 - accuracy: 0.9060 - val_loss: 0.5435 - val_accuracy: 0.8416\n",
            "Epoch 7/15\n",
            "1407/1407 [==============================] - 32s 23ms/step - loss: 0.2247 - accuracy: 0.9289 - val_loss: 0.5214 - val_accuracy: 0.8456\n",
            "Epoch 8/15\n",
            "1407/1407 [==============================] - 32s 23ms/step - loss: 0.1733 - accuracy: 0.9450 - val_loss: 0.5191 - val_accuracy: 0.8524\n",
            "Epoch 9/15\n",
            "1407/1407 [==============================] - 32s 23ms/step - loss: 0.1336 - accuracy: 0.9586 - val_loss: 0.6385 - val_accuracy: 0.8390\n",
            "Epoch 10/15\n",
            "1407/1407 [==============================] - 32s 23ms/step - loss: 0.1055 - accuracy: 0.9668 - val_loss: 0.5775 - val_accuracy: 0.8490\n",
            "Epoch 11/15\n",
            "1407/1407 [==============================] - 32s 23ms/step - loss: 0.0860 - accuracy: 0.9734 - val_loss: 0.6624 - val_accuracy: 0.8432\n",
            "Epoch 12/15\n",
            "1407/1407 [==============================] - 32s 23ms/step - loss: 0.0759 - accuracy: 0.9768 - val_loss: 0.6470 - val_accuracy: 0.8448\n",
            "Epoch 13/15\n",
            "1407/1407 [==============================] - 32s 23ms/step - loss: 0.0636 - accuracy: 0.9807 - val_loss: 0.6966 - val_accuracy: 0.8572\n",
            "Epoch 14/15\n",
            "1407/1407 [==============================] - 32s 23ms/step - loss: 0.0600 - accuracy: 0.9820 - val_loss: 0.7004 - val_accuracy: 0.8526\n",
            "Epoch 15/15\n",
            "1407/1407 [==============================] - 32s 23ms/step - loss: 0.0538 - accuracy: 0.9839 - val_loss: 0.7263 - val_accuracy: 0.8444\n"
          ],
          "name": "stdout"
        }
      ]
    },
    {
      "cell_type": "code",
      "metadata": {
        "id": "8qSxsCKHEGNO",
        "colab_type": "code",
        "colab": {
          "base_uri": "https://localhost:8080/",
          "height": 268
        },
        "outputId": "ba78115f-622f-47d9-fcf1-92bcb1834bce"
      },
      "source": [
        "fig, ax = plt.subplots(1, 2, figsize=(10, 4))\n",
        "\n",
        "history_df = pd.DataFrame(history.history)\n",
        "history_df[['loss', 'val_loss']].plot(kind='line', ax=ax[0])\n",
        "history_df[['accuracy', 'val_accuracy']].plot(kind='line', ax=ax[1]);"
      ],
      "execution_count": 11,
      "outputs": [
        {
          "output_type": "display_data",
          "data": {
            "image/png": "[encoded data removed]",
            "text/plain": [
              "<Figure size 720x288 with 2 Axes>"
            ]
          },
          "metadata": {
            "tags": [],
            "needs_background": "light"
          }
        }
      ]
    },
    {
      "cell_type": "code",
      "metadata": {
        "id": "sYnG2f5OEGNS",
        "colab_type": "code",
        "colab": {}
      },
      "source": [
        "class_names =['Ship','Aeroplane','Automobile','Bird','Cat','Deer','Dog','Frog','Horse','Truck']"
      ],
      "execution_count": 12,
      "outputs": []
    },
    {
      "cell_type": "code",
      "metadata": {
        "id": "Tp0SfbLfEGNV",
        "colab_type": "code",
        "colab": {
          "base_uri": "https://localhost:8080/",
          "height": 272
        },
        "outputId": "25b551fa-9f16-4445-fda5-1b96268c9319"
      },
      "source": [
        "predictions = model.predict(X_test)\n",
        "predictions[:5]"
      ],
      "execution_count": 13,
      "outputs": [
        {
          "output_type": "execute_result",
          "data": {
            "text/plain": [
              "array([[9.47658737e-06, 5.91706021e-06, 4.84783814e-05, 9.98970866e-01,\n",
              "        1.54427235e-05, 9.08179849e-04, 2.24638661e-05, 9.51914990e-06,\n",
              "        3.71434567e-06, 6.07076709e-06],\n",
              "       [3.22160929e-07, 4.16139756e-07, 4.83930620e-08, 5.78937289e-08,\n",
              "        9.08404996e-09, 1.81868898e-09, 1.80375554e-08, 2.04374651e-09,\n",
              "        9.99998927e-01, 2.68148085e-07],\n",
              "       [3.46376491e-03, 4.64463383e-01, 9.56492440e-04, 9.71794478e-04,\n",
              "        1.12230045e-04, 7.90386635e-04, 5.76556078e-04, 2.03855248e-04,\n",
              "        5.26036799e-01, 2.42472952e-03],\n",
              "       [9.99866724e-01, 6.69295378e-06, 3.54350486e-05, 8.71607244e-06,\n",
              "        7.98984729e-06, 2.53125609e-06, 8.43744056e-06, 9.32697822e-06,\n",
              "        3.46268753e-05, 1.96356250e-05],\n",
              "       [5.85316457e-06, 3.17990016e-05, 5.25975076e-04, 1.52100751e-04,\n",
              "        3.01853637e-04, 2.51404035e-05, 9.98905420e-01, 1.12767739e-05,\n",
              "        5.20613548e-06, 3.52548595e-05]], dtype=float32)"
            ]
          },
          "metadata": {
            "tags": []
          },
          "execution_count": 13
        }
      ]
    },
    {
      "cell_type": "code",
      "metadata": {
        "id": "kmsikB0BEGNa",
        "colab_type": "code",
        "colab": {
          "base_uri": "https://localhost:8080/",
          "height": 187
        },
        "outputId": "1e064a9a-3dd8-414f-dde3-0de1250526f9"
      },
      "source": [
        "prediction_labels = np.argmax(predictions, axis=1)\n",
        "prediction_labels[:200]"
      ],
      "execution_count": 14,
      "outputs": [
        {
          "output_type": "execute_result",
          "data": {
            "text/plain": [
              "array([3, 8, 8, 0, 6, 6, 1, 6, 3, 1, 0, 9, 3, 7, 9, 8, 5, 7, 8, 6, 3, 2,\n",
              "       4, 9, 4, 3, 4, 0, 9, 6, 6, 5, 2, 2, 9, 8, 4, 1, 9, 5, 4, 6, 7, 6,\n",
              "       0, 9, 3, 3, 7, 6, 9, 8, 9, 3, 8, 8, 7, 7, 5, 6, 7, 5, 6, 3, 6, 2,\n",
              "       1, 2, 3, 7, 2, 6, 8, 8, 0, 2, 9, 3, 3, 8, 8, 1, 1, 7, 2, 7, 2, 0,\n",
              "       8, 9, 0, 6, 8, 6, 4, 6, 6, 0, 0, 7, 7, 5, 6, 3, 1, 1, 3, 6, 8, 7,\n",
              "       7, 0, 6, 2, 1, 3, 0, 4, 2, 7, 8, 3, 1, 2, 8, 2, 8, 3, 6, 2, 4, 1,\n",
              "       8, 9, 1, 2, 9, 7, 2, 8, 6, 5, 6, 3, 8, 2, 6, 6, 5, 2, 8, 9, 6, 0,\n",
              "       0, 5, 2, 9, 3, 4, 2, 1, 3, 6, 2, 2, 8, 6, 5, 0, 9, 0, 9, 8, 9, 9,\n",
              "       3, 7, 5, 0, 0, 5, 2, 2, 3, 8, 6, 3, 2, 8, 5, 8, 0, 1, 7, 2, 8, 8,\n",
              "       7, 8])"
            ]
          },
          "metadata": {
            "tags": []
          },
          "execution_count": 14
        }
      ]
    },
    {
      "cell_type": "code",
      "metadata": {
        "id": "D41Ttp4SEGNd",
        "colab_type": "code",
        "colab": {
          "base_uri": "https://localhost:8080/",
          "height": 648
        },
        "outputId": "a95dc895-0e5f-44a2-d3d0-ea57e556f9fb"
      },
      "source": [
        "from sklearn.metrics import confusion_matrix, classification_report\n",
        "import pandas as pd\n",
        "\n",
        "print(classification_report(y_test, prediction_labels, target_names=class_names))\n",
        "pd.DataFrame(confusion_matrix(y_test, prediction_labels), index=class_names, columns=class_names)\n"
      ],
      "execution_count": 15,
      "outputs": [
        {
          "output_type": "stream",
          "text": [
            "              precision    recall  f1-score   support\n",
            "\n",
            "        Ship       0.92      0.84      0.88      1000\n",
            "   Aeroplane       0.89      0.94      0.91      1000\n",
            "  Automobile       0.70      0.88      0.78      1000\n",
            "        Bird       0.72      0.63      0.67      1000\n",
            "         Cat       0.84      0.79      0.81      1000\n",
            "        Deer       0.78      0.75      0.76      1000\n",
            "         Dog       0.90      0.84      0.87      1000\n",
            "        Frog       0.85      0.91      0.88      1000\n",
            "       Horse       0.91      0.94      0.92      1000\n",
            "       Truck       0.91      0.88      0.90      1000\n",
            "\n",
            "    accuracy                           0.84     10000\n",
            "   macro avg       0.84      0.84      0.84     10000\n",
            "weighted avg       0.84      0.84      0.84     10000\n",
            "\n"
          ],
          "name": "stdout"
        },
        {
          "output_type": "execute_result",
          "data": {
            "text/html": [
              "<div>\n",
              "<style scoped>\n",
              "    .dataframe tbody tr th:only-of-type {\n",
              "        vertical-align: middle;\n",
              "    }\n",
              "\n",
              "    .dataframe tbody tr th {\n",
              "        vertical-align: top;\n",
              "    }\n",
              "\n",
              "    .dataframe thead th {\n",
              "        text-align: right;\n",
              "    }\n",
              "</style>\n",
              "<table border=\"1\" class=\"dataframe\">\n",
              "  <thead>\n",
              "    <tr style=\"text-align: right;\">\n",
              "      <th></th>\n",
              "      <th>Ship</th>\n",
              "      <th>Aeroplane</th>\n",
              "      <th>Automobile</th>\n",
              "      <th>Bird</th>\n",
              "      <th>Cat</th>\n",
              "      <th>Deer</th>\n",
              "      <th>Dog</th>\n",
              "      <th>Frog</th>\n",
              "      <th>Horse</th>\n",
              "      <th>Truck</th>\n",
              "    </tr>\n",
              "  </thead>\n",
              "  <tbody>\n",
              "    <tr>\n",
              "      <th>Ship</th>\n",
              "      <td>843</td>\n",
              "      <td>13</td>\n",
              "      <td>40</td>\n",
              "      <td>14</td>\n",
              "      <td>15</td>\n",
              "      <td>3</td>\n",
              "      <td>1</td>\n",
              "      <td>8</td>\n",
              "      <td>46</td>\n",
              "      <td>17</td>\n",
              "    </tr>\n",
              "    <tr>\n",
              "      <th>Aeroplane</th>\n",
              "      <td>9</td>\n",
              "      <td>940</td>\n",
              "      <td>2</td>\n",
              "      <td>3</td>\n",
              "      <td>2</td>\n",
              "      <td>1</td>\n",
              "      <td>0</td>\n",
              "      <td>0</td>\n",
              "      <td>11</td>\n",
              "      <td>32</td>\n",
              "    </tr>\n",
              "    <tr>\n",
              "      <th>Automobile</th>\n",
              "      <td>24</td>\n",
              "      <td>1</td>\n",
              "      <td>878</td>\n",
              "      <td>17</td>\n",
              "      <td>22</td>\n",
              "      <td>15</td>\n",
              "      <td>22</td>\n",
              "      <td>14</td>\n",
              "      <td>5</td>\n",
              "      <td>2</td>\n",
              "    </tr>\n",
              "    <tr>\n",
              "      <th>Bird</th>\n",
              "      <td>4</td>\n",
              "      <td>7</td>\n",
              "      <td>78</td>\n",
              "      <td>633</td>\n",
              "      <td>47</td>\n",
              "      <td>134</td>\n",
              "      <td>40</td>\n",
              "      <td>39</td>\n",
              "      <td>9</td>\n",
              "      <td>9</td>\n",
              "    </tr>\n",
              "    <tr>\n",
              "      <th>Cat</th>\n",
              "      <td>1</td>\n",
              "      <td>2</td>\n",
              "      <td>98</td>\n",
              "      <td>21</td>\n",
              "      <td>788</td>\n",
              "      <td>17</td>\n",
              "      <td>17</td>\n",
              "      <td>53</td>\n",
              "      <td>2</td>\n",
              "      <td>1</td>\n",
              "    </tr>\n",
              "    <tr>\n",
              "      <th>Deer</th>\n",
              "      <td>3</td>\n",
              "      <td>4</td>\n",
              "      <td>51</td>\n",
              "      <td>115</td>\n",
              "      <td>28</td>\n",
              "      <td>749</td>\n",
              "      <td>10</td>\n",
              "      <td>36</td>\n",
              "      <td>2</td>\n",
              "      <td>2</td>\n",
              "    </tr>\n",
              "    <tr>\n",
              "      <th>Dog</th>\n",
              "      <td>3</td>\n",
              "      <td>11</td>\n",
              "      <td>61</td>\n",
              "      <td>38</td>\n",
              "      <td>14</td>\n",
              "      <td>18</td>\n",
              "      <td>839</td>\n",
              "      <td>6</td>\n",
              "      <td>6</td>\n",
              "      <td>4</td>\n",
              "    </tr>\n",
              "    <tr>\n",
              "      <th>Frog</th>\n",
              "      <td>5</td>\n",
              "      <td>3</td>\n",
              "      <td>22</td>\n",
              "      <td>18</td>\n",
              "      <td>16</td>\n",
              "      <td>24</td>\n",
              "      <td>0</td>\n",
              "      <td>907</td>\n",
              "      <td>1</td>\n",
              "      <td>4</td>\n",
              "    </tr>\n",
              "    <tr>\n",
              "      <th>Horse</th>\n",
              "      <td>16</td>\n",
              "      <td>9</td>\n",
              "      <td>10</td>\n",
              "      <td>9</td>\n",
              "      <td>3</td>\n",
              "      <td>0</td>\n",
              "      <td>0</td>\n",
              "      <td>0</td>\n",
              "      <td>939</td>\n",
              "      <td>14</td>\n",
              "    </tr>\n",
              "    <tr>\n",
              "      <th>Truck</th>\n",
              "      <td>12</td>\n",
              "      <td>66</td>\n",
              "      <td>8</td>\n",
              "      <td>9</td>\n",
              "      <td>1</td>\n",
              "      <td>5</td>\n",
              "      <td>0</td>\n",
              "      <td>3</td>\n",
              "      <td>16</td>\n",
              "      <td>880</td>\n",
              "    </tr>\n",
              "  </tbody>\n",
              "</table>\n",
              "</div>"
            ],
            "text/plain": [
              "            Ship  Aeroplane  Automobile  Bird  ...  Dog  Frog  Horse  Truck\n",
              "Ship         843         13          40    14  ...    1     8     46     17\n",
              "Aeroplane      9        940           2     3  ...    0     0     11     32\n",
              "Automobile    24          1         878    17  ...   22    14      5      2\n",
              "Bird           4          7          78   633  ...   40    39      9      9\n",
              "Cat            1          2          98    21  ...   17    53      2      1\n",
              "Deer           3          4          51   115  ...   10    36      2      2\n",
              "Dog            3         11          61    38  ...  839     6      6      4\n",
              "Frog           5          3          22    18  ...    0   907      1      4\n",
              "Horse         16          9          10     9  ...    0     0    939     14\n",
              "Truck         12         66           8     9  ...    0     3     16    880\n",
              "\n",
              "[10 rows x 10 columns]"
            ]
          },
          "metadata": {
            "tags": []
          },
          "execution_count": 15
        }
      ]
    },
    {
      "cell_type": "markdown",
      "metadata": {
        "id": "LWeBzjtkEGNh",
        "colab_type": "text"
      },
      "source": [
        "Je n'obtiens qu'une accuracy de 84%"
      ]
    },
    {
      "cell_type": "code",
      "metadata": {
        "id": "10yUh90xP4c6",
        "colab_type": "code",
        "colab": {
          "base_uri": "https://localhost:8080/",
          "height": 204
        },
        "outputId": "116d5770-cfb8-4e7c-f4da-9440ff84fc55"
      },
      "source": [
        "EPOCHS = 5\n",
        "model.fit(X_test, y_test,\n",
        "                    batch_size=32, \n",
        "                    epochs=EPOCHS,\n",
        "                    verbose=1)"
      ],
      "execution_count": 16,
      "outputs": [
        {
          "output_type": "stream",
          "text": [
            "Epoch 1/5\n",
            "313/313 [==============================] - 7s 22ms/step - loss: 0.5538 - accuracy: 0.8359\n",
            "Epoch 2/5\n",
            "313/313 [==============================] - 7s 22ms/step - loss: 0.3208 - accuracy: 0.9029\n",
            "Epoch 3/5\n",
            "313/313 [==============================] - 7s 22ms/step - loss: 0.1883 - accuracy: 0.9466\n",
            "Epoch 4/5\n",
            "313/313 [==============================] - 7s 22ms/step - loss: 0.1189 - accuracy: 0.9643\n",
            "Epoch 5/5\n",
            "313/313 [==============================] - 7s 22ms/step - loss: 0.0759 - accuracy: 0.9792\n"
          ],
          "name": "stdout"
        },
        {
          "output_type": "execute_result",
          "data": {
            "text/plain": [
              "<tensorflow.python.keras.callbacks.History at 0x7f00d18cc550>"
            ]
          },
          "metadata": {
            "tags": []
          },
          "execution_count": 16
        }
      ]
    },
    {
      "cell_type": "markdown",
      "metadata": {
        "id": "gr4vxV3_EGNh",
        "colab_type": "text"
      },
      "source": [
        "### Save model"
      ]
    },
    {
      "cell_type": "code",
      "metadata": {
        "id": "Gf6x4YF1EGNL",
        "colab_type": "code",
        "colab": {
          "base_uri": "https://localhost:8080/",
          "height": 34
        },
        "outputId": "f746bbf4-43ed-4ba5-de93-bfe9843c69fe"
      },
      "source": [
        "# save model and architecture to single file\n",
        "model.save(\"modelVGG19gc.h5\")\n",
        "print(\"Saved model to disk\")"
      ],
      "execution_count": 17,
      "outputs": [
        {
          "output_type": "stream",
          "text": [
            "Saved model to disk\n"
          ],
          "name": "stdout"
        }
      ]
    },
    {
      "cell_type": "code",
      "metadata": {
        "id": "A3EgcLd-EGNi",
        "colab_type": "code",
        "colab": {}
      },
      "source": [
        "test_data = pd.read_csv(\"https://raw.githubusercontent.com/dphi-official/Datasets/master/cifar_image_flattened_pixels.csv\")"
      ],
      "execution_count": 18,
      "outputs": []
    },
    {
      "cell_type": "code",
      "metadata": {
        "scrolled": true,
        "id": "8dGBdLu7EGNp",
        "colab_type": "code",
        "colab": {
          "base_uri": "https://localhost:8080/",
          "height": 34
        },
        "outputId": "f2e59ecb-5553-46f1-d4f8-7fe003dd7021"
      },
      "source": [
        "test_data.shape"
      ],
      "execution_count": 19,
      "outputs": [
        {
          "output_type": "execute_result",
          "data": {
            "text/plain": [
              "(2000, 3072)"
            ]
          },
          "metadata": {
            "tags": []
          },
          "execution_count": 19
        }
      ]
    },
    {
      "cell_type": "code",
      "metadata": {
        "id": "mR1i0dosEGNs",
        "colab_type": "code",
        "colab": {
          "base_uri": "https://localhost:8080/",
          "height": 34
        },
        "outputId": "5d914500-8c23-4f9d-8744-dd6f9f94106a"
      },
      "source": [
        "#x_test_data = test_data.astype('float32')\n",
        "test_data /= 255\n",
        "test_data.shape"
      ],
      "execution_count": 21,
      "outputs": [
        {
          "output_type": "execute_result",
          "data": {
            "text/plain": [
              "(2000, 3072)"
            ]
          },
          "metadata": {
            "tags": []
          },
          "execution_count": 21
        }
      ]
    },
    {
      "cell_type": "code",
      "metadata": {
        "id": "KkHbgiIwEGNw",
        "colab_type": "code",
        "colab": {
          "base_uri": "https://localhost:8080/",
          "height": 238
        },
        "outputId": "5aa13867-d21c-49ce-91d3-0c8f4574a142"
      },
      "source": [
        "df = test_data.rename_axis('ID').values\n",
        "dff = df.reshape(2000,32,32,3)\n",
        "model.predict(dff)"
      ],
      "execution_count": 22,
      "outputs": [
        {
          "output_type": "execute_result",
          "data": {
            "text/plain": [
              "array([[1.4021723e-05, 2.0537693e-06, 9.9981993e-01, ..., 6.3232142e-06,\n",
              "        1.4420909e-05, 2.9276152e-06],\n",
              "       [5.5198202e-06, 8.5612629e-07, 1.6742048e-05, ..., 4.6297459e-06,\n",
              "        3.0777826e-06, 1.5488524e-06],\n",
              "       [1.9329989e-06, 3.7643136e-07, 1.2747206e-06, ..., 9.9998093e-01,\n",
              "        1.9813662e-07, 1.8636570e-07],\n",
              "       ...,\n",
              "       [7.4834825e-04, 3.3771817e-04, 9.5733559e-01, ..., 1.4447506e-03,\n",
              "        7.4324937e-04, 2.5794154e-04],\n",
              "       [2.6274420e-04, 2.2601376e-04, 1.3195756e-03, ..., 1.1001042e-03,\n",
              "        1.5327064e-04, 1.4085940e-04],\n",
              "       [1.4579043e-05, 1.1265183e-06, 9.8853125e-05, ..., 9.3806724e-05,\n",
              "        3.5029366e-06, 1.0655376e-05]], dtype=float32)"
            ]
          },
          "metadata": {
            "tags": []
          },
          "execution_count": 22
        }
      ]
    },
    {
      "cell_type": "code",
      "metadata": {
        "id": "pabyvIoWEGN0",
        "colab_type": "code",
        "colab": {}
      },
      "source": [
        "pred_real = model.predict(dff)"
      ],
      "execution_count": 23,
      "outputs": []
    },
    {
      "cell_type": "code",
      "metadata": {
        "id": "kBjnPhrbEGN5",
        "colab_type": "code",
        "colab": {
          "base_uri": "https://localhost:8080/",
          "height": 1000
        },
        "outputId": "90e4fae5-9c58-434e-cb1d-46d59a89d74c"
      },
      "source": [
        "pred_real[:20]"
      ],
      "execution_count": 24,
      "outputs": [
        {
          "output_type": "execute_result",
          "data": {
            "text/plain": [
              "array([[1.40217226e-05, 2.05376932e-06, 9.99819934e-01, 6.95938797e-05,\n",
              "        2.54404022e-05, 1.54511017e-05, 2.97314691e-05, 6.32321417e-06,\n",
              "        1.44209089e-05, 2.92761524e-06],\n",
              "       [5.51982021e-06, 8.56126292e-07, 1.67420476e-05, 9.99832273e-01,\n",
              "        8.39285076e-06, 1.13331371e-04, 1.36499275e-05, 4.62974594e-06,\n",
              "        3.07778259e-06, 1.54885242e-06],\n",
              "       [1.93299888e-06, 3.76431359e-07, 1.27472060e-06, 9.42004647e-07,\n",
              "        4.46758850e-06, 9.60219131e-06, 1.14961530e-07, 9.99980927e-01,\n",
              "        1.98136618e-07, 1.86365696e-07],\n",
              "       [2.40976822e-10, 1.77357313e-11, 1.03818681e-11, 5.62849697e-11,\n",
              "        8.31577342e-12, 7.82091338e-14, 3.12096789e-12, 7.55049099e-14,\n",
              "        1.00000000e+00, 9.26076660e-10],\n",
              "       [4.76374362e-06, 1.19978849e-05, 1.19057775e-03, 3.99606040e-04,\n",
              "        1.47002502e-04, 3.58301040e-05, 9.98182833e-01, 6.17532851e-06,\n",
              "        7.12322435e-06, 1.39183867e-05],\n",
              "       [6.04056477e-05, 9.95617986e-01, 1.93610122e-05, 4.67694335e-05,\n",
              "        6.07056245e-06, 1.99617716e-05, 6.26559704e-05, 5.51810899e-06,\n",
              "        1.04013446e-03, 3.12119932e-03],\n",
              "       [5.67915731e-06, 8.23047458e-07, 1.95237553e-05, 9.99692082e-01,\n",
              "        6.55069289e-06, 2.56607629e-04, 9.87517160e-06, 5.31747901e-06,\n",
              "        2.04737444e-06, 1.42450915e-06],\n",
              "       [1.14644350e-09, 1.04875351e-10, 4.19280222e-10, 2.37308700e-10,\n",
              "        1.65004121e-09, 3.99444300e-09, 1.29105641e-11, 1.00000000e+00,\n",
              "        3.20083057e-11, 2.17346662e-11],\n",
              "       [5.09933197e-05, 1.53205383e-05, 4.18179843e-04, 9.97913420e-01,\n",
              "        8.22049478e-05, 6.96748786e-04, 7.12240930e-04, 6.44553802e-05,\n",
              "        2.91565684e-05, 1.73002827e-05],\n",
              "       [1.29998170e-06, 5.69751683e-06, 8.77750572e-05, 4.31870692e-04,\n",
              "        1.72477066e-05, 9.99406338e-01, 1.32779587e-05, 3.40842817e-05,\n",
              "        1.56951944e-06, 8.18909825e-07],\n",
              "       [4.86752397e-05, 1.10242240e-06, 1.22681638e-06, 2.73194041e-06,\n",
              "        8.22143477e-07, 1.14802646e-07, 5.20958508e-07, 1.05871358e-07,\n",
              "        9.99934912e-01, 9.72917314e-06],\n",
              "       [6.62750926e-06, 9.96927798e-01, 2.59418198e-06, 1.42591334e-05,\n",
              "        1.37132474e-06, 2.78219841e-06, 1.20844788e-05, 1.09897076e-06,\n",
              "        2.53094222e-05, 3.00604268e-03],\n",
              "       [5.36096150e-06, 3.20917422e-07, 3.75155432e-05, 2.39812489e-05,\n",
              "        9.99854684e-01, 2.81155862e-05, 1.93768356e-05, 2.53106064e-05,\n",
              "        8.77292109e-07, 4.31022181e-06],\n",
              "       [2.68666554e-05, 9.09957588e-01, 1.61206935e-05, 4.50890548e-05,\n",
              "        9.54343705e-06, 1.52683260e-05, 3.90151508e-05, 3.76668322e-06,\n",
              "        4.89159022e-04, 8.93975720e-02],\n",
              "       [1.04976185e-04, 2.16824064e-05, 1.23651495e-04, 9.92788255e-01,\n",
              "        2.53455451e-04, 6.42532995e-03, 1.49380066e-04, 6.89071385e-05,\n",
              "        3.13648088e-05, 3.30491130e-05],\n",
              "       [3.13151617e-07, 5.03415798e-08, 1.81970506e-07, 1.04924872e-07,\n",
              "        5.18254694e-07, 1.40817269e-06, 1.24020154e-08, 9.99997497e-01,\n",
              "        2.30257342e-08, 2.06449773e-08],\n",
              "       [9.99846458e-01, 1.41442274e-06, 1.34931048e-04, 1.13591591e-06,\n",
              "        3.32989180e-06, 3.93112003e-07, 3.01705518e-06, 1.32440664e-06,\n",
              "        3.05325398e-06, 4.79989376e-06],\n",
              "       [9.97573435e-01, 9.44070925e-05, 5.40798996e-04, 4.53561981e-04,\n",
              "        2.70692602e-04, 1.27633553e-04, 3.93124967e-04, 1.83708020e-04,\n",
              "        7.22500918e-05, 2.90348486e-04],\n",
              "       [1.04892242e-04, 4.79063383e-05, 1.71158157e-04, 5.31010446e-04,\n",
              "        2.42405396e-04, 5.21713810e-04, 2.04017888e-05, 9.98284519e-01,\n",
              "        5.13882587e-05, 2.46321015e-05],\n",
              "       [3.21057314e-08, 1.39570446e-07, 1.34150532e-05, 6.41131646e-06,\n",
              "        6.54459336e-06, 4.79007440e-07, 9.99972582e-01, 4.53379521e-08,\n",
              "        2.47867309e-08, 3.40292587e-07]], dtype=float32)"
            ]
          },
          "metadata": {
            "tags": []
          },
          "execution_count": 24
        }
      ]
    },
    {
      "cell_type": "code",
      "metadata": {
        "id": "99UXs4w4EGN9",
        "colab_type": "code",
        "colab": {}
      },
      "source": [
        "pred_real = np.argmax(pred_real, axis=1)"
      ],
      "execution_count": 25,
      "outputs": []
    },
    {
      "cell_type": "code",
      "metadata": {
        "id": "zt690yjWEGOA",
        "colab_type": "code",
        "colab": {
          "base_uri": "https://localhost:8080/",
          "height": 799
        },
        "outputId": "c9e7c391-fa9b-4f84-f0d3-c3ed24b25fcb"
      },
      "source": [
        "pred_real[:1000]"
      ],
      "execution_count": 26,
      "outputs": [
        {
          "output_type": "execute_result",
          "data": {
            "text/plain": [
              "array([2, 3, 7, 8, 6, 1, 3, 7, 3, 5, 8, 1, 4, 1, 3, 7, 0, 0, 7, 6, 5, 9,\n",
              "       4, 8, 4, 0, 8, 7, 0, 7, 7, 3, 2, 4, 2, 0, 6, 4, 4, 4, 7, 2, 7, 1,\n",
              "       4, 3, 5, 2, 4, 4, 3, 8, 7, 5, 8, 1, 1, 7, 1, 0, 5, 1, 7, 6, 1, 1,\n",
              "       9, 8, 3, 1, 6, 6, 9, 6, 2, 0, 4, 3, 4, 8, 4, 5, 8, 9, 1, 7, 3, 6,\n",
              "       3, 4, 3, 9, 9, 8, 9, 0, 0, 7, 1, 6, 8, 3, 2, 7, 4, 9, 4, 8, 3, 0,\n",
              "       9, 0, 0, 0, 1, 7, 6, 5, 0, 2, 9, 6, 1, 0, 6, 3, 7, 0, 1, 8, 4, 8,\n",
              "       3, 8, 3, 7, 9, 0, 9, 6, 7, 0, 5, 4, 4, 6, 4, 8, 2, 0, 2, 4, 2, 8,\n",
              "       5, 5, 5, 5, 2, 4, 5, 2, 9, 8, 7, 3, 6, 1, 8, 1, 2, 3, 9, 2, 1, 6,\n",
              "       0, 2, 3, 7, 6, 7, 2, 5, 2, 3, 4, 7, 4, 3, 4, 8, 0, 5, 0, 0, 4, 6,\n",
              "       8, 1, 8, 2, 4, 5, 8, 0, 1, 0, 0, 3, 2, 8, 1, 5, 6, 8, 2, 4, 1, 5,\n",
              "       7, 4, 4, 7, 3, 7, 3, 0, 3, 7, 7, 6, 3, 1, 9, 8, 8, 8, 0, 7, 9, 7,\n",
              "       2, 5, 2, 4, 3, 4, 6, 1, 8, 8, 0, 9, 6, 5, 3, 8, 0, 2, 4, 8, 2, 9,\n",
              "       8, 3, 0, 1, 0, 2, 8, 8, 8, 9, 5, 6, 1, 6, 3, 9, 0, 7, 3, 1, 4, 0,\n",
              "       3, 5, 1, 4, 7, 4, 0, 1, 0, 1, 3, 5, 9, 2, 2, 3, 3, 0, 0, 4, 4, 9,\n",
              "       5, 9, 2, 3, 7, 1, 1, 3, 2, 3, 8, 0, 5, 9, 1, 9, 4, 9, 9, 1, 8, 8,\n",
              "       6, 6, 8, 7, 5, 9, 6, 2, 5, 2, 4, 0, 1, 2, 2, 2, 6, 3, 8, 7, 0, 2,\n",
              "       0, 0, 3, 4, 1, 1, 9, 0, 8, 4, 3, 9, 1, 7, 4, 3, 9, 7, 8, 6, 1, 0,\n",
              "       7, 3, 5, 9, 2, 5, 3, 9, 4, 0, 0, 5, 2, 1, 7, 6, 3, 7, 6, 6, 8, 4,\n",
              "       4, 2, 4, 7, 1, 6, 3, 8, 5, 9, 1, 9, 3, 6, 1, 5, 8, 7, 9, 4, 3, 3,\n",
              "       4, 9, 3, 0, 8, 3, 9, 0, 3, 6, 3, 3, 4, 0, 3, 8, 2, 8, 9, 4, 7, 1,\n",
              "       2, 8, 0, 9, 9, 3, 4, 9, 9, 2, 9, 5, 6, 5, 7, 4, 1, 2, 0, 1, 3, 3,\n",
              "       8, 2, 5, 3, 8, 5, 8, 0, 8, 7, 5, 9, 6, 9, 1, 4, 5, 5, 8, 4, 7, 1,\n",
              "       0, 9, 4, 5, 1, 7, 4, 6, 7, 9, 3, 4, 0, 6, 2, 3, 8, 4, 9, 7, 7, 4,\n",
              "       1, 9, 3, 1, 6, 4, 2, 8, 3, 0, 8, 1, 0, 2, 1, 0, 3, 1, 0, 8, 4, 1,\n",
              "       0, 5, 4, 9, 5, 6, 6, 2, 1, 5, 2, 1, 4, 9, 4, 8, 8, 1, 8, 5, 6, 8,\n",
              "       3, 1, 5, 2, 6, 4, 4, 2, 7, 2, 7, 2, 0, 8, 3, 0, 6, 7, 9, 3, 8, 3,\n",
              "       0, 6, 8, 9, 4, 5, 3, 0, 0, 5, 1, 5, 7, 6, 1, 2, 0, 6, 1, 6, 2, 9,\n",
              "       3, 9, 9, 2, 0, 8, 4, 0, 2, 4, 9, 7, 6, 8, 4, 3, 4, 3, 1, 4, 9, 5,\n",
              "       6, 5, 7, 6, 5, 9, 2, 4, 1, 9, 8, 0, 2, 9, 2, 1, 2, 1, 6, 2, 7, 5,\n",
              "       5, 1, 5, 1, 7, 2, 6, 6, 5, 3, 0, 1, 2, 3, 0, 7, 1, 4, 7, 3, 5, 9,\n",
              "       8, 2, 3, 4, 1, 3, 9, 9, 7, 9, 9, 5, 9, 6, 4, 9, 0, 4, 8, 8, 5, 4,\n",
              "       7, 0, 8, 0, 2, 5, 1, 4, 4, 0, 8, 6, 1, 7, 8, 0, 2, 7, 6, 3, 7, 3,\n",
              "       6, 3, 6, 8, 4, 4, 0, 7, 7, 5, 9, 7, 0, 3, 4, 5, 4, 8, 4, 9, 5, 0,\n",
              "       7, 7, 4, 9, 8, 5, 4, 9, 3, 2, 2, 5, 3, 0, 8, 3, 6, 6, 7, 7, 9, 5,\n",
              "       8, 9, 4, 9, 1, 5, 6, 7, 3, 3, 2, 8, 1, 4, 3, 1, 0, 8, 9, 9, 2, 9,\n",
              "       0, 3, 4, 1, 6, 8, 4, 1, 2, 2, 5, 3, 7, 1, 7, 0, 5, 9, 9, 6, 2, 9,\n",
              "       2, 7, 0, 1, 8, 0, 2, 4, 6, 9, 6, 8, 5, 3, 9, 7, 8, 3, 3, 8, 0, 3,\n",
              "       6, 7, 2, 8, 0, 7, 7, 8, 0, 8, 4, 7, 1, 7, 4, 8, 2, 8, 3, 6, 0, 7,\n",
              "       6, 8, 5, 0, 4, 6, 8, 0, 7, 5, 8, 0, 9, 2, 5, 1, 6, 2, 1, 5, 9, 3,\n",
              "       6, 5, 6, 1, 4, 1, 3, 0, 3, 4, 9, 0, 6, 6, 8, 5, 6, 2, 9, 7, 5, 7,\n",
              "       0, 7, 6, 5, 9, 2, 8, 2, 5, 8, 6, 6, 1, 6, 2, 0, 3, 3, 3, 8, 6, 8,\n",
              "       7, 4, 5, 1, 9, 5, 6, 6, 5, 2, 2, 1, 5, 6, 4, 5, 4, 6, 9, 0, 9, 6,\n",
              "       2, 7, 5, 2, 6, 6, 3, 7, 1, 7, 3, 0, 1, 7, 6, 7, 7, 9, 0, 7, 2, 6,\n",
              "       6, 9, 6, 0, 3, 6, 1, 2, 6, 5, 0, 4, 0, 6, 4, 6, 7, 5, 4, 7, 8, 6,\n",
              "       1, 0, 4, 7, 6, 8, 7, 9, 5, 2, 3, 9, 3, 3, 1, 1, 7, 0, 6, 8, 9, 8,\n",
              "       1, 2, 8, 9, 0, 8, 4, 8, 4, 4])"
            ]
          },
          "metadata": {
            "tags": []
          },
          "execution_count": 26
        }
      ]
    },
    {
      "cell_type": "code",
      "metadata": {
        "id": "SOzuY6i1EGOE",
        "colab_type": "code",
        "colab": {}
      },
      "source": [
        "res_vgg = pd.DataFrame(pred_real)\n",
        "res_vgg.to_excel(\"Results_VGGgc.xls\", index=False)"
      ],
      "execution_count": 27,
      "outputs": []
    }
  ]
}