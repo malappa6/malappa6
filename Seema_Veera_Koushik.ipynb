{
  "nbformat": 4,
  "nbformat_minor": 0,
  "metadata": {
    "colab": {
      "name": "assignment(DL).ipynb",
      "provenance": []
    },
    "kernelspec": {
      "name": "python3",
      "display_name": "Python 3"
    }
  },
  "cells": [
    {
      "cell_type": "code",
      "metadata": {
        "id": "EKQjsCkedSOv",
        "colab_type": "code",
        "colab": {}
      },
      "source": [
        "import pandas as pd\n",
        "import numpy as np\n",
        "import matplotlib.pyplot as plt\n"
      ],
      "execution_count": 1,
      "outputs": []
    },
    {
      "cell_type": "code",
      "metadata": {
        "id": "BE9gsI7ldX0E",
        "colab_type": "code",
        "colab": {}
      },
      "source": [
        "data = pd.read_csv(\"https://raw.githubusercontent.com/dphi-official/Datasets/master/bank_note_data/training_set_label.csv\" )"
      ],
      "execution_count": 2,
      "outputs": []
    },
    {
      "cell_type": "code",
      "metadata": {
        "id": "wX8qQU1hdiQJ",
        "colab_type": "code",
        "colab": {
          "base_uri": "https://localhost:8080/",
          "height": 204
        },
        "outputId": "d0ce032b-a3ec-4e7b-8663-9b3c49f52104"
      },
      "source": [
        "data.head()"
      ],
      "execution_count": 3,
      "outputs": [
        {
          "output_type": "execute_result",
          "data": {
            "text/html": [
              "<div>\n",
              "<style scoped>\n",
              "    .dataframe tbody tr th:only-of-type {\n",
              "        vertical-align: middle;\n",
              "    }\n",
              "\n",
              "    .dataframe tbody tr th {\n",
              "        vertical-align: top;\n",
              "    }\n",
              "\n",
              "    .dataframe thead th {\n",
              "        text-align: right;\n",
              "    }\n",
              "</style>\n",
              "<table border=\"1\" class=\"dataframe\">\n",
              "  <thead>\n",
              "    <tr style=\"text-align: right;\">\n",
              "      <th></th>\n",
              "      <th>VWTI</th>\n",
              "      <th>SWTI</th>\n",
              "      <th>CWTI</th>\n",
              "      <th>EI</th>\n",
              "      <th>Class</th>\n",
              "    </tr>\n",
              "  </thead>\n",
              "  <tbody>\n",
              "    <tr>\n",
              "      <th>0</th>\n",
              "      <td>2.2634</td>\n",
              "      <td>-4.4862</td>\n",
              "      <td>3.6558</td>\n",
              "      <td>-0.612510</td>\n",
              "      <td>0</td>\n",
              "    </tr>\n",
              "    <tr>\n",
              "      <th>1</th>\n",
              "      <td>3.2718</td>\n",
              "      <td>1.7837</td>\n",
              "      <td>2.1161</td>\n",
              "      <td>0.613340</td>\n",
              "      <td>0</td>\n",
              "    </tr>\n",
              "    <tr>\n",
              "      <th>2</th>\n",
              "      <td>-3.9411</td>\n",
              "      <td>-12.8792</td>\n",
              "      <td>13.0597</td>\n",
              "      <td>-3.312500</td>\n",
              "      <td>1</td>\n",
              "    </tr>\n",
              "    <tr>\n",
              "      <th>3</th>\n",
              "      <td>0.5195</td>\n",
              "      <td>-3.2633</td>\n",
              "      <td>3.0895</td>\n",
              "      <td>-0.984900</td>\n",
              "      <td>0</td>\n",
              "    </tr>\n",
              "    <tr>\n",
              "      <th>4</th>\n",
              "      <td>2.5698</td>\n",
              "      <td>-4.4076</td>\n",
              "      <td>5.9856</td>\n",
              "      <td>0.078002</td>\n",
              "      <td>0</td>\n",
              "    </tr>\n",
              "  </tbody>\n",
              "</table>\n",
              "</div>"
            ],
            "text/plain": [
              "     VWTI     SWTI     CWTI        EI  Class\n",
              "0  2.2634  -4.4862   3.6558 -0.612510      0\n",
              "1  3.2718   1.7837   2.1161  0.613340      0\n",
              "2 -3.9411 -12.8792  13.0597 -3.312500      1\n",
              "3  0.5195  -3.2633   3.0895 -0.984900      0\n",
              "4  2.5698  -4.4076   5.9856  0.078002      0"
            ]
          },
          "metadata": {
            "tags": []
          },
          "execution_count": 3
        }
      ]
    },
    {
      "cell_type": "code",
      "metadata": {
        "id": "d9laPH0QdppH",
        "colab_type": "code",
        "colab": {
          "base_uri": "https://localhost:8080/",
          "height": 34
        },
        "outputId": "936e9158-6058-48cd-f628-61593937fa77"
      },
      "source": [
        "data.shape"
      ],
      "execution_count": 5,
      "outputs": [
        {
          "output_type": "execute_result",
          "data": {
            "text/plain": [
              "(1096, 5)"
            ]
          },
          "metadata": {
            "tags": []
          },
          "execution_count": 5
        }
      ]
    },
    {
      "cell_type": "code",
      "metadata": {
        "id": "EQ-DpItxdwto",
        "colab_type": "code",
        "colab": {
          "base_uri": "https://localhost:8080/",
          "height": 119
        },
        "outputId": "1b53d838-62d8-40e3-8f84-5c85170f59e8"
      },
      "source": [
        "data.isnull().sum()"
      ],
      "execution_count": 6,
      "outputs": [
        {
          "output_type": "execute_result",
          "data": {
            "text/plain": [
              "VWTI     0\n",
              "SWTI     0\n",
              "CWTI     0\n",
              "EI       0\n",
              "Class    0\n",
              "dtype: int64"
            ]
          },
          "metadata": {
            "tags": []
          },
          "execution_count": 6
        }
      ]
    },
    {
      "cell_type": "code",
      "metadata": {
        "id": "tXOIP5wKd840",
        "colab_type": "code",
        "colab": {}
      },
      "source": [
        "x = data.drop(\"Class\",axis = 1) \n",
        "y = data[\"Class\"]"
      ],
      "execution_count": 7,
      "outputs": []
    },
    {
      "cell_type": "code",
      "metadata": {
        "id": "ClJUPjaDeLDd",
        "colab_type": "code",
        "colab": {}
      },
      "source": [
        "from sklearn.model_selection import train_test_split\n",
        "X_train, X_test, y_train, y_test = train_test_split(x, y, test_size=0.17, random_state=42)"
      ],
      "execution_count": 8,
      "outputs": []
    },
    {
      "cell_type": "code",
      "metadata": {
        "id": "fCbKWFXuesJY",
        "colab_type": "code",
        "colab": {}
      },
      "source": [
        "import tensorflow as tf  \n",
        "from tensorflow import keras  \n",
        "\n",
        "from tensorflow.keras import Sequential \n",
        "from tensorflow.keras import layers\n",
        "from tensorflow.keras.layers import Dense"
      ],
      "execution_count": 9,
      "outputs": []
    },
    {
      "cell_type": "code",
      "metadata": {
        "id": "mcCcpeLkex_g",
        "colab_type": "code",
        "colab": {}
      },
      "source": [
        "model = Sequential()\n",
        "model.add(Dense(100, activation='relu', input_shape=(X_train.shape[1],)))   \n",
        "model.add(Dense(10, activation='relu'))\n",
        "\n",
        "model.add(Dense(1, activation='sigmoid'))  "
      ],
      "execution_count": 41,
      "outputs": []
    },
    {
      "cell_type": "code",
      "metadata": {
        "id": "izM_SYSHfIYM",
        "colab_type": "code",
        "colab": {}
      },
      "source": [
        "from tensorflow.keras.optimizers import RMSprop\n",
        "optimizer = RMSprop(0.003) \n",
        "model.compile(loss='binary_crossentropy', optimizer= optimizer , metrics=['accuracy'])"
      ],
      "execution_count": 42,
      "outputs": []
    },
    {
      "cell_type": "code",
      "metadata": {
        "id": "dj-0kHI_fO_J",
        "colab_type": "code",
        "colab": {
          "base_uri": "https://localhost:8080/",
          "height": 255
        },
        "outputId": "4d6015a1-e1c4-4380-d9f2-566341c6388d"
      },
      "source": [
        "model.summary()"
      ],
      "execution_count": 43,
      "outputs": [
        {
          "output_type": "stream",
          "text": [
            "Model: \"sequential_5\"\n",
            "_________________________________________________________________\n",
            "Layer (type)                 Output Shape              Param #   \n",
            "=================================================================\n",
            "dense_20 (Dense)             (None, 100)               500       \n",
            "_________________________________________________________________\n",
            "dense_21 (Dense)             (None, 10)                1010      \n",
            "_________________________________________________________________\n",
            "dense_22 (Dense)             (None, 1)                 11        \n",
            "=================================================================\n",
            "Total params: 1,521\n",
            "Trainable params: 1,521\n",
            "Non-trainable params: 0\n",
            "_________________________________________________________________\n"
          ],
          "name": "stdout"
        }
      ]
    },
    {
      "cell_type": "code",
      "metadata": {
        "id": "3Us_q07_fSRo",
        "colab_type": "code",
        "colab": {
          "base_uri": "https://localhost:8080/",
          "height": 1000
        },
        "outputId": "920d6b6a-1284-429b-8f2d-cc92fa01cd29"
      },
      "source": [
        "history = model.fit(X_train, y_train, validation_split=0.2, epochs=200, batch_size=20, verbose=1)"
      ],
      "execution_count": 44,
      "outputs": [
        {
          "output_type": "stream",
          "text": [
            "Epoch 1/200\n",
            "37/37 [==============================] - 0s 5ms/step - loss: 0.1996 - accuracy: 0.9381 - val_loss: 0.0505 - val_accuracy: 0.9890\n",
            "Epoch 2/200\n",
            "37/37 [==============================] - 0s 2ms/step - loss: 0.0327 - accuracy: 0.9959 - val_loss: 0.0156 - val_accuracy: 1.0000\n",
            "Epoch 3/200\n",
            "37/37 [==============================] - 0s 2ms/step - loss: 0.0090 - accuracy: 1.0000 - val_loss: 0.0041 - val_accuracy: 1.0000\n",
            "Epoch 4/200\n",
            "37/37 [==============================] - 0s 2ms/step - loss: 0.0034 - accuracy: 1.0000 - val_loss: 0.0020 - val_accuracy: 1.0000\n",
            "Epoch 5/200\n",
            "37/37 [==============================] - 0s 2ms/step - loss: 0.0017 - accuracy: 1.0000 - val_loss: 7.0227e-04 - val_accuracy: 1.0000\n",
            "Epoch 6/200\n",
            "37/37 [==============================] - 0s 2ms/step - loss: 6.5897e-04 - accuracy: 1.0000 - val_loss: 2.3322e-04 - val_accuracy: 1.0000\n",
            "Epoch 7/200\n",
            "37/37 [==============================] - 0s 2ms/step - loss: 3.0901e-04 - accuracy: 1.0000 - val_loss: 7.1053e-05 - val_accuracy: 1.0000\n",
            "Epoch 8/200\n",
            "37/37 [==============================] - 0s 2ms/step - loss: 1.8759e-04 - accuracy: 1.0000 - val_loss: 4.1895e-05 - val_accuracy: 1.0000\n",
            "Epoch 9/200\n",
            "37/37 [==============================] - 0s 2ms/step - loss: 6.5684e-05 - accuracy: 1.0000 - val_loss: 1.4286e-05 - val_accuracy: 1.0000\n",
            "Epoch 10/200\n",
            "37/37 [==============================] - 0s 2ms/step - loss: 1.9655e-05 - accuracy: 1.0000 - val_loss: 6.1561e-06 - val_accuracy: 1.0000\n",
            "Epoch 11/200\n",
            "37/37 [==============================] - 0s 2ms/step - loss: 3.5895e-05 - accuracy: 1.0000 - val_loss: 3.6337e-06 - val_accuracy: 1.0000\n",
            "Epoch 12/200\n",
            "37/37 [==============================] - 0s 2ms/step - loss: 5.4468e-06 - accuracy: 1.0000 - val_loss: 1.0676e-06 - val_accuracy: 1.0000\n",
            "Epoch 13/200\n",
            "37/37 [==============================] - 0s 2ms/step - loss: 1.3745e-05 - accuracy: 1.0000 - val_loss: 4.1097e-07 - val_accuracy: 1.0000\n",
            "Epoch 14/200\n",
            "37/37 [==============================] - 0s 2ms/step - loss: 1.2914e-06 - accuracy: 1.0000 - val_loss: 3.0006e-07 - val_accuracy: 1.0000\n",
            "Epoch 15/200\n",
            "37/37 [==============================] - 0s 2ms/step - loss: 9.3569e-07 - accuracy: 1.0000 - val_loss: 8.9966e-08 - val_accuracy: 1.0000\n",
            "Epoch 16/200\n",
            "37/37 [==============================] - 0s 2ms/step - loss: 2.0027e-06 - accuracy: 1.0000 - val_loss: 9.1253e-08 - val_accuracy: 1.0000\n",
            "Epoch 17/200\n",
            "37/37 [==============================] - 0s 2ms/step - loss: 2.4729e-07 - accuracy: 1.0000 - val_loss: 2.9015e-08 - val_accuracy: 1.0000\n",
            "Epoch 18/200\n",
            "37/37 [==============================] - 0s 2ms/step - loss: 9.8890e-08 - accuracy: 1.0000 - val_loss: 1.8985e-08 - val_accuracy: 1.0000\n",
            "Epoch 19/200\n",
            "37/37 [==============================] - 0s 2ms/step - loss: 5.9958e-08 - accuracy: 1.0000 - val_loss: 4.4361e-08 - val_accuracy: 1.0000\n",
            "Epoch 20/200\n",
            "37/37 [==============================] - 0s 2ms/step - loss: 1.6251e-07 - accuracy: 1.0000 - val_loss: 3.3936e-09 - val_accuracy: 1.0000\n",
            "Epoch 21/200\n",
            "37/37 [==============================] - 0s 2ms/step - loss: 1.5424e-08 - accuracy: 1.0000 - val_loss: 2.2711e-09 - val_accuracy: 1.0000\n",
            "Epoch 22/200\n",
            "37/37 [==============================] - 0s 2ms/step - loss: 9.9934e-09 - accuracy: 1.0000 - val_loss: 1.3379e-09 - val_accuracy: 1.0000\n",
            "Epoch 23/200\n",
            "37/37 [==============================] - 0s 2ms/step - loss: 6.2103e-09 - accuracy: 1.0000 - val_loss: 9.0392e-10 - val_accuracy: 1.0000\n",
            "Epoch 24/200\n",
            "37/37 [==============================] - 0s 2ms/step - loss: 4.8330e-09 - accuracy: 1.0000 - val_loss: 6.5480e-10 - val_accuracy: 1.0000\n",
            "Epoch 25/200\n",
            "37/37 [==============================] - 0s 2ms/step - loss: 3.4490e-09 - accuracy: 1.0000 - val_loss: 5.8702e-10 - val_accuracy: 1.0000\n",
            "Epoch 26/200\n",
            "37/37 [==============================] - 0s 2ms/step - loss: 2.8184e-09 - accuracy: 1.0000 - val_loss: 4.5259e-10 - val_accuracy: 1.0000\n",
            "Epoch 27/200\n",
            "37/37 [==============================] - 0s 2ms/step - loss: 2.3134e-09 - accuracy: 1.0000 - val_loss: 3.8138e-10 - val_accuracy: 1.0000\n",
            "Epoch 28/200\n",
            "37/37 [==============================] - 0s 2ms/step - loss: 2.0173e-09 - accuracy: 1.0000 - val_loss: 3.2438e-10 - val_accuracy: 1.0000\n",
            "Epoch 29/200\n",
            "37/37 [==============================] - 0s 2ms/step - loss: 1.7524e-09 - accuracy: 1.0000 - val_loss: 2.8303e-10 - val_accuracy: 1.0000\n",
            "Epoch 30/200\n",
            "37/37 [==============================] - 0s 2ms/step - loss: 1.5266e-09 - accuracy: 1.0000 - val_loss: 2.4952e-10 - val_accuracy: 1.0000\n",
            "Epoch 31/200\n",
            "37/37 [==============================] - 0s 2ms/step - loss: 1.3751e-09 - accuracy: 1.0000 - val_loss: 2.2693e-10 - val_accuracy: 1.0000\n",
            "Epoch 32/200\n",
            "37/37 [==============================] - 0s 2ms/step - loss: 1.3085e-09 - accuracy: 1.0000 - val_loss: 2.0184e-10 - val_accuracy: 1.0000\n",
            "Epoch 33/200\n",
            "37/37 [==============================] - 0s 2ms/step - loss: 1.1909e-09 - accuracy: 1.0000 - val_loss: 1.8785e-10 - val_accuracy: 1.0000\n",
            "Epoch 34/200\n",
            "37/37 [==============================] - 0s 2ms/step - loss: 1.1005e-09 - accuracy: 1.0000 - val_loss: 1.7712e-10 - val_accuracy: 1.0000\n",
            "Epoch 35/200\n",
            "37/37 [==============================] - 0s 2ms/step - loss: 1.0382e-09 - accuracy: 1.0000 - val_loss: 1.6614e-10 - val_accuracy: 1.0000\n",
            "Epoch 36/200\n",
            "37/37 [==============================] - 0s 2ms/step - loss: 1.0061e-09 - accuracy: 1.0000 - val_loss: 1.5041e-10 - val_accuracy: 1.0000\n",
            "Epoch 37/200\n",
            "37/37 [==============================] - 0s 2ms/step - loss: 9.3502e-10 - accuracy: 1.0000 - val_loss: 1.4640e-10 - val_accuracy: 1.0000\n",
            "Epoch 38/200\n",
            "37/37 [==============================] - 0s 2ms/step - loss: 8.6785e-10 - accuracy: 1.0000 - val_loss: 1.3663e-10 - val_accuracy: 1.0000\n",
            "Epoch 39/200\n",
            "37/37 [==============================] - 0s 2ms/step - loss: 8.7497e-10 - accuracy: 1.0000 - val_loss: 1.2810e-10 - val_accuracy: 1.0000\n",
            "Epoch 40/200\n",
            "37/37 [==============================] - 0s 2ms/step - loss: 8.2041e-10 - accuracy: 1.0000 - val_loss: 1.2487e-10 - val_accuracy: 1.0000\n",
            "Epoch 41/200\n",
            "37/37 [==============================] - 0s 2ms/step - loss: 7.9056e-10 - accuracy: 1.0000 - val_loss: 1.2282e-10 - val_accuracy: 1.0000\n",
            "Epoch 42/200\n",
            "37/37 [==============================] - 0s 2ms/step - loss: 7.7806e-10 - accuracy: 1.0000 - val_loss: 1.2612e-10 - val_accuracy: 1.0000\n",
            "Epoch 43/200\n",
            "37/37 [==============================] - 0s 2ms/step - loss: 7.0862e-10 - accuracy: 1.0000 - val_loss: 1.1196e-10 - val_accuracy: 1.0000\n",
            "Epoch 44/200\n",
            "37/37 [==============================] - 0s 2ms/step - loss: 6.2778e-10 - accuracy: 1.0000 - val_loss: 1.0945e-10 - val_accuracy: 1.0000\n",
            "Epoch 45/200\n",
            "37/37 [==============================] - 0s 2ms/step - loss: 6.1662e-10 - accuracy: 1.0000 - val_loss: 1.0712e-10 - val_accuracy: 1.0000\n",
            "Epoch 46/200\n",
            "37/37 [==============================] - 0s 2ms/step - loss: 6.1617e-10 - accuracy: 1.0000 - val_loss: 1.0520e-10 - val_accuracy: 1.0000\n",
            "Epoch 47/200\n",
            "37/37 [==============================] - 0s 2ms/step - loss: 6.1191e-10 - accuracy: 1.0000 - val_loss: 1.0331e-10 - val_accuracy: 1.0000\n",
            "Epoch 48/200\n",
            "37/37 [==============================] - 0s 2ms/step - loss: 5.9579e-10 - accuracy: 1.0000 - val_loss: 9.5754e-11 - val_accuracy: 1.0000\n",
            "Epoch 49/200\n",
            "37/37 [==============================] - 0s 2ms/step - loss: 5.6942e-10 - accuracy: 1.0000 - val_loss: 9.4482e-11 - val_accuracy: 1.0000\n",
            "Epoch 50/200\n",
            "37/37 [==============================] - 0s 2ms/step - loss: 5.6444e-10 - accuracy: 1.0000 - val_loss: 9.3168e-11 - val_accuracy: 1.0000\n",
            "Epoch 51/200\n",
            "37/37 [==============================] - 0s 2ms/step - loss: 5.7051e-10 - accuracy: 1.0000 - val_loss: 9.1936e-11 - val_accuracy: 1.0000\n",
            "Epoch 52/200\n",
            "37/37 [==============================] - 0s 2ms/step - loss: 5.7553e-10 - accuracy: 1.0000 - val_loss: 9.0850e-11 - val_accuracy: 1.0000\n",
            "Epoch 53/200\n",
            "37/37 [==============================] - 0s 2ms/step - loss: 5.5135e-10 - accuracy: 1.0000 - val_loss: 8.4101e-11 - val_accuracy: 1.0000\n",
            "Epoch 54/200\n",
            "37/37 [==============================] - 0s 2ms/step - loss: 5.3763e-10 - accuracy: 1.0000 - val_loss: 8.3202e-11 - val_accuracy: 1.0000\n",
            "Epoch 55/200\n",
            "37/37 [==============================] - 0s 2ms/step - loss: 5.3051e-10 - accuracy: 1.0000 - val_loss: 8.2238e-11 - val_accuracy: 1.0000\n",
            "Epoch 56/200\n",
            "37/37 [==============================] - 0s 2ms/step - loss: 5.3295e-10 - accuracy: 1.0000 - val_loss: 8.1424e-11 - val_accuracy: 1.0000\n",
            "Epoch 57/200\n",
            "37/37 [==============================] - 0s 2ms/step - loss: 5.4599e-10 - accuracy: 1.0000 - val_loss: 8.0670e-11 - val_accuracy: 1.0000\n",
            "Epoch 58/200\n",
            "37/37 [==============================] - 0s 2ms/step - loss: 5.4253e-10 - accuracy: 1.0000 - val_loss: 7.9978e-11 - val_accuracy: 1.0000\n",
            "Epoch 59/200\n",
            "37/37 [==============================] - 0s 2ms/step - loss: 5.3883e-10 - accuracy: 1.0000 - val_loss: 7.1627e-11 - val_accuracy: 1.0000\n",
            "Epoch 60/200\n",
            "37/37 [==============================] - 0s 2ms/step - loss: 4.8309e-10 - accuracy: 1.0000 - val_loss: 7.1202e-11 - val_accuracy: 1.0000\n",
            "Epoch 61/200\n",
            "37/37 [==============================] - 0s 2ms/step - loss: 4.8852e-10 - accuracy: 1.0000 - val_loss: 7.0756e-11 - val_accuracy: 1.0000\n",
            "Epoch 62/200\n",
            "37/37 [==============================] - 0s 2ms/step - loss: 4.9969e-10 - accuracy: 1.0000 - val_loss: 7.0748e-11 - val_accuracy: 1.0000\n",
            "Epoch 63/200\n",
            "37/37 [==============================] - 0s 2ms/step - loss: 4.4550e-10 - accuracy: 1.0000 - val_loss: 6.0763e-11 - val_accuracy: 1.0000\n",
            "Epoch 64/200\n",
            "37/37 [==============================] - 0s 2ms/step - loss: 4.0194e-10 - accuracy: 1.0000 - val_loss: 6.0023e-11 - val_accuracy: 1.0000\n",
            "Epoch 65/200\n",
            "37/37 [==============================] - 0s 2ms/step - loss: 4.0049e-10 - accuracy: 1.0000 - val_loss: 5.9194e-11 - val_accuracy: 1.0000\n",
            "Epoch 66/200\n",
            "37/37 [==============================] - 0s 2ms/step - loss: 4.0596e-10 - accuracy: 1.0000 - val_loss: 5.8554e-11 - val_accuracy: 1.0000\n",
            "Epoch 67/200\n",
            "37/37 [==============================] - 0s 2ms/step - loss: 4.0375e-10 - accuracy: 1.0000 - val_loss: 5.7683e-11 - val_accuracy: 1.0000\n",
            "Epoch 68/200\n",
            "37/37 [==============================] - 0s 2ms/step - loss: 4.0654e-10 - accuracy: 1.0000 - val_loss: 5.6977e-11 - val_accuracy: 1.0000\n",
            "Epoch 69/200\n",
            "37/37 [==============================] - 0s 2ms/step - loss: 4.1235e-10 - accuracy: 1.0000 - val_loss: 5.6527e-11 - val_accuracy: 1.0000\n",
            "Epoch 70/200\n",
            "37/37 [==============================] - 0s 2ms/step - loss: 4.1230e-10 - accuracy: 1.0000 - val_loss: 5.6070e-11 - val_accuracy: 1.0000\n",
            "Epoch 71/200\n",
            "37/37 [==============================] - 0s 2ms/step - loss: 4.1470e-10 - accuracy: 1.0000 - val_loss: 5.5800e-11 - val_accuracy: 1.0000\n",
            "Epoch 72/200\n",
            "37/37 [==============================] - 0s 2ms/step - loss: 4.3020e-10 - accuracy: 1.0000 - val_loss: 5.5473e-11 - val_accuracy: 1.0000\n",
            "Epoch 73/200\n",
            "37/37 [==============================] - 0s 2ms/step - loss: 4.2825e-10 - accuracy: 1.0000 - val_loss: 5.5282e-11 - val_accuracy: 1.0000\n",
            "Epoch 74/200\n",
            "37/37 [==============================] - 0s 2ms/step - loss: 4.3679e-10 - accuracy: 1.0000 - val_loss: 5.5165e-11 - val_accuracy: 1.0000\n",
            "Epoch 75/200\n",
            "37/37 [==============================] - 0s 2ms/step - loss: 4.3880e-10 - accuracy: 1.0000 - val_loss: 5.5099e-11 - val_accuracy: 1.0000\n",
            "Epoch 76/200\n",
            "37/37 [==============================] - 0s 2ms/step - loss: 4.4749e-10 - accuracy: 1.0000 - val_loss: 5.5022e-11 - val_accuracy: 1.0000\n",
            "Epoch 77/200\n",
            "37/37 [==============================] - 0s 2ms/step - loss: 4.6251e-10 - accuracy: 1.0000 - val_loss: 5.5013e-11 - val_accuracy: 1.0000\n",
            "Epoch 78/200\n",
            "37/37 [==============================] - 0s 2ms/step - loss: 4.6363e-10 - accuracy: 1.0000 - val_loss: 5.5051e-11 - val_accuracy: 1.0000\n",
            "Epoch 79/200\n",
            "37/37 [==============================] - 0s 2ms/step - loss: 4.6417e-10 - accuracy: 1.0000 - val_loss: 4.6547e-11 - val_accuracy: 1.0000\n",
            "Epoch 80/200\n",
            "37/37 [==============================] - 0s 2ms/step - loss: 3.9890e-10 - accuracy: 1.0000 - val_loss: 4.6501e-11 - val_accuracy: 1.0000\n",
            "Epoch 81/200\n",
            "37/37 [==============================] - 0s 2ms/step - loss: 4.3290e-10 - accuracy: 1.0000 - val_loss: 4.7233e-11 - val_accuracy: 1.0000\n",
            "Epoch 82/200\n",
            "37/37 [==============================] - 0s 2ms/step - loss: 2.9085e-10 - accuracy: 1.0000 - val_loss: 4.6549e-11 - val_accuracy: 1.0000\n",
            "Epoch 83/200\n",
            "37/37 [==============================] - 0s 2ms/step - loss: 2.9071e-10 - accuracy: 1.0000 - val_loss: 4.5993e-11 - val_accuracy: 1.0000\n",
            "Epoch 84/200\n",
            "37/37 [==============================] - 0s 2ms/step - loss: 2.8888e-10 - accuracy: 1.0000 - val_loss: 4.5718e-11 - val_accuracy: 1.0000\n",
            "Epoch 85/200\n",
            "37/37 [==============================] - 0s 2ms/step - loss: 2.9142e-10 - accuracy: 1.0000 - val_loss: 4.5358e-11 - val_accuracy: 1.0000\n",
            "Epoch 86/200\n",
            "37/37 [==============================] - 0s 2ms/step - loss: 2.9265e-10 - accuracy: 1.0000 - val_loss: 4.5079e-11 - val_accuracy: 1.0000\n",
            "Epoch 87/200\n",
            "37/37 [==============================] - 0s 2ms/step - loss: 2.9315e-10 - accuracy: 1.0000 - val_loss: 4.4862e-11 - val_accuracy: 1.0000\n",
            "Epoch 88/200\n",
            "37/37 [==============================] - 0s 2ms/step - loss: 2.9579e-10 - accuracy: 1.0000 - val_loss: 4.4695e-11 - val_accuracy: 1.0000\n",
            "Epoch 89/200\n",
            "37/37 [==============================] - 0s 2ms/step - loss: 2.9805e-10 - accuracy: 1.0000 - val_loss: 4.4573e-11 - val_accuracy: 1.0000\n",
            "Epoch 90/200\n",
            "37/37 [==============================] - 0s 2ms/step - loss: 2.9967e-10 - accuracy: 1.0000 - val_loss: 4.4489e-11 - val_accuracy: 1.0000\n",
            "Epoch 91/200\n",
            "37/37 [==============================] - 0s 2ms/step - loss: 3.0559e-10 - accuracy: 1.0000 - val_loss: 4.4273e-11 - val_accuracy: 1.0000\n",
            "Epoch 92/200\n",
            "37/37 [==============================] - 0s 2ms/step - loss: 3.0544e-10 - accuracy: 1.0000 - val_loss: 4.4192e-11 - val_accuracy: 1.0000\n",
            "Epoch 93/200\n",
            "37/37 [==============================] - 0s 2ms/step - loss: 3.0631e-10 - accuracy: 1.0000 - val_loss: 4.4146e-11 - val_accuracy: 1.0000\n",
            "Epoch 94/200\n",
            "37/37 [==============================] - 0s 2ms/step - loss: 3.1283e-10 - accuracy: 1.0000 - val_loss: 4.4124e-11 - val_accuracy: 1.0000\n",
            "Epoch 95/200\n",
            "37/37 [==============================] - 0s 2ms/step - loss: 3.1762e-10 - accuracy: 1.0000 - val_loss: 4.3914e-11 - val_accuracy: 1.0000\n",
            "Epoch 96/200\n",
            "37/37 [==============================] - 0s 2ms/step - loss: 3.1614e-10 - accuracy: 1.0000 - val_loss: 4.3895e-11 - val_accuracy: 1.0000\n",
            "Epoch 97/200\n",
            "37/37 [==============================] - 0s 2ms/step - loss: 3.1988e-10 - accuracy: 1.0000 - val_loss: 4.3901e-11 - val_accuracy: 1.0000\n",
            "Epoch 98/200\n",
            "37/37 [==============================] - 0s 2ms/step - loss: 3.2562e-10 - accuracy: 1.0000 - val_loss: 4.3928e-11 - val_accuracy: 1.0000\n",
            "Epoch 99/200\n",
            "37/37 [==============================] - 0s 2ms/step - loss: 3.2940e-10 - accuracy: 1.0000 - val_loss: 4.3982e-11 - val_accuracy: 1.0000\n",
            "Epoch 100/200\n",
            "37/37 [==============================] - 0s 2ms/step - loss: 3.3489e-10 - accuracy: 1.0000 - val_loss: 4.3957e-11 - val_accuracy: 1.0000\n",
            "Epoch 101/200\n",
            "37/37 [==============================] - 0s 2ms/step - loss: 3.3549e-10 - accuracy: 1.0000 - val_loss: 4.3997e-11 - val_accuracy: 1.0000\n",
            "Epoch 102/200\n",
            "37/37 [==============================] - 0s 2ms/step - loss: 3.3972e-10 - accuracy: 1.0000 - val_loss: 4.4053e-11 - val_accuracy: 1.0000\n",
            "Epoch 103/200\n",
            "37/37 [==============================] - 0s 2ms/step - loss: 3.4267e-10 - accuracy: 1.0000 - val_loss: 4.4125e-11 - val_accuracy: 1.0000\n",
            "Epoch 104/200\n",
            "37/37 [==============================] - 0s 2ms/step - loss: 3.5097e-10 - accuracy: 1.0000 - val_loss: 4.4212e-11 - val_accuracy: 1.0000\n",
            "Epoch 105/200\n",
            "37/37 [==============================] - 0s 2ms/step - loss: 3.5792e-10 - accuracy: 1.0000 - val_loss: 4.4315e-11 - val_accuracy: 1.0000\n",
            "Epoch 106/200\n",
            "37/37 [==============================] - 0s 2ms/step - loss: 3.6322e-10 - accuracy: 1.0000 - val_loss: 4.4409e-11 - val_accuracy: 1.0000\n",
            "Epoch 107/200\n",
            "37/37 [==============================] - 0s 2ms/step - loss: 3.6226e-10 - accuracy: 1.0000 - val_loss: 4.4439e-11 - val_accuracy: 1.0000\n",
            "Epoch 108/200\n",
            "37/37 [==============================] - 0s 2ms/step - loss: 3.6860e-10 - accuracy: 1.0000 - val_loss: 4.4545e-11 - val_accuracy: 1.0000\n",
            "Epoch 109/200\n",
            "37/37 [==============================] - 0s 2ms/step - loss: 3.7599e-10 - accuracy: 1.0000 - val_loss: 4.4665e-11 - val_accuracy: 1.0000\n",
            "Epoch 110/200\n",
            "37/37 [==============================] - 0s 2ms/step - loss: 3.8302e-10 - accuracy: 1.0000 - val_loss: 4.4795e-11 - val_accuracy: 1.0000\n",
            "Epoch 111/200\n",
            "37/37 [==============================] - 0s 2ms/step - loss: 3.9418e-10 - accuracy: 1.0000 - val_loss: 4.4937e-11 - val_accuracy: 1.0000\n",
            "Epoch 112/200\n",
            "37/37 [==============================] - 0s 2ms/step - loss: 4.0053e-10 - accuracy: 1.0000 - val_loss: 4.5091e-11 - val_accuracy: 1.0000\n",
            "Epoch 113/200\n",
            "37/37 [==============================] - 0s 2ms/step - loss: 4.0051e-10 - accuracy: 1.0000 - val_loss: 3.6729e-11 - val_accuracy: 1.0000\n",
            "Epoch 114/200\n",
            "37/37 [==============================] - 0s 2ms/step - loss: 3.2326e-10 - accuracy: 1.0000 - val_loss: 3.6817e-11 - val_accuracy: 1.0000\n",
            "Epoch 115/200\n",
            "37/37 [==============================] - 0s 2ms/step - loss: 3.3161e-10 - accuracy: 1.0000 - val_loss: 3.6920e-11 - val_accuracy: 1.0000\n",
            "Epoch 116/200\n",
            "37/37 [==============================] - 0s 2ms/step - loss: 3.4273e-10 - accuracy: 1.0000 - val_loss: 3.7028e-11 - val_accuracy: 1.0000\n",
            "Epoch 117/200\n",
            "37/37 [==============================] - 0s 2ms/step - loss: 3.4987e-10 - accuracy: 1.0000 - val_loss: 3.7139e-11 - val_accuracy: 1.0000\n",
            "Epoch 118/200\n",
            "37/37 [==============================] - 0s 2ms/step - loss: 3.4417e-10 - accuracy: 1.0000 - val_loss: 4.1388e-11 - val_accuracy: 1.0000\n",
            "Epoch 119/200\n",
            "37/37 [==============================] - 0s 2ms/step - loss: 2.9322e-10 - accuracy: 1.0000 - val_loss: 4.1101e-11 - val_accuracy: 1.0000\n",
            "Epoch 120/200\n",
            "37/37 [==============================] - 0s 2ms/step - loss: 2.9192e-10 - accuracy: 1.0000 - val_loss: 4.0855e-11 - val_accuracy: 1.0000\n",
            "Epoch 121/200\n",
            "37/37 [==============================] - 0s 2ms/step - loss: 2.9206e-10 - accuracy: 1.0000 - val_loss: 4.0650e-11 - val_accuracy: 1.0000\n",
            "Epoch 122/200\n",
            "37/37 [==============================] - 0s 2ms/step - loss: 2.9186e-10 - accuracy: 1.0000 - val_loss: 4.0479e-11 - val_accuracy: 1.0000\n",
            "Epoch 123/200\n",
            "37/37 [==============================] - 0s 2ms/step - loss: 2.9144e-10 - accuracy: 1.0000 - val_loss: 4.0335e-11 - val_accuracy: 1.0000\n",
            "Epoch 124/200\n",
            "37/37 [==============================] - 0s 2ms/step - loss: 2.9098e-10 - accuracy: 1.0000 - val_loss: 4.0219e-11 - val_accuracy: 1.0000\n",
            "Epoch 125/200\n",
            "37/37 [==============================] - 0s 2ms/step - loss: 2.9082e-10 - accuracy: 1.0000 - val_loss: 4.0208e-11 - val_accuracy: 1.0000\n",
            "Epoch 126/200\n",
            "37/37 [==============================] - 0s 2ms/step - loss: 2.9376e-10 - accuracy: 1.0000 - val_loss: 4.0132e-11 - val_accuracy: 1.0000\n",
            "Epoch 127/200\n",
            "37/37 [==============================] - 0s 2ms/step - loss: 2.9415e-10 - accuracy: 1.0000 - val_loss: 4.0074e-11 - val_accuracy: 1.0000\n",
            "Epoch 128/200\n",
            "37/37 [==============================] - 0s 2ms/step - loss: 2.9392e-10 - accuracy: 1.0000 - val_loss: 4.0033e-11 - val_accuracy: 1.0000\n",
            "Epoch 129/200\n",
            "37/37 [==============================] - 0s 2ms/step - loss: 2.9588e-10 - accuracy: 1.0000 - val_loss: 4.0005e-11 - val_accuracy: 1.0000\n",
            "Epoch 130/200\n",
            "37/37 [==============================] - 0s 2ms/step - loss: 2.9722e-10 - accuracy: 1.0000 - val_loss: 3.9989e-11 - val_accuracy: 1.0000\n",
            "Epoch 131/200\n",
            "37/37 [==============================] - 0s 2ms/step - loss: 2.9865e-10 - accuracy: 1.0000 - val_loss: 4.0067e-11 - val_accuracy: 1.0000\n",
            "Epoch 132/200\n",
            "37/37 [==============================] - 0s 2ms/step - loss: 3.0011e-10 - accuracy: 1.0000 - val_loss: 4.0072e-11 - val_accuracy: 1.0000\n",
            "Epoch 133/200\n",
            "37/37 [==============================] - 0s 2ms/step - loss: 3.0254e-10 - accuracy: 1.0000 - val_loss: 4.0086e-11 - val_accuracy: 1.0000\n",
            "Epoch 134/200\n",
            "37/37 [==============================] - 0s 2ms/step - loss: 3.0365e-10 - accuracy: 1.0000 - val_loss: 4.0108e-11 - val_accuracy: 1.0000\n",
            "Epoch 135/200\n",
            "37/37 [==============================] - 0s 2ms/step - loss: 3.0500e-10 - accuracy: 1.0000 - val_loss: 4.0138e-11 - val_accuracy: 1.0000\n",
            "Epoch 136/200\n",
            "37/37 [==============================] - 0s 2ms/step - loss: 3.0773e-10 - accuracy: 1.0000 - val_loss: 4.0175e-11 - val_accuracy: 1.0000\n",
            "Epoch 137/200\n",
            "37/37 [==============================] - 0s 2ms/step - loss: 3.0955e-10 - accuracy: 1.0000 - val_loss: 4.0067e-11 - val_accuracy: 1.0000\n",
            "Epoch 138/200\n",
            "37/37 [==============================] - 0s 2ms/step - loss: 3.1151e-10 - accuracy: 1.0000 - val_loss: 4.0094e-11 - val_accuracy: 1.0000\n",
            "Epoch 139/200\n",
            "37/37 [==============================] - 0s 2ms/step - loss: 3.1327e-10 - accuracy: 1.0000 - val_loss: 4.0129e-11 - val_accuracy: 1.0000\n",
            "Epoch 140/200\n",
            "37/37 [==============================] - 0s 2ms/step - loss: 3.1590e-10 - accuracy: 1.0000 - val_loss: 4.0171e-11 - val_accuracy: 1.0000\n",
            "Epoch 141/200\n",
            "37/37 [==============================] - 0s 2ms/step - loss: 3.1779e-10 - accuracy: 1.0000 - val_loss: 4.0302e-11 - val_accuracy: 1.0000\n",
            "Epoch 142/200\n",
            "37/37 [==============================] - 0s 2ms/step - loss: 3.2065e-10 - accuracy: 1.0000 - val_loss: 4.0358e-11 - val_accuracy: 1.0000\n",
            "Epoch 143/200\n",
            "37/37 [==============================] - 0s 2ms/step - loss: 3.2313e-10 - accuracy: 1.0000 - val_loss: 4.0416e-11 - val_accuracy: 1.0000\n",
            "Epoch 144/200\n",
            "37/37 [==============================] - 0s 2ms/step - loss: 3.2454e-10 - accuracy: 1.0000 - val_loss: 4.0479e-11 - val_accuracy: 1.0000\n",
            "Epoch 145/200\n",
            "37/37 [==============================] - 0s 2ms/step - loss: 3.2752e-10 - accuracy: 1.0000 - val_loss: 4.0547e-11 - val_accuracy: 1.0000\n",
            "Epoch 146/200\n",
            "37/37 [==============================] - 0s 2ms/step - loss: 3.3153e-10 - accuracy: 1.0000 - val_loss: 4.0523e-11 - val_accuracy: 1.0000\n",
            "Epoch 147/200\n",
            "37/37 [==============================] - 0s 2ms/step - loss: 3.3212e-10 - accuracy: 1.0000 - val_loss: 4.0580e-11 - val_accuracy: 1.0000\n",
            "Epoch 148/200\n",
            "37/37 [==============================] - 0s 2ms/step - loss: 3.3420e-10 - accuracy: 1.0000 - val_loss: 4.0644e-11 - val_accuracy: 1.0000\n",
            "Epoch 149/200\n",
            "37/37 [==============================] - 0s 2ms/step - loss: 3.3737e-10 - accuracy: 1.0000 - val_loss: 4.0712e-11 - val_accuracy: 1.0000\n",
            "Epoch 150/200\n",
            "37/37 [==============================] - 0s 2ms/step - loss: 3.3959e-10 - accuracy: 1.0000 - val_loss: 4.0785e-11 - val_accuracy: 1.0000\n",
            "Epoch 151/200\n",
            "37/37 [==============================] - 0s 2ms/step - loss: 3.4143e-10 - accuracy: 1.0000 - val_loss: 4.0861e-11 - val_accuracy: 1.0000\n",
            "Epoch 152/200\n",
            "37/37 [==============================] - 0s 2ms/step - loss: 3.4400e-10 - accuracy: 1.0000 - val_loss: 4.0942e-11 - val_accuracy: 1.0000\n",
            "Epoch 153/200\n",
            "37/37 [==============================] - 0s 2ms/step - loss: 3.4704e-10 - accuracy: 1.0000 - val_loss: 4.1027e-11 - val_accuracy: 1.0000\n",
            "Epoch 154/200\n",
            "37/37 [==============================] - 0s 2ms/step - loss: 3.5044e-10 - accuracy: 1.0000 - val_loss: 4.1085e-11 - val_accuracy: 1.0000\n",
            "Epoch 155/200\n",
            "37/37 [==============================] - 0s 2ms/step - loss: 3.5160e-10 - accuracy: 1.0000 - val_loss: 4.1219e-11 - val_accuracy: 1.0000\n",
            "Epoch 156/200\n",
            "37/37 [==============================] - 0s 2ms/step - loss: 3.5468e-10 - accuracy: 1.0000 - val_loss: 4.1316e-11 - val_accuracy: 1.0000\n",
            "Epoch 157/200\n",
            "37/37 [==============================] - 0s 2ms/step - loss: 3.5796e-10 - accuracy: 1.0000 - val_loss: 4.1399e-11 - val_accuracy: 1.0000\n",
            "Epoch 158/200\n",
            "37/37 [==============================] - 0s 2ms/step - loss: 3.0380e-10 - accuracy: 1.0000 - val_loss: 3.3160e-11 - val_accuracy: 1.0000\n",
            "Epoch 159/200\n",
            "37/37 [==============================] - 0s 2ms/step - loss: 2.7286e-10 - accuracy: 1.0000 - val_loss: 3.3230e-11 - val_accuracy: 1.0000\n",
            "Epoch 160/200\n",
            "37/37 [==============================] - 0s 2ms/step - loss: 2.7727e-10 - accuracy: 1.0000 - val_loss: 3.3300e-11 - val_accuracy: 1.0000\n",
            "Epoch 161/200\n",
            "37/37 [==============================] - 0s 2ms/step - loss: 2.7458e-10 - accuracy: 1.0000 - val_loss: 3.2995e-11 - val_accuracy: 1.0000\n",
            "Epoch 162/200\n",
            "37/37 [==============================] - 0s 2ms/step - loss: 2.7679e-10 - accuracy: 1.0000 - val_loss: 3.3053e-11 - val_accuracy: 1.0000\n",
            "Epoch 163/200\n",
            "37/37 [==============================] - 0s 2ms/step - loss: 2.7882e-10 - accuracy: 1.0000 - val_loss: 3.3113e-11 - val_accuracy: 1.0000\n",
            "Epoch 164/200\n",
            "37/37 [==============================] - 0s 2ms/step - loss: 2.8196e-10 - accuracy: 1.0000 - val_loss: 3.3175e-11 - val_accuracy: 1.0000\n",
            "Epoch 165/200\n",
            "37/37 [==============================] - 0s 2ms/step - loss: 2.8621e-10 - accuracy: 1.0000 - val_loss: 3.3239e-11 - val_accuracy: 1.0000\n",
            "Epoch 166/200\n",
            "37/37 [==============================] - 0s 2ms/step - loss: 2.8900e-10 - accuracy: 1.0000 - val_loss: 3.3362e-11 - val_accuracy: 1.0000\n",
            "Epoch 167/200\n",
            "37/37 [==============================] - 0s 2ms/step - loss: 2.9335e-10 - accuracy: 1.0000 - val_loss: 3.3428e-11 - val_accuracy: 1.0000\n",
            "Epoch 168/200\n",
            "37/37 [==============================] - 0s 2ms/step - loss: 2.9595e-10 - accuracy: 1.0000 - val_loss: 3.3497e-11 - val_accuracy: 1.0000\n",
            "Epoch 169/200\n",
            "37/37 [==============================] - 0s 2ms/step - loss: 3.0095e-10 - accuracy: 1.0000 - val_loss: 3.3566e-11 - val_accuracy: 1.0000\n",
            "Epoch 170/200\n",
            "37/37 [==============================] - 0s 2ms/step - loss: 3.0490e-10 - accuracy: 1.0000 - val_loss: 3.3637e-11 - val_accuracy: 1.0000\n",
            "Epoch 171/200\n",
            "37/37 [==============================] - 0s 2ms/step - loss: 3.1023e-10 - accuracy: 1.0000 - val_loss: 3.3709e-11 - val_accuracy: 1.0000\n",
            "Epoch 172/200\n",
            "37/37 [==============================] - 0s 2ms/step - loss: 3.1191e-10 - accuracy: 1.0000 - val_loss: 3.3782e-11 - val_accuracy: 1.0000\n",
            "Epoch 173/200\n",
            "37/37 [==============================] - 0s 2ms/step - loss: 3.0211e-10 - accuracy: 1.0000 - val_loss: 3.3552e-11 - val_accuracy: 1.0000\n",
            "Epoch 174/200\n",
            "37/37 [==============================] - 0s 2ms/step - loss: 3.0820e-10 - accuracy: 1.0000 - val_loss: 3.3619e-11 - val_accuracy: 1.0000\n",
            "Epoch 175/200\n",
            "37/37 [==============================] - 0s 2ms/step - loss: 3.1252e-10 - accuracy: 1.0000 - val_loss: 3.3687e-11 - val_accuracy: 1.0000\n",
            "Epoch 176/200\n",
            "37/37 [==============================] - 0s 2ms/step - loss: 3.1549e-10 - accuracy: 1.0000 - val_loss: 3.3757e-11 - val_accuracy: 1.0000\n",
            "Epoch 177/200\n",
            "37/37 [==============================] - 0s 2ms/step - loss: 3.2086e-10 - accuracy: 1.0000 - val_loss: 3.3828e-11 - val_accuracy: 1.0000\n",
            "Epoch 178/200\n",
            "37/37 [==============================] - 0s 2ms/step - loss: 3.2400e-10 - accuracy: 1.0000 - val_loss: 3.3909e-11 - val_accuracy: 1.0000\n",
            "Epoch 179/200\n",
            "37/37 [==============================] - 0s 2ms/step - loss: 3.3015e-10 - accuracy: 1.0000 - val_loss: 3.3984e-11 - val_accuracy: 1.0000\n",
            "Epoch 180/200\n",
            "37/37 [==============================] - 0s 2ms/step - loss: 3.3486e-10 - accuracy: 1.0000 - val_loss: 3.4059e-11 - val_accuracy: 1.0000\n",
            "Epoch 181/200\n",
            "37/37 [==============================] - 0s 2ms/step - loss: 3.3812e-10 - accuracy: 1.0000 - val_loss: 3.4136e-11 - val_accuracy: 1.0000\n",
            "Epoch 182/200\n",
            "37/37 [==============================] - 0s 2ms/step - loss: 3.4518e-10 - accuracy: 1.0000 - val_loss: 3.4214e-11 - val_accuracy: 1.0000\n",
            "Epoch 183/200\n",
            "37/37 [==============================] - 0s 2ms/step - loss: 3.5017e-10 - accuracy: 1.0000 - val_loss: 3.4292e-11 - val_accuracy: 1.0000\n",
            "Epoch 184/200\n",
            "37/37 [==============================] - 0s 2ms/step - loss: 3.5366e-10 - accuracy: 1.0000 - val_loss: 3.4372e-11 - val_accuracy: 1.0000\n",
            "Epoch 185/200\n",
            "37/37 [==============================] - 0s 2ms/step - loss: 3.5830e-10 - accuracy: 1.0000 - val_loss: 3.4455e-11 - val_accuracy: 1.0000\n",
            "Epoch 186/200\n",
            "37/37 [==============================] - 0s 2ms/step - loss: 3.4679e-10 - accuracy: 1.0000 - val_loss: 3.4323e-11 - val_accuracy: 1.0000\n",
            "Epoch 187/200\n",
            "37/37 [==============================] - 0s 2ms/step - loss: 3.4839e-10 - accuracy: 1.0000 - val_loss: 3.4396e-11 - val_accuracy: 1.0000\n",
            "Epoch 188/200\n",
            "37/37 [==============================] - 0s 2ms/step - loss: 3.5182e-10 - accuracy: 1.0000 - val_loss: 3.4470e-11 - val_accuracy: 1.0000\n",
            "Epoch 189/200\n",
            "37/37 [==============================] - 0s 2ms/step - loss: 3.5849e-10 - accuracy: 1.0000 - val_loss: 3.4546e-11 - val_accuracy: 1.0000\n",
            "Epoch 190/200\n",
            "37/37 [==============================] - 0s 2ms/step - loss: 3.6276e-10 - accuracy: 1.0000 - val_loss: 3.4622e-11 - val_accuracy: 1.0000\n",
            "Epoch 191/200\n",
            "37/37 [==============================] - 0s 2ms/step - loss: 3.6924e-10 - accuracy: 1.0000 - val_loss: 3.4700e-11 - val_accuracy: 1.0000\n",
            "Epoch 192/200\n",
            "37/37 [==============================] - 0s 2ms/step - loss: 3.7354e-10 - accuracy: 1.0000 - val_loss: 3.4779e-11 - val_accuracy: 1.0000\n",
            "Epoch 193/200\n",
            "37/37 [==============================] - 0s 2ms/step - loss: 3.7926e-10 - accuracy: 1.0000 - val_loss: 3.4903e-11 - val_accuracy: 1.0000\n",
            "Epoch 194/200\n",
            "37/37 [==============================] - 0s 2ms/step - loss: 3.8504e-10 - accuracy: 1.0000 - val_loss: 3.4984e-11 - val_accuracy: 1.0000\n",
            "Epoch 195/200\n",
            "37/37 [==============================] - 0s 2ms/step - loss: 3.5649e-10 - accuracy: 1.0000 - val_loss: 3.8800e-11 - val_accuracy: 1.0000\n",
            "Epoch 196/200\n",
            "37/37 [==============================] - 0s 2ms/step - loss: 3.0782e-10 - accuracy: 1.0000 - val_loss: 3.2632e-11 - val_accuracy: 1.0000\n",
            "Epoch 197/200\n",
            "37/37 [==============================] - 0s 2ms/step - loss: 2.3938e-10 - accuracy: 1.0000 - val_loss: 3.2616e-11 - val_accuracy: 1.0000\n",
            "Epoch 198/200\n",
            "37/37 [==============================] - 0s 2ms/step - loss: 2.3940e-10 - accuracy: 1.0000 - val_loss: 3.2604e-11 - val_accuracy: 1.0000\n",
            "Epoch 199/200\n",
            "37/37 [==============================] - 0s 2ms/step - loss: 2.4000e-10 - accuracy: 1.0000 - val_loss: 3.2597e-11 - val_accuracy: 1.0000\n",
            "Epoch 200/200\n",
            "37/37 [==============================] - 0s 2ms/step - loss: 2.4067e-10 - accuracy: 1.0000 - val_loss: 3.2596e-11 - val_accuracy: 1.0000\n"
          ],
          "name": "stdout"
        }
      ]
    },
    {
      "cell_type": "code",
      "metadata": {
        "id": "2DCLdUZ1fzCN",
        "colab_type": "code",
        "colab": {
          "base_uri": "https://localhost:8080/",
          "height": 51
        },
        "outputId": "789b044d-b8a4-464a-b714-56d13c386c1e"
      },
      "source": [
        "model.evaluate(X_test, y_test)"
      ],
      "execution_count": 45,
      "outputs": [
        {
          "output_type": "stream",
          "text": [
            "6/6 [==============================] - 0s 1ms/step - loss: 1.6947e-08 - accuracy: 1.0000\n"
          ],
          "name": "stdout"
        },
        {
          "output_type": "execute_result",
          "data": {
            "text/plain": [
              "[1.6946573921927666e-08, 1.0]"
            ]
          },
          "metadata": {
            "tags": []
          },
          "execution_count": 45
        }
      ]
    },
    {
      "cell_type": "code",
      "metadata": {
        "id": "LbfQKWjDf8da",
        "colab_type": "code",
        "colab": {}
      },
      "source": [
        "test_data = pd.read_csv('https://raw.githubusercontent.com/dphi-official/Datasets/master/bank_note_data/testing_set_label.csv')"
      ],
      "execution_count": 46,
      "outputs": []
    },
    {
      "cell_type": "code",
      "metadata": {
        "id": "quWUR8JLgRZy",
        "colab_type": "code",
        "colab": {
          "base_uri": "https://localhost:8080/",
          "height": 204
        },
        "outputId": "942b640b-4a00-41d8-a96f-caf45d7a4825"
      },
      "source": [
        "test_data.head()"
      ],
      "execution_count": 47,
      "outputs": [
        {
          "output_type": "execute_result",
          "data": {
            "text/html": [
              "<div>\n",
              "<style scoped>\n",
              "    .dataframe tbody tr th:only-of-type {\n",
              "        vertical-align: middle;\n",
              "    }\n",
              "\n",
              "    .dataframe tbody tr th {\n",
              "        vertical-align: top;\n",
              "    }\n",
              "\n",
              "    .dataframe thead th {\n",
              "        text-align: right;\n",
              "    }\n",
              "</style>\n",
              "<table border=\"1\" class=\"dataframe\">\n",
              "  <thead>\n",
              "    <tr style=\"text-align: right;\">\n",
              "      <th></th>\n",
              "      <th>VWTI</th>\n",
              "      <th>SWTI</th>\n",
              "      <th>CWTI</th>\n",
              "      <th>EI</th>\n",
              "    </tr>\n",
              "  </thead>\n",
              "  <tbody>\n",
              "    <tr>\n",
              "      <th>0</th>\n",
              "      <td>-0.40804</td>\n",
              "      <td>0.54214</td>\n",
              "      <td>-0.52725</td>\n",
              "      <td>0.65860</td>\n",
              "    </tr>\n",
              "    <tr>\n",
              "      <th>1</th>\n",
              "      <td>-3.71810</td>\n",
              "      <td>-8.50890</td>\n",
              "      <td>12.36300</td>\n",
              "      <td>-0.95518</td>\n",
              "    </tr>\n",
              "    <tr>\n",
              "      <th>2</th>\n",
              "      <td>5.50400</td>\n",
              "      <td>10.36710</td>\n",
              "      <td>-4.41300</td>\n",
              "      <td>-4.02110</td>\n",
              "    </tr>\n",
              "    <tr>\n",
              "      <th>3</th>\n",
              "      <td>1.68490</td>\n",
              "      <td>8.74890</td>\n",
              "      <td>-1.26410</td>\n",
              "      <td>-1.38580</td>\n",
              "    </tr>\n",
              "    <tr>\n",
              "      <th>4</th>\n",
              "      <td>4.74320</td>\n",
              "      <td>2.10860</td>\n",
              "      <td>0.13680</td>\n",
              "      <td>1.65430</td>\n",
              "    </tr>\n",
              "  </tbody>\n",
              "</table>\n",
              "</div>"
            ],
            "text/plain": [
              "      VWTI      SWTI      CWTI       EI\n",
              "0 -0.40804   0.54214  -0.52725  0.65860\n",
              "1 -3.71810  -8.50890  12.36300 -0.95518\n",
              "2  5.50400  10.36710  -4.41300 -4.02110\n",
              "3  1.68490   8.74890  -1.26410 -1.38580\n",
              "4  4.74320   2.10860   0.13680  1.65430"
            ]
          },
          "metadata": {
            "tags": []
          },
          "execution_count": 47
        }
      ]
    },
    {
      "cell_type": "code",
      "metadata": {
        "id": "hQKpU3SMgJRK",
        "colab_type": "code",
        "colab": {}
      },
      "source": [
        "pred = model.predict_classes(test_data)"
      ],
      "execution_count": 48,
      "outputs": []
    },
    {
      "cell_type": "code",
      "metadata": {
        "id": "SdTjNmKugf0n",
        "colab_type": "code",
        "colab": {}
      },
      "source": [
        "res = pd.DataFrame(pred)\n",
        "res.index = test_data.index\n",
        "res.columns = [\"prediction\"]\n",
        "res.to_csv(\"prediction_results.csv\")  "
      ],
      "execution_count": 49,
      "outputs": []
    },
    {
      "cell_type": "code",
      "metadata": {
        "id": "6heybT0LhgM2",
        "colab_type": "code",
        "colab": {}
      },
      "source": [
        ""
      ],
      "execution_count": null,
      "outputs": []
    }
  ]
}