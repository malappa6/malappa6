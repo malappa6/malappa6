{
  "nbformat": 4,
  "nbformat_minor": 0,
  "metadata": {
    "colab": {
      "name": "Assignment1.ipynb",
      "provenance": []
    },
    "kernelspec": {
      "name": "python3",
      "display_name": "Python 3"
    }
  },
  "cells": [
    {
      "cell_type": "code",
      "metadata": {
        "id": "jZYo9S2ctTsw",
        "colab_type": "code",
        "colab": {}
      },
      "source": [
        "import numpy as np\n",
        "import pandas as pd"
      ],
      "execution_count": 1,
      "outputs": []
    },
    {
      "cell_type": "code",
      "metadata": {
        "id": "ZLWF9gSXwRBf",
        "colab_type": "code",
        "colab": {
          "base_uri": "https://localhost:8080/",
          "height": 402
        },
        "outputId": "c2029ed5-45cf-40bf-fa0d-958ca373b435"
      },
      "source": [
        "data=pd.read_csv('https://raw.githubusercontent.com/dphi-official/Datasets/master/bank_note_data/training_set_label.csv')\n",
        "data"
      ],
      "execution_count": 2,
      "outputs": [
        {
          "output_type": "execute_result",
          "data": {
            "text/html": [
              "<div>\n",
              "<style scoped>\n",
              "    .dataframe tbody tr th:only-of-type {\n",
              "        vertical-align: middle;\n",
              "    }\n",
              "\n",
              "    .dataframe tbody tr th {\n",
              "        vertical-align: top;\n",
              "    }\n",
              "\n",
              "    .dataframe thead th {\n",
              "        text-align: right;\n",
              "    }\n",
              "</style>\n",
              "<table border=\"1\" class=\"dataframe\">\n",
              "  <thead>\n",
              "    <tr style=\"text-align: right;\">\n",
              "      <th></th>\n",
              "      <th>VWTI</th>\n",
              "      <th>SWTI</th>\n",
              "      <th>CWTI</th>\n",
              "      <th>EI</th>\n",
              "      <th>Class</th>\n",
              "    </tr>\n",
              "  </thead>\n",
              "  <tbody>\n",
              "    <tr>\n",
              "      <th>0</th>\n",
              "      <td>2.263400</td>\n",
              "      <td>-4.4862</td>\n",
              "      <td>3.65580</td>\n",
              "      <td>-0.612510</td>\n",
              "      <td>0</td>\n",
              "    </tr>\n",
              "    <tr>\n",
              "      <th>1</th>\n",
              "      <td>3.271800</td>\n",
              "      <td>1.7837</td>\n",
              "      <td>2.11610</td>\n",
              "      <td>0.613340</td>\n",
              "      <td>0</td>\n",
              "    </tr>\n",
              "    <tr>\n",
              "      <th>2</th>\n",
              "      <td>-3.941100</td>\n",
              "      <td>-12.8792</td>\n",
              "      <td>13.05970</td>\n",
              "      <td>-3.312500</td>\n",
              "      <td>1</td>\n",
              "    </tr>\n",
              "    <tr>\n",
              "      <th>3</th>\n",
              "      <td>0.519500</td>\n",
              "      <td>-3.2633</td>\n",
              "      <td>3.08950</td>\n",
              "      <td>-0.984900</td>\n",
              "      <td>0</td>\n",
              "    </tr>\n",
              "    <tr>\n",
              "      <th>4</th>\n",
              "      <td>2.569800</td>\n",
              "      <td>-4.4076</td>\n",
              "      <td>5.98560</td>\n",
              "      <td>0.078002</td>\n",
              "      <td>0</td>\n",
              "    </tr>\n",
              "    <tr>\n",
              "      <th>...</th>\n",
              "      <td>...</td>\n",
              "      <td>...</td>\n",
              "      <td>...</td>\n",
              "      <td>...</td>\n",
              "      <td>...</td>\n",
              "    </tr>\n",
              "    <tr>\n",
              "      <th>1091</th>\n",
              "      <td>1.640600</td>\n",
              "      <td>3.5488</td>\n",
              "      <td>1.39640</td>\n",
              "      <td>-0.364240</td>\n",
              "      <td>0</td>\n",
              "    </tr>\n",
              "    <tr>\n",
              "      <th>1092</th>\n",
              "      <td>-0.048008</td>\n",
              "      <td>-1.6037</td>\n",
              "      <td>8.47560</td>\n",
              "      <td>0.755580</td>\n",
              "      <td>0</td>\n",
              "    </tr>\n",
              "    <tr>\n",
              "      <th>1093</th>\n",
              "      <td>2.942100</td>\n",
              "      <td>7.4101</td>\n",
              "      <td>-0.97709</td>\n",
              "      <td>-0.884060</td>\n",
              "      <td>0</td>\n",
              "    </tr>\n",
              "    <tr>\n",
              "      <th>1094</th>\n",
              "      <td>1.964700</td>\n",
              "      <td>6.9383</td>\n",
              "      <td>0.57722</td>\n",
              "      <td>0.663770</td>\n",
              "      <td>0</td>\n",
              "    </tr>\n",
              "    <tr>\n",
              "      <th>1095</th>\n",
              "      <td>-0.126240</td>\n",
              "      <td>10.3216</td>\n",
              "      <td>-3.71210</td>\n",
              "      <td>-6.118500</td>\n",
              "      <td>0</td>\n",
              "    </tr>\n",
              "  </tbody>\n",
              "</table>\n",
              "<p>1096 rows × 5 columns</p>\n",
              "</div>"
            ],
            "text/plain": [
              "          VWTI     SWTI      CWTI        EI  Class\n",
              "0     2.263400  -4.4862   3.65580 -0.612510      0\n",
              "1     3.271800   1.7837   2.11610  0.613340      0\n",
              "2    -3.941100 -12.8792  13.05970 -3.312500      1\n",
              "3     0.519500  -3.2633   3.08950 -0.984900      0\n",
              "4     2.569800  -4.4076   5.98560  0.078002      0\n",
              "...        ...      ...       ...       ...    ...\n",
              "1091  1.640600   3.5488   1.39640 -0.364240      0\n",
              "1092 -0.048008  -1.6037   8.47560  0.755580      0\n",
              "1093  2.942100   7.4101  -0.97709 -0.884060      0\n",
              "1094  1.964700   6.9383   0.57722  0.663770      0\n",
              "1095 -0.126240  10.3216  -3.71210 -6.118500      0\n",
              "\n",
              "[1096 rows x 5 columns]"
            ]
          },
          "metadata": {
            "tags": []
          },
          "execution_count": 2
        }
      ]
    },
    {
      "cell_type": "code",
      "metadata": {
        "id": "Pfalfam6xBUD",
        "colab_type": "code",
        "colab": {
          "base_uri": "https://localhost:8080/",
          "height": 218
        },
        "outputId": "ec6c6377-55cd-4f1e-9c92-b8153895e8d6"
      },
      "source": [
        "data.info()"
      ],
      "execution_count": 3,
      "outputs": [
        {
          "output_type": "stream",
          "text": [
            "<class 'pandas.core.frame.DataFrame'>\n",
            "RangeIndex: 1096 entries, 0 to 1095\n",
            "Data columns (total 5 columns):\n",
            " #   Column  Non-Null Count  Dtype  \n",
            "---  ------  --------------  -----  \n",
            " 0   VWTI    1096 non-null   float64\n",
            " 1   SWTI    1096 non-null   float64\n",
            " 2   CWTI    1096 non-null   float64\n",
            " 3   EI      1096 non-null   float64\n",
            " 4   Class   1096 non-null   int64  \n",
            "dtypes: float64(4), int64(1)\n",
            "memory usage: 42.9 KB\n"
          ],
          "name": "stdout"
        }
      ]
    },
    {
      "cell_type": "code",
      "metadata": {
        "id": "iqtq4xODxD5j",
        "colab_type": "code",
        "colab": {}
      },
      "source": [
        "test_data=pd.read_csv('https://raw.githubusercontent.com/dphi-official/Datasets/master/bank_note_data/testing_set_label.csv')"
      ],
      "execution_count": 4,
      "outputs": []
    },
    {
      "cell_type": "code",
      "metadata": {
        "id": "O-KVttelxQDk",
        "colab_type": "code",
        "colab": {
          "base_uri": "https://localhost:8080/",
          "height": 67
        },
        "outputId": "4574b551-fc80-4590-be29-4297d56b7645"
      },
      "source": [
        "data.Class.value_counts()"
      ],
      "execution_count": 5,
      "outputs": [
        {
          "output_type": "execute_result",
          "data": {
            "text/plain": [
              "0    608\n",
              "1    488\n",
              "Name: Class, dtype: int64"
            ]
          },
          "metadata": {
            "tags": []
          },
          "execution_count": 5
        }
      ]
    },
    {
      "cell_type": "code",
      "metadata": {
        "id": "3UJZP4GAxkOM",
        "colab_type": "code",
        "colab": {}
      },
      "source": [
        "X=data.drop('Class',axis=1)\n",
        "y=data[['Class']]"
      ],
      "execution_count": 7,
      "outputs": []
    },
    {
      "cell_type": "code",
      "metadata": {
        "id": "oe5I6lFeyMWL",
        "colab_type": "code",
        "colab": {}
      },
      "source": [
        "from sklearn.model_selection import train_test_split\n",
        "X_train,X_test,y_train,y_test=train_test_split(X,y,test_size=0.2,random_state=9)"
      ],
      "execution_count": 10,
      "outputs": []
    },
    {
      "cell_type": "code",
      "metadata": {
        "id": "tNBMFnzyycVL",
        "colab_type": "code",
        "colab": {}
      },
      "source": [
        "from tensorflow import keras\n",
        "import tensorflow as tf\n",
        "model = keras.Sequential([\n",
        "    keras.layers.Flatten(input_shape=(4,)),\n",
        "    keras.layers.Dense(16, activation=tf.nn.relu),\n",
        "\t  keras.layers.Dense(16, activation=tf.nn.relu),\n",
        "    keras.layers.Dense(1, activation=tf.nn.sigmoid),\n",
        "])"
      ],
      "execution_count": 12,
      "outputs": []
    },
    {
      "cell_type": "code",
      "metadata": {
        "id": "Jjn-f-3NzWTw",
        "colab_type": "code",
        "colab": {}
      },
      "source": [
        "model.compile(optimizer='adam',\n",
        "              loss='binary_crossentropy',\n",
        "              metrics=['accuracy'])"
      ],
      "execution_count": 13,
      "outputs": []
    },
    {
      "cell_type": "code",
      "metadata": {
        "id": "giZgKqXdzpU7",
        "colab_type": "code",
        "colab": {
          "base_uri": "https://localhost:8080/",
          "height": 1000
        },
        "outputId": "6d557134-baad-40d4-9536-e9f4e5debdcf"
      },
      "source": [
        "model.fit(X_train, y_train, epochs=50, batch_size=1)\n",
        "model.evaluate(X_test, y_test)"
      ],
      "execution_count": 14,
      "outputs": [
        {
          "output_type": "stream",
          "text": [
            "Epoch 1/50\n",
            "876/876 [==============================] - 1s 918us/step - loss: 0.1847 - accuracy: 0.9486\n",
            "Epoch 2/50\n",
            "876/876 [==============================] - 1s 852us/step - loss: 0.0313 - accuracy: 0.9977\n",
            "Epoch 3/50\n",
            "876/876 [==============================] - 1s 869us/step - loss: 0.0120 - accuracy: 1.0000\n",
            "Epoch 4/50\n",
            "876/876 [==============================] - 1s 874us/step - loss: 0.0053 - accuracy: 1.0000\n",
            "Epoch 5/50\n",
            "876/876 [==============================] - 1s 876us/step - loss: 0.0033 - accuracy: 1.0000\n",
            "Epoch 6/50\n",
            "876/876 [==============================] - 1s 875us/step - loss: 0.0016 - accuracy: 1.0000\n",
            "Epoch 7/50\n",
            "876/876 [==============================] - 1s 900us/step - loss: 0.0014 - accuracy: 1.0000\n",
            "Epoch 8/50\n",
            "876/876 [==============================] - 1s 902us/step - loss: 5.8149e-04 - accuracy: 1.0000\n",
            "Epoch 9/50\n",
            "876/876 [==============================] - 1s 889us/step - loss: 3.7296e-04 - accuracy: 1.0000\n",
            "Epoch 10/50\n",
            "876/876 [==============================] - 1s 847us/step - loss: 2.2471e-04 - accuracy: 1.0000\n",
            "Epoch 11/50\n",
            "876/876 [==============================] - 1s 870us/step - loss: 1.3141e-04 - accuracy: 1.0000\n",
            "Epoch 12/50\n",
            "876/876 [==============================] - 1s 861us/step - loss: 1.0006e-04 - accuracy: 1.0000\n",
            "Epoch 13/50\n",
            "876/876 [==============================] - 1s 857us/step - loss: 5.9009e-05 - accuracy: 1.0000\n",
            "Epoch 14/50\n",
            "876/876 [==============================] - 1s 892us/step - loss: 3.4896e-05 - accuracy: 1.0000\n",
            "Epoch 15/50\n",
            "876/876 [==============================] - 1s 859us/step - loss: 2.7329e-05 - accuracy: 1.0000\n",
            "Epoch 16/50\n",
            "876/876 [==============================] - 1s 863us/step - loss: 1.2315e-05 - accuracy: 1.0000\n",
            "Epoch 17/50\n",
            "876/876 [==============================] - 1s 849us/step - loss: 9.3031e-06 - accuracy: 1.0000\n",
            "Epoch 18/50\n",
            "876/876 [==============================] - 1s 859us/step - loss: 6.5649e-06 - accuracy: 1.0000\n",
            "Epoch 19/50\n",
            "876/876 [==============================] - 1s 868us/step - loss: 3.1370e-06 - accuracy: 1.0000\n",
            "Epoch 20/50\n",
            "876/876 [==============================] - 1s 886us/step - loss: 2.0074e-06 - accuracy: 1.0000\n",
            "Epoch 21/50\n",
            "876/876 [==============================] - 1s 882us/step - loss: 1.4066e-06 - accuracy: 1.0000\n",
            "Epoch 22/50\n",
            "876/876 [==============================] - 1s 861us/step - loss: 9.5686e-07 - accuracy: 1.0000\n",
            "Epoch 23/50\n",
            "876/876 [==============================] - 1s 851us/step - loss: 6.9734e-07 - accuracy: 1.0000\n",
            "Epoch 24/50\n",
            "876/876 [==============================] - 1s 932us/step - loss: 3.3051e-07 - accuracy: 1.0000\n",
            "Epoch 25/50\n",
            "876/876 [==============================] - 1s 882us/step - loss: 2.0232e-07 - accuracy: 1.0000\n",
            "Epoch 26/50\n",
            "876/876 [==============================] - 1s 909us/step - loss: 1.2912e-07 - accuracy: 1.0000\n",
            "Epoch 27/50\n",
            "876/876 [==============================] - 1s 921us/step - loss: 8.6881e-08 - accuracy: 1.0000\n",
            "Epoch 28/50\n",
            "876/876 [==============================] - 1s 920us/step - loss: 1.7843e-07 - accuracy: 1.0000\n",
            "Epoch 29/50\n",
            "876/876 [==============================] - 1s 914us/step - loss: 4.0120e-05 - accuracy: 1.0000\n",
            "Epoch 30/50\n",
            "876/876 [==============================] - 1s 882us/step - loss: 2.9322e-07 - accuracy: 1.0000\n",
            "Epoch 31/50\n",
            "876/876 [==============================] - 1s 880us/step - loss: 1.1864e-07 - accuracy: 1.0000\n",
            "Epoch 32/50\n",
            "876/876 [==============================] - 1s 884us/step - loss: 1.0255e-07 - accuracy: 1.0000\n",
            "Epoch 33/50\n",
            "876/876 [==============================] - 1s 858us/step - loss: 8.7694e-08 - accuracy: 1.0000\n",
            "Epoch 34/50\n",
            "876/876 [==============================] - 1s 860us/step - loss: 7.4008e-08 - accuracy: 1.0000\n",
            "Epoch 35/50\n",
            "876/876 [==============================] - 1s 886us/step - loss: 6.1314e-08 - accuracy: 1.0000\n",
            "Epoch 36/50\n",
            "876/876 [==============================] - 1s 847us/step - loss: 4.9592e-08 - accuracy: 1.0000\n",
            "Epoch 37/50\n",
            "876/876 [==============================] - 1s 851us/step - loss: 4.0488e-08 - accuracy: 1.0000\n",
            "Epoch 38/50\n",
            "876/876 [==============================] - 1s 858us/step - loss: 3.1932e-08 - accuracy: 1.0000\n",
            "Epoch 39/50\n",
            "876/876 [==============================] - 1s 870us/step - loss: 2.3790e-08 - accuracy: 1.0000\n",
            "Epoch 40/50\n",
            "876/876 [==============================] - 1s 862us/step - loss: 2.5986e-08 - accuracy: 1.0000\n",
            "Epoch 41/50\n",
            "876/876 [==============================] - 1s 879us/step - loss: 1.4018e-08 - accuracy: 1.0000\n",
            "Epoch 42/50\n",
            "876/876 [==============================] - 1s 937us/step - loss: 1.0746e-08 - accuracy: 1.0000\n",
            "Epoch 43/50\n",
            "876/876 [==============================] - 1s 890us/step - loss: 9.5098e-05 - accuracy: 1.0000\n",
            "Epoch 44/50\n",
            "876/876 [==============================] - 1s 904us/step - loss: 4.7531e-06 - accuracy: 1.0000\n",
            "Epoch 45/50\n",
            "876/876 [==============================] - 1s 908us/step - loss: 5.8963e-07 - accuracy: 1.0000\n",
            "Epoch 46/50\n",
            "876/876 [==============================] - 1s 914us/step - loss: 3.5027e-07 - accuracy: 1.0000\n",
            "Epoch 47/50\n",
            "876/876 [==============================] - 1s 892us/step - loss: 2.1782e-07 - accuracy: 1.0000\n",
            "Epoch 48/50\n",
            "876/876 [==============================] - 1s 874us/step - loss: 1.4518e-07 - accuracy: 1.0000\n",
            "Epoch 49/50\n",
            "876/876 [==============================] - 1s 840us/step - loss: 9.7290e-08 - accuracy: 1.0000\n",
            "Epoch 50/50\n",
            "876/876 [==============================] - 1s 876us/step - loss: 6.5059e-08 - accuracy: 1.0000\n",
            "7/7 [==============================] - 0s 3ms/step - loss: 1.8120e-09 - accuracy: 1.0000\n"
          ],
          "name": "stdout"
        },
        {
          "output_type": "execute_result",
          "data": {
            "text/plain": [
              "[1.8119894473755949e-09, 1.0]"
            ]
          },
          "metadata": {
            "tags": []
          },
          "execution_count": 14
        }
      ]
    },
    {
      "cell_type": "code",
      "metadata": {
        "id": "kwtpuc_Qzw9S",
        "colab_type": "code",
        "colab": {
          "base_uri": "https://localhost:8080/",
          "height": 17
        },
        "outputId": "d33ad993-68f1-422f-90f3-bb6c8d13657f"
      },
      "source": [
        "prediction=model.predict(test_data)\n",
        "res = pd.DataFrame(prediction)\n",
        "res.index = test_data.index \n",
        "res.columns = [\"prediction\"]\n",
        "from google.colab import files\n",
        "res.to_csv('prediction_results_HP.csv')         \n",
        "files.download('prediction_results_HP.csv')"
      ],
      "execution_count": 16,
      "outputs": [
        {
          "output_type": "display_data",
          "data": {
            "application/javascript": [
              "\n",
              "    async function download(id, filename, size) {\n",
              "      if (!google.colab.kernel.accessAllowed) {\n",
              "        return;\n",
              "      }\n",
              "      const div = document.createElement('div');\n",
              "      const label = document.createElement('label');\n",
              "      label.textContent = `Downloading \"${filename}\": `;\n",
              "      div.appendChild(label);\n",
              "      const progress = document.createElement('progress');\n",
              "      progress.max = size;\n",
              "      div.appendChild(progress);\n",
              "      document.body.appendChild(div);\n",
              "\n",
              "      const buffers = [];\n",
              "      let downloaded = 0;\n",
              "\n",
              "      const channel = await google.colab.kernel.comms.open(id);\n",
              "      // Send a message to notify the kernel that we're ready.\n",
              "      channel.send({})\n",
              "\n",
              "      for await (const message of channel.messages) {\n",
              "        // Send a message to notify the kernel that we're ready.\n",
              "        channel.send({})\n",
              "        if (message.buffers) {\n",
              "          for (const buffer of message.buffers) {\n",
              "            buffers.push(buffer);\n",
              "            downloaded += buffer.byteLength;\n",
              "            progress.value = downloaded;\n",
              "          }\n",
              "        }\n",
              "      }\n",
              "      const blob = new Blob(buffers, {type: 'application/binary'});\n",
              "      const a = document.createElement('a');\n",
              "      a.href = window.URL.createObjectURL(blob);\n",
              "      a.download = filename;\n",
              "      div.appendChild(a);\n",
              "      a.click();\n",
              "      div.remove();\n",
              "    }\n",
              "  "
            ],
            "text/plain": [
              "<IPython.core.display.Javascript object>"
            ]
          },
          "metadata": {
            "tags": []
          }
        },
        {
          "output_type": "display_data",
          "data": {
            "application/javascript": [
              "download(\"download_7d608768-deaa-4714-9df7-3cda17ecf43d\", \"prediction_results_HP.csv\", 3589)"
            ],
            "text/plain": [
              "<IPython.core.display.Javascript object>"
            ]
          },
          "metadata": {
            "tags": []
          }
        }
      ]
    },
    {
      "cell_type": "code",
      "metadata": {
        "id": "P4KVOKxu0T5C",
        "colab_type": "code",
        "colab": {}
      },
      "source": [
        ""
      ],
      "execution_count": null,
      "outputs": []
    }
  ]
}