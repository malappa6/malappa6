{
 "cells": [
  {
   "cell_type": "markdown",
   "metadata": {
    "colab_type": "text",
    "id": "kXzFul5zX5nc"
   },
   "source": [
    "# Agenda\n",
    "1. Loading Data \n",
    "2. Pre-processing\n",
    "3. Building a Multi-Layer Perceptron\n",
    "4. Loss Function and Optimizer\n",
    "5. Training the model\n",
    "6. Tensorboard\n",
    "7. Building a CNN\n",
    "8. Optimization Techniques\n",
    "9. Prediction"
   ]
  },
  {
   "cell_type": "markdown",
   "metadata": {
    "colab_type": "text",
    "id": "XIJpr8URo5qk"
   },
   "source": [
    "# Loading Libraries"
   ]
  },
  {
   "cell_type": "code",
   "execution_count": 1,
   "metadata": {
    "colab": {},
    "colab_type": "code",
    "executionInfo": {
     "elapsed": 2274,
     "status": "ok",
     "timestamp": 1599670801547,
     "user": {
      "displayName": "daniel jerman",
      "photoUrl": "https://lh3.googleusercontent.com/a-/AOh14GiiOyLd-S61Cwjym_x3U5caIbU_WjMdgR9bhZogWA=s64",
      "userId": "03847502803116841914"
     },
     "user_tz": 180
    },
    "id": "lEe1FaD_o6PR"
   },
   "outputs": [],
   "source": [
    "import numpy as np  \n",
    "import pandas as pd \n",
    "import matplotlib.pyplot as plt \n",
    "import cv2\n",
    "import os"
   ]
  },
  {
   "cell_type": "markdown",
   "metadata": {
    "colab_type": "text",
    "id": "rIBaJ38_ibzi"
   },
   "source": [
    "# Loading Dataset"
   ]
  },
  {
   "cell_type": "raw",
   "metadata": {
    "colab": {
     "base_uri": "https://localhost:8080/",
     "height": 136
    },
    "colab_type": "code",
    "executionInfo": {
     "elapsed": 26757,
     "status": "ok",
     "timestamp": 1599670826048,
     "user": {
      "displayName": "daniel jerman",
      "photoUrl": "https://lh3.googleusercontent.com/a-/AOh14GiiOyLd-S61Cwjym_x3U5caIbU_WjMdgR9bhZogWA=s64",
      "userId": "03847502803116841914"
     },
     "user_tz": 180
    },
    "id": "-Hc4R76bWimF",
    "outputId": "1a5a4a10-e5c4-49fa-b5cc-d951bc32b7d2"
   },
   "source": [
    "from google.colab import drive\n",
    "drive.mount('/content/drive')\n",
    "train_data_path = '/content/drive/My Drive/Colab_Notebooks/Deep_Learning_Online_Bootcamp-Intermediate/Assignment_2/data/train/'"
   ]
  },
  {
   "cell_type": "code",
   "execution_count": 2,
   "metadata": {},
   "outputs": [],
   "source": [
    "train_data_path = '/Users/danieljerman/Desktop/Data/train/'\n",
    "test_data_path = '/Users/danieljerman/Desktop/Data/test/'\n",
    "test_data_file = '/Users/danieljerman/Desktop/Data/Testing_set_animals.csv'"
   ]
  },
  {
   "cell_type": "code",
   "execution_count": 3,
   "metadata": {
    "colab": {
     "base_uri": "https://localhost:8080/",
     "height": 263
    },
    "colab_type": "code",
    "executionInfo": {
     "elapsed": 971399,
     "status": "error",
     "timestamp": 1599671890986,
     "user": {
      "displayName": "daniel jerman",
      "photoUrl": "https://lh3.googleusercontent.com/a-/AOh14GiiOyLd-S61Cwjym_x3U5caIbU_WjMdgR9bhZogWA=s64",
      "userId": "03847502803116841914"
     },
     "user_tz": 180
    },
    "id": "mSeygCpXvxkj",
    "outputId": "179f42ad-0ca2-4694-cb9f-c5bdc5bbc470"
   },
   "outputs": [],
   "source": [
    "X_train_set = []\n",
    "y_train_set = []\n",
    "exceptions = 0\n",
    "for label in os.listdir(train_data_path):\n",
    "#for label in [os.listdir(train_data_path)[0]]:\n",
    "    for arch in os.listdir(train_data_path+label):\n",
    "        try:\n",
    "            img = cv2.imread(train_data_path+label+'/'+arch)\n",
    "            img = cv2.cvtColor(img, cv2.COLOR_BGR2RGB)\n",
    "            #img = cv2.cvtColor(img, cv2.COLOR_RGB2GRAY)\n",
    "            X_train_set.append(img)\n",
    "            y_train_set.append(label)\n",
    "        except:\n",
    "            exceptions = exceptions + 1"
   ]
  },
  {
   "cell_type": "code",
   "execution_count": 4,
   "metadata": {
    "colab": {
     "base_uri": "https://localhost:8080/",
     "height": 203
    },
    "colab_type": "code",
    "executionInfo": {
     "elapsed": 903,
     "status": "error",
     "timestamp": 1599671933415,
     "user": {
      "displayName": "daniel jerman",
      "photoUrl": "https://lh3.googleusercontent.com/a-/AOh14GiiOyLd-S61Cwjym_x3U5caIbU_WjMdgR9bhZogWA=s64",
      "userId": "03847502803116841914"
     },
     "user_tz": 180
    },
    "id": "WI9Rj4O_vxs9",
    "outputId": "2fde470c-a939-48af-b260-831fdb25e1a4"
   },
   "outputs": [
    {
     "name": "stdout",
     "output_type": "stream",
     "text": [
      "Number of images for training: 8196\n",
      "Number of labels: 5\n",
      "Number of exceptions: 2\n"
     ]
    }
   ],
   "source": [
    "print('Number of images for training: ' + str(len(X_train_set)))\n",
    "print('Number of labels: ' + str(len(os.listdir(train_data_path))))\n",
    "print('Number of exceptions: ' + str(exceptions))"
   ]
  },
  {
   "cell_type": "code",
   "execution_count": 5,
   "metadata": {},
   "outputs": [],
   "source": [
    "from sklearn.utils import shuffle\n",
    "X_train_set, y_train_set = shuffle(X_train_set, y_train_set, random_state=2048)"
   ]
  },
  {
   "cell_type": "code",
   "execution_count": 6,
   "metadata": {},
   "outputs": [],
   "source": [
    "X_test_set = []\n",
    "exceptions = 0\n",
    "test_source_images = pd.read_csv(test_data_file)\n",
    "test_source_images.drop(columns='target', inplace=True)\n",
    "for img in test_source_images.filename:\n",
    "    try:\n",
    "        img = cv2.imread(test_data_path+img)\n",
    "        img = cv2.cvtColor(img, cv2.COLOR_BGR2RGB)\n",
    "        #img = cv2.cvtColor(img, cv2.COLOR_RGB2GRAY)\n",
    "        X_test_set.append(img)\n",
    "    except:\n",
    "        exceptions = exceptions + 1"
   ]
  },
  {
   "cell_type": "code",
   "execution_count": 7,
   "metadata": {},
   "outputs": [
    {
     "name": "stdout",
     "output_type": "stream",
     "text": [
      "Number of images for test: 910\n",
      "Number of exceptions: 0\n"
     ]
    }
   ],
   "source": [
    "print('Number of images for test: ' + str(len(X_test_set)))\n",
    "print('Number of exceptions: ' + str(exceptions))"
   ]
  },
  {
   "cell_type": "markdown",
   "metadata": {},
   "source": [
    "Display Traing Data"
   ]
  },
  {
   "cell_type": "code",
   "execution_count": null,
   "metadata": {
    "colab": {
     "base_uri": "https://localhost:8080/",
     "height": 308
    },
    "colab_type": "code",
    "executionInfo": {
     "elapsed": 6647,
     "status": "ok",
     "timestamp": 1599623623981,
     "user": {
      "displayName": "daniel jerman",
      "photoUrl": "https://lh3.googleusercontent.com/a-/AOh14GiiOyLd-S61Cwjym_x3U5caIbU_WjMdgR9bhZogWA=s64",
      "userId": "03847502803116841914"
     },
     "user_tz": 180
    },
    "id": "7-RevLu43a39",
    "outputId": "ab76519e-7fc1-466c-9634-bac9c9438e08",
    "scrolled": true
   },
   "outputs": [],
   "source": [
    "plt.imshow(X_train_set[0])\n",
    "print('Image shape: ' + str(X_train_set[0].shape))\n",
    "print('Label: ' + str(y_train_set[0]))"
   ]
  },
  {
   "cell_type": "markdown",
   "metadata": {},
   "source": [
    "Display Test Data"
   ]
  },
  {
   "cell_type": "code",
   "execution_count": null,
   "metadata": {
    "colab": {
     "base_uri": "https://localhost:8080/",
     "height": 308
    },
    "colab_type": "code",
    "executionInfo": {
     "elapsed": 6647,
     "status": "ok",
     "timestamp": 1599623623981,
     "user": {
      "displayName": "daniel jerman",
      "photoUrl": "https://lh3.googleusercontent.com/a-/AOh14GiiOyLd-S61Cwjym_x3U5caIbU_WjMdgR9bhZogWA=s64",
      "userId": "03847502803116841914"
     },
     "user_tz": 180
    },
    "id": "7-RevLu43a39",
    "outputId": "ab76519e-7fc1-466c-9634-bac9c9438e08"
   },
   "outputs": [],
   "source": [
    "plt.imshow(X_test_set[0])\n",
    "print('Image shape: ' + str(X_test_set[0].shape))"
   ]
  },
  {
   "cell_type": "markdown",
   "metadata": {
    "colab_type": "text",
    "id": "bXFuGp3r3XQR"
   },
   "source": [
    "# Preprocessing"
   ]
  },
  {
   "cell_type": "markdown",
   "metadata": {
    "colab_type": "text",
    "id": "wGSAxFHG3PSf"
   },
   "source": [
    "Check Image Shape"
   ]
  },
  {
   "cell_type": "code",
   "execution_count": 10,
   "metadata": {
    "colab": {},
    "colab_type": "code",
    "id": "b73WSeHnvx1B"
   },
   "outputs": [],
   "source": [
    "shapes = [x.shape for x in X_train_set]"
   ]
  },
  {
   "cell_type": "code",
   "execution_count": 11,
   "metadata": {
    "colab": {
     "base_uri": "https://localhost:8080/",
     "height": 36
    },
    "colab_type": "code",
    "executionInfo": {
     "elapsed": 798,
     "status": "ok",
     "timestamp": 1599623688107,
     "user": {
      "displayName": "daniel jerman",
      "photoUrl": "https://lh3.googleusercontent.com/a-/AOh14GiiOyLd-S61Cwjym_x3U5caIbU_WjMdgR9bhZogWA=s64",
      "userId": "03847502803116841914"
     },
     "user_tz": 180
    },
    "id": "LOP95HDouu5d",
    "outputId": "e267facd-4627-49c7-8dd5-8ad20518e07c"
   },
   "outputs": [
    {
     "data": {
      "text/plain": [
       "[(166, 280, 3), (200, 300, 3), (200, 300, 3), (426, 640, 3), (200, 300, 3)]"
      ]
     },
     "execution_count": 11,
     "metadata": {},
     "output_type": "execute_result"
    }
   ],
   "source": [
    "shapes[:5]"
   ]
  },
  {
   "cell_type": "markdown",
   "metadata": {
    "colab_type": "text",
    "id": "-WGShIv3-vFP"
   },
   "source": [
    "## Scaling\n",
    "Get all images of same size in order to get same amount of data, and consequently, same shape for each image. The code makes possible to get the greyscale of images."
   ]
  },
  {
   "cell_type": "code",
   "execution_count": 12,
   "metadata": {
    "colab": {},
    "colab_type": "code",
    "id": "pqADBYQtrZXJ"
   },
   "outputs": [],
   "source": [
    "def resize_image_array(img, img_size_dims, grey=None):\n",
    "    if grey:\n",
    "        img = cv2.cvtColor(img, cv2.COLOR_RGB2GRAY)\n",
    "    img = cv2.resize(img, dsize=img_size_dims, interpolation=cv2.INTER_CUBIC)#cv2.INTER_CUBIC\n",
    "    #img = np.array(img, dtype=np.float32)\n",
    "    return img"
   ]
  },
  {
   "cell_type": "code",
   "execution_count": 13,
   "metadata": {
    "colab": {},
    "colab_type": "code",
    "id": "a5-tCCRdrZo0"
   },
   "outputs": [],
   "source": [
    "IMG_DIMS = (128, 128)\n",
    "\n",
    "X_train_set_reshaped = np.array([resize_image_array(img, img_size_dims=IMG_DIMS, grey=None) for img in X_train_set])\n",
    "X_test_set_reshaped = np.array([resize_image_array(img, img_size_dims=IMG_DIMS, grey=None) for img in X_test_set]) "
   ]
  },
  {
   "cell_type": "code",
   "execution_count": null,
   "metadata": {
    "colab": {
     "base_uri": "https://localhost:8080/",
     "height": 307
    },
    "colab_type": "code",
    "executionInfo": {
     "elapsed": 1270,
     "status": "ok",
     "timestamp": 1599623763893,
     "user": {
      "displayName": "daniel jerman",
      "photoUrl": "https://lh3.googleusercontent.com/a-/AOh14GiiOyLd-S61Cwjym_x3U5caIbU_WjMdgR9bhZogWA=s64",
      "userId": "03847502803116841914"
     },
     "user_tz": 180
    },
    "id": "cSHrdfqi6Ots",
    "outputId": "e9820bf1-b975-4494-f5d3-f2a1483200cf"
   },
   "outputs": [],
   "source": [
    "plt.imshow(X_train_set_reshaped[0])\n",
    "print('Image shape: ' + str(X_train_set_reshaped[0].shape))\n",
    "print('Label: ' +str(y_train_set[0]))"
   ]
  },
  {
   "cell_type": "markdown",
   "metadata": {
    "colab_type": "text",
    "id": "8vtOTGgN-xyw"
   },
   "source": [
    "## Normalization\n",
    "For faster convergency of the NN"
   ]
  },
  {
   "cell_type": "code",
   "execution_count": 15,
   "metadata": {
    "colab": {},
    "colab_type": "code",
    "id": "EvVBq3yz-6B2"
   },
   "outputs": [],
   "source": [
    "X_train_set_norm = X_train_set_reshaped / 255\n",
    "X_test_set_norm = X_test_set_reshaped / 255"
   ]
  },
  {
   "cell_type": "code",
   "execution_count": 16,
   "metadata": {},
   "outputs": [
    {
     "name": "stdout",
     "output_type": "stream",
     "text": [
      "(8196, 128, 128, 3)\n",
      "(910, 128, 128, 3)\n"
     ]
    }
   ],
   "source": [
    "print(X_train_set_norm.shape)\n",
    "print(X_test_set_norm.shape)"
   ]
  },
  {
   "cell_type": "markdown",
   "metadata": {
    "colab_type": "text",
    "id": "_GXanGI1-jMO"
   },
   "source": [
    "# Multilayer Perceptron"
   ]
  },
  {
   "cell_type": "markdown",
   "metadata": {
    "colab_type": "text",
    "id": "ESZFsbzvAsNi"
   },
   "source": [
    "## Flatten the Data\n",
    "To get the right shape for input layer"
   ]
  },
  {
   "cell_type": "code",
   "execution_count": 17,
   "metadata": {
    "colab": {},
    "colab_type": "code",
    "id": "zGT-KCuhAqiE"
   },
   "outputs": [],
   "source": [
    "shape = IMG_DIMS[0]*IMG_DIMS[0] * 3\n",
    "X_train_flattened = X_train_set_norm.reshape(len(X_train_set_norm), shape)\n",
    "X_test_flattened = X_test_set_norm.reshape(len(X_test_set_norm), shape)"
   ]
  },
  {
   "cell_type": "code",
   "execution_count": 18,
   "metadata": {},
   "outputs": [],
   "source": [
    "y_train_set = np.array(y_train_set)"
   ]
  },
  {
   "cell_type": "code",
   "execution_count": 19,
   "metadata": {},
   "outputs": [],
   "source": [
    "from sklearn import preprocessing\n",
    "le = preprocessing.LabelEncoder()\n",
    "le.fit(np.unique(y_train_set))\n",
    "y_train_set_transformed = (le.transform(y_train_set))"
   ]
  },
  {
   "cell_type": "code",
   "execution_count": 20,
   "metadata": {},
   "outputs": [],
   "source": [
    "y_train_set_transformed = y_train_set_transformed.reshape(y_train_set_transformed.shape[0],1)"
   ]
  },
  {
   "cell_type": "code",
   "execution_count": 21,
   "metadata": {},
   "outputs": [
    {
     "name": "stdout",
     "output_type": "stream",
     "text": [
      "(8196, 49152)\n",
      "(8196, 1)\n"
     ]
    }
   ],
   "source": [
    "print(X_train_flattened.shape)\n",
    "print(y_train_set_transformed.shape)"
   ]
  },
  {
   "cell_type": "markdown",
   "metadata": {
    "colab_type": "text",
    "id": "JhU_jDx1BQUi"
   },
   "source": [
    "## Model Definition"
   ]
  },
  {
   "cell_type": "code",
   "execution_count": 22,
   "metadata": {
    "colab": {},
    "colab_type": "code",
    "id": "fY-alc2YBXCG"
   },
   "outputs": [],
   "source": [
    "import tensorflow as tf \n",
    "from tensorflow import keras\n",
    "from tensorflow.keras import Sequential \n",
    "from tensorflow.keras import layers\n",
    "from tensorflow.keras.layers import Dense"
   ]
  },
  {
   "cell_type": "code",
   "execution_count": 23,
   "metadata": {},
   "outputs": [],
   "source": [
    "# Defining the Model\n",
    "model = tf.keras.models.Sequential()\n",
    "# input layer\n",
    "model.add(tf.keras.layers.Dense(1024, input_shape=(shape,), activation='relu'))\n",
    "model.add(tf.keras.layers.Dense(512, activation='relu'))\n",
    "# output layer\n",
    "model.add(tf.keras.layers.Dense(5, activation='softmax'))"
   ]
  },
  {
   "cell_type": "code",
   "execution_count": 24,
   "metadata": {
    "colab": {
     "base_uri": "https://localhost:8080/",
     "height": 216
    },
    "colab_type": "code",
    "executionInfo": {
     "elapsed": 751,
     "status": "ok",
     "timestamp": 1599624075641,
     "user": {
      "displayName": "daniel jerman",
      "photoUrl": "https://lh3.googleusercontent.com/a-/AOh14GiiOyLd-S61Cwjym_x3U5caIbU_WjMdgR9bhZogWA=s64",
      "userId": "03847502803116841914"
     },
     "user_tz": 180
    },
    "id": "CJhu3nM46OnH",
    "outputId": "aa1d1e9e-8202-4acc-e58c-a789a7efdfd4"
   },
   "outputs": [
    {
     "name": "stdout",
     "output_type": "stream",
     "text": [
      "Model: \"sequential\"\n",
      "_________________________________________________________________\n",
      "Layer (type)                 Output Shape              Param #   \n",
      "=================================================================\n",
      "dense (Dense)                (None, 1024)              50332672  \n",
      "_________________________________________________________________\n",
      "dense_1 (Dense)              (None, 512)               524800    \n",
      "_________________________________________________________________\n",
      "dense_2 (Dense)              (None, 5)                 2565      \n",
      "=================================================================\n",
      "Total params: 50,860,037\n",
      "Trainable params: 50,860,037\n",
      "Non-trainable params: 0\n",
      "_________________________________________________________________\n"
     ]
    }
   ],
   "source": [
    "model.summary()"
   ]
  },
  {
   "cell_type": "markdown",
   "metadata": {},
   "source": [
    "The model has 3 layers: one hidden and one output layer. The activation function of the input and hidden layer is Relu, as it is the suitable for that, and the output layer is a 5 neurons (5 labels of images) with a softmax activation functions which is used for multiclass classification problems. Remember thar sigmoid is used for classification, but binary problems."
   ]
  },
  {
   "cell_type": "code",
   "execution_count": 25,
   "metadata": {
    "colab": {
     "base_uri": "https://localhost:8080/",
     "height": 172
    },
    "colab_type": "code",
    "executionInfo": {
     "elapsed": 676,
     "status": "ok",
     "timestamp": 1599624222587,
     "user": {
      "displayName": "daniel jerman",
      "photoUrl": "https://lh3.googleusercontent.com/a-/AOh14GiiOyLd-S61Cwjym_x3U5caIbU_WjMdgR9bhZogWA=s64",
      "userId": "03847502803116841914"
     },
     "user_tz": 180
    },
    "id": "oMJ3ATknCIjD",
    "outputId": "64318de5-6fd8-48b3-dfc4-4eb042fd3ac6",
    "scrolled": false
   },
   "outputs": [
    {
     "data": {
      "image/png": "[encoded data removed]",
      "text/plain": [
       "<IPython.core.display.Image object>"
      ]
     },
     "execution_count": 25,
     "metadata": {},
     "output_type": "execute_result"
    }
   ],
   "source": [
    "from tensorflow.keras.utils import plot_model\n",
    "plot_model(model)"
   ]
  },
  {
   "cell_type": "markdown",
   "metadata": {
    "colab_type": "text",
    "id": "0Az5zUAABqhO"
   },
   "source": [
    "Model compile"
   ]
  },
  {
   "cell_type": "code",
   "execution_count": 26,
   "metadata": {
    "colab": {},
    "colab_type": "code",
    "id": "D4Ae1-T5rZxJ"
   },
   "outputs": [],
   "source": [
    "model.compile(optimizer=tf.keras.optimizers.Adam(learning_rate=2e-5),\n",
    "              loss='sparse_categorical_crossentropy',\n",
    "              metrics=['accuracy'])"
   ]
  },
  {
   "cell_type": "markdown",
   "metadata": {},
   "source": [
    "The optimizer selected for the problem is Adam which is an extension to stochastic gradient descent that has recently seen broader adoption for deep learning applications in computer vision and natural language processing. So as it is the most used accross the community, I started with Adam. \n",
    "\n",
    "The loss function is sparse categorical crossentropy as the problem is a multiclass classification problem.\n",
    "\n",
    "The metric for measuring the result is accuracy, as I want to get the percentage of good classified images."
   ]
  },
  {
   "cell_type": "markdown",
   "metadata": {
    "colab_type": "text",
    "id": "8kb7doGBBx_I"
   },
   "source": [
    "Fit the Model"
   ]
  },
  {
   "cell_type": "code",
   "execution_count": 27,
   "metadata": {
    "colab": {},
    "colab_type": "code",
    "id": "RfOTZD72BtPF",
    "scrolled": true
   },
   "outputs": [
    {
     "name": "stdout",
     "output_type": "stream",
     "text": [
      "Train on 6556 samples, validate on 1640 samples\n",
      "Epoch 1/100\n",
      "6556/6556 [==============================] - 61s 9ms/sample - loss: 1.5436 - acc: 0.3203 - val_loss: 1.4076 - val_acc: 0.3799\n",
      "Epoch 2/100\n",
      "6556/6556 [==============================] - 51s 8ms/sample - loss: 1.3669 - acc: 0.4237 - val_loss: 1.3944 - val_acc: 0.4134\n",
      "Epoch 3/100\n",
      "6556/6556 [==============================] - 46s 7ms/sample - loss: 1.2993 - acc: 0.4700 - val_loss: 1.3009 - val_acc: 0.4762\n",
      "Epoch 4/100\n",
      "6556/6556 [==============================] - 46s 7ms/sample - loss: 1.2232 - acc: 0.5146 - val_loss: 1.3304 - val_acc: 0.4616\n",
      "Epoch 5/100\n",
      "6556/6556 [==============================] - 46s 7ms/sample - loss: 1.1923 - acc: 0.5212 - val_loss: 1.2722 - val_acc: 0.4921\n",
      "Epoch 6/100\n",
      "6556/6556 [==============================] - 46s 7ms/sample - loss: 1.1794 - acc: 0.5348 - val_loss: 1.2437 - val_acc: 0.5061\n",
      "Epoch 7/100\n",
      "6556/6556 [==============================] - 48s 7ms/sample - loss: 1.1421 - acc: 0.5480 - val_loss: 1.2660 - val_acc: 0.4921\n",
      "Epoch 8/100\n",
      "6556/6556 [==============================] - 46s 7ms/sample - loss: 1.0955 - acc: 0.5734 - val_loss: 1.2249 - val_acc: 0.5098\n",
      "Epoch 9/100\n",
      "6556/6556 [==============================] - 46s 7ms/sample - loss: 1.0709 - acc: 0.5776 - val_loss: 1.2223 - val_acc: 0.5195\n",
      "Epoch 10/100\n",
      "6556/6556 [==============================] - 46s 7ms/sample - loss: 1.0277 - acc: 0.6120 - val_loss: 1.1981 - val_acc: 0.5287\n",
      "Epoch 11/100\n",
      "6556/6556 [==============================] - 46s 7ms/sample - loss: 0.9999 - acc: 0.6217 - val_loss: 1.2168 - val_acc: 0.5159\n",
      "Epoch 12/100\n",
      "6556/6556 [==============================] - 46s 7ms/sample - loss: 0.9811 - acc: 0.6248 - val_loss: 1.2497 - val_acc: 0.5146\n",
      "Epoch 13/100\n",
      "6556/6556 [==============================] - 46s 7ms/sample - loss: 0.9538 - acc: 0.6419 - val_loss: 1.2447 - val_acc: 0.5085\n",
      "Epoch 14/100\n",
      "6528/6556 [============================>.] - ETA: 0s - loss: 0.9310 - acc: 0.6517Restoring model weights from the end of the best epoch.\n",
      "6556/6556 [==============================] - 47s 7ms/sample - loss: 0.9308 - acc: 0.6519 - val_loss: 1.3058 - val_acc: 0.4689\n",
      "Epoch 00014: early stopping\n"
     ]
    }
   ],
   "source": [
    "es_callback = tf.keras.callbacks.EarlyStopping(monitor='val_loss', patience=4, \n",
    "                                               restore_best_weights=True,\n",
    "                                               verbose=1)\n",
    "\n",
    "history = model.fit(X_train_flattened, \n",
    "                    y_train_set_transformed, \n",
    "                    batch_size = 128, \n",
    "                    callbacks=[es_callback],\n",
    "                    validation_split=0.2, \n",
    "                    epochs=100, \n",
    "                    verbose = 1)"
   ]
  },
  {
   "cell_type": "markdown",
   "metadata": {},
   "source": [
    "I decide to get 100 epochs for the training, however I used an early stopping with patience of 2 in val_loss in order not to get more epochs with poor results.\n",
    "\n",
    "With the validation_split I assure the 80:20 ratio asked in the guidelines."
   ]
  },
  {
   "cell_type": "code",
   "execution_count": 28,
   "metadata": {},
   "outputs": [
    {
     "data": {
      "image/png": "[encoded data removed]",
      "text/plain": [
       "<Figure size 1080x288 with 2 Axes>"
      ]
     },
     "metadata": {
      "needs_background": "light"
     },
     "output_type": "display_data"
    }
   ],
   "source": [
    "fig, ax = plt.subplots(1, 2, figsize=(15, 4))\n",
    "\n",
    "history_df = pd.DataFrame(history.history)\n",
    "history_df[['loss', 'val_loss']].plot(kind='line', ax=ax[0])\n",
    "history_df[['acc', 'val_acc']].plot(kind='line', ax=ax[1]);"
   ]
  },
  {
   "cell_type": "markdown",
   "metadata": {},
   "source": [
    "Graph displaying loss and accuracy both in train and validation"
   ]
  },
  {
   "cell_type": "code",
   "execution_count": 29,
   "metadata": {},
   "outputs": [
    {
     "data": {
      "text/plain": [
       "array(['elefante_train', 'farfalla_train', 'mucca_train', 'pecora_train',\n",
       "       'scoiattolo_train'], dtype='<U16')"
      ]
     },
     "execution_count": 29,
     "metadata": {},
     "output_type": "execute_result"
    }
   ],
   "source": [
    "prediction_labels_train = np.argmax(model.predict(X_train_flattened), axis=1)\n",
    "prediction_labels_train = le.inverse_transform(prediction_labels_train)\n",
    "np.unique(prediction_labels_train)"
   ]
  },
  {
   "cell_type": "markdown",
   "metadata": {},
   "source": [
    "Checking if predictions on train set display all the classes, just for be sure is working"
   ]
  },
  {
   "cell_type": "markdown",
   "metadata": {},
   "source": [
    "# Predictions with MLP"
   ]
  },
  {
   "cell_type": "code",
   "execution_count": 39,
   "metadata": {},
   "outputs": [
    {
     "data": {
      "text/plain": [
       "array(['farfalla_train', 'mucca_train', 'scoiattolo_train'], dtype='<U16')"
      ]
     },
     "execution_count": 39,
     "metadata": {},
     "output_type": "execute_result"
    }
   ],
   "source": [
    "prediction_labels_test = np.argmax(model.predict(X_test_flattened), axis=1)\n",
    "prediction_labels_test = le.inverse_transform(prediction_labels_test)\n",
    "np.unique(prediction_labels_test)"
   ]
  },
  {
   "cell_type": "code",
   "execution_count": 42,
   "metadata": {},
   "outputs": [],
   "source": [
    "predictions = [x.split('_')[0] for x in prediction_labels_test]"
   ]
  },
  {
   "cell_type": "code",
   "execution_count": 44,
   "metadata": {},
   "outputs": [],
   "source": [
    "np.savetxt('/Users/danieljerman/Desktop/data/prediction_mlp.csv', predictions, delimiter=',', fmt='%s')"
   ]
  },
  {
   "cell_type": "markdown",
   "metadata": {},
   "source": [
    "# CNN"
   ]
  },
  {
   "cell_type": "markdown",
   "metadata": {},
   "source": [
    "Data"
   ]
  },
  {
   "cell_type": "code",
   "execution_count": 26,
   "metadata": {},
   "outputs": [
    {
     "name": "stdout",
     "output_type": "stream",
     "text": [
      "(8196, 128, 128, 3)\n",
      "(8196, 1)\n",
      "(910, 128, 128, 3)\n"
     ]
    }
   ],
   "source": [
    "print(X_train_set_norm.shape)\n",
    "print(y_train_set_transformed.shape)\n",
    "print(X_test_set_norm.shape)"
   ]
  },
  {
   "cell_type": "code",
   "execution_count": 27,
   "metadata": {},
   "outputs": [
    {
     "name": "stdout",
     "output_type": "stream",
     "text": [
      "Model: \"sequential_1\"\n",
      "_________________________________________________________________\n",
      "Layer (type)                 Output Shape              Param #   \n",
      "=================================================================\n",
      "conv2d (Conv2D)              (None, 126, 126, 16)      448       \n",
      "_________________________________________________________________\n",
      "max_pooling2d (MaxPooling2D) (None, 63, 63, 16)        0         \n",
      "_________________________________________________________________\n",
      "conv2d_1 (Conv2D)            (None, 61, 61, 32)        4640      \n",
      "_________________________________________________________________\n",
      "max_pooling2d_1 (MaxPooling2 (None, 30, 30, 32)        0         \n",
      "_________________________________________________________________\n",
      "flatten (Flatten)            (None, 28800)             0         \n",
      "_________________________________________________________________\n",
      "dense_3 (Dense)              (None, 256)               7373056   \n",
      "_________________________________________________________________\n",
      "dense_4 (Dense)              (None, 256)               65792     \n",
      "_________________________________________________________________\n",
      "dense_5 (Dense)              (None, 5)                 1285      \n",
      "=================================================================\n",
      "Total params: 7,445,221\n",
      "Trainable params: 7,445,221\n",
      "Non-trainable params: 0\n",
      "_________________________________________________________________\n"
     ]
    }
   ],
   "source": [
    "INPUT_SHAPE = (128, 128, 3)\n",
    "\n",
    "model = tf.keras.models.Sequential()\n",
    "# define conv-pool layers - set 1\n",
    "model.add(tf.keras.layers.Conv2D(filters=16, kernel_size=(3, 3), strides=(1, 1), \n",
    "                                activation='relu', padding='valid', input_shape=INPUT_SHAPE))\n",
    "model.add(tf.keras.layers.MaxPooling2D(pool_size=(2, 2)))\n",
    "# define conv-pool layers - set 2\n",
    "model.add(tf.keras.layers.Conv2D(filters=32, kernel_size=(3, 3), strides=(1, 1), \n",
    "                                activation='relu', padding='valid', input_shape=INPUT_SHAPE))\n",
    "model.add(tf.keras.layers.MaxPooling2D(pool_size=(2, 2)))\n",
    "\n",
    "# add flatten layer\n",
    "model.add(tf.keras.layers.Flatten())\n",
    "\n",
    "# add dense layers\n",
    "model.add(tf.keras.layers.Dense(256, activation='relu'))\n",
    "model.add(tf.keras.layers.Dense(256, activation='relu'))\n",
    "\n",
    "# add output layer\n",
    "model.add(tf.keras.layers.Dense(5, activation='softmax'))\n",
    "\n",
    "model.summary()"
   ]
  },
  {
   "cell_type": "code",
   "execution_count": 55,
   "metadata": {},
   "outputs": [],
   "source": [
    "model.compile(optimizer=tf.keras.optimizers.Adam(learning_rate=2e-5),\n",
    "              loss='sparse_categorical_crossentropy',\n",
    "              metrics=['accuracy'])"
   ]
  },
  {
   "cell_type": "code",
   "execution_count": 56,
   "metadata": {},
   "outputs": [
    {
     "data": {
      "image/png": "[encoded data removed]",
      "text/plain": [
       "<IPython.core.display.Image object>"
      ]
     },
     "execution_count": 56,
     "metadata": {},
     "output_type": "execute_result"
    }
   ],
   "source": [
    "plot_model(model)"
   ]
  },
  {
   "cell_type": "markdown",
   "metadata": {},
   "source": [
    "Layers early in the network architecture learn fewer convolutional filters while layers deeper in the network will learn more filters. That's why I chose 2 Conv2D layers, the first with 16 filters and the next one with 32. The Max pooling layer is used to reduce the spatial dimensions of the output volume. \n",
    "\n",
    "The kernel_size used was a 3x3 as it is common for images of the shape we are using.\n",
    "\n",
    "The strides parameter was set as the default (1, 1).\n",
    "\n",
    "With the valid option in the padding parameter the input volume is not zero-padded and the spatial dimensions are allowed to reduce via the natural application of convolution.\n",
    "\n",
    "After convolutions and polling layers, I add a Flatten layer to be the step befor th dense layers for starting the classification process.\n",
    "\n",
    "As in the MLP NN, the activation functions in the convolutional and hidden layers are Relu, and the activation function iun the output layers is SoftMax."
   ]
  },
  {
   "cell_type": "code",
   "execution_count": 58,
   "metadata": {},
   "outputs": [
    {
     "name": "stdout",
     "output_type": "stream",
     "text": [
      "Train on 6556 samples, validate on 1640 samples\n",
      "Epoch 1/100\n",
      "6556/6556 [==============================] - 38s 6ms/sample - loss: 1.5301 - acc: 0.3344 - val_loss: 1.4585 - val_acc: 0.3774\n",
      "Epoch 2/100\n",
      "6556/6556 [==============================] - 24s 4ms/sample - loss: 1.3965 - acc: 0.4309 - val_loss: 1.3489 - val_acc: 0.4780\n",
      "Epoch 3/100\n",
      "6556/6556 [==============================] - 28s 4ms/sample - loss: 1.2811 - acc: 0.4977 - val_loss: 1.2531 - val_acc: 0.5268\n",
      "Epoch 4/100\n",
      "6556/6556 [==============================] - 24s 4ms/sample - loss: 1.1857 - acc: 0.5395 - val_loss: 1.1725 - val_acc: 0.5409\n",
      "Epoch 5/100\n",
      "6556/6556 [==============================] - 25s 4ms/sample - loss: 1.1168 - acc: 0.5636 - val_loss: 1.1066 - val_acc: 0.5823\n",
      "Epoch 6/100\n",
      "6556/6556 [==============================] - 24s 4ms/sample - loss: 1.0679 - acc: 0.5857 - val_loss: 1.0942 - val_acc: 0.5799\n",
      "Epoch 7/100\n",
      "6556/6556 [==============================] - 24s 4ms/sample - loss: 1.0272 - acc: 0.6007 - val_loss: 1.0417 - val_acc: 0.6012\n",
      "Epoch 8/100\n",
      "6556/6556 [==============================] - 24s 4ms/sample - loss: 0.9942 - acc: 0.6138 - val_loss: 1.0294 - val_acc: 0.5976\n",
      "Epoch 9/100\n",
      "6556/6556 [==============================] - 24s 4ms/sample - loss: 0.9638 - acc: 0.6316 - val_loss: 1.0123 - val_acc: 0.6122\n",
      "Epoch 10/100\n",
      "6556/6556 [==============================] - 24s 4ms/sample - loss: 0.9374 - acc: 0.6432 - val_loss: 0.9947 - val_acc: 0.6146\n",
      "Epoch 11/100\n",
      "6556/6556 [==============================] - 24s 4ms/sample - loss: 0.9147 - acc: 0.6571 - val_loss: 0.9802 - val_acc: 0.6232\n",
      "Epoch 12/100\n",
      "6556/6556 [==============================] - 24s 4ms/sample - loss: 0.8938 - acc: 0.6649 - val_loss: 0.9645 - val_acc: 0.6323\n",
      "Epoch 13/100\n",
      "6556/6556 [==============================] - 29s 4ms/sample - loss: 0.8744 - acc: 0.6736 - val_loss: 0.9527 - val_acc: 0.6366\n",
      "Epoch 14/100\n",
      "6556/6556 [==============================] - 24s 4ms/sample - loss: 0.8536 - acc: 0.6841 - val_loss: 0.9579 - val_acc: 0.6366\n",
      "Epoch 15/100\n",
      "6556/6556 [==============================] - 26s 4ms/sample - loss: 0.8374 - acc: 0.6922 - val_loss: 0.9419 - val_acc: 0.6409\n",
      "Epoch 16/100\n",
      "6556/6556 [==============================] - 24s 4ms/sample - loss: 0.8165 - acc: 0.7044 - val_loss: 0.9178 - val_acc: 0.6561\n",
      "Epoch 17/100\n",
      "6556/6556 [==============================] - 25s 4ms/sample - loss: 0.8001 - acc: 0.7138 - val_loss: 0.9117 - val_acc: 0.6628\n",
      "Epoch 18/100\n",
      "6556/6556 [==============================] - 28s 4ms/sample - loss: 0.7833 - acc: 0.7177 - val_loss: 0.9379 - val_acc: 0.6463\n",
      "Epoch 19/100\n",
      "6556/6556 [==============================] - 33s 5ms/sample - loss: 0.7738 - acc: 0.7177 - val_loss: 0.9021 - val_acc: 0.6652\n",
      "Epoch 20/100\n",
      "6556/6556 [==============================] - 26s 4ms/sample - loss: 0.7520 - acc: 0.7286 - val_loss: 0.8895 - val_acc: 0.6738\n",
      "Epoch 21/100\n",
      "6556/6556 [==============================] - 26s 4ms/sample - loss: 0.7302 - acc: 0.7431 - val_loss: 0.8735 - val_acc: 0.6805\n",
      "Epoch 22/100\n",
      "6556/6556 [==============================] - 26s 4ms/sample - loss: 0.7148 - acc: 0.7489 - val_loss: 0.8727 - val_acc: 0.6835\n",
      "Epoch 23/100\n",
      "6556/6556 [==============================] - 25s 4ms/sample - loss: 0.6988 - acc: 0.7582 - val_loss: 0.8745 - val_acc: 0.6762\n",
      "Epoch 24/100\n",
      "6556/6556 [==============================] - 26s 4ms/sample - loss: 0.6852 - acc: 0.7611 - val_loss: 0.8666 - val_acc: 0.6799\n",
      "Epoch 25/100\n",
      "6556/6556 [==============================] - 26s 4ms/sample - loss: 0.6741 - acc: 0.7715 - val_loss: 0.8670 - val_acc: 0.6768\n",
      "Epoch 26/100\n",
      "6556/6556 [==============================] - 27s 4ms/sample - loss: 0.6552 - acc: 0.7743 - val_loss: 0.8624 - val_acc: 0.6774\n",
      "Epoch 27/100\n",
      "6556/6556 [==============================] - 27s 4ms/sample - loss: 0.6409 - acc: 0.7845 - val_loss: 0.8404 - val_acc: 0.7030\n",
      "Epoch 28/100\n",
      "6556/6556 [==============================] - 26s 4ms/sample - loss: 0.6315 - acc: 0.7865 - val_loss: 0.8448 - val_acc: 0.6909\n",
      "Epoch 29/100\n",
      "6556/6556 [==============================] - 26s 4ms/sample - loss: 0.6128 - acc: 0.7959 - val_loss: 0.8301 - val_acc: 0.6951\n",
      "Epoch 30/100\n",
      "6556/6556 [==============================] - 26s 4ms/sample - loss: 0.6026 - acc: 0.8025 - val_loss: 0.8324 - val_acc: 0.6915\n",
      "Epoch 31/100\n",
      "6556/6556 [==============================] - 25s 4ms/sample - loss: 0.5825 - acc: 0.8115 - val_loss: 0.8282 - val_acc: 0.6927\n",
      "Epoch 32/100\n",
      "6556/6556 [==============================] - 25s 4ms/sample - loss: 0.5740 - acc: 0.8136 - val_loss: 0.8314 - val_acc: 0.6921\n",
      "Epoch 33/100\n",
      "6556/6556 [==============================] - 25s 4ms/sample - loss: 0.5696 - acc: 0.8125 - val_loss: 0.8173 - val_acc: 0.7012\n",
      "Epoch 34/100\n",
      "6556/6556 [==============================] - 25s 4ms/sample - loss: 0.5470 - acc: 0.8296 - val_loss: 0.8089 - val_acc: 0.7061\n",
      "Epoch 35/100\n",
      "6556/6556 [==============================] - 25s 4ms/sample - loss: 0.5338 - acc: 0.8327 - val_loss: 0.8134 - val_acc: 0.6988\n",
      "Epoch 36/100\n",
      "6556/6556 [==============================] - 25s 4ms/sample - loss: 0.5311 - acc: 0.8316 - val_loss: 0.8000 - val_acc: 0.7122\n",
      "Epoch 37/100\n",
      "6556/6556 [==============================] - 26s 4ms/sample - loss: 0.5109 - acc: 0.8438 - val_loss: 0.8176 - val_acc: 0.6957\n",
      "Epoch 38/100\n",
      "6556/6556 [==============================] - 25s 4ms/sample - loss: 0.5099 - acc: 0.8385 - val_loss: 0.8154 - val_acc: 0.6994\n",
      "Epoch 39/100\n",
      "6556/6556 [==============================] - 25s 4ms/sample - loss: 0.4980 - acc: 0.8443 - val_loss: 0.8146 - val_acc: 0.7061\n",
      "Epoch 40/100\n",
      "6556/6556 [==============================] - 28s 4ms/sample - loss: 0.4866 - acc: 0.8472 - val_loss: 0.7965 - val_acc: 0.7098\n",
      "Epoch 41/100\n",
      "6556/6556 [==============================] - 26s 4ms/sample - loss: 0.4786 - acc: 0.8562 - val_loss: 0.8010 - val_acc: 0.7128\n",
      "Epoch 42/100\n",
      "6556/6556 [==============================] - 25s 4ms/sample - loss: 0.4603 - acc: 0.8644 - val_loss: 0.7878 - val_acc: 0.7110\n",
      "Epoch 43/100\n",
      "6556/6556 [==============================] - 26s 4ms/sample - loss: 0.4467 - acc: 0.8707 - val_loss: 0.7881 - val_acc: 0.7171\n",
      "Epoch 44/100\n",
      "6556/6556 [==============================] - 26s 4ms/sample - loss: 0.4405 - acc: 0.8742 - val_loss: 0.7922 - val_acc: 0.7159\n",
      "Epoch 45/100\n",
      "6556/6556 [==============================] - 26s 4ms/sample - loss: 0.4356 - acc: 0.8749 - val_loss: 0.7830 - val_acc: 0.7226\n",
      "Epoch 46/100\n",
      "6556/6556 [==============================] - 29s 4ms/sample - loss: 0.4233 - acc: 0.8771 - val_loss: 0.7999 - val_acc: 0.7085\n",
      "Epoch 47/100\n",
      "6556/6556 [==============================] - 26s 4ms/sample - loss: 0.4188 - acc: 0.8758 - val_loss: 0.7816 - val_acc: 0.7134\n",
      "Epoch 48/100\n",
      "6556/6556 [==============================] - 24s 4ms/sample - loss: 0.4090 - acc: 0.8786 - val_loss: 0.7837 - val_acc: 0.7220\n",
      "Epoch 49/100\n",
      "6556/6556 [==============================] - 24s 4ms/sample - loss: 0.3946 - acc: 0.8926 - val_loss: 0.7874 - val_acc: 0.7250\n",
      "Epoch 50/100\n",
      "6556/6556 [==============================] - 24s 4ms/sample - loss: 0.3884 - acc: 0.8949 - val_loss: 0.8005 - val_acc: 0.7201\n",
      "Epoch 51/100\n",
      "6528/6556 [============================>.] - ETA: 0s - loss: 0.3790 - acc: 0.8958Restoring model weights from the end of the best epoch.\n",
      "6556/6556 [==============================] - 24s 4ms/sample - loss: 0.3793 - acc: 0.8955 - val_loss: 0.7891 - val_acc: 0.7165\n",
      "Epoch 00051: early stopping\n"
     ]
    }
   ],
   "source": [
    "es_callback = tf.keras.callbacks.EarlyStopping(monitor='val_loss', patience=4, \n",
    "                                               restore_best_weights=True,\n",
    "                                               verbose=1)\n",
    "\n",
    "history = model.fit(X_train_set_norm, \n",
    "                    y_train_set_transformed, \n",
    "                    batch_size = 128, \n",
    "                    callbacks=[es_callback],\n",
    "                    validation_split=0.2, \n",
    "                    epochs=100, \n",
    "                    verbose = 1)"
   ]
  },
  {
   "cell_type": "code",
   "execution_count": 59,
   "metadata": {
    "scrolled": true
   },
   "outputs": [
    {
     "data": {
      "image/png": "[encoded data removed]",
      "text/plain": [
       "<Figure size 1080x288 with 2 Axes>"
      ]
     },
     "metadata": {
      "needs_background": "light"
     },
     "output_type": "display_data"
    }
   ],
   "source": [
    "fig, ax = plt.subplots(1, 2, figsize=(15, 4))\n",
    "\n",
    "history_df = pd.DataFrame(history.history)\n",
    "history_df[['loss', 'val_loss']].plot(kind='line', ax=ax[0])\n",
    "history_df[['acc', 'val_acc']].plot(kind='line', ax=ax[1]);"
   ]
  },
  {
   "cell_type": "markdown",
   "metadata": {},
   "source": [
    "Clearly, the NN overfitted to the training set, as the loss in training get lower the loss in validation diminished got flattened. Same happens with accuracy."
   ]
  },
  {
   "cell_type": "markdown",
   "metadata": {},
   "source": [
    "# Optimization"
   ]
  },
  {
   "cell_type": "markdown",
   "metadata": {},
   "source": [
    "## CNN Adding L2 regularization and a Dropout Layer"
   ]
  },
  {
   "cell_type": "code",
   "execution_count": 28,
   "metadata": {},
   "outputs": [],
   "source": [
    "import datetime\n",
    "%load_ext tensorboard\n",
    "log_dir = '/Users/danieljerman/Desktop/data/tensorboard' + datetime.datetime.now().strftime(\"%Y%m%d-%H%M%S\")\n",
    "tensorboard_callback = keras.callbacks.TensorBoard(log_dir=log_dir, histogram_freq=1)"
   ]
  },
  {
   "cell_type": "code",
   "execution_count": 28,
   "metadata": {},
   "outputs": [
    {
     "name": "stdout",
     "output_type": "stream",
     "text": [
      "(8196, 128, 128, 3)\n",
      "(8196, 1)\n",
      "(910, 128, 128, 3)\n"
     ]
    }
   ],
   "source": [
    "print(X_train_set_norm.shape)\n",
    "print(y_train_set_transformed.shape)\n",
    "print(X_test_set_norm.shape)"
   ]
  },
  {
   "cell_type": "code",
   "execution_count": 31,
   "metadata": {},
   "outputs": [
    {
     "name": "stdout",
     "output_type": "stream",
     "text": [
      "Model: \"sequential_1\"\n",
      "_________________________________________________________________\n",
      "Layer (type)                 Output Shape              Param #   \n",
      "=================================================================\n",
      "conv2d (Conv2D)              (None, 126, 126, 16)      448       \n",
      "_________________________________________________________________\n",
      "max_pooling2d (MaxPooling2D) (None, 63, 63, 16)        0         \n",
      "_________________________________________________________________\n",
      "conv2d_1 (Conv2D)            (None, 61, 61, 32)        4640      \n",
      "_________________________________________________________________\n",
      "max_pooling2d_1 (MaxPooling2 (None, 30, 30, 32)        0         \n",
      "_________________________________________________________________\n",
      "flatten (Flatten)            (None, 28800)             0         \n",
      "_________________________________________________________________\n",
      "dropout (Dropout)            (None, 28800)             0         \n",
      "_________________________________________________________________\n",
      "dense_3 (Dense)              (None, 256)               7373056   \n",
      "_________________________________________________________________\n",
      "dropout_1 (Dropout)          (None, 256)               0         \n",
      "_________________________________________________________________\n",
      "dense_4 (Dense)              (None, 256)               65792     \n",
      "_________________________________________________________________\n",
      "dropout_2 (Dropout)          (None, 256)               0         \n",
      "_________________________________________________________________\n",
      "dense_5 (Dense)              (None, 5)                 1285      \n",
      "=================================================================\n",
      "Total params: 7,445,221\n",
      "Trainable params: 7,445,221\n",
      "Non-trainable params: 0\n",
      "_________________________________________________________________\n"
     ]
    }
   ],
   "source": [
    "INPUT_SHAPE = (128, 128, 3)\n",
    "\n",
    "model = tf.keras.models.Sequential()\n",
    "# define conv-pool layers - set 1\n",
    "model.add(tf.keras.layers.Conv2D(filters=16, kernel_size=(3, 3), strides=(1, 1), \n",
    "                                activation='relu', padding='valid', input_shape=INPUT_SHAPE))\n",
    "model.add(tf.keras.layers.MaxPooling2D(pool_size=(2, 2)))\n",
    "# define conv-pool layers - set 2\n",
    "model.add(tf.keras.layers.Conv2D(filters=32, kernel_size=(3, 3), strides=(1, 1), \n",
    "                                activation='relu', padding='valid', input_shape=INPUT_SHAPE))\n",
    "model.add(tf.keras.layers.MaxPooling2D(pool_size=(2, 2)))\n",
    "\n",
    "# add flatten layer\n",
    "model.add(tf.keras.layers.Flatten())\n",
    "\n",
    "# add dense layers with some dropout\n",
    "model.add(tf.keras.layers.Dropout(rate=0.2))\n",
    "model.add(tf.keras.layers.Dense(256, activation='relu', kernel_regularizer = 'l2'))\n",
    "model.add(tf.keras.layers.Dropout(rate=0.2))\n",
    "model.add(tf.keras.layers.Dense(256, activation='relu', kernel_regularizer = 'l2'))\n",
    "model.add(tf.keras.layers.Dropout(rate=0.2))\n",
    "# add output layer\n",
    "model.add(tf.keras.layers.Dense(5, activation='softmax'))\n",
    "\n",
    "model.summary()"
   ]
  },
  {
   "cell_type": "code",
   "execution_count": 32,
   "metadata": {},
   "outputs": [],
   "source": [
    "model.compile(optimizer=tf.keras.optimizers.Adam(learning_rate=2e-5),\n",
    "              loss='sparse_categorical_crossentropy',\n",
    "              metrics=['accuracy'])"
   ]
  },
  {
   "cell_type": "code",
   "execution_count": 33,
   "metadata": {},
   "outputs": [
    {
     "data": {
      "image/png": "[encoded data removed]",
      "text/plain": [
       "<IPython.core.display.Image object>"
      ]
     },
     "execution_count": 33,
     "metadata": {},
     "output_type": "execute_result"
    }
   ],
   "source": [
    "plot_model(model)"
   ]
  },
  {
   "cell_type": "code",
   "execution_count": 34,
   "metadata": {
    "scrolled": true
   },
   "outputs": [
    {
     "name": "stdout",
     "output_type": "stream",
     "text": [
      "Train on 6556 samples, validate on 1640 samples\n",
      "Epoch 1/100\n",
      "6556/6556 [==============================] - 89s 14ms/sample - loss: 8.8190 - acc: 0.2701 - val_loss: 8.3695 - val_acc: 0.3622\n",
      "Epoch 2/100\n",
      "6556/6556 [==============================] - 63s 10ms/sample - loss: 8.0202 - acc: 0.3455 - val_loss: 7.6294 - val_acc: 0.4055\n",
      "Epoch 3/100\n",
      "6556/6556 [==============================] - 60s 9ms/sample - loss: 7.3357 - acc: 0.3922 - val_loss: 7.0014 - val_acc: 0.4573\n",
      "Epoch 4/100\n",
      "6556/6556 [==============================] - 60s 9ms/sample - loss: 6.7633 - acc: 0.4397 - val_loss: 6.4782 - val_acc: 0.4799\n",
      "Epoch 5/100\n",
      "6556/6556 [==============================] - 60s 9ms/sample - loss: 6.2782 - acc: 0.4655 - val_loss: 6.0270 - val_acc: 0.5244\n",
      "Epoch 6/100\n",
      "6556/6556 [==============================] - 66s 10ms/sample - loss: 5.8685 - acc: 0.4979 - val_loss: 5.6478 - val_acc: 0.5317\n",
      "Epoch 7/100\n",
      "6556/6556 [==============================] - 61s 9ms/sample - loss: 5.5158 - acc: 0.5265 - val_loss: 5.3308 - val_acc: 0.5659\n",
      "Epoch 8/100\n",
      "6556/6556 [==============================] - 64s 10ms/sample - loss: 5.2299 - acc: 0.5357 - val_loss: 5.0564 - val_acc: 0.5835\n",
      "Epoch 9/100\n",
      "6556/6556 [==============================] - 61s 9ms/sample - loss: 4.9729 - acc: 0.5593 - val_loss: 4.8259 - val_acc: 0.5848\n",
      "Epoch 10/100\n",
      "6556/6556 [==============================] - 61s 9ms/sample - loss: 4.7506 - acc: 0.5696 - val_loss: 4.6479 - val_acc: 0.5890\n",
      "Epoch 11/100\n",
      "6556/6556 [==============================] - 61s 9ms/sample - loss: 4.5584 - acc: 0.5840 - val_loss: 4.4416 - val_acc: 0.6152\n",
      "Epoch 12/100\n",
      "6556/6556 [==============================] - 61s 9ms/sample - loss: 4.3861 - acc: 0.5958 - val_loss: 4.2931 - val_acc: 0.6159\n",
      "Epoch 13/100\n",
      "6556/6556 [==============================] - 61s 9ms/sample - loss: 4.2328 - acc: 0.6045 - val_loss: 4.1435 - val_acc: 0.6280\n",
      "Epoch 14/100\n",
      "6556/6556 [==============================] - 61s 9ms/sample - loss: 4.0977 - acc: 0.6085 - val_loss: 4.0351 - val_acc: 0.6159\n",
      "Epoch 15/100\n",
      "6556/6556 [==============================] - 61s 9ms/sample - loss: 3.9750 - acc: 0.6188 - val_loss: 3.8978 - val_acc: 0.6451\n",
      "Epoch 16/100\n",
      "6556/6556 [==============================] - 61s 9ms/sample - loss: 3.8534 - acc: 0.6220 - val_loss: 3.8054 - val_acc: 0.6287\n",
      "Epoch 17/100\n",
      "6556/6556 [==============================] - 61s 9ms/sample - loss: 3.7401 - acc: 0.6330 - val_loss: 3.6888 - val_acc: 0.6573\n",
      "Epoch 18/100\n",
      "6556/6556 [==============================] - 61s 9ms/sample - loss: 3.6441 - acc: 0.6449 - val_loss: 3.6135 - val_acc: 0.6366\n",
      "Epoch 19/100\n",
      "6556/6556 [==============================] - 62s 9ms/sample - loss: 3.5601 - acc: 0.6469 - val_loss: 3.5316 - val_acc: 0.6427\n",
      "Epoch 20/100\n",
      "6556/6556 [==============================] - 61s 9ms/sample - loss: 3.4665 - acc: 0.6512 - val_loss: 3.4351 - val_acc: 0.6610\n",
      "Epoch 21/100\n",
      "6556/6556 [==============================] - 61s 9ms/sample - loss: 3.3915 - acc: 0.6534 - val_loss: 3.3744 - val_acc: 0.6457\n",
      "Epoch 22/100\n",
      "6556/6556 [==============================] - 62s 9ms/sample - loss: 3.3145 - acc: 0.6618 - val_loss: 3.2955 - val_acc: 0.6591\n",
      "Epoch 23/100\n",
      "6556/6556 [==============================] - 61s 9ms/sample - loss: 3.2411 - acc: 0.6632 - val_loss: 3.2371 - val_acc: 0.6683\n",
      "Epoch 24/100\n",
      "6556/6556 [==============================] - 61s 9ms/sample - loss: 3.1812 - acc: 0.6586 - val_loss: 3.1789 - val_acc: 0.6567\n",
      "Epoch 25/100\n",
      "6556/6556 [==============================] - 62s 9ms/sample - loss: 3.1035 - acc: 0.6750 - val_loss: 3.1107 - val_acc: 0.6646\n",
      "Epoch 26/100\n",
      "6556/6556 [==============================] - 63s 10ms/sample - loss: 3.0483 - acc: 0.6792 - val_loss: 3.0486 - val_acc: 0.6671\n",
      "Epoch 27/100\n",
      "6556/6556 [==============================] - 62s 9ms/sample - loss: 2.9854 - acc: 0.6882 - val_loss: 2.9952 - val_acc: 0.6762\n",
      "Epoch 28/100\n",
      "6556/6556 [==============================] - 63s 10ms/sample - loss: 2.9320 - acc: 0.6748 - val_loss: 2.9462 - val_acc: 0.6689\n",
      "Epoch 29/100\n",
      "6556/6556 [==============================] - 62s 9ms/sample - loss: 2.8742 - acc: 0.6888 - val_loss: 2.9025 - val_acc: 0.6677\n",
      "Epoch 30/100\n",
      "6556/6556 [==============================] - 62s 9ms/sample - loss: 2.8195 - acc: 0.6917 - val_loss: 2.8413 - val_acc: 0.6762\n",
      "Epoch 31/100\n",
      "6556/6556 [==============================] - 62s 9ms/sample - loss: 2.7627 - acc: 0.6991 - val_loss: 2.7956 - val_acc: 0.6780\n",
      "Epoch 32/100\n",
      "6556/6556 [==============================] - 62s 9ms/sample - loss: 2.7177 - acc: 0.6984 - val_loss: 2.7491 - val_acc: 0.6805\n",
      "Epoch 33/100\n",
      "6556/6556 [==============================] - 62s 9ms/sample - loss: 2.6771 - acc: 0.6936 - val_loss: 2.7131 - val_acc: 0.6835\n",
      "Epoch 34/100\n",
      "6556/6556 [==============================] - 62s 9ms/sample - loss: 2.6244 - acc: 0.7030 - val_loss: 2.6674 - val_acc: 0.6854\n",
      "Epoch 35/100\n",
      "6556/6556 [==============================] - 62s 9ms/sample - loss: 2.5788 - acc: 0.7044 - val_loss: 2.6206 - val_acc: 0.6823\n",
      "Epoch 36/100\n",
      "6556/6556 [==============================] - 64s 10ms/sample - loss: 2.5339 - acc: 0.7077 - val_loss: 2.6048 - val_acc: 0.6689\n",
      "Epoch 37/100\n",
      "6556/6556 [==============================] - 62s 9ms/sample - loss: 2.4925 - acc: 0.7157 - val_loss: 2.5538 - val_acc: 0.6750\n",
      "Epoch 38/100\n",
      "6556/6556 [==============================] - 62s 9ms/sample - loss: 2.4557 - acc: 0.7070 - val_loss: 2.5297 - val_acc: 0.6689\n",
      "Epoch 39/100\n",
      "6556/6556 [==============================] - 62s 9ms/sample - loss: 2.4120 - acc: 0.7122 - val_loss: 2.4719 - val_acc: 0.6854\n",
      "Epoch 40/100\n",
      "6556/6556 [==============================] - 62s 9ms/sample - loss: 2.3734 - acc: 0.7169 - val_loss: 2.4338 - val_acc: 0.6896\n",
      "Epoch 41/100\n",
      "6556/6556 [==============================] - 62s 9ms/sample - loss: 2.3368 - acc: 0.7206 - val_loss: 2.4077 - val_acc: 0.6811\n",
      "Epoch 42/100\n",
      "6556/6556 [==============================] - 62s 10ms/sample - loss: 2.2929 - acc: 0.7297 - val_loss: 2.3765 - val_acc: 0.6811\n",
      "Epoch 43/100\n",
      "6556/6556 [==============================] - 64s 10ms/sample - loss: 2.2628 - acc: 0.7290 - val_loss: 2.3552 - val_acc: 0.6768\n",
      "Epoch 44/100\n",
      "6556/6556 [==============================] - 62s 9ms/sample - loss: 2.2236 - acc: 0.7320 - val_loss: 2.3064 - val_acc: 0.6915\n",
      "Epoch 45/100\n",
      "6556/6556 [==============================] - 62s 9ms/sample - loss: 2.1925 - acc: 0.7329 - val_loss: 2.2803 - val_acc: 0.6902\n",
      "Epoch 46/100\n",
      "6556/6556 [==============================] - 62s 9ms/sample - loss: 2.1578 - acc: 0.7379 - val_loss: 2.2494 - val_acc: 0.6951\n",
      "Epoch 47/100\n",
      "6556/6556 [==============================] - 62s 9ms/sample - loss: 2.1323 - acc: 0.7335 - val_loss: 2.2324 - val_acc: 0.6939\n",
      "Epoch 48/100\n",
      "6556/6556 [==============================] - 62s 9ms/sample - loss: 2.1074 - acc: 0.7315 - val_loss: 2.2108 - val_acc: 0.6835\n",
      "Epoch 49/100\n",
      "6556/6556 [==============================] - 62s 9ms/sample - loss: 2.0692 - acc: 0.7419 - val_loss: 2.1731 - val_acc: 0.6927\n",
      "Epoch 50/100\n",
      "6556/6556 [==============================] - 62s 9ms/sample - loss: 2.0473 - acc: 0.7349 - val_loss: 2.1599 - val_acc: 0.6811\n",
      "Epoch 51/100\n",
      "6556/6556 [==============================] - 62s 9ms/sample - loss: 2.0010 - acc: 0.7500 - val_loss: 2.1221 - val_acc: 0.6927\n",
      "Epoch 52/100\n",
      "6556/6556 [==============================] - 62s 9ms/sample - loss: 1.9803 - acc: 0.7500 - val_loss: 2.1057 - val_acc: 0.6860\n",
      "Epoch 53/100\n",
      "6556/6556 [==============================] - 62s 9ms/sample - loss: 1.9494 - acc: 0.7567 - val_loss: 2.0684 - val_acc: 0.6866\n",
      "Epoch 54/100\n",
      "6556/6556 [==============================] - 62s 9ms/sample - loss: 1.9300 - acc: 0.7463 - val_loss: 2.0597 - val_acc: 0.6902\n",
      "Epoch 55/100\n",
      "6556/6556 [==============================] - 63s 10ms/sample - loss: 1.8953 - acc: 0.7564 - val_loss: 2.0269 - val_acc: 0.6976\n",
      "Epoch 56/100\n",
      "6556/6556 [==============================] - 62s 10ms/sample - loss: 1.8717 - acc: 0.7524 - val_loss: 1.9961 - val_acc: 0.6982\n",
      "Epoch 57/100\n",
      "6556/6556 [==============================] - 62s 9ms/sample - loss: 1.8551 - acc: 0.7575 - val_loss: 1.9841 - val_acc: 0.6927\n",
      "Epoch 58/100\n",
      "6556/6556 [==============================] - 62s 9ms/sample - loss: 1.8148 - acc: 0.7648 - val_loss: 1.9643 - val_acc: 0.6890\n",
      "Epoch 59/100\n",
      "6556/6556 [==============================] - 62s 10ms/sample - loss: 1.7955 - acc: 0.7659 - val_loss: 1.9341 - val_acc: 0.6994\n",
      "Epoch 60/100\n",
      "6556/6556 [==============================] - 62s 10ms/sample - loss: 1.7792 - acc: 0.7595 - val_loss: 1.9284 - val_acc: 0.6915\n",
      "Epoch 61/100\n",
      "6556/6556 [==============================] - 62s 9ms/sample - loss: 1.7508 - acc: 0.7689 - val_loss: 1.9001 - val_acc: 0.7000\n",
      "Epoch 62/100\n",
      "6556/6556 [==============================] - 62s 9ms/sample - loss: 1.7341 - acc: 0.7651 - val_loss: 1.8801 - val_acc: 0.6994\n",
      "Epoch 63/100\n",
      "6556/6556 [==============================] - 62s 9ms/sample - loss: 1.7029 - acc: 0.7714 - val_loss: 1.8628 - val_acc: 0.6963\n",
      "Epoch 64/100\n",
      "6556/6556 [==============================] - 62s 9ms/sample - loss: 1.6827 - acc: 0.7797 - val_loss: 1.8600 - val_acc: 0.7018\n",
      "Epoch 65/100\n",
      "6556/6556 [==============================] - 62s 10ms/sample - loss: 1.6709 - acc: 0.7750 - val_loss: 1.8188 - val_acc: 0.7024\n",
      "Epoch 66/100\n",
      "6556/6556 [==============================] - 63s 10ms/sample - loss: 1.6453 - acc: 0.7770 - val_loss: 1.8096 - val_acc: 0.7012\n",
      "Epoch 67/100\n",
      "6556/6556 [==============================] - 62s 9ms/sample - loss: 1.6292 - acc: 0.7755 - val_loss: 1.7894 - val_acc: 0.7037\n",
      "Epoch 68/100\n",
      "6556/6556 [==============================] - 62s 10ms/sample - loss: 1.5987 - acc: 0.7858 - val_loss: 1.7826 - val_acc: 0.6939\n",
      "Epoch 69/100\n",
      "6556/6556 [==============================] - 62s 9ms/sample - loss: 1.5819 - acc: 0.7813 - val_loss: 1.7698 - val_acc: 0.6994\n",
      "Epoch 70/100\n",
      "6556/6556 [==============================] - 62s 9ms/sample - loss: 1.5733 - acc: 0.7802 - val_loss: 1.7475 - val_acc: 0.7055\n",
      "Epoch 71/100\n",
      "6556/6556 [==============================] - 62s 9ms/sample - loss: 1.5493 - acc: 0.7881 - val_loss: 1.7307 - val_acc: 0.6982\n",
      "Epoch 72/100\n",
      "6556/6556 [==============================] - 62s 9ms/sample - loss: 1.5312 - acc: 0.7884 - val_loss: 1.7477 - val_acc: 0.6854\n",
      "Epoch 73/100\n",
      "6556/6556 [==============================] - 62s 9ms/sample - loss: 1.5073 - acc: 0.7924 - val_loss: 1.6965 - val_acc: 0.7128\n",
      "Epoch 74/100\n",
      "6556/6556 [==============================] - 62s 9ms/sample - loss: 1.4952 - acc: 0.7862 - val_loss: 1.7093 - val_acc: 0.6829\n",
      "Epoch 75/100\n",
      "6556/6556 [==============================] - 62s 10ms/sample - loss: 1.4829 - acc: 0.7932 - val_loss: 1.6918 - val_acc: 0.7000\n",
      "Epoch 76/100\n",
      "6556/6556 [==============================] - 62s 9ms/sample - loss: 1.4629 - acc: 0.7933 - val_loss: 1.6911 - val_acc: 0.6835\n",
      "Epoch 77/100\n",
      "6556/6556 [==============================] - 62s 9ms/sample - loss: 1.4498 - acc: 0.7930 - val_loss: 1.6449 - val_acc: 0.7049\n",
      "Epoch 78/100\n",
      "6556/6556 [==============================] - 62s 9ms/sample - loss: 1.4219 - acc: 0.8064 - val_loss: 1.6428 - val_acc: 0.7018\n",
      "Epoch 79/100\n",
      "6556/6556 [==============================] - 62s 9ms/sample - loss: 1.4098 - acc: 0.7993 - val_loss: 1.6205 - val_acc: 0.7067\n",
      "Epoch 80/100\n",
      "6556/6556 [==============================] - 62s 9ms/sample - loss: 1.3999 - acc: 0.7988 - val_loss: 1.6184 - val_acc: 0.6951\n",
      "Epoch 81/100\n",
      "6556/6556 [==============================] - 62s 9ms/sample - loss: 1.3779 - acc: 0.8103 - val_loss: 1.5949 - val_acc: 0.7079\n",
      "Epoch 82/100\n",
      "6556/6556 [==============================] - 62s 9ms/sample - loss: 1.3687 - acc: 0.8022 - val_loss: 1.6025 - val_acc: 0.6963\n",
      "Epoch 83/100\n",
      "6556/6556 [==============================] - 62s 9ms/sample - loss: 1.3465 - acc: 0.8116 - val_loss: 1.5918 - val_acc: 0.6933\n",
      "Epoch 84/100\n",
      "6556/6556 [==============================] - 62s 9ms/sample - loss: 1.3488 - acc: 0.8083 - val_loss: 1.5659 - val_acc: 0.7067\n",
      "Epoch 85/100\n",
      "6556/6556 [==============================] - 62s 9ms/sample - loss: 1.3251 - acc: 0.8055 - val_loss: 1.5522 - val_acc: 0.7098\n",
      "Epoch 86/100\n",
      "6556/6556 [==============================] - 62s 9ms/sample - loss: 1.3098 - acc: 0.8148 - val_loss: 1.5483 - val_acc: 0.7073\n",
      "Epoch 87/100\n",
      "6556/6556 [==============================] - 62s 9ms/sample - loss: 1.2933 - acc: 0.8183 - val_loss: 1.5232 - val_acc: 0.7061\n",
      "Epoch 88/100\n",
      "6556/6556 [==============================] - 62s 10ms/sample - loss: 1.2836 - acc: 0.8170 - val_loss: 1.5445 - val_acc: 0.7006\n",
      "Epoch 89/100\n",
      "6556/6556 [==============================] - 62s 9ms/sample - loss: 1.2753 - acc: 0.8153 - val_loss: 1.5023 - val_acc: 0.7159\n",
      "Epoch 90/100\n",
      "6556/6556 [==============================] - 62s 9ms/sample - loss: 1.2650 - acc: 0.8202 - val_loss: 1.5318 - val_acc: 0.6921\n",
      "Epoch 91/100\n",
      "6556/6556 [==============================] - 62s 9ms/sample - loss: 1.2494 - acc: 0.8206 - val_loss: 1.5052 - val_acc: 0.7067\n",
      "Epoch 92/100\n",
      "6556/6556 [==============================] - 62s 10ms/sample - loss: 1.2292 - acc: 0.8250 - val_loss: 1.4933 - val_acc: 0.7061\n",
      "Epoch 93/100\n",
      "6556/6556 [==============================] - 63s 10ms/sample - loss: 1.2170 - acc: 0.8250 - val_loss: 1.4645 - val_acc: 0.7140\n",
      "Epoch 94/100\n",
      "6556/6556 [==============================] - 63s 10ms/sample - loss: 1.2016 - acc: 0.8339 - val_loss: 1.4688 - val_acc: 0.7061\n",
      "Epoch 95/100\n",
      "6556/6556 [==============================] - 62s 9ms/sample - loss: 1.1873 - acc: 0.8383 - val_loss: 1.4569 - val_acc: 0.7055\n",
      "Epoch 96/100\n",
      "6556/6556 [==============================] - 62s 9ms/sample - loss: 1.1850 - acc: 0.8296 - val_loss: 1.4685 - val_acc: 0.7049\n",
      "Epoch 97/100\n",
      "6556/6556 [==============================] - 62s 9ms/sample - loss: 1.1690 - acc: 0.8363 - val_loss: 1.4597 - val_acc: 0.7085\n",
      "Epoch 98/100\n",
      "6556/6556 [==============================] - 62s 9ms/sample - loss: 1.1530 - acc: 0.8348 - val_loss: 1.4352 - val_acc: 0.7134\n",
      "Epoch 99/100\n",
      "6556/6556 [==============================] - 62s 9ms/sample - loss: 1.1541 - acc: 0.8395 - val_loss: 1.4182 - val_acc: 0.7128\n",
      "Epoch 100/100\n",
      "6556/6556 [==============================] - 62s 9ms/sample - loss: 1.1397 - acc: 0.8385 - val_loss: 1.4172 - val_acc: 0.7140\n"
     ]
    }
   ],
   "source": [
    "es_callback = tf.keras.callbacks.EarlyStopping(monitor='val_loss', patience=4, \n",
    "                                               restore_best_weights=True,\n",
    "                                               verbose=1)\n",
    "\n",
    "history = model.fit(X_train_set_norm, \n",
    "                    y_train_set_transformed, \n",
    "                    batch_size = 128, \n",
    "                    callbacks=[tensorboard_callback, es_callback],\n",
    "                    validation_split=0.2, \n",
    "                    epochs=100, \n",
    "                    verbose = 1)"
   ]
  },
  {
   "cell_type": "markdown",
   "metadata": {},
   "source": [
    "As seen that acc of train and validation has some difference, we can see deduce that the model is overfitting de train, but less than the previous model without regularization. So, to solve that, I will try to add a little bit more of regularization, and while we get acc of 0.83 we still have some bias with the data so I will add one more layer too."
   ]
  },
  {
   "cell_type": "code",
   "execution_count": 35,
   "metadata": {},
   "outputs": [
    {
     "data": {
      "image/png": "[encoded data removed]",
      "text/plain": [
       "<Figure size 1080x288 with 2 Axes>"
      ]
     },
     "metadata": {
      "needs_background": "light"
     },
     "output_type": "display_data"
    }
   ],
   "source": [
    "fig, ax = plt.subplots(1, 2, figsize=(15, 4))\n",
    "\n",
    "history_df = pd.DataFrame(history.history)\n",
    "history_df[['loss', 'val_loss']].plot(kind='line', ax=ax[0])\n",
    "history_df[['acc', 'val_acc']].plot(kind='line', ax=ax[1]);"
   ]
  },
  {
   "cell_type": "code",
   "execution_count": 36,
   "metadata": {
    "scrolled": true
   },
   "outputs": [
    {
     "data": {
      "text/html": [
       "\n",
       "        <iframe\n",
       "            width=\"100%\"\n",
       "            height=\"800\"\n",
       "            src=\"http://localhost:6006\"\n",
       "            frameborder=\"0\"\n",
       "            allowfullscreen\n",
       "        ></iframe>\n",
       "        "
      ],
      "text/plain": [
       "<IPython.lib.display.IFrame at 0x7facaa6a85f8>"
      ]
     },
     "metadata": {},
     "output_type": "display_data"
    }
   ],
   "source": [
    "%tensorboard --logdir logs/fit"
   ]
  },
  {
   "cell_type": "markdown",
   "metadata": {},
   "source": [
    "As seen that acc of train and validation has some difference, we can see deduce that the model is overfitting de train, but less than the previous model without regularization. So, to solve that, I will try to add a little bit more of regularization, and while we get acc of 0.83 we still have some bias with the data so I will add one more layer too."
   ]
  },
  {
   "cell_type": "code",
   "execution_count": 29,
   "metadata": {
    "scrolled": true
   },
   "outputs": [
    {
     "name": "stdout",
     "output_type": "stream",
     "text": [
      "Train on 6556 samples, validate on 1640 samples\n",
      "Epoch 1/100\n",
      "6556/6556 [==============================] - 179s 27ms/sample - loss: 27.5541 - acc: 0.2230 - val_loss: 26.2215 - val_acc: 0.3268\n",
      "Epoch 2/100\n",
      "6556/6556 [==============================] - 159s 24ms/sample - loss: 25.1231 - acc: 0.2596 - val_loss: 23.9628 - val_acc: 0.3220\n",
      "Epoch 3/100\n",
      "6556/6556 [==============================] - 151s 23ms/sample - loss: 23.0371 - acc: 0.2971 - val_loss: 22.0451 - val_acc: 0.3384\n",
      "Epoch 4/100\n",
      "6556/6556 [==============================] - 154s 23ms/sample - loss: 21.2679 - acc: 0.3333 - val_loss: 20.4044 - val_acc: 0.3805\n",
      "Epoch 5/100\n",
      "6556/6556 [==============================] - 153s 23ms/sample - loss: 19.7677 - acc: 0.3650 - val_loss: 18.9970 - val_acc: 0.4445\n",
      "Epoch 6/100\n",
      "6556/6556 [==============================] - 152s 23ms/sample - loss: 18.4675 - acc: 0.4187 - val_loss: 17.8076 - val_acc: 0.4890\n",
      "Epoch 7/100\n",
      "6556/6556 [==============================] - 153s 23ms/sample - loss: 17.3636 - acc: 0.4462 - val_loss: 16.7688 - val_acc: 0.5293\n",
      "Epoch 8/100\n",
      "6556/6556 [==============================] - 155s 24ms/sample - loss: 16.4017 - acc: 0.4771 - val_loss: 15.8848 - val_acc: 0.5335\n",
      "Epoch 9/100\n",
      "6556/6556 [==============================] - 160s 24ms/sample - loss: 15.5610 - acc: 0.4893 - val_loss: 15.1008 - val_acc: 0.5530\n",
      "Epoch 10/100\n",
      "6556/6556 [==============================] - 157s 24ms/sample - loss: 14.8219 - acc: 0.5081 - val_loss: 14.3931 - val_acc: 0.5561\n",
      "Epoch 11/100\n",
      "6556/6556 [==============================] - 160s 24ms/sample - loss: 14.1366 - acc: 0.5323 - val_loss: 13.7585 - val_acc: 0.5671\n",
      "Epoch 12/100\n",
      "6556/6556 [==============================] - 153s 23ms/sample - loss: 13.5334 - acc: 0.5354 - val_loss: 13.1768 - val_acc: 0.5744\n",
      "Epoch 13/100\n",
      "6556/6556 [==============================] - 157s 24ms/sample - loss: 12.9671 - acc: 0.5458 - val_loss: 12.6478 - val_acc: 0.5780\n",
      "Epoch 14/100\n",
      "6556/6556 [==============================] - 156s 24ms/sample - loss: 12.4561 - acc: 0.5490 - val_loss: 12.1672 - val_acc: 0.5738\n",
      "Epoch 15/100\n",
      "6556/6556 [==============================] - 154s 23ms/sample - loss: 11.9771 - acc: 0.5647 - val_loss: 11.6999 - val_acc: 0.5909\n",
      "Epoch 16/100\n",
      "6556/6556 [==============================] - 156s 24ms/sample - loss: 11.5209 - acc: 0.5721 - val_loss: 11.2541 - val_acc: 0.5915\n",
      "Epoch 17/100\n",
      "6556/6556 [==============================] - 155s 24ms/sample - loss: 11.0902 - acc: 0.5822 - val_loss: 10.8480 - val_acc: 0.6073\n",
      "Epoch 18/100\n",
      "6556/6556 [==============================] - 156s 24ms/sample - loss: 10.6832 - acc: 0.5889 - val_loss: 10.4565 - val_acc: 0.6104\n",
      "Epoch 19/100\n",
      "6556/6556 [==============================] - 161s 25ms/sample - loss: 10.3045 - acc: 0.5897 - val_loss: 10.0934 - val_acc: 0.6104\n",
      "Epoch 20/100\n",
      "6556/6556 [==============================] - 161s 25ms/sample - loss: 9.9371 - acc: 0.5987 - val_loss: 9.7512 - val_acc: 0.6140\n",
      "Epoch 21/100\n",
      "6556/6556 [==============================] - 163s 25ms/sample - loss: 9.5818 - acc: 0.6101 - val_loss: 9.3938 - val_acc: 0.6220\n",
      "Epoch 22/100\n",
      "6556/6556 [==============================] - 155s 24ms/sample - loss: 9.2466 - acc: 0.6220 - val_loss: 9.0824 - val_acc: 0.6171\n",
      "Epoch 23/100\n",
      "6556/6556 [==============================] - 157s 24ms/sample - loss: 8.9449 - acc: 0.6168 - val_loss: 8.8096 - val_acc: 0.6311\n",
      "Epoch 24/100\n",
      "6556/6556 [==============================] - 154s 24ms/sample - loss: 8.6237 - acc: 0.6286 - val_loss: 8.4707 - val_acc: 0.6470\n",
      "Epoch 25/100\n",
      "6556/6556 [==============================] - 161s 25ms/sample - loss: 8.3301 - acc: 0.6408 - val_loss: 8.2025 - val_acc: 0.6457\n",
      "Epoch 26/100\n",
      "6556/6556 [==============================] - 158s 24ms/sample - loss: 8.0445 - acc: 0.6472 - val_loss: 7.9279 - val_acc: 0.6311\n",
      "Epoch 27/100\n",
      "6556/6556 [==============================] - 162s 25ms/sample - loss: 7.7750 - acc: 0.6499 - val_loss: 7.6783 - val_acc: 0.6555\n",
      "Epoch 28/100\n",
      "6556/6556 [==============================] - 156s 24ms/sample - loss: 7.5221 - acc: 0.6602 - val_loss: 7.4270 - val_acc: 0.6409\n",
      "Epoch 29/100\n",
      "6556/6556 [==============================] - 159s 24ms/sample - loss: 7.2636 - acc: 0.6664 - val_loss: 7.1612 - val_acc: 0.6720\n",
      "Epoch 30/100\n",
      "6556/6556 [==============================] - 155s 24ms/sample - loss: 7.0230 - acc: 0.6763 - val_loss: 6.9633 - val_acc: 0.6695\n",
      "Epoch 31/100\n",
      "6556/6556 [==============================] - 155s 24ms/sample - loss: 6.7885 - acc: 0.6808 - val_loss: 6.7217 - val_acc: 0.6713\n",
      "Epoch 32/100\n",
      "6556/6556 [==============================] - 156s 24ms/sample - loss: 6.5808 - acc: 0.6785 - val_loss: 6.5174 - val_acc: 0.6841\n",
      "Epoch 33/100\n",
      "6556/6556 [==============================] - 156s 24ms/sample - loss: 6.3606 - acc: 0.6885 - val_loss: 6.2958 - val_acc: 0.6835\n",
      "Epoch 34/100\n",
      "6556/6556 [==============================] - 157s 24ms/sample - loss: 6.1536 - acc: 0.6925 - val_loss: 6.1064 - val_acc: 0.6884\n",
      "Epoch 35/100\n",
      "6556/6556 [==============================] - 157s 24ms/sample - loss: 5.9492 - acc: 0.7029 - val_loss: 5.9016 - val_acc: 0.6939\n",
      "Epoch 36/100\n",
      "6556/6556 [==============================] - 164s 25ms/sample - loss: 5.7520 - acc: 0.7087 - val_loss: 5.7450 - val_acc: 0.6860\n",
      "Epoch 37/100\n",
      "6556/6556 [==============================] - 164s 25ms/sample - loss: 5.5847 - acc: 0.7093 - val_loss: 5.5511 - val_acc: 0.7043\n",
      "Epoch 38/100\n",
      "6556/6556 [==============================] - 170s 26ms/sample - loss: 5.3918 - acc: 0.7253 - val_loss: 5.3926 - val_acc: 0.6951\n",
      "Epoch 39/100\n",
      "6556/6556 [==============================] - 157s 24ms/sample - loss: 5.2181 - acc: 0.7349 - val_loss: 5.2298 - val_acc: 0.7000\n",
      "Epoch 40/100\n",
      "6556/6556 [==============================] - 160s 24ms/sample - loss: 5.0571 - acc: 0.7355 - val_loss: 5.0770 - val_acc: 0.7049\n",
      "Epoch 41/100\n",
      "6556/6556 [==============================] - 156s 24ms/sample - loss: 4.9027 - acc: 0.7387 - val_loss: 4.9583 - val_acc: 0.6841\n",
      "Epoch 42/100\n",
      "6556/6556 [==============================] - 155s 24ms/sample - loss: 4.7475 - acc: 0.7427 - val_loss: 4.8003 - val_acc: 0.7073\n",
      "Epoch 43/100\n",
      "6556/6556 [==============================] - 158s 24ms/sample - loss: 4.5995 - acc: 0.7579 - val_loss: 4.6564 - val_acc: 0.7122\n",
      "Epoch 44/100\n",
      "6556/6556 [==============================] - 161s 25ms/sample - loss: 4.4516 - acc: 0.7585 - val_loss: 4.5191 - val_acc: 0.7091\n",
      "Epoch 45/100\n",
      "6556/6556 [==============================] - 158s 24ms/sample - loss: 4.3133 - acc: 0.7678 - val_loss: 4.3859 - val_acc: 0.7207\n",
      "Epoch 46/100\n",
      "6556/6556 [==============================] - 160s 24ms/sample - loss: 4.1930 - acc: 0.7668 - val_loss: 4.3268 - val_acc: 0.6963\n",
      "Epoch 47/100\n",
      "6556/6556 [==============================] - 158s 24ms/sample - loss: 4.0585 - acc: 0.7703 - val_loss: 4.1515 - val_acc: 0.7146\n",
      "Epoch 48/100\n",
      "6556/6556 [==============================] - 156s 24ms/sample - loss: 3.9486 - acc: 0.7752 - val_loss: 4.0564 - val_acc: 0.7165\n",
      "Epoch 49/100\n",
      "6556/6556 [==============================] - 157s 24ms/sample - loss: 3.8284 - acc: 0.7833 - val_loss: 4.0209 - val_acc: 0.6909\n",
      "Epoch 50/100\n",
      "6556/6556 [==============================] - 163s 25ms/sample - loss: 3.7181 - acc: 0.7872 - val_loss: 3.8437 - val_acc: 0.7213\n",
      "Epoch 51/100\n",
      "6556/6556 [==============================] - 158s 24ms/sample - loss: 3.6038 - acc: 0.7916 - val_loss: 3.8039 - val_acc: 0.6817\n",
      "Epoch 52/100\n",
      "6556/6556 [==============================] - 158s 24ms/sample - loss: 3.5066 - acc: 0.7936 - val_loss: 3.6637 - val_acc: 0.7018\n",
      "Epoch 53/100\n",
      "6556/6556 [==============================] - 155s 24ms/sample - loss: 3.3956 - acc: 0.8061 - val_loss: 3.5497 - val_acc: 0.7232\n",
      "Epoch 54/100\n",
      "6556/6556 [==============================] - 157s 24ms/sample - loss: 3.2930 - acc: 0.8136 - val_loss: 3.4806 - val_acc: 0.7165\n",
      "Epoch 55/100\n",
      "6556/6556 [==============================] - 157s 24ms/sample - loss: 3.2105 - acc: 0.8074 - val_loss: 3.3992 - val_acc: 0.7165\n",
      "Epoch 56/100\n",
      "6556/6556 [==============================] - 158s 24ms/sample - loss: 3.1304 - acc: 0.8138 - val_loss: 3.3050 - val_acc: 0.7244\n",
      "Epoch 57/100\n",
      "6556/6556 [==============================] - 157s 24ms/sample - loss: 3.0274 - acc: 0.8247 - val_loss: 3.2318 - val_acc: 0.7189\n",
      "Epoch 58/100\n",
      "6556/6556 [==============================] - 158s 24ms/sample - loss: 2.9459 - acc: 0.8235 - val_loss: 3.1669 - val_acc: 0.7165\n",
      "Epoch 59/100\n",
      "6556/6556 [==============================] - 158s 24ms/sample - loss: 2.8702 - acc: 0.8298 - val_loss: 3.0902 - val_acc: 0.7238\n",
      "Epoch 60/100\n",
      "6556/6556 [==============================] - 158s 24ms/sample - loss: 2.7979 - acc: 0.8273 - val_loss: 3.0171 - val_acc: 0.7268\n",
      "Epoch 61/100\n",
      "6556/6556 [==============================] - 156s 24ms/sample - loss: 2.7138 - acc: 0.8435 - val_loss: 2.9494 - val_acc: 0.7311\n",
      "Epoch 62/100\n",
      "6556/6556 [==============================] - 154s 23ms/sample - loss: 2.6433 - acc: 0.8430 - val_loss: 2.9166 - val_acc: 0.7213\n",
      "Epoch 63/100\n",
      "6556/6556 [==============================] - 159s 24ms/sample - loss: 2.5731 - acc: 0.8473 - val_loss: 2.8253 - val_acc: 0.7274\n",
      "Epoch 64/100\n",
      "6556/6556 [==============================] - 159s 24ms/sample - loss: 2.5038 - acc: 0.8516 - val_loss: 2.8183 - val_acc: 0.7122\n",
      "Epoch 65/100\n",
      "6556/6556 [==============================] - 156s 24ms/sample - loss: 2.4615 - acc: 0.8496 - val_loss: 2.7442 - val_acc: 0.7159\n",
      "Epoch 66/100\n",
      "6556/6556 [==============================] - 156s 24ms/sample - loss: 2.3737 - acc: 0.8586 - val_loss: 2.6597 - val_acc: 0.7354\n",
      "Epoch 67/100\n",
      "6556/6556 [==============================] - 157s 24ms/sample - loss: 2.3188 - acc: 0.8626 - val_loss: 2.6377 - val_acc: 0.7195\n",
      "Epoch 68/100\n",
      "6556/6556 [==============================] - 156s 24ms/sample - loss: 2.2824 - acc: 0.8537 - val_loss: 2.5747 - val_acc: 0.7329\n",
      "Epoch 69/100\n",
      "6556/6556 [==============================] - 154s 24ms/sample - loss: 2.2085 - acc: 0.8678 - val_loss: 2.5835 - val_acc: 0.7104\n",
      "Epoch 70/100\n",
      "6556/6556 [==============================] - 156s 24ms/sample - loss: 2.1531 - acc: 0.8752 - val_loss: 2.4919 - val_acc: 0.7226\n",
      "Epoch 71/100\n",
      "6556/6556 [==============================] - 165s 25ms/sample - loss: 2.0964 - acc: 0.8783 - val_loss: 2.4377 - val_acc: 0.7262\n",
      "Epoch 72/100\n",
      "6556/6556 [==============================] - 158s 24ms/sample - loss: 2.0465 - acc: 0.8807 - val_loss: 2.3952 - val_acc: 0.7329\n",
      "Epoch 73/100\n",
      "6556/6556 [==============================] - 155s 24ms/sample - loss: 2.0078 - acc: 0.8792 - val_loss: 2.3587 - val_acc: 0.7256\n",
      "Epoch 74/100\n",
      "6556/6556 [==============================] - 155s 24ms/sample - loss: 1.9523 - acc: 0.8885 - val_loss: 2.3184 - val_acc: 0.7341\n",
      "Epoch 75/100\n",
      "6556/6556 [==============================] - 156s 24ms/sample - loss: 1.9122 - acc: 0.8887 - val_loss: 2.2775 - val_acc: 0.7427\n",
      "Epoch 76/100\n",
      "6556/6556 [==============================] - 158s 24ms/sample - loss: 1.8658 - acc: 0.8932 - val_loss: 2.2949 - val_acc: 0.7159\n",
      "Epoch 77/100\n",
      "6556/6556 [==============================] - 164s 25ms/sample - loss: 1.8276 - acc: 0.8949 - val_loss: 2.2387 - val_acc: 0.7293\n",
      "Epoch 78/100\n",
      "6556/6556 [==============================] - 159s 24ms/sample - loss: 1.8029 - acc: 0.8887 - val_loss: 2.2529 - val_acc: 0.7116\n",
      "Epoch 79/100\n",
      "6556/6556 [==============================] - 156s 24ms/sample - loss: 1.7583 - acc: 0.8975 - val_loss: 2.1596 - val_acc: 0.7341\n",
      "Epoch 80/100\n",
      "6556/6556 [==============================] - 163s 25ms/sample - loss: 1.7120 - acc: 0.9036 - val_loss: 2.1394 - val_acc: 0.7244\n",
      "Epoch 81/100\n",
      "6556/6556 [==============================] - 158s 24ms/sample - loss: 1.6700 - acc: 0.9051 - val_loss: 2.0942 - val_acc: 0.7354\n",
      "Epoch 82/100\n",
      "6556/6556 [==============================] - 157s 24ms/sample - loss: 1.6434 - acc: 0.9036 - val_loss: 2.1033 - val_acc: 0.7152\n",
      "Epoch 83/100\n",
      "6556/6556 [==============================] - 157s 24ms/sample - loss: 1.6022 - acc: 0.9115 - val_loss: 2.0417 - val_acc: 0.7348\n",
      "Epoch 84/100\n",
      "6556/6556 [==============================] - 158s 24ms/sample - loss: 1.5712 - acc: 0.9117 - val_loss: 2.0047 - val_acc: 0.7360\n",
      "Epoch 85/100\n",
      "6556/6556 [==============================] - 160s 24ms/sample - loss: 1.5497 - acc: 0.9124 - val_loss: 1.9913 - val_acc: 0.7183\n",
      "Epoch 86/100\n",
      "6556/6556 [==============================] - 157s 24ms/sample - loss: 1.5064 - acc: 0.9185 - val_loss: 1.9401 - val_acc: 0.7354\n",
      "Epoch 87/100\n",
      "6556/6556 [==============================] - 156s 24ms/sample - loss: 1.4789 - acc: 0.9181 - val_loss: 1.9288 - val_acc: 0.7329\n",
      "Epoch 88/100\n",
      "6556/6556 [==============================] - 157s 24ms/sample - loss: 1.4391 - acc: 0.9269 - val_loss: 1.9078 - val_acc: 0.7366\n",
      "Epoch 89/100\n",
      "6556/6556 [==============================] - 160s 24ms/sample - loss: 1.4197 - acc: 0.9236 - val_loss: 1.9149 - val_acc: 0.7348\n",
      "Epoch 90/100\n",
      "6556/6556 [==============================] - 160s 24ms/sample - loss: 1.3887 - acc: 0.9338 - val_loss: 1.8845 - val_acc: 0.7305\n",
      "Epoch 91/100\n",
      "6556/6556 [==============================] - 161s 25ms/sample - loss: 1.3676 - acc: 0.9303 - val_loss: 1.8499 - val_acc: 0.7317\n",
      "Epoch 92/100\n",
      "6556/6556 [==============================] - 161s 25ms/sample - loss: 1.3513 - acc: 0.9279 - val_loss: 1.8528 - val_acc: 0.7396\n",
      "Epoch 93/100\n",
      "6556/6556 [==============================] - 165s 25ms/sample - loss: 1.3171 - acc: 0.9327 - val_loss: 1.8050 - val_acc: 0.7348\n",
      "Epoch 94/100\n",
      "6556/6556 [==============================] - 162s 25ms/sample - loss: 1.2856 - acc: 0.9382 - val_loss: 1.7966 - val_acc: 0.7287\n",
      "Epoch 95/100\n",
      "6556/6556 [==============================] - 157s 24ms/sample - loss: 1.2623 - acc: 0.9419 - val_loss: 1.7885 - val_acc: 0.7372\n",
      "Epoch 96/100\n",
      "6556/6556 [==============================] - 158s 24ms/sample - loss: 1.2352 - acc: 0.9446 - val_loss: 1.7548 - val_acc: 0.7372\n",
      "Epoch 97/100\n",
      "6556/6556 [==============================] - 158s 24ms/sample - loss: 1.2239 - acc: 0.9396 - val_loss: 1.7297 - val_acc: 0.7421\n",
      "Epoch 98/100\n",
      "6556/6556 [==============================] - 185s 28ms/sample - loss: 1.2011 - acc: 0.9422 - val_loss: 1.7117 - val_acc: 0.7402\n",
      "Epoch 99/100\n",
      "6556/6556 [==============================] - 164s 25ms/sample - loss: 1.1761 - acc: 0.9445 - val_loss: 1.7033 - val_acc: 0.7445\n",
      "Epoch 100/100\n",
      "6556/6556 [==============================] - 175s 27ms/sample - loss: 1.1750 - acc: 0.9385 - val_loss: 1.7325 - val_acc: 0.7213\n"
     ]
    }
   ],
   "source": [
    "INPUT_SHAPE = (128, 128, 3)\n",
    "\n",
    "model = tf.keras.models.Sequential()\n",
    "\n",
    "model.add(tf.keras.layers.Conv2D(filters=32, kernel_size=(3, 3), strides=(1, 1), \n",
    "                                activation='relu', padding='valid', input_shape=INPUT_SHAPE))\n",
    "model.add(tf.keras.layers.MaxPooling2D(pool_size=(2, 2)))\n",
    "\n",
    "model.add(tf.keras.layers.Conv2D(filters=64, kernel_size=(3, 3), strides=(1, 1), \n",
    "                                activation='relu', padding='valid', input_shape=INPUT_SHAPE))\n",
    "model.add(tf.keras.layers.MaxPooling2D(pool_size=(2, 2)))\n",
    "\n",
    "# add flatten layer\n",
    "model.add(tf.keras.layers.Flatten())\n",
    "\n",
    "# add dense layers\n",
    "model.add(tf.keras.layers.Dropout(rate=0.3))\n",
    "model.add(tf.keras.layers.Dense(512, activation='relu', kernel_regularizer = 'l2'))\n",
    "model.add(tf.keras.layers.Dropout(rate=0.3))\n",
    "model.add(tf.keras.layers.Dense(1024, activation='relu', kernel_regularizer = 'l2'))\n",
    "model.add(tf.keras.layers.Dropout(rate=0.3))\n",
    "model.add(tf.keras.layers.Dense(512, activation='relu', kernel_regularizer = 'l2'))\n",
    "model.add(tf.keras.layers.Dropout(rate=0.3))\n",
    "model.add(tf.keras.layers.Dense(256, activation='relu', kernel_regularizer = 'l2'))\n",
    "model.add(tf.keras.layers.Dropout(rate=0.3))\n",
    "# add output layer\n",
    "model.add(tf.keras.layers.Dense(5, activation='softmax'))\n",
    "\n",
    "model.compile(optimizer=tf.keras.optimizers.Adam(learning_rate=2e-5),\n",
    "              loss='sparse_categorical_crossentropy',\n",
    "              metrics=['accuracy'])\n",
    "\n",
    "es_callback = tf.keras.callbacks.EarlyStopping(monitor='val_loss', patience=5, \n",
    "                                               restore_best_weights=True,\n",
    "                                               verbose=1)\n",
    "\n",
    "history = model.fit(X_train_set_norm, \n",
    "                    y_train_set_transformed, \n",
    "                    batch_size = 128, \n",
    "                    callbacks=[tensorboard_callback, es_callback],\n",
    "                    validation_split=0.2, \n",
    "                    epochs=100, \n",
    "                    verbose = 1)"
   ]
  },
  {
   "cell_type": "code",
   "execution_count": 30,
   "metadata": {},
   "outputs": [
    {
     "data": {
      "image/png": "[encoded data removed]",
      "text/plain": [
       "<Figure size 1080x288 with 2 Axes>"
      ]
     },
     "metadata": {
      "needs_background": "light"
     },
     "output_type": "display_data"
    }
   ],
   "source": [
    "fig, ax = plt.subplots(1, 2, figsize=(15, 4))\n",
    "\n",
    "history_df = pd.DataFrame(history.history)\n",
    "history_df[['loss', 'val_loss']].plot(kind='line', ax=ax[0])\n",
    "history_df[['acc', 'val_acc']].plot(kind='line', ax=ax[1]);"
   ]
  },
  {
   "cell_type": "markdown",
   "metadata": {},
   "source": [
    "Still having variance problems. Lets try one more time."
   ]
  },
  {
   "cell_type": "code",
   "execution_count": 28,
   "metadata": {},
   "outputs": [
    {
     "name": "stdout",
     "output_type": "stream",
     "text": [
      "Train on 6556 samples, validate on 1640 samples\n",
      "Epoch 1/1000\n",
      "6556/6556 [==============================] - 81s 12ms/sample - loss: 27.7206 - acc: 0.2041 - val_loss: 26.8523 - val_acc: 0.2341\n",
      "Epoch 2/1000\n",
      "6556/6556 [==============================] - 64s 10ms/sample - loss: 26.1086 - acc: 0.2248 - val_loss: 25.3034 - val_acc: 0.2341\n",
      "Epoch 3/1000\n",
      "6556/6556 [==============================] - 62s 10ms/sample - loss: 24.6086 - acc: 0.2357 - val_loss: 23.8629 - val_acc: 0.2341\n",
      "Epoch 4/1000\n",
      "6556/6556 [==============================] - 63s 10ms/sample - loss: 23.2217 - acc: 0.2318 - val_loss: 22.5262 - val_acc: 0.2409\n",
      "Epoch 5/1000\n",
      "6556/6556 [==============================] - 63s 10ms/sample - loss: 21.9323 - acc: 0.2357 - val_loss: 21.2834 - val_acc: 0.2561\n",
      "Epoch 6/1000\n",
      "6556/6556 [==============================] - 63s 10ms/sample - loss: 20.7329 - acc: 0.2569 - val_loss: 20.1274 - val_acc: 0.2585\n",
      "Epoch 7/1000\n",
      "6556/6556 [==============================] - 66s 10ms/sample - loss: 19.6168 - acc: 0.2630 - val_loss: 19.0505 - val_acc: 0.2756\n",
      "Epoch 8/1000\n",
      "6556/6556 [==============================] - 64s 10ms/sample - loss: 18.5824 - acc: 0.2839 - val_loss: 18.0433 - val_acc: 0.3018\n",
      "Epoch 9/1000\n",
      "6556/6556 [==============================] - 66s 10ms/sample - loss: 17.6165 - acc: 0.2948 - val_loss: 17.0972 - val_acc: 0.3335\n",
      "Epoch 10/1000\n",
      "6556/6556 [==============================] - 63s 10ms/sample - loss: 16.7027 - acc: 0.3257 - val_loss: 16.1997 - val_acc: 0.3738\n",
      "Epoch 11/1000\n",
      "6556/6556 [==============================] - 63s 10ms/sample - loss: 15.8467 - acc: 0.3543 - val_loss: 15.3652 - val_acc: 0.4049\n",
      "Epoch 12/1000\n",
      "6556/6556 [==============================] - 64s 10ms/sample - loss: 15.0480 - acc: 0.3934 - val_loss: 14.5958 - val_acc: 0.4567\n",
      "Epoch 13/1000\n",
      "6556/6556 [==============================] - 63s 10ms/sample - loss: 14.3173 - acc: 0.4208 - val_loss: 13.9032 - val_acc: 0.4701\n",
      "Epoch 14/1000\n",
      "6556/6556 [==============================] - 65s 10ms/sample - loss: 13.6479 - acc: 0.4462 - val_loss: 13.2651 - val_acc: 0.4909\n",
      "Epoch 15/1000\n",
      "6556/6556 [==============================] - 64s 10ms/sample - loss: 13.0278 - acc: 0.4722 - val_loss: 12.6657 - val_acc: 0.5195\n",
      "Epoch 16/1000\n",
      "6556/6556 [==============================] - 64s 10ms/sample - loss: 12.4684 - acc: 0.4887 - val_loss: 12.1305 - val_acc: 0.5311\n",
      "Epoch 17/1000\n",
      "6556/6556 [==============================] - 64s 10ms/sample - loss: 11.9469 - acc: 0.5009 - val_loss: 11.6232 - val_acc: 0.5390\n",
      "Epoch 18/1000\n",
      "6556/6556 [==============================] - 63s 10ms/sample - loss: 11.4574 - acc: 0.5067 - val_loss: 11.1552 - val_acc: 0.5524\n",
      "Epoch 19/1000\n",
      "6556/6556 [==============================] - 64s 10ms/sample - loss: 10.9999 - acc: 0.5244 - val_loss: 10.7175 - val_acc: 0.5537\n",
      "Epoch 20/1000\n",
      "6556/6556 [==============================] - 63s 10ms/sample - loss: 10.5695 - acc: 0.5290 - val_loss: 10.3014 - val_acc: 0.5640\n",
      "Epoch 21/1000\n",
      "6556/6556 [==============================] - 64s 10ms/sample - loss: 10.1637 - acc: 0.5363 - val_loss: 9.9176 - val_acc: 0.5616\n",
      "Epoch 22/1000\n",
      "6556/6556 [==============================] - 64s 10ms/sample - loss: 9.7765 - acc: 0.5372 - val_loss: 9.5448 - val_acc: 0.5756\n",
      "Epoch 23/1000\n",
      "6556/6556 [==============================] - 64s 10ms/sample - loss: 9.4200 - acc: 0.5445 - val_loss: 9.2033 - val_acc: 0.5732\n",
      "Epoch 24/1000\n",
      "6556/6556 [==============================] - 63s 10ms/sample - loss: 9.0756 - acc: 0.5459 - val_loss: 8.8618 - val_acc: 0.5750\n",
      "Epoch 25/1000\n",
      "6556/6556 [==============================] - 63s 10ms/sample - loss: 8.7425 - acc: 0.5606 - val_loss: 8.5384 - val_acc: 0.5890\n",
      "Epoch 26/1000\n",
      "6556/6556 [==============================] - 63s 10ms/sample - loss: 8.4356 - acc: 0.5557 - val_loss: 8.2492 - val_acc: 0.5793\n",
      "Epoch 27/1000\n",
      "6556/6556 [==============================] - 64s 10ms/sample - loss: 8.1336 - acc: 0.5639 - val_loss: 7.9513 - val_acc: 0.5896\n",
      "Epoch 28/1000\n",
      "6556/6556 [==============================] - 64s 10ms/sample - loss: 7.8577 - acc: 0.5622 - val_loss: 7.6829 - val_acc: 0.5805\n",
      "Epoch 29/1000\n",
      "6556/6556 [==============================] - 63s 10ms/sample - loss: 7.5873 - acc: 0.5729 - val_loss: 7.4206 - val_acc: 0.5878\n",
      "Epoch 30/1000\n",
      "6556/6556 [==============================] - 67s 10ms/sample - loss: 7.3237 - acc: 0.5654 - val_loss: 7.1684 - val_acc: 0.5902\n",
      "Epoch 31/1000\n",
      "6556/6556 [==============================] - 64s 10ms/sample - loss: 7.0849 - acc: 0.5749 - val_loss: 6.9318 - val_acc: 0.5896\n",
      "Epoch 32/1000\n",
      "6556/6556 [==============================] - 64s 10ms/sample - loss: 6.8384 - acc: 0.5847 - val_loss: 6.6968 - val_acc: 0.5982\n",
      "Epoch 33/1000\n",
      "6556/6556 [==============================] - 64s 10ms/sample - loss: 6.6129 - acc: 0.5853 - val_loss: 6.4722 - val_acc: 0.6037\n",
      "Epoch 34/1000\n",
      "6556/6556 [==============================] - 64s 10ms/sample - loss: 6.3952 - acc: 0.5885 - val_loss: 6.2604 - val_acc: 0.6006\n",
      "Epoch 35/1000\n",
      "6556/6556 [==============================] - 64s 10ms/sample - loss: 6.1894 - acc: 0.5837 - val_loss: 6.0562 - val_acc: 0.6018\n",
      "Epoch 36/1000\n",
      "6556/6556 [==============================] - 63s 10ms/sample - loss: 5.9868 - acc: 0.5946 - val_loss: 5.8639 - val_acc: 0.6061\n",
      "Epoch 37/1000\n",
      "6556/6556 [==============================] - 64s 10ms/sample - loss: 5.7974 - acc: 0.5926 - val_loss: 5.6807 - val_acc: 0.6000\n",
      "Epoch 38/1000\n",
      "6556/6556 [==============================] - 64s 10ms/sample - loss: 5.6098 - acc: 0.5876 - val_loss: 5.5011 - val_acc: 0.5982\n",
      "Epoch 39/1000\n",
      "6556/6556 [==============================] - 64s 10ms/sample - loss: 5.4299 - acc: 0.5950 - val_loss: 5.3241 - val_acc: 0.6104\n",
      "Epoch 40/1000\n",
      "6556/6556 [==============================] - 64s 10ms/sample - loss: 5.2650 - acc: 0.5987 - val_loss: 5.1624 - val_acc: 0.6073\n",
      "Epoch 41/1000\n",
      "6556/6556 [==============================] - 64s 10ms/sample - loss: 5.1024 - acc: 0.6059 - val_loss: 4.9947 - val_acc: 0.6140\n",
      "Epoch 42/1000\n",
      "6556/6556 [==============================] - 64s 10ms/sample - loss: 4.9350 - acc: 0.6081 - val_loss: 4.8531 - val_acc: 0.6073\n",
      "Epoch 43/1000\n",
      "6556/6556 [==============================] - 64s 10ms/sample - loss: 4.7882 - acc: 0.6017 - val_loss: 4.7041 - val_acc: 0.6152\n",
      "Epoch 44/1000\n",
      "6556/6556 [==============================] - 63s 10ms/sample - loss: 4.6388 - acc: 0.6095 - val_loss: 4.5681 - val_acc: 0.6213\n",
      "Epoch 45/1000\n",
      "6556/6556 [==============================] - 64s 10ms/sample - loss: 4.4987 - acc: 0.6136 - val_loss: 4.4162 - val_acc: 0.6232\n",
      "Epoch 46/1000\n",
      "6556/6556 [==============================] - 63s 10ms/sample - loss: 4.3722 - acc: 0.6056 - val_loss: 4.3019 - val_acc: 0.6134\n",
      "Epoch 47/1000\n",
      "6556/6556 [==============================] - 64s 10ms/sample - loss: 4.2461 - acc: 0.6146 - val_loss: 4.1680 - val_acc: 0.6280\n",
      "Epoch 48/1000\n",
      "6556/6556 [==============================] - 63s 10ms/sample - loss: 4.1142 - acc: 0.6171 - val_loss: 4.0630 - val_acc: 0.6244\n",
      "Epoch 49/1000\n",
      "6556/6556 [==============================] - 64s 10ms/sample - loss: 3.9949 - acc: 0.6174 - val_loss: 3.9364 - val_acc: 0.6201\n",
      "Epoch 50/1000\n",
      "6556/6556 [==============================] - 64s 10ms/sample - loss: 3.8762 - acc: 0.6208 - val_loss: 3.8170 - val_acc: 0.6348\n",
      "Epoch 51/1000\n",
      "6556/6556 [==============================] - 64s 10ms/sample - loss: 3.7653 - acc: 0.6284 - val_loss: 3.7155 - val_acc: 0.6311\n",
      "Epoch 52/1000\n",
      "6556/6556 [==============================] - 64s 10ms/sample - loss: 3.6631 - acc: 0.6252 - val_loss: 3.6169 - val_acc: 0.6360\n",
      "Epoch 53/1000\n",
      "6556/6556 [==============================] - 64s 10ms/sample - loss: 3.5638 - acc: 0.6297 - val_loss: 3.5067 - val_acc: 0.6299\n",
      "Epoch 54/1000\n",
      "6556/6556 [==============================] - 64s 10ms/sample - loss: 3.4590 - acc: 0.6332 - val_loss: 3.4091 - val_acc: 0.6396\n",
      "Epoch 55/1000\n",
      "6556/6556 [==============================] - 64s 10ms/sample - loss: 3.3594 - acc: 0.6368 - val_loss: 3.3252 - val_acc: 0.6372\n",
      "Epoch 56/1000\n",
      "6556/6556 [==============================] - 63s 10ms/sample - loss: 3.2770 - acc: 0.6408 - val_loss: 3.2340 - val_acc: 0.6372\n",
      "Epoch 57/1000\n",
      "6556/6556 [==============================] - 64s 10ms/sample - loss: 3.1948 - acc: 0.6405 - val_loss: 3.1539 - val_acc: 0.6378\n",
      "Epoch 58/1000\n",
      "6556/6556 [==============================] - 64s 10ms/sample - loss: 3.0998 - acc: 0.6460 - val_loss: 3.0655 - val_acc: 0.6421\n",
      "Epoch 59/1000\n",
      "6556/6556 [==============================] - 64s 10ms/sample - loss: 3.0184 - acc: 0.6495 - val_loss: 2.9903 - val_acc: 0.6409\n",
      "Epoch 60/1000\n",
      "6556/6556 [==============================] - 64s 10ms/sample - loss: 2.9389 - acc: 0.6524 - val_loss: 2.9200 - val_acc: 0.6470\n",
      "Epoch 61/1000\n",
      "6556/6556 [==============================] - 64s 10ms/sample - loss: 2.8714 - acc: 0.6530 - val_loss: 2.8433 - val_acc: 0.6610\n",
      "Epoch 62/1000\n",
      "6556/6556 [==============================] - 64s 10ms/sample - loss: 2.7955 - acc: 0.6606 - val_loss: 2.7797 - val_acc: 0.6549\n",
      "Epoch 63/1000\n",
      "6556/6556 [==============================] - 64s 10ms/sample - loss: 2.7269 - acc: 0.6612 - val_loss: 2.7272 - val_acc: 0.6488\n",
      "Epoch 64/1000\n",
      "6556/6556 [==============================] - 64s 10ms/sample - loss: 2.6689 - acc: 0.6589 - val_loss: 2.6491 - val_acc: 0.6561\n",
      "Epoch 65/1000\n",
      "6556/6556 [==============================] - 64s 10ms/sample - loss: 2.6042 - acc: 0.6655 - val_loss: 2.5851 - val_acc: 0.6610\n",
      "Epoch 66/1000\n",
      "6556/6556 [==============================] - 64s 10ms/sample - loss: 2.5376 - acc: 0.6667 - val_loss: 2.5335 - val_acc: 0.6646\n",
      "Epoch 67/1000\n",
      "6556/6556 [==============================] - 64s 10ms/sample - loss: 2.4801 - acc: 0.6768 - val_loss: 2.4700 - val_acc: 0.6628\n",
      "Epoch 68/1000\n",
      "6556/6556 [==============================] - 65s 10ms/sample - loss: 2.4283 - acc: 0.6698 - val_loss: 2.4447 - val_acc: 0.6567\n",
      "Epoch 69/1000\n",
      "6556/6556 [==============================] - 65s 10ms/sample - loss: 2.3818 - acc: 0.6660 - val_loss: 2.3706 - val_acc: 0.6720\n",
      "Epoch 70/1000\n",
      "6556/6556 [==============================] - 65s 10ms/sample - loss: 2.3168 - acc: 0.6743 - val_loss: 2.3288 - val_acc: 0.6683\n",
      "Epoch 71/1000\n",
      "6556/6556 [==============================] - 64s 10ms/sample - loss: 2.2744 - acc: 0.6783 - val_loss: 2.2881 - val_acc: 0.6665\n",
      "Epoch 72/1000\n",
      "6556/6556 [==============================] - 64s 10ms/sample - loss: 2.2215 - acc: 0.6803 - val_loss: 2.2396 - val_acc: 0.6640\n",
      "Epoch 73/1000\n",
      "6556/6556 [==============================] - 64s 10ms/sample - loss: 2.1770 - acc: 0.6869 - val_loss: 2.1947 - val_acc: 0.6756\n",
      "Epoch 74/1000\n",
      "6556/6556 [==============================] - 64s 10ms/sample - loss: 2.1301 - acc: 0.6858 - val_loss: 2.1445 - val_acc: 0.6811\n",
      "Epoch 75/1000\n",
      "6556/6556 [==============================] - 64s 10ms/sample - loss: 2.0889 - acc: 0.6869 - val_loss: 2.1276 - val_acc: 0.6610\n",
      "Epoch 76/1000\n",
      "6556/6556 [==============================] - 64s 10ms/sample - loss: 2.0464 - acc: 0.6916 - val_loss: 2.0634 - val_acc: 0.6951\n",
      "Epoch 77/1000\n",
      "6556/6556 [==============================] - 64s 10ms/sample - loss: 2.0080 - acc: 0.6959 - val_loss: 2.0450 - val_acc: 0.6811\n",
      "Epoch 78/1000\n",
      "6556/6556 [==============================] - 64s 10ms/sample - loss: 1.9788 - acc: 0.6914 - val_loss: 1.9868 - val_acc: 0.6921\n",
      "Epoch 79/1000\n",
      "6556/6556 [==============================] - 64s 10ms/sample - loss: 1.9352 - acc: 0.6983 - val_loss: 1.9522 - val_acc: 0.6957\n",
      "Epoch 80/1000\n",
      "6556/6556 [==============================] - 64s 10ms/sample - loss: 1.8905 - acc: 0.7061 - val_loss: 1.9505 - val_acc: 0.6652\n",
      "Epoch 81/1000\n",
      "6556/6556 [==============================] - 64s 10ms/sample - loss: 1.8636 - acc: 0.7053 - val_loss: 1.9093 - val_acc: 0.6774\n",
      "Epoch 82/1000\n",
      "6556/6556 [==============================] - 64s 10ms/sample - loss: 1.8305 - acc: 0.7068 - val_loss: 1.8595 - val_acc: 0.6988\n",
      "Epoch 83/1000\n",
      "6556/6556 [==============================] - 64s 10ms/sample - loss: 1.7935 - acc: 0.7087 - val_loss: 1.8354 - val_acc: 0.6933\n",
      "Epoch 84/1000\n",
      "6556/6556 [==============================] - 64s 10ms/sample - loss: 1.7656 - acc: 0.7085 - val_loss: 1.7999 - val_acc: 0.6963\n",
      "Epoch 85/1000\n",
      "6556/6556 [==============================] - 64s 10ms/sample - loss: 1.7380 - acc: 0.7126 - val_loss: 1.7945 - val_acc: 0.6872\n",
      "Epoch 86/1000\n",
      "6556/6556 [==============================] - 64s 10ms/sample - loss: 1.7072 - acc: 0.7189 - val_loss: 1.7546 - val_acc: 0.6951\n",
      "Epoch 87/1000\n",
      "6556/6556 [==============================] - 64s 10ms/sample - loss: 1.6781 - acc: 0.7206 - val_loss: 1.7314 - val_acc: 0.6982\n",
      "Epoch 88/1000\n",
      "6556/6556 [==============================] - 64s 10ms/sample - loss: 1.6535 - acc: 0.7216 - val_loss: 1.7110 - val_acc: 0.6927\n",
      "Epoch 89/1000\n",
      "6556/6556 [==============================] - 64s 10ms/sample - loss: 1.6406 - acc: 0.7158 - val_loss: 1.6857 - val_acc: 0.7006\n",
      "Epoch 90/1000\n",
      "6556/6556 [==============================] - 64s 10ms/sample - loss: 1.6099 - acc: 0.7219 - val_loss: 1.6508 - val_acc: 0.7104\n",
      "Epoch 91/1000\n",
      "6556/6556 [==============================] - 64s 10ms/sample - loss: 1.5670 - acc: 0.7376 - val_loss: 1.6415 - val_acc: 0.7030\n",
      "Epoch 92/1000\n",
      "6556/6556 [==============================] - 64s 10ms/sample - loss: 1.5493 - acc: 0.7328 - val_loss: 1.6079 - val_acc: 0.7140\n",
      "Epoch 93/1000\n",
      "6556/6556 [==============================] - 64s 10ms/sample - loss: 1.5362 - acc: 0.7309 - val_loss: 1.6398 - val_acc: 0.6915\n",
      "Epoch 94/1000\n",
      "6556/6556 [==============================] - 64s 10ms/sample - loss: 1.5098 - acc: 0.7328 - val_loss: 1.5785 - val_acc: 0.7073\n",
      "Epoch 95/1000\n",
      "6556/6556 [==============================] - 64s 10ms/sample - loss: 1.4842 - acc: 0.7404 - val_loss: 1.5511 - val_acc: 0.7171\n",
      "Epoch 96/1000\n",
      "6556/6556 [==============================] - 64s 10ms/sample - loss: 1.4642 - acc: 0.7402 - val_loss: 1.5367 - val_acc: 0.7116\n",
      "Epoch 97/1000\n",
      "6556/6556 [==============================] - 64s 10ms/sample - loss: 1.4439 - acc: 0.7476 - val_loss: 1.5384 - val_acc: 0.6933\n",
      "Epoch 98/1000\n",
      "6556/6556 [==============================] - 64s 10ms/sample - loss: 1.4342 - acc: 0.7441 - val_loss: 1.5099 - val_acc: 0.7067\n",
      "Epoch 99/1000\n",
      "6556/6556 [==============================] - 64s 10ms/sample - loss: 1.4052 - acc: 0.7450 - val_loss: 1.5028 - val_acc: 0.7079\n",
      "Epoch 100/1000\n",
      "6556/6556 [==============================] - 64s 10ms/sample - loss: 1.3918 - acc: 0.7447 - val_loss: 1.4652 - val_acc: 0.7201\n",
      "Epoch 101/1000\n",
      "6556/6556 [==============================] - 64s 10ms/sample - loss: 1.3685 - acc: 0.7529 - val_loss: 1.4474 - val_acc: 0.7299\n",
      "Epoch 102/1000\n",
      "6556/6556 [==============================] - 66s 10ms/sample - loss: 1.3516 - acc: 0.7588 - val_loss: 1.4555 - val_acc: 0.7152\n",
      "Epoch 103/1000\n",
      "6556/6556 [==============================] - 64s 10ms/sample - loss: 1.3462 - acc: 0.7546 - val_loss: 1.4209 - val_acc: 0.7299\n",
      "Epoch 104/1000\n",
      "6556/6556 [==============================] - 64s 10ms/sample - loss: 1.3198 - acc: 0.7601 - val_loss: 1.4343 - val_acc: 0.7098\n",
      "Epoch 105/1000\n",
      "6556/6556 [==============================] - 64s 10ms/sample - loss: 1.3124 - acc: 0.7622 - val_loss: 1.4051 - val_acc: 0.7152\n",
      "Epoch 106/1000\n",
      "6556/6556 [==============================] - 64s 10ms/sample - loss: 1.2938 - acc: 0.7654 - val_loss: 1.4033 - val_acc: 0.7189\n",
      "Epoch 107/1000\n",
      "6556/6556 [==============================] - 64s 10ms/sample - loss: 1.2830 - acc: 0.7648 - val_loss: 1.3793 - val_acc: 0.7280\n",
      "Epoch 108/1000\n",
      "6556/6556 [==============================] - 64s 10ms/sample - loss: 1.2670 - acc: 0.7720 - val_loss: 1.3689 - val_acc: 0.7213\n",
      "Epoch 109/1000\n",
      "6556/6556 [==============================] - 64s 10ms/sample - loss: 1.2549 - acc: 0.7668 - val_loss: 1.3729 - val_acc: 0.7116\n",
      "Epoch 110/1000\n",
      "6556/6556 [==============================] - 64s 10ms/sample - loss: 1.2405 - acc: 0.7689 - val_loss: 1.3505 - val_acc: 0.7250\n",
      "Epoch 111/1000\n",
      "6556/6556 [==============================] - 64s 10ms/sample - loss: 1.2175 - acc: 0.7723 - val_loss: 1.3352 - val_acc: 0.7213\n",
      "Epoch 112/1000\n",
      "6556/6556 [==============================] - 64s 10ms/sample - loss: 1.2065 - acc: 0.7794 - val_loss: 1.3330 - val_acc: 0.7189\n",
      "Epoch 113/1000\n",
      "6556/6556 [==============================] - 64s 10ms/sample - loss: 1.1943 - acc: 0.7814 - val_loss: 1.3164 - val_acc: 0.7280\n",
      "Epoch 114/1000\n",
      "6556/6556 [==============================] - 64s 10ms/sample - loss: 1.1855 - acc: 0.7799 - val_loss: 1.3202 - val_acc: 0.7256\n",
      "Epoch 115/1000\n",
      "6556/6556 [==============================] - 64s 10ms/sample - loss: 1.1746 - acc: 0.7829 - val_loss: 1.3157 - val_acc: 0.7250\n",
      "Epoch 116/1000\n",
      "6556/6556 [==============================] - 64s 10ms/sample - loss: 1.1626 - acc: 0.7810 - val_loss: 1.2890 - val_acc: 0.7311\n",
      "Epoch 117/1000\n",
      "6556/6556 [==============================] - 64s 10ms/sample - loss: 1.1528 - acc: 0.7857 - val_loss: 1.2813 - val_acc: 0.7305\n",
      "Epoch 118/1000\n",
      "6556/6556 [==============================] - 64s 10ms/sample - loss: 1.1403 - acc: 0.7923 - val_loss: 1.2754 - val_acc: 0.7244\n",
      "Epoch 119/1000\n",
      "6556/6556 [==============================] - 64s 10ms/sample - loss: 1.1231 - acc: 0.7967 - val_loss: 1.2682 - val_acc: 0.7262\n",
      "Epoch 120/1000\n",
      "6556/6556 [==============================] - 64s 10ms/sample - loss: 1.1272 - acc: 0.7877 - val_loss: 1.2783 - val_acc: 0.7226\n",
      "Epoch 121/1000\n",
      "6556/6556 [==============================] - 64s 10ms/sample - loss: 1.0996 - acc: 0.8048 - val_loss: 1.2506 - val_acc: 0.7238\n",
      "Epoch 122/1000\n",
      "6556/6556 [==============================] - 64s 10ms/sample - loss: 1.0982 - acc: 0.7921 - val_loss: 1.2397 - val_acc: 0.7348\n",
      "Epoch 123/1000\n",
      "6556/6556 [==============================] - 66s 10ms/sample - loss: 1.0879 - acc: 0.7971 - val_loss: 1.2769 - val_acc: 0.7085\n",
      "Epoch 124/1000\n",
      "6556/6556 [==============================] - 64s 10ms/sample - loss: 1.0918 - acc: 0.7924 - val_loss: 1.2317 - val_acc: 0.7311\n",
      "Epoch 125/1000\n",
      "6556/6556 [==============================] - 64s 10ms/sample - loss: 1.0729 - acc: 0.7982 - val_loss: 1.2235 - val_acc: 0.7317\n",
      "Epoch 126/1000\n",
      "6556/6556 [==============================] - 64s 10ms/sample - loss: 1.0601 - acc: 0.8009 - val_loss: 1.2193 - val_acc: 0.7390\n",
      "Epoch 127/1000\n",
      "6556/6556 [==============================] - 65s 10ms/sample - loss: 1.0572 - acc: 0.8003 - val_loss: 1.2168 - val_acc: 0.7348\n",
      "Epoch 128/1000\n",
      "6556/6556 [==============================] - 64s 10ms/sample - loss: 1.0444 - acc: 0.8063 - val_loss: 1.2086 - val_acc: 0.7378\n",
      "Epoch 129/1000\n",
      "6556/6556 [==============================] - 64s 10ms/sample - loss: 1.0305 - acc: 0.8078 - val_loss: 1.2027 - val_acc: 0.7317\n",
      "Epoch 130/1000\n",
      "6556/6556 [==============================] - 64s 10ms/sample - loss: 1.0247 - acc: 0.8116 - val_loss: 1.2047 - val_acc: 0.7384\n",
      "Epoch 131/1000\n",
      "6556/6556 [==============================] - 64s 10ms/sample - loss: 1.0188 - acc: 0.8148 - val_loss: 1.2011 - val_acc: 0.7372\n",
      "Epoch 132/1000\n",
      "6556/6556 [==============================] - 64s 10ms/sample - loss: 1.0102 - acc: 0.8124 - val_loss: 1.1896 - val_acc: 0.7335\n",
      "Epoch 133/1000\n",
      "6556/6556 [==============================] - 64s 10ms/sample - loss: 1.0083 - acc: 0.8109 - val_loss: 1.1765 - val_acc: 0.7360\n",
      "Epoch 134/1000\n",
      "6556/6556 [==============================] - 64s 10ms/sample - loss: 0.9919 - acc: 0.8180 - val_loss: 1.1760 - val_acc: 0.7427\n",
      "Epoch 135/1000\n",
      "6556/6556 [==============================] - 64s 10ms/sample - loss: 0.9880 - acc: 0.8189 - val_loss: 1.1919 - val_acc: 0.7360\n",
      "Epoch 136/1000\n",
      "6556/6556 [==============================] - 64s 10ms/sample - loss: 0.9864 - acc: 0.8179 - val_loss: 1.1725 - val_acc: 0.7396\n",
      "Epoch 137/1000\n",
      "6556/6556 [==============================] - 64s 10ms/sample - loss: 0.9709 - acc: 0.8237 - val_loss: 1.1732 - val_acc: 0.7305\n",
      "Epoch 138/1000\n",
      "6556/6556 [==============================] - 64s 10ms/sample - loss: 0.9709 - acc: 0.8211 - val_loss: 1.1775 - val_acc: 0.7317\n",
      "Epoch 139/1000\n",
      "6556/6556 [==============================] - 64s 10ms/sample - loss: 0.9631 - acc: 0.8232 - val_loss: 1.1599 - val_acc: 0.7390\n",
      "Epoch 140/1000\n",
      "6556/6556 [==============================] - 64s 10ms/sample - loss: 0.9640 - acc: 0.8185 - val_loss: 1.1508 - val_acc: 0.7402\n",
      "Epoch 141/1000\n",
      "6556/6556 [==============================] - 64s 10ms/sample - loss: 0.9431 - acc: 0.8296 - val_loss: 1.1521 - val_acc: 0.7396\n",
      "Epoch 142/1000\n",
      "6556/6556 [==============================] - 65s 10ms/sample - loss: 0.9217 - acc: 0.8405 - val_loss: 1.1681 - val_acc: 0.7354\n",
      "Epoch 143/1000\n",
      "6556/6556 [==============================] - 64s 10ms/sample - loss: 0.9271 - acc: 0.8369 - val_loss: 1.1380 - val_acc: 0.7427\n",
      "Epoch 144/1000\n",
      "6556/6556 [==============================] - 64s 10ms/sample - loss: 0.9228 - acc: 0.8350 - val_loss: 1.1403 - val_acc: 0.7427\n",
      "Epoch 145/1000\n",
      "6556/6556 [==============================] - 64s 10ms/sample - loss: 0.9185 - acc: 0.8342 - val_loss: 1.1439 - val_acc: 0.7421\n",
      "Epoch 146/1000\n",
      "6556/6556 [==============================] - 64s 10ms/sample - loss: 0.9087 - acc: 0.8389 - val_loss: 1.1735 - val_acc: 0.7274\n",
      "Epoch 147/1000\n",
      "6556/6556 [==============================] - 64s 10ms/sample - loss: 0.9027 - acc: 0.8412 - val_loss: 1.1557 - val_acc: 0.7348\n",
      "Epoch 148/1000\n",
      "6528/6556 [============================>.] - ETA: 0s - loss: 0.8965 - acc: 0.8450Restoring model weights from the end of the best epoch.\n",
      "6556/6556 [==============================] - 65s 10ms/sample - loss: 0.8964 - acc: 0.8446 - val_loss: 1.1516 - val_acc: 0.7396\n",
      "Epoch 00148: early stopping\n"
     ]
    }
   ],
   "source": [
    "INPUT_SHAPE = (128, 128, 3)\n",
    "\n",
    "model = tf.keras.models.Sequential()\n",
    "\n",
    "model.add(tf.keras.layers.Conv2D(filters=16, kernel_size=(3, 3), strides=(1, 1), \n",
    "                                activation='relu', padding='valid', input_shape=INPUT_SHAPE))\n",
    "model.add(tf.keras.layers.MaxPooling2D(pool_size=(2, 2)))\n",
    "\n",
    "model.add(tf.keras.layers.Conv2D(filters=32, kernel_size=(3, 3), strides=(1, 1), \n",
    "                                activation='relu', padding='valid', input_shape=INPUT_SHAPE))\n",
    "model.add(tf.keras.layers.MaxPooling2D(pool_size=(2, 2)))\n",
    "\n",
    "model.add(tf.keras.layers.Conv2D(filters=64, kernel_size=(3, 3), strides=(1, 1), \n",
    "                                activation='relu', padding='valid', input_shape=INPUT_SHAPE))\n",
    "model.add(tf.keras.layers.MaxPooling2D(pool_size=(2, 2)))\n",
    "\n",
    "# add flatten layer\n",
    "model.add(tf.keras.layers.Flatten())\n",
    "\n",
    "# add dense layers\n",
    "model.add(tf.keras.layers.Dropout(rate=0.4))\n",
    "model.add(tf.keras.layers.Dense(512, activation='relu', kernel_regularizer = 'l2'))\n",
    "model.add(tf.keras.layers.Dropout(rate=0.4))\n",
    "model.add(tf.keras.layers.Dense(1024, activation='relu', kernel_regularizer = 'l2'))\n",
    "model.add(tf.keras.layers.Dropout(rate=0.3))\n",
    "model.add(tf.keras.layers.Dense(512, activation='relu', kernel_regularizer = 'l2'))\n",
    "model.add(tf.keras.layers.Dropout(rate=0.3))\n",
    "model.add(tf.keras.layers.Dense(256, activation='relu', kernel_regularizer = 'l2'))\n",
    "model.add(tf.keras.layers.Dropout(rate=0.3))\n",
    "# add output layer\n",
    "model.add(tf.keras.layers.Dense(5, activation='softmax'))\n",
    "\n",
    "model.compile(optimizer=tf.keras.optimizers.Adam(learning_rate=2e-5),\n",
    "              loss='sparse_categorical_crossentropy',\n",
    "              metrics=['accuracy'])\n",
    "\n",
    "es_callback = tf.keras.callbacks.EarlyStopping(monitor='val_loss', patience=5, \n",
    "                                               restore_best_weights=True,\n",
    "                                               verbose=1)\n",
    "\n",
    "history = model.fit(X_train_set_norm, \n",
    "                    y_train_set_transformed, \n",
    "                    batch_size = 128, \n",
    "                    callbacks=[tensorboard_callback, es_callback],\n",
    "                    validation_split=0.2, \n",
    "                    epochs=1000, \n",
    "                    verbose = 1)"
   ]
  },
  {
   "cell_type": "code",
   "execution_count": 29,
   "metadata": {},
   "outputs": [
    {
     "data": {
      "image/png": "[encoded data removed]",
      "text/plain": [
       "<Figure size 1080x288 with 2 Axes>"
      ]
     },
     "metadata": {
      "needs_background": "light"
     },
     "output_type": "display_data"
    }
   ],
   "source": [
    "fig, ax = plt.subplots(1, 2, figsize=(15, 4))\n",
    "\n",
    "history_df = pd.DataFrame(history.history)\n",
    "history_df[['loss', 'val_loss']].plot(kind='line', ax=ax[0])\n",
    "history_df[['acc', 'val_acc']].plot(kind='line', ax=ax[1]);"
   ]
  },
  {
   "cell_type": "markdown",
   "metadata": {},
   "source": [
    "# Predictions with CNN & Regularization"
   ]
  },
  {
   "cell_type": "code",
   "execution_count": 30,
   "metadata": {},
   "outputs": [
    {
     "data": {
      "text/plain": [
       "array(['elefante', 'farfalla', 'mucca', 'pecora', 'scoiattolo'],\n",
       "      dtype='<U10')"
      ]
     },
     "execution_count": 30,
     "metadata": {},
     "output_type": "execute_result"
    }
   ],
   "source": [
    "prediction_labels_test = np.argmax(model.predict(X_test_set_norm), axis=1)\n",
    "prediction_labels_test = le.inverse_transform(prediction_labels_test)\n",
    "predictions = [x.split('_')[0] for x in prediction_labels_test]\n",
    "np.unique(predictions)"
   ]
  },
  {
   "cell_type": "code",
   "execution_count": 31,
   "metadata": {},
   "outputs": [],
   "source": [
    "np.savetxt('/Users/danieljerman/Desktop/data/prediction_cnn_reg.csv', predictions, delimiter=',', fmt='%s')"
   ]
  },
  {
   "cell_type": "code",
   "execution_count": 32,
   "metadata": {},
   "outputs": [],
   "source": [
    "model.save('/Users/danieljerman/Desktop/data/cnn_reg_model')"
   ]
  },
  {
   "cell_type": "code",
   "execution_count": 33,
   "metadata": {
    "scrolled": true
   },
   "outputs": [
    {
     "name": "stdout",
     "output_type": "stream",
     "text": [
      "['scoiattolo', 'farfalla', 'farfalla', 'farfalla', 'farfalla', 'scoiattolo', 'elefante', 'pecora', 'pecora', 'elefante', 'pecora', 'elefante', 'elefante', 'scoiattolo', 'scoiattolo', 'farfalla', 'elefante', 'mucca', 'pecora', 'mucca', 'scoiattolo', 'elefante', 'scoiattolo', 'scoiattolo', 'scoiattolo', 'pecora', 'elefante', 'farfalla', 'farfalla', 'farfalla', 'pecora', 'pecora', 'pecora', 'pecora', 'pecora', 'pecora', 'elefante', 'farfalla', 'mucca', 'farfalla', 'farfalla', 'mucca', 'farfalla', 'pecora', 'pecora', 'elefante', 'elefante', 'scoiattolo', 'elefante', 'elefante', 'elefante', 'farfalla', 'farfalla', 'farfalla', 'pecora', 'farfalla', 'farfalla', 'mucca', 'farfalla', 'farfalla', 'pecora', 'farfalla', 'farfalla', 'farfalla', 'mucca', 'pecora', 'pecora', 'farfalla', 'farfalla', 'mucca', 'farfalla', 'farfalla', 'pecora', 'pecora', 'pecora', 'farfalla', 'mucca', 'scoiattolo', 'farfalla', 'farfalla', 'farfalla', 'farfalla', 'farfalla', 'elefante', 'farfalla', 'farfalla', 'pecora', 'elefante', 'scoiattolo', 'elefante', 'farfalla', 'pecora', 'elefante', 'elefante', 'elefante', 'scoiattolo', 'farfalla', 'elefante', 'pecora', 'mucca', 'scoiattolo', 'pecora', 'elefante', 'elefante', 'elefante', 'elefante', 'elefante', 'pecora', 'elefante', 'elefante', 'elefante', 'pecora', 'elefante', 'farfalla', 'pecora', 'pecora', 'pecora', 'elefante', 'elefante', 'pecora', 'mucca', 'farfalla', 'scoiattolo', 'elefante', 'elefante', 'scoiattolo', 'pecora', 'pecora', 'pecora', 'farfalla', 'pecora', 'scoiattolo', 'scoiattolo', 'pecora', 'pecora', 'farfalla', 'scoiattolo', 'elefante', 'pecora', 'pecora', 'elefante', 'pecora', 'pecora', 'pecora', 'elefante', 'scoiattolo', 'farfalla', 'farfalla', 'scoiattolo', 'scoiattolo', 'elefante', 'pecora', 'farfalla', 'scoiattolo', 'scoiattolo', 'pecora', 'farfalla', 'farfalla', 'pecora', 'scoiattolo', 'elefante', 'farfalla', 'elefante', 'elefante', 'elefante', 'mucca', 'mucca', 'farfalla', 'pecora', 'elefante', 'elefante', 'farfalla', 'pecora', 'farfalla', 'mucca', 'farfalla', 'pecora', 'farfalla', 'farfalla', 'mucca', 'farfalla', 'scoiattolo', 'farfalla', 'scoiattolo', 'scoiattolo', 'pecora', 'elefante', 'pecora', 'pecora', 'mucca', 'mucca', 'elefante', 'scoiattolo', 'scoiattolo', 'pecora', 'pecora', 'scoiattolo', 'pecora', 'mucca', 'mucca', 'scoiattolo', 'elefante', 'elefante', 'scoiattolo', 'mucca', 'scoiattolo', 'scoiattolo', 'farfalla', 'farfalla', 'elefante', 'farfalla', 'farfalla', 'farfalla', 'pecora', 'farfalla', 'mucca', 'farfalla', 'farfalla', 'farfalla', 'elefante', 'pecora', 'elefante', 'farfalla', 'pecora', 'farfalla', 'farfalla', 'elefante', 'mucca', 'pecora', 'pecora', 'scoiattolo', 'elefante', 'elefante', 'elefante', 'elefante', 'farfalla', 'farfalla', 'pecora', 'elefante', 'farfalla', 'farfalla', 'scoiattolo', 'elefante', 'elefante', 'elefante', 'scoiattolo', 'farfalla', 'farfalla', 'farfalla', 'farfalla', 'farfalla', 'farfalla', 'elefante', 'farfalla', 'elefante', 'scoiattolo', 'farfalla', 'farfalla', 'pecora', 'farfalla', 'pecora', 'elefante', 'scoiattolo', 'scoiattolo', 'pecora', 'pecora', 'farfalla', 'farfalla', 'elefante', 'farfalla', 'farfalla', 'farfalla', 'scoiattolo', 'farfalla', 'farfalla', 'farfalla', 'elefante', 'farfalla', 'farfalla', 'farfalla', 'farfalla', 'farfalla', 'farfalla', 'elefante', 'farfalla', 'pecora', 'pecora', 'farfalla', 'farfalla', 'farfalla', 'farfalla', 'farfalla', 'farfalla', 'farfalla', 'farfalla', 'farfalla', 'farfalla', 'farfalla', 'pecora', 'farfalla', 'elefante', 'scoiattolo', 'scoiattolo', 'farfalla', 'scoiattolo', 'elefante', 'elefante', 'elefante', 'mucca', 'elefante', 'elefante', 'farfalla', 'pecora', 'pecora', 'mucca', 'elefante', 'farfalla', 'farfalla', 'farfalla', 'elefante', 'elefante', 'farfalla', 'farfalla', 'farfalla', 'pecora', 'farfalla', 'elefante', 'pecora', 'farfalla', 'pecora', 'elefante', 'elefante', 'pecora', 'scoiattolo', 'pecora', 'pecora', 'pecora', 'pecora', 'farfalla', 'scoiattolo', 'scoiattolo', 'pecora', 'elefante', 'pecora', 'pecora', 'farfalla', 'pecora', 'farfalla', 'farfalla', 'farfalla', 'farfalla', 'elefante', 'elefante', 'elefante', 'elefante', 'elefante', 'pecora', 'scoiattolo', 'pecora', 'elefante', 'elefante', 'elefante', 'pecora', 'pecora', 'scoiattolo', 'farfalla', 'farfalla', 'farfalla', 'farfalla', 'farfalla', 'farfalla', 'farfalla', 'elefante', 'farfalla', 'farfalla', 'farfalla', 'farfalla', 'farfalla', 'farfalla', 'elefante', 'farfalla', 'pecora', 'mucca', 'elefante', 'pecora', 'scoiattolo', 'farfalla', 'farfalla', 'farfalla', 'farfalla', 'farfalla', 'scoiattolo', 'elefante', 'pecora', 'farfalla', 'farfalla', 'pecora', 'pecora', 'mucca', 'farfalla', 'farfalla', 'elefante', 'elefante', 'elefante', 'elefante', 'farfalla', 'farfalla', 'scoiattolo', 'pecora', 'farfalla', 'farfalla', 'farfalla', 'farfalla', 'mucca', 'farfalla', 'farfalla', 'farfalla', 'farfalla', 'farfalla', 'farfalla', 'farfalla', 'pecora', 'farfalla', 'farfalla', 'pecora', 'pecora', 'mucca', 'pecora', 'mucca', 'farfalla', 'farfalla', 'scoiattolo', 'elefante', 'elefante', 'elefante', 'elefante', 'farfalla', 'scoiattolo', 'farfalla', 'farfalla', 'farfalla', 'farfalla', 'pecora', 'farfalla', 'scoiattolo', 'farfalla', 'farfalla', 'farfalla', 'farfalla', 'farfalla', 'pecora', 'pecora', 'pecora', 'farfalla', 'farfalla', 'farfalla', 'farfalla', 'farfalla', 'farfalla', 'farfalla', 'farfalla', 'pecora', 'pecora', 'pecora', 'pecora', 'farfalla', 'pecora', 'farfalla', 'farfalla', 'farfalla', 'scoiattolo', 'pecora', 'farfalla', 'scoiattolo', 'farfalla', 'pecora', 'pecora', 'pecora', 'farfalla', 'scoiattolo', 'elefante', 'farfalla', 'farfalla', 'farfalla', 'farfalla', 'farfalla', 'farfalla', 'pecora', 'farfalla', 'pecora', 'farfalla', 'farfalla', 'farfalla', 'farfalla', 'pecora', 'farfalla', 'pecora', 'scoiattolo', 'farfalla', 'pecora', 'farfalla', 'farfalla', 'farfalla', 'farfalla', 'pecora', 'farfalla', 'farfalla', 'pecora', 'farfalla', 'scoiattolo', 'pecora', 'pecora', 'pecora', 'pecora', 'pecora', 'pecora', 'pecora', 'pecora', 'scoiattolo', 'pecora', 'pecora', 'elefante', 'elefante', 'farfalla', 'pecora', 'pecora', 'pecora', 'pecora', 'pecora', 'scoiattolo', 'pecora', 'scoiattolo', 'scoiattolo', 'pecora', 'pecora', 'pecora', 'mucca', 'mucca', 'elefante', 'mucca', 'scoiattolo', 'mucca', 'mucca', 'mucca', 'elefante', 'scoiattolo', 'mucca', 'mucca', 'pecora', 'scoiattolo', 'scoiattolo', 'elefante', 'elefante', 'scoiattolo', 'scoiattolo', 'scoiattolo', 'pecora', 'scoiattolo', 'mucca', 'mucca', 'scoiattolo', 'mucca', 'mucca', 'elefante', 'scoiattolo', 'scoiattolo', 'mucca', 'farfalla', 'scoiattolo', 'scoiattolo', 'scoiattolo', 'scoiattolo', 'pecora', 'scoiattolo', 'scoiattolo', 'elefante', 'mucca', 'elefante', 'scoiattolo', 'scoiattolo', 'pecora', 'pecora', 'scoiattolo', 'scoiattolo', 'scoiattolo', 'elefante', 'pecora', 'mucca', 'mucca', 'pecora', 'pecora', 'pecora', 'scoiattolo', 'scoiattolo', 'scoiattolo', 'mucca', 'mucca', 'mucca', 'pecora', 'mucca', 'scoiattolo', 'farfalla', 'elefante', 'mucca', 'pecora', 'elefante', 'scoiattolo', 'scoiattolo', 'scoiattolo', 'scoiattolo', 'scoiattolo', 'scoiattolo', 'farfalla', 'mucca', 'scoiattolo', 'mucca', 'scoiattolo', 'elefante', 'scoiattolo', 'scoiattolo', 'scoiattolo', 'mucca', 'scoiattolo', 'mucca', 'scoiattolo', 'mucca', 'pecora', 'mucca', 'scoiattolo', 'scoiattolo', 'scoiattolo', 'scoiattolo', 'mucca', 'scoiattolo', 'mucca', 'scoiattolo', 'mucca', 'mucca', 'scoiattolo', 'mucca', 'scoiattolo', 'scoiattolo', 'scoiattolo', 'scoiattolo', 'scoiattolo', 'mucca', 'pecora', 'scoiattolo', 'mucca', 'scoiattolo', 'mucca', 'scoiattolo', 'mucca', 'elefante', 'scoiattolo', 'pecora', 'mucca', 'mucca', 'scoiattolo', 'mucca', 'mucca', 'mucca', 'mucca', 'mucca', 'mucca', 'scoiattolo', 'mucca', 'scoiattolo', 'pecora', 'scoiattolo', 'scoiattolo', 'scoiattolo', 'scoiattolo', 'farfalla', 'mucca', 'mucca', 'farfalla', 'elefante', 'scoiattolo', 'mucca', 'scoiattolo', 'scoiattolo', 'mucca', 'elefante', 'elefante', 'scoiattolo', 'mucca', 'scoiattolo', 'mucca', 'mucca', 'elefante', 'mucca', 'mucca', 'mucca', 'scoiattolo', 'pecora', 'scoiattolo', 'mucca', 'scoiattolo', 'pecora', 'farfalla', 'mucca', 'pecora', 'mucca', 'scoiattolo', 'scoiattolo', 'pecora', 'mucca', 'scoiattolo', 'mucca', 'scoiattolo', 'mucca', 'scoiattolo', 'mucca', 'scoiattolo', 'pecora', 'scoiattolo', 'pecora', 'scoiattolo', 'scoiattolo', 'mucca', 'scoiattolo', 'pecora', 'mucca', 'pecora', 'elefante', 'mucca', 'elefante', 'scoiattolo', 'mucca', 'scoiattolo', 'scoiattolo', 'elefante', 'mucca', 'mucca', 'pecora', 'mucca', 'mucca', 'scoiattolo', 'pecora', 'mucca', 'scoiattolo', 'scoiattolo', 'elefante', 'mucca', 'pecora', 'scoiattolo', 'mucca', 'mucca', 'mucca', 'mucca', 'scoiattolo', 'pecora', 'pecora', 'scoiattolo', 'scoiattolo', 'mucca', 'pecora', 'scoiattolo', 'scoiattolo', 'pecora', 'mucca', 'scoiattolo', 'scoiattolo', 'scoiattolo', 'scoiattolo', 'scoiattolo', 'pecora', 'scoiattolo', 'scoiattolo', 'pecora', 'pecora', 'scoiattolo', 'scoiattolo', 'pecora', 'scoiattolo', 'mucca', 'mucca', 'scoiattolo', 'scoiattolo', 'scoiattolo', 'scoiattolo', 'mucca', 'mucca', 'pecora', 'mucca', 'pecora', 'elefante', 'pecora', 'scoiattolo', 'scoiattolo', 'scoiattolo', 'mucca', 'mucca', 'scoiattolo', 'mucca', 'elefante', 'scoiattolo', 'scoiattolo', 'scoiattolo', 'mucca', 'scoiattolo', 'mucca', 'scoiattolo', 'pecora', 'scoiattolo', 'scoiattolo', 'elefante', 'mucca', 'mucca', 'mucca', 'mucca', 'scoiattolo', 'scoiattolo', 'elefante', 'elefante', 'scoiattolo', 'mucca', 'scoiattolo', 'mucca', 'scoiattolo', 'mucca', 'scoiattolo', 'mucca', 'pecora', 'pecora', 'scoiattolo', 'mucca', 'mucca', 'scoiattolo', 'scoiattolo', 'mucca', 'mucca', 'scoiattolo', 'scoiattolo', 'mucca', 'mucca', 'pecora', 'scoiattolo', 'scoiattolo', 'mucca', 'scoiattolo', 'mucca', 'scoiattolo', 'mucca', 'scoiattolo', 'elefante', 'scoiattolo', 'mucca', 'elefante', 'mucca', 'mucca', 'mucca', 'mucca', 'mucca', 'scoiattolo', 'scoiattolo', 'mucca', 'mucca', 'farfalla', 'pecora', 'elefante', 'scoiattolo', 'pecora', 'mucca', 'mucca', 'mucca', 'mucca', 'scoiattolo', 'scoiattolo', 'pecora', 'scoiattolo', 'mucca', 'elefante', 'farfalla', 'scoiattolo', 'scoiattolo', 'mucca', 'pecora', 'scoiattolo', 'scoiattolo', 'elefante', 'pecora', 'scoiattolo', 'mucca', 'scoiattolo', 'scoiattolo', 'mucca', 'mucca', 'elefante', 'scoiattolo', 'mucca', 'mucca', 'scoiattolo', 'elefante', 'pecora', 'mucca', 'mucca', 'mucca', 'mucca', 'pecora', 'scoiattolo', 'mucca', 'scoiattolo', 'scoiattolo', 'scoiattolo', 'scoiattolo', 'scoiattolo', 'scoiattolo', 'scoiattolo']\n"
     ]
    }
   ],
   "source": [
    "print(predictions)"
   ]
  },
  {
   "cell_type": "markdown",
   "metadata": {
    "colab_type": "text",
    "id": "_GXanGI1-jMO"
   },
   "source": [
    "## MLP Adding L2 regularization and a Dropout Layer"
   ]
  },
  {
   "cell_type": "markdown",
   "metadata": {
    "colab_type": "text",
    "id": "ESZFsbzvAsNi"
   },
   "source": [
    "## Flatten the Data\n",
    "To get the right shape for input layer"
   ]
  },
  {
   "cell_type": "code",
   "execution_count": 35,
   "metadata": {
    "colab": {},
    "colab_type": "code",
    "id": "zGT-KCuhAqiE"
   },
   "outputs": [],
   "source": [
    "shape = IMG_DIMS[0]*IMG_DIMS[0] * 3\n",
    "X_train_flattened = X_train_set_norm.reshape(len(X_train_set_norm), shape)\n",
    "X_test_flattened = X_test_set_norm.reshape(len(X_test_set_norm), shape)"
   ]
  },
  {
   "cell_type": "code",
   "execution_count": 36,
   "metadata": {},
   "outputs": [],
   "source": [
    "y_train_set = np.array(y_train_set)"
   ]
  },
  {
   "cell_type": "code",
   "execution_count": 37,
   "metadata": {},
   "outputs": [],
   "source": [
    "from sklearn import preprocessing\n",
    "le = preprocessing.LabelEncoder()\n",
    "le.fit(np.unique(y_train_set))\n",
    "y_train_set_transformed = (le.transform(y_train_set))"
   ]
  },
  {
   "cell_type": "code",
   "execution_count": 38,
   "metadata": {},
   "outputs": [],
   "source": [
    "y_train_set_transformed = y_train_set_transformed.reshape(y_train_set_transformed.shape[0],1)"
   ]
  },
  {
   "cell_type": "code",
   "execution_count": 39,
   "metadata": {},
   "outputs": [
    {
     "name": "stdout",
     "output_type": "stream",
     "text": [
      "(8196, 49152)\n",
      "(8196, 1)\n"
     ]
    }
   ],
   "source": [
    "print(X_train_flattened.shape)\n",
    "print(y_train_set_transformed.shape)"
   ]
  },
  {
   "cell_type": "markdown",
   "metadata": {
    "colab_type": "text",
    "id": "JhU_jDx1BQUi"
   },
   "source": [
    "## Model Definition"
   ]
  },
  {
   "cell_type": "code",
   "execution_count": 40,
   "metadata": {
    "colab": {},
    "colab_type": "code",
    "id": "fY-alc2YBXCG"
   },
   "outputs": [],
   "source": [
    "import tensorflow as tf \n",
    "from tensorflow import keras\n",
    "from tensorflow.keras import Sequential \n",
    "from tensorflow.keras import layers\n",
    "from tensorflow.keras.layers import Dense"
   ]
  },
  {
   "cell_type": "code",
   "execution_count": 41,
   "metadata": {},
   "outputs": [
    {
     "name": "stdout",
     "output_type": "stream",
     "text": [
      "Train on 6556 samples, validate on 1640 samples\n",
      "Epoch 1/100\n",
      "6556/6556 [==============================] - 69s 11ms/sample - loss: 8.3335 - acc: 0.2936 - val_loss: 8.0651 - val_acc: 0.3793\n",
      "Epoch 2/100\n",
      "6556/6556 [==============================] - 51s 8ms/sample - loss: 7.9736 - acc: 0.3612 - val_loss: 7.7921 - val_acc: 0.4256\n",
      "Epoch 3/100\n",
      "6556/6556 [==============================] - 47s 7ms/sample - loss: 7.6768 - acc: 0.3970 - val_loss: 7.5428 - val_acc: 0.4061\n",
      "Epoch 4/100\n",
      "6556/6556 [==============================] - 47s 7ms/sample - loss: 7.4276 - acc: 0.4289 - val_loss: 7.2892 - val_acc: 0.4445\n",
      "Epoch 5/100\n",
      "6556/6556 [==============================] - 47s 7ms/sample - loss: 7.1823 - acc: 0.4413 - val_loss: 7.0896 - val_acc: 0.4476\n",
      "Epoch 6/100\n",
      "6556/6556 [==============================] - 47s 7ms/sample - loss: 6.9483 - acc: 0.4675 - val_loss: 6.8432 - val_acc: 0.4689\n",
      "Epoch 7/100\n",
      "6556/6556 [==============================] - 47s 7ms/sample - loss: 6.7363 - acc: 0.4728 - val_loss: 6.6546 - val_acc: 0.4659\n",
      "Epoch 8/100\n",
      "6556/6556 [==============================] - 47s 7ms/sample - loss: 6.5330 - acc: 0.4793 - val_loss: 6.4520 - val_acc: 0.4805\n",
      "Epoch 9/100\n",
      "6556/6556 [==============================] - 54s 8ms/sample - loss: 6.3155 - acc: 0.5061 - val_loss: 6.2489 - val_acc: 0.5030\n",
      "Epoch 10/100\n",
      "6556/6556 [==============================] - 48s 7ms/sample - loss: 6.1296 - acc: 0.5020 - val_loss: 6.0722 - val_acc: 0.4994\n",
      "Epoch 11/100\n",
      "6556/6556 [==============================] - 47s 7ms/sample - loss: 5.9299 - acc: 0.5232 - val_loss: 5.8850 - val_acc: 0.5152\n",
      "Epoch 12/100\n",
      "6556/6556 [==============================] - 47s 7ms/sample - loss: 5.7513 - acc: 0.5351 - val_loss: 5.7398 - val_acc: 0.4860\n",
      "Epoch 13/100\n",
      "6556/6556 [==============================] - 47s 7ms/sample - loss: 5.5765 - acc: 0.5381 - val_loss: 5.5519 - val_acc: 0.5232\n",
      "Epoch 14/100\n",
      "6556/6556 [==============================] - 47s 7ms/sample - loss: 5.4060 - acc: 0.5398 - val_loss: 5.4394 - val_acc: 0.5024\n",
      "Epoch 15/100\n",
      "6556/6556 [==============================] - 47s 7ms/sample - loss: 5.2382 - acc: 0.5487 - val_loss: 5.2568 - val_acc: 0.5091\n",
      "Epoch 16/100\n",
      "6556/6556 [==============================] - 52s 8ms/sample - loss: 5.0732 - acc: 0.5664 - val_loss: 5.1017 - val_acc: 0.5341\n",
      "Epoch 17/100\n",
      "6556/6556 [==============================] - 50s 8ms/sample - loss: 4.9243 - acc: 0.5670 - val_loss: 4.9780 - val_acc: 0.5238\n",
      "Epoch 18/100\n",
      "6556/6556 [==============================] - 48s 7ms/sample - loss: 4.7713 - acc: 0.5755 - val_loss: 4.8458 - val_acc: 0.5201\n",
      "Epoch 19/100\n",
      "6556/6556 [==============================] - 47s 7ms/sample - loss: 4.6281 - acc: 0.5837 - val_loss: 4.7270 - val_acc: 0.5079\n",
      "Epoch 20/100\n",
      "6556/6556 [==============================] - 47s 7ms/sample - loss: 4.4848 - acc: 0.6001 - val_loss: 4.5841 - val_acc: 0.5232\n",
      "Epoch 21/100\n",
      "6556/6556 [==============================] - 47s 7ms/sample - loss: 4.3448 - acc: 0.6072 - val_loss: 4.4543 - val_acc: 0.5299\n",
      "Epoch 22/100\n",
      "6556/6556 [==============================] - 47s 7ms/sample - loss: 4.2185 - acc: 0.6065 - val_loss: 4.3266 - val_acc: 0.5439\n",
      "Epoch 23/100\n",
      "6556/6556 [==============================] - 47s 7ms/sample - loss: 4.0793 - acc: 0.6207 - val_loss: 4.2123 - val_acc: 0.5463\n",
      "Epoch 24/100\n",
      "6556/6556 [==============================] - 47s 7ms/sample - loss: 3.9551 - acc: 0.6354 - val_loss: 4.1064 - val_acc: 0.5384\n",
      "Epoch 25/100\n",
      "6556/6556 [==============================] - 47s 7ms/sample - loss: 3.8483 - acc: 0.6319 - val_loss: 4.0124 - val_acc: 0.5415\n",
      "Epoch 26/100\n",
      "6556/6556 [==============================] - 47s 7ms/sample - loss: 3.7207 - acc: 0.6451 - val_loss: 3.9208 - val_acc: 0.5341\n",
      "Epoch 27/100\n",
      "6556/6556 [==============================] - 47s 7ms/sample - loss: 3.6290 - acc: 0.6470 - val_loss: 3.8166 - val_acc: 0.5470\n",
      "Epoch 28/100\n",
      "6556/6556 [==============================] - 49s 7ms/sample - loss: 3.5124 - acc: 0.6524 - val_loss: 3.7224 - val_acc: 0.5372\n",
      "Epoch 29/100\n",
      "6556/6556 [==============================] - 50s 8ms/sample - loss: 3.3948 - acc: 0.6716 - val_loss: 3.6192 - val_acc: 0.5549\n",
      "Epoch 30/100\n",
      "6556/6556 [==============================] - 50s 8ms/sample - loss: 3.3037 - acc: 0.6681 - val_loss: 3.5418 - val_acc: 0.5457\n",
      "Epoch 31/100\n",
      "6556/6556 [==============================] - 49s 7ms/sample - loss: 3.2132 - acc: 0.6792 - val_loss: 3.4671 - val_acc: 0.5561\n",
      "Epoch 32/100\n",
      "6556/6556 [==============================] - 47s 7ms/sample - loss: 3.1096 - acc: 0.6872 - val_loss: 3.4870 - val_acc: 0.5018\n",
      "Epoch 33/100\n",
      "6556/6556 [==============================] - 47s 7ms/sample - loss: 3.0279 - acc: 0.6838 - val_loss: 3.2892 - val_acc: 0.5640\n",
      "Epoch 34/100\n",
      "6556/6556 [==============================] - 46s 7ms/sample - loss: 2.9228 - acc: 0.7023 - val_loss: 3.2996 - val_acc: 0.5287\n",
      "Epoch 35/100\n",
      "6556/6556 [==============================] - 48s 7ms/sample - loss: 2.8370 - acc: 0.7105 - val_loss: 3.1846 - val_acc: 0.5524\n",
      "Epoch 36/100\n",
      "6556/6556 [==============================] - 47s 7ms/sample - loss: 2.7555 - acc: 0.7151 - val_loss: 3.0820 - val_acc: 0.5652\n",
      "Epoch 37/100\n",
      "6556/6556 [==============================] - 48s 7ms/sample - loss: 2.6734 - acc: 0.7236 - val_loss: 3.0244 - val_acc: 0.5640\n",
      "Epoch 38/100\n",
      "6556/6556 [==============================] - 47s 7ms/sample - loss: 2.5990 - acc: 0.7349 - val_loss: 2.9577 - val_acc: 0.5573\n",
      "Epoch 39/100\n",
      "6556/6556 [==============================] - 47s 7ms/sample - loss: 2.5193 - acc: 0.7381 - val_loss: 2.9425 - val_acc: 0.5561\n",
      "Epoch 40/100\n",
      "6556/6556 [==============================] - 46s 7ms/sample - loss: 2.4445 - acc: 0.7431 - val_loss: 2.9034 - val_acc: 0.5409\n",
      "Epoch 41/100\n",
      "6556/6556 [==============================] - 47s 7ms/sample - loss: 2.3894 - acc: 0.7450 - val_loss: 2.8221 - val_acc: 0.5488\n",
      "Epoch 42/100\n",
      "6556/6556 [==============================] - 47s 7ms/sample - loss: 2.3299 - acc: 0.7454 - val_loss: 2.7845 - val_acc: 0.5530\n",
      "Epoch 43/100\n",
      "6556/6556 [==============================] - 47s 7ms/sample - loss: 2.2562 - acc: 0.7611 - val_loss: 2.7195 - val_acc: 0.5628\n",
      "Epoch 44/100\n",
      "6556/6556 [==============================] - 47s 7ms/sample - loss: 2.1883 - acc: 0.7680 - val_loss: 2.6796 - val_acc: 0.5494\n",
      "Epoch 45/100\n",
      "6556/6556 [==============================] - 47s 7ms/sample - loss: 2.1109 - acc: 0.7829 - val_loss: 2.6219 - val_acc: 0.5640\n",
      "Epoch 46/100\n",
      "6556/6556 [==============================] - 47s 7ms/sample - loss: 2.0479 - acc: 0.7892 - val_loss: 2.6260 - val_acc: 0.5348\n",
      "Epoch 47/100\n",
      "6556/6556 [==============================] - 47s 7ms/sample - loss: 2.0259 - acc: 0.7790 - val_loss: 2.6143 - val_acc: 0.5451\n",
      "Epoch 48/100\n",
      "6556/6556 [==============================] - 47s 7ms/sample - loss: 1.9546 - acc: 0.7889 - val_loss: 2.5251 - val_acc: 0.5543\n",
      "Epoch 49/100\n",
      "6556/6556 [==============================] - 47s 7ms/sample - loss: 1.9060 - acc: 0.7993 - val_loss: 2.5050 - val_acc: 0.5341\n",
      "Epoch 50/100\n",
      "6556/6556 [==============================] - 47s 7ms/sample - loss: 1.8451 - acc: 0.8112 - val_loss: 2.4699 - val_acc: 0.5561\n",
      "Epoch 51/100\n",
      "6556/6556 [==============================] - 47s 7ms/sample - loss: 1.7812 - acc: 0.8150 - val_loss: 2.4116 - val_acc: 0.5634\n",
      "Epoch 52/100\n",
      "6556/6556 [==============================] - 47s 7ms/sample - loss: 1.7464 - acc: 0.8185 - val_loss: 2.3534 - val_acc: 0.5695\n",
      "Epoch 53/100\n",
      "6556/6556 [==============================] - 47s 7ms/sample - loss: 1.6916 - acc: 0.8296 - val_loss: 2.3524 - val_acc: 0.5573\n",
      "Epoch 54/100\n",
      "6556/6556 [==============================] - 47s 7ms/sample - loss: 1.6412 - acc: 0.8351 - val_loss: 2.2930 - val_acc: 0.5689\n",
      "Epoch 55/100\n",
      "6556/6556 [==============================] - 47s 7ms/sample - loss: 1.6101 - acc: 0.8350 - val_loss: 2.2887 - val_acc: 0.5634\n",
      "Epoch 56/100\n",
      "6556/6556 [==============================] - 47s 7ms/sample - loss: 1.5787 - acc: 0.8388 - val_loss: 2.2725 - val_acc: 0.5628\n",
      "Epoch 57/100\n",
      "6556/6556 [==============================] - 47s 7ms/sample - loss: 1.5134 - acc: 0.8548 - val_loss: 2.2362 - val_acc: 0.5665\n",
      "Epoch 58/100\n",
      "6556/6556 [==============================] - 47s 7ms/sample - loss: 1.4857 - acc: 0.8516 - val_loss: 2.2812 - val_acc: 0.5445\n",
      "Epoch 59/100\n",
      "6556/6556 [==============================] - 47s 7ms/sample - loss: 1.4342 - acc: 0.8612 - val_loss: 2.1803 - val_acc: 0.5720\n",
      "Epoch 60/100\n",
      "6556/6556 [==============================] - 54s 8ms/sample - loss: 1.4040 - acc: 0.8659 - val_loss: 2.2281 - val_acc: 0.5628\n",
      "Epoch 61/100\n",
      "6556/6556 [==============================] - 48s 7ms/sample - loss: 1.3765 - acc: 0.8609 - val_loss: 2.1314 - val_acc: 0.5744\n",
      "Epoch 62/100\n",
      "6556/6556 [==============================] - 47s 7ms/sample - loss: 1.3367 - acc: 0.8703 - val_loss: 2.1192 - val_acc: 0.5744\n",
      "Epoch 63/100\n",
      "6556/6556 [==============================] - 51s 8ms/sample - loss: 1.2935 - acc: 0.8844 - val_loss: 2.1923 - val_acc: 0.5378\n",
      "Epoch 64/100\n",
      "6556/6556 [==============================] - 47s 7ms/sample - loss: 1.2771 - acc: 0.8780 - val_loss: 2.1998 - val_acc: 0.5500\n",
      "Epoch 65/100\n",
      "6556/6556 [==============================] - 47s 7ms/sample - loss: 1.2511 - acc: 0.8786 - val_loss: 2.0799 - val_acc: 0.5701\n",
      "Epoch 66/100\n",
      "6556/6556 [==============================] - 47s 7ms/sample - loss: 1.1961 - acc: 0.8983 - val_loss: 2.1314 - val_acc: 0.5427\n",
      "Epoch 67/100\n",
      "6556/6556 [==============================] - 47s 7ms/sample - loss: 1.1784 - acc: 0.8958 - val_loss: 2.0473 - val_acc: 0.5732\n",
      "Epoch 68/100\n",
      "6556/6556 [==============================] - 47s 7ms/sample - loss: 1.1451 - acc: 0.9005 - val_loss: 2.0364 - val_acc: 0.5707\n",
      "Epoch 69/100\n",
      "6556/6556 [==============================] - 47s 7ms/sample - loss: 1.1128 - acc: 0.9092 - val_loss: 2.0344 - val_acc: 0.5652\n",
      "Epoch 70/100\n",
      "6556/6556 [==============================] - 47s 7ms/sample - loss: 1.1000 - acc: 0.9083 - val_loss: 2.0565 - val_acc: 0.5573\n",
      "Epoch 71/100\n",
      "6556/6556 [==============================] - 47s 7ms/sample - loss: 1.0741 - acc: 0.9077 - val_loss: 2.0242 - val_acc: 0.5720\n",
      "Epoch 72/100\n",
      "6556/6556 [==============================] - 47s 7ms/sample - loss: 1.0634 - acc: 0.9062 - val_loss: 2.0016 - val_acc: 0.5555\n",
      "Epoch 73/100\n",
      "6556/6556 [==============================] - 46s 7ms/sample - loss: 1.0169 - acc: 0.9181 - val_loss: 2.0365 - val_acc: 0.5701\n",
      "Epoch 74/100\n",
      "6556/6556 [==============================] - 47s 7ms/sample - loss: 1.0072 - acc: 0.9160 - val_loss: 1.9818 - val_acc: 0.5720\n",
      "Epoch 75/100\n",
      "6556/6556 [==============================] - 47s 7ms/sample - loss: 0.9931 - acc: 0.9121 - val_loss: 1.9913 - val_acc: 0.5555\n",
      "Epoch 76/100\n",
      "6556/6556 [==============================] - 47s 7ms/sample - loss: 0.9677 - acc: 0.9224 - val_loss: 2.0106 - val_acc: 0.5701\n",
      "Epoch 77/100\n",
      "6556/6556 [==============================] - 47s 7ms/sample - loss: 0.9302 - acc: 0.9323 - val_loss: 1.9582 - val_acc: 0.5780\n",
      "Epoch 78/100\n",
      "6556/6556 [==============================] - 47s 7ms/sample - loss: 0.9210 - acc: 0.9274 - val_loss: 2.0324 - val_acc: 0.5591\n",
      "Epoch 79/100\n",
      "6556/6556 [==============================] - 47s 7ms/sample - loss: 0.8999 - acc: 0.9329 - val_loss: 1.9790 - val_acc: 0.5628\n",
      "Epoch 80/100\n",
      "6556/6556 [==============================] - 47s 7ms/sample - loss: 0.8807 - acc: 0.9375 - val_loss: 1.9542 - val_acc: 0.5726\n",
      "Epoch 81/100\n",
      "6556/6556 [==============================] - 47s 7ms/sample - loss: 0.8581 - acc: 0.9440 - val_loss: 1.9777 - val_acc: 0.5750\n",
      "Epoch 82/100\n",
      "6556/6556 [==============================] - 47s 7ms/sample - loss: 0.8447 - acc: 0.9419 - val_loss: 2.0189 - val_acc: 0.5622\n",
      "Epoch 83/100\n",
      "6556/6556 [==============================] - 47s 7ms/sample - loss: 0.8215 - acc: 0.9475 - val_loss: 1.9207 - val_acc: 0.5646\n",
      "Epoch 84/100\n",
      "6556/6556 [==============================] - 48s 7ms/sample - loss: 0.8128 - acc: 0.9462 - val_loss: 1.9194 - val_acc: 0.5683\n",
      "Epoch 85/100\n",
      "6556/6556 [==============================] - 47s 7ms/sample - loss: 0.8105 - acc: 0.9399 - val_loss: 2.0168 - val_acc: 0.5543\n",
      "Epoch 86/100\n",
      "6556/6556 [==============================] - 47s 7ms/sample - loss: 0.7901 - acc: 0.9484 - val_loss: 1.9544 - val_acc: 0.5506\n",
      "Epoch 87/100\n",
      "6556/6556 [==============================] - 47s 7ms/sample - loss: 0.7570 - acc: 0.9590 - val_loss: 1.9841 - val_acc: 0.5646\n",
      "Epoch 88/100\n",
      "6528/6556 [============================>.] - ETA: 0s - loss: 0.7444 - acc: 0.9608Restoring model weights from the end of the best epoch.\n",
      "6556/6556 [==============================] - 48s 7ms/sample - loss: 0.7440 - acc: 0.9610 - val_loss: 1.9634 - val_acc: 0.5573\n",
      "Epoch 00088: early stopping\n"
     ]
    }
   ],
   "source": [
    "# Defining the Model\n",
    "model = tf.keras.models.Sequential()\n",
    "# input layer\n",
    "model.add(tf.keras.layers.Dense(1024, input_shape=(shape,), activation='relu'))\n",
    "model.add(tf.keras.layers.Dropout(rate=0.2))\n",
    "model.add(tf.keras.layers.Dense(512, activation='relu', kernel_regularizer = 'l2'))\n",
    "model.add(tf.keras.layers.Dropout(rate=0.2))\n",
    "# output layer\n",
    "model.add(tf.keras.layers.Dense(5, activation='softmax'))\n",
    "\n",
    "\n",
    "model.compile(optimizer=tf.keras.optimizers.Adam(learning_rate=2e-5),\n",
    "              loss='sparse_categorical_crossentropy',\n",
    "              metrics=['accuracy'])\n",
    "\n",
    "es_callback = tf.keras.callbacks.EarlyStopping(monitor='val_loss', patience=4, \n",
    "                                               restore_best_weights=True,\n",
    "                                               verbose=1)\n",
    "\n",
    "history = model.fit(X_train_flattened, \n",
    "                    y_train_set_transformed, \n",
    "                    batch_size = 128, \n",
    "                    callbacks=[es_callback],\n",
    "                    validation_split=0.2, \n",
    "                    epochs=100, \n",
    "                    verbose = 1)"
   ]
  },
  {
   "cell_type": "code",
   "execution_count": 42,
   "metadata": {},
   "outputs": [
    {
     "data": {
      "image/png": "[encoded data removed]",
      "text/plain": [
       "<Figure size 1080x288 with 2 Axes>"
      ]
     },
     "metadata": {
      "needs_background": "light"
     },
     "output_type": "display_data"
    }
   ],
   "source": [
    "fig, ax = plt.subplots(1, 2, figsize=(15, 4))\n",
    "\n",
    "history_df = pd.DataFrame(history.history)\n",
    "history_df[['loss', 'val_loss']].plot(kind='line', ax=ax[0])\n",
    "history_df[['acc', 'val_acc']].plot(kind='line', ax=ax[1]);"
   ]
  },
  {
   "cell_type": "markdown",
   "metadata": {},
   "source": [
    "As we can see, regularization helps to avoid overfitting as we can now run more epochs and still getting a lower validation loss. However, it does not solve all the problem, as the train set finally get a best fit than validation set."
   ]
  },
  {
   "cell_type": "markdown",
   "metadata": {},
   "source": [
    "# Final Shot: Data augmentation"
   ]
  },
  {
   "cell_type": "code",
   "execution_count": 29,
   "metadata": {},
   "outputs": [],
   "source": [
    "from sklearn.model_selection import train_test_split\n",
    "X_train, X_test, y_train, y_test = train_test_split(X_train_set_norm, y_train_set_transformed, test_size=0.2, random_state=12, stratify=y_train_set_transformed)"
   ]
  },
  {
   "cell_type": "code",
   "execution_count": 30,
   "metadata": {},
   "outputs": [
    {
     "name": "stdout",
     "output_type": "stream",
     "text": [
      "0.15878584502745577\n",
      "0.15853658536585366\n",
      "0.23184868822452714\n",
      "0.23231707317073172\n",
      "0.20500305064063454\n",
      "0.2048780487804878\n",
      "0.199816961561928\n",
      "0.2\n",
      "0.20454545454545456\n",
      "0.20426829268292682\n"
     ]
    }
   ],
   "source": [
    "for i in range(0,5):\n",
    "    print(np.count_nonzero(y_train == i, axis = 0)[0]/y_train.shape[0])\n",
    "    print(np.count_nonzero(y_test == i, axis = 0)[0]/y_test.shape[0])"
   ]
  },
  {
   "cell_type": "code",
   "execution_count": 31,
   "metadata": {},
   "outputs": [],
   "source": [
    "data_augmentation = tf.keras.Sequential(\n",
    "    [\n",
    "        tf.keras.layers.experimental.preprocessing.RandomFlip(\"horizontal\"),\n",
    "        tf.keras.layers.experimental.preprocessing.RandomRotation(0.1),\n",
    "        tf.keras.layers.experimental.preprocessing.RandomZoom(0.2)\n",
    "    ]\n",
    ")"
   ]
  },
  {
   "cell_type": "code",
   "execution_count": 32,
   "metadata": {},
   "outputs": [
    {
     "name": "stdout",
     "output_type": "stream",
     "text": [
      "WARNING:tensorflow:Layer random_flip is casting an input tensor from dtype float64 to the layer's dtype of float32, which is new behavior in TensorFlow 2.  The layer has dtype float32 because its dtype defaults to floatx.\n",
      "\n",
      "If you intended to run this layer in float32, you can safely ignore this warning. If in doubt, this warning is likely only an issue if you are porting a TensorFlow 1.X model to TensorFlow 2.\n",
      "\n",
      "To change all layers to have dtype float64 by default, call `tf.keras.backend.set_floatx('float64')`. To change just this layer, pass dtype='float64' to the layer constructor. If you are the author of this layer, you can disable autocasting by passing autocast=False to the base Layer constructor.\n",
      "\n"
     ]
    }
   ],
   "source": [
    "augmented_x = data_augmentation(X_train)\n",
    "augmented_x = np.concatenate((X_train, augmented_x.numpy()))\n",
    "augmented_y = np.concatenate((y_train, y_train))\n",
    "\n",
    "\n",
    "augmented_x2 = data_augmentation(X_train)\n",
    "augmented_x = np.concatenate((augmented_x, augmented_x2.numpy()))\n",
    "augmented_y = np.concatenate((augmented_y, y_train))"
   ]
  },
  {
   "cell_type": "code",
   "execution_count": 33,
   "metadata": {},
   "outputs": [],
   "source": [
    "from sklearn.utils import shuffle\n",
    "X_train, y_train = shuffle(augmented_x, augmented_y, random_state=2048)"
   ]
  },
  {
   "cell_type": "code",
   "execution_count": 34,
   "metadata": {},
   "outputs": [
    {
     "name": "stdout",
     "output_type": "stream",
     "text": [
      "(19668, 128, 128, 3)\n",
      "(19668, 1)\n",
      "(1640, 128, 128, 3)\n",
      "(1640, 1)\n"
     ]
    }
   ],
   "source": [
    "print(X_train.shape)\n",
    "print(y_train.shape)\n",
    "print(X_test.shape)\n",
    "print(y_test.shape)"
   ]
  },
  {
   "cell_type": "code",
   "execution_count": 44,
   "metadata": {},
   "outputs": [
    {
     "name": "stdout",
     "output_type": "stream",
     "text": [
      "Epoch 1/300\n",
      "308/308 [==============================] - 176s 567ms/step - loss: 43.2567 - accuracy: 0.2283 - val_loss: 31.6416 - val_accuracy: 0.2323\n",
      "Epoch 2/300\n",
      "308/308 [==============================] - 168s 544ms/step - loss: 28.8064 - accuracy: 0.2362 - val_loss: 21.6367 - val_accuracy: 0.2335\n",
      "Epoch 3/300\n",
      "308/308 [==============================] - 162s 525ms/step - loss: 19.8632 - accuracy: 0.2459 - val_loss: 15.2540 - val_accuracy: 0.3299\n",
      "Epoch 4/300\n",
      "308/308 [==============================] - 161s 522ms/step - loss: 14.1397 - accuracy: 0.3573 - val_loss: 11.1700 - val_accuracy: 0.4110\n",
      "Epoch 5/300\n",
      "308/308 [==============================] - 162s 526ms/step - loss: 10.4838 - accuracy: 0.4122 - val_loss: 8.5231 - val_accuracy: 0.4384\n",
      "Epoch 6/300\n",
      "308/308 [==============================] - 164s 532ms/step - loss: 8.0600 - accuracy: 0.4423 - val_loss: 6.6440 - val_accuracy: 0.4884\n",
      "Epoch 7/300\n",
      "308/308 [==============================] - 162s 525ms/step - loss: 6.3382 - accuracy: 0.4722 - val_loss: 5.3438 - val_accuracy: 0.4860\n",
      "Epoch 8/300\n",
      "308/308 [==============================] - 160s 520ms/step - loss: 5.0831 - accuracy: 0.4865 - val_loss: 4.3219 - val_accuracy: 0.5067\n",
      "Epoch 9/300\n",
      "308/308 [==============================] - 158s 512ms/step - loss: 4.1701 - accuracy: 0.4955 - val_loss: 3.5818 - val_accuracy: 0.5250\n",
      "Epoch 10/300\n",
      "308/308 [==============================] - 160s 519ms/step - loss: 3.4827 - accuracy: 0.5034 - val_loss: 3.0394 - val_accuracy: 0.5268\n",
      "Epoch 11/300\n",
      "308/308 [==============================] - 161s 524ms/step - loss: 2.9676 - accuracy: 0.5233 - val_loss: 2.6183 - val_accuracy: 0.5445\n",
      "Epoch 12/300\n",
      "308/308 [==============================] - 161s 522ms/step - loss: 2.5844 - accuracy: 0.5266 - val_loss: 2.2952 - val_accuracy: 0.5634\n",
      "Epoch 13/300\n",
      "308/308 [==============================] - 161s 521ms/step - loss: 2.2902 - accuracy: 0.5364 - val_loss: 2.0586 - val_accuracy: 0.5817\n",
      "Epoch 14/300\n",
      "308/308 [==============================] - 159s 517ms/step - loss: 2.0792 - accuracy: 0.5420 - val_loss: 1.8828 - val_accuracy: 0.5823\n",
      "Epoch 15/300\n",
      "308/308 [==============================] - 161s 521ms/step - loss: 1.9135 - accuracy: 0.5479 - val_loss: 1.7428 - val_accuracy: 0.5890\n",
      "Epoch 16/300\n",
      "308/308 [==============================] - 161s 523ms/step - loss: 1.7658 - accuracy: 0.5618 - val_loss: 1.6425 - val_accuracy: 0.5933\n",
      "Epoch 17/300\n",
      "308/308 [==============================] - 158s 512ms/step - loss: 1.6612 - accuracy: 0.5751 - val_loss: 1.5368 - val_accuracy: 0.6134\n",
      "Epoch 18/300\n",
      "308/308 [==============================] - 160s 519ms/step - loss: 1.5835 - accuracy: 0.5792 - val_loss: 1.4595 - val_accuracy: 0.6207\n",
      "Epoch 19/300\n",
      "308/308 [==============================] - 161s 522ms/step - loss: 1.5204 - accuracy: 0.5866 - val_loss: 1.4119 - val_accuracy: 0.6183\n",
      "Epoch 20/300\n",
      "308/308 [==============================] - 160s 518ms/step - loss: 1.4614 - accuracy: 0.5923 - val_loss: 1.3606 - val_accuracy: 0.6323\n",
      "Epoch 21/300\n",
      "308/308 [==============================] - 161s 524ms/step - loss: 1.4135 - accuracy: 0.5989 - val_loss: 1.3360 - val_accuracy: 0.6348\n",
      "Epoch 22/300\n",
      "308/308 [==============================] - 157s 511ms/step - loss: 1.3771 - accuracy: 0.5965 - val_loss: 1.2973 - val_accuracy: 0.6384\n",
      "Epoch 23/300\n",
      "308/308 [==============================] - 161s 522ms/step - loss: 1.3363 - accuracy: 0.6084 - val_loss: 1.2649 - val_accuracy: 0.6470\n",
      "Epoch 24/300\n",
      "308/308 [==============================] - 159s 517ms/step - loss: 1.3095 - accuracy: 0.6148 - val_loss: 1.2392 - val_accuracy: 0.6549\n",
      "Epoch 25/300\n",
      "308/308 [==============================] - 160s 520ms/step - loss: 1.2848 - accuracy: 0.6228 - val_loss: 1.2083 - val_accuracy: 0.6652\n",
      "Epoch 26/300\n",
      "308/308 [==============================] - 160s 521ms/step - loss: 1.2565 - accuracy: 0.6251 - val_loss: 1.1922 - val_accuracy: 0.6652\n",
      "Epoch 27/300\n",
      "308/308 [==============================] - 161s 521ms/step - loss: 1.2359 - accuracy: 0.6358 - val_loss: 1.1735 - val_accuracy: 0.6646\n",
      "Epoch 28/300\n",
      "308/308 [==============================] - 162s 525ms/step - loss: 1.2280 - accuracy: 0.6326 - val_loss: 1.1487 - val_accuracy: 0.6683\n",
      "Epoch 29/300\n",
      "308/308 [==============================] - 159s 517ms/step - loss: 1.2110 - accuracy: 0.6358 - val_loss: 1.1398 - val_accuracy: 0.6738\n",
      "Epoch 30/300\n",
      "308/308 [==============================] - 161s 524ms/step - loss: 1.1796 - accuracy: 0.6482 - val_loss: 1.1326 - val_accuracy: 0.6726\n",
      "Epoch 31/300\n",
      "308/308 [==============================] - 160s 520ms/step - loss: 1.1869 - accuracy: 0.6426 - val_loss: 1.1096 - val_accuracy: 0.6805\n",
      "Epoch 32/300\n",
      "308/308 [==============================] - 161s 523ms/step - loss: 1.1774 - accuracy: 0.6414 - val_loss: 1.1326 - val_accuracy: 0.6640\n",
      "Epoch 33/300\n",
      "308/308 [==============================] - 163s 529ms/step - loss: 1.1576 - accuracy: 0.6519 - val_loss: 1.1190 - val_accuracy: 0.6774\n",
      "Epoch 34/300\n",
      "308/308 [==============================] - 165s 536ms/step - loss: 1.1517 - accuracy: 0.6523 - val_loss: 1.0829 - val_accuracy: 0.6854\n",
      "Epoch 35/300\n",
      "308/308 [==============================] - 160s 521ms/step - loss: 1.1283 - accuracy: 0.6630 - val_loss: 1.0829 - val_accuracy: 0.6988\n",
      "Epoch 36/300\n",
      "308/308 [==============================] - 161s 523ms/step - loss: 1.1383 - accuracy: 0.6599 - val_loss: 1.1065 - val_accuracy: 0.6762\n",
      "Epoch 37/300\n",
      "308/308 [==============================] - 160s 520ms/step - loss: 1.1104 - accuracy: 0.6730 - val_loss: 1.0687 - val_accuracy: 0.6963\n",
      "Epoch 38/300\n",
      "308/308 [==============================] - 160s 519ms/step - loss: 1.1170 - accuracy: 0.6680 - val_loss: 1.0709 - val_accuracy: 0.7000\n",
      "Epoch 39/300\n",
      "308/308 [==============================] - 160s 521ms/step - loss: 1.1025 - accuracy: 0.6745 - val_loss: 1.0703 - val_accuracy: 0.7024\n",
      "Epoch 40/300\n",
      "308/308 [==============================] - 161s 523ms/step - loss: 1.0850 - accuracy: 0.6817 - val_loss: 1.0570 - val_accuracy: 0.6963\n",
      "Epoch 41/300\n",
      "308/308 [==============================] - 161s 523ms/step - loss: 1.0848 - accuracy: 0.6795 - val_loss: 1.0570 - val_accuracy: 0.7055\n",
      "Epoch 42/300\n",
      "308/308 [==============================] - 159s 517ms/step - loss: 1.0770 - accuracy: 0.6927 - val_loss: 1.0544 - val_accuracy: 0.7140\n",
      "Epoch 43/300\n",
      "308/308 [==============================] - 159s 517ms/step - loss: 1.0739 - accuracy: 0.6921 - val_loss: 1.0382 - val_accuracy: 0.7140\n",
      "Epoch 44/300\n",
      "308/308 [==============================] - 160s 519ms/step - loss: 1.0705 - accuracy: 0.6909 - val_loss: 1.0594 - val_accuracy: 0.7018\n",
      "Epoch 45/300\n",
      "308/308 [==============================] - 159s 517ms/step - loss: 1.0672 - accuracy: 0.6900 - val_loss: 1.0565 - val_accuracy: 0.7024\n",
      "Epoch 46/300\n",
      "308/308 [==============================] - 161s 522ms/step - loss: 1.0757 - accuracy: 0.6897 - val_loss: 1.0400 - val_accuracy: 0.7226\n",
      "Epoch 47/300\n",
      "308/308 [==============================] - 159s 517ms/step - loss: 1.0533 - accuracy: 0.7014 - val_loss: 1.0362 - val_accuracy: 0.7128\n",
      "Epoch 48/300\n",
      "308/308 [==============================] - 159s 516ms/step - loss: 1.0484 - accuracy: 0.7059 - val_loss: 1.0388 - val_accuracy: 0.7256\n",
      "Epoch 49/300\n",
      "308/308 [==============================] - 161s 524ms/step - loss: 1.0372 - accuracy: 0.7109 - val_loss: 1.0423 - val_accuracy: 0.7207\n",
      "Epoch 50/300\n",
      "308/308 [==============================] - 161s 522ms/step - loss: 1.0403 - accuracy: 0.7082 - val_loss: 1.0255 - val_accuracy: 0.7268\n",
      "Epoch 51/300\n",
      "308/308 [==============================] - 162s 525ms/step - loss: 1.0170 - accuracy: 0.7230 - val_loss: 1.0630 - val_accuracy: 0.7024\n",
      "Epoch 52/300\n",
      "308/308 [==============================] - 161s 524ms/step - loss: 1.0210 - accuracy: 0.7206 - val_loss: 1.0332 - val_accuracy: 0.7238\n",
      "Epoch 53/300\n",
      "308/308 [==============================] - 162s 526ms/step - loss: 1.0139 - accuracy: 0.7250 - val_loss: 1.0243 - val_accuracy: 0.7317\n",
      "Epoch 54/300\n",
      "308/308 [==============================] - 161s 521ms/step - loss: 1.0074 - accuracy: 0.7294 - val_loss: 1.0492 - val_accuracy: 0.7122\n",
      "Epoch 55/300\n",
      "308/308 [==============================] - 162s 526ms/step - loss: 1.0037 - accuracy: 0.7312 - val_loss: 1.0191 - val_accuracy: 0.7323\n",
      "Epoch 56/300\n",
      "308/308 [==============================] - 160s 519ms/step - loss: 0.9916 - accuracy: 0.7399 - val_loss: 1.0220 - val_accuracy: 0.7305\n",
      "Epoch 57/300\n",
      "308/308 [==============================] - 157s 510ms/step - loss: 0.9982 - accuracy: 0.7335 - val_loss: 1.0159 - val_accuracy: 0.7402\n",
      "Epoch 58/300\n",
      "308/308 [==============================] - 167s 541ms/step - loss: 0.9795 - accuracy: 0.7462 - val_loss: 1.0297 - val_accuracy: 0.7439\n",
      "Epoch 59/300\n",
      "308/308 [==============================] - 163s 528ms/step - loss: 0.9736 - accuracy: 0.7496 - val_loss: 1.0082 - val_accuracy: 0.7457\n",
      "Epoch 60/300\n",
      "308/308 [==============================] - 160s 519ms/step - loss: 0.9718 - accuracy: 0.7525 - val_loss: 1.0168 - val_accuracy: 0.7445\n",
      "Epoch 61/300\n",
      "308/308 [==============================] - 157s 510ms/step - loss: 0.9636 - accuracy: 0.7560 - val_loss: 1.0194 - val_accuracy: 0.7421\n",
      "Epoch 62/300\n",
      "308/308 [==============================] - 160s 520ms/step - loss: 0.9688 - accuracy: 0.7577 - val_loss: 1.0197 - val_accuracy: 0.7390\n",
      "Epoch 63/300\n",
      "308/308 [==============================] - 158s 512ms/step - loss: 0.9555 - accuracy: 0.7570 - val_loss: 1.0368 - val_accuracy: 0.7409\n",
      "Epoch 64/300\n",
      "308/308 [==============================] - 159s 516ms/step - loss: 0.9542 - accuracy: 0.7655 - val_loss: 1.0161 - val_accuracy: 0.7433\n",
      "Epoch 65/300\n",
      "308/308 [==============================] - 161s 522ms/step - loss: 0.9473 - accuracy: 0.7632 - val_loss: 1.0091 - val_accuracy: 0.7530\n",
      "Epoch 66/300\n",
      "308/308 [==============================] - 160s 521ms/step - loss: 0.9480 - accuracy: 0.7698 - val_loss: 1.0332 - val_accuracy: 0.7384\n",
      "Epoch 67/300\n",
      "308/308 [==============================] - 159s 516ms/step - loss: 0.9342 - accuracy: 0.7773 - val_loss: 1.0148 - val_accuracy: 0.7488\n",
      "Epoch 68/300\n",
      "308/308 [==============================] - 161s 523ms/step - loss: 0.9321 - accuracy: 0.7752 - val_loss: 1.0383 - val_accuracy: 0.7372\n",
      "Epoch 69/300\n",
      "308/308 [==============================] - 159s 515ms/step - loss: 0.9206 - accuracy: 0.7856 - val_loss: 1.0188 - val_accuracy: 0.7518\n",
      "Epoch 70/300\n",
      "308/308 [==============================] - 160s 519ms/step - loss: 0.9241 - accuracy: 0.7821 - val_loss: 1.0312 - val_accuracy: 0.7494\n",
      "Epoch 71/300\n",
      "308/308 [==============================] - 160s 521ms/step - loss: 0.9236 - accuracy: 0.7839 - val_loss: 1.0421 - val_accuracy: 0.7402\n",
      "Epoch 72/300\n",
      "308/308 [==============================] - 161s 524ms/step - loss: 0.9088 - accuracy: 0.7938 - val_loss: 1.0252 - val_accuracy: 0.7476\n",
      "Epoch 73/300\n",
      "308/308 [==============================] - 162s 524ms/step - loss: 0.9078 - accuracy: 0.7942 - val_loss: 1.0261 - val_accuracy: 0.7500\n",
      "Epoch 74/300\n",
      "308/308 [==============================] - ETA: 0s - loss: 0.9037 - accuracy: 0.7898Restoring model weights from the end of the best epoch.\n",
      "308/308 [==============================] - 160s 521ms/step - loss: 0.9036 - accuracy: 0.7899 - val_loss: 1.0392 - val_accuracy: 0.7573\n",
      "Epoch 00074: early stopping\n"
     ]
    }
   ],
   "source": [
    "INPUT_SHAPE = (128, 128, 3)\n",
    "\n",
    "model = tf.keras.models.Sequential()\n",
    "\n",
    "model.add(tf.keras.layers.Conv2D(filters=16, kernel_size=(3, 3), strides=(1, 1), \n",
    "                                activation='relu', padding='valid', input_shape=INPUT_SHAPE))\n",
    "model.add(tf.keras.layers.MaxPooling2D(pool_size=(2, 2)))\n",
    "\n",
    "model.add(tf.keras.layers.Conv2D(filters=32, kernel_size=(3, 3), strides=(1, 1), \n",
    "                                activation='relu', padding='valid', input_shape=INPUT_SHAPE))\n",
    "model.add(tf.keras.layers.MaxPooling2D(pool_size=(2, 2)))\n",
    "\n",
    "model.add(tf.keras.layers.Conv2D(filters=64, kernel_size=(3, 3), strides=(1, 1), \n",
    "                                activation='relu', padding='valid', input_shape=INPUT_SHAPE))\n",
    "model.add(tf.keras.layers.MaxPooling2D(pool_size=(2, 2)))\n",
    "\n",
    "# add flatten layer\n",
    "model.add(tf.keras.layers.Flatten())\n",
    "\n",
    "# add dense layers\n",
    "model.add(tf.keras.layers.Dropout(rate=0.4))\n",
    "model.add(tf.keras.layers.Dense(1024, activation='relu', kernel_regularizer = 'l2'))\n",
    "model.add(tf.keras.layers.Dropout(rate=0.4))\n",
    "model.add(tf.keras.layers.Dense(1024, activation='relu', kernel_regularizer = 'l2'))\n",
    "model.add(tf.keras.layers.Dropout(rate=0.3))\n",
    "model.add(tf.keras.layers.Dense(512, activation='relu', kernel_regularizer = 'l2'))\n",
    "model.add(tf.keras.layers.Dropout(rate=0.3))\n",
    "model.add(tf.keras.layers.Dense(512, activation='relu', kernel_regularizer = 'l2'))\n",
    "model.add(tf.keras.layers.Dropout(rate=0.3))\n",
    "model.add(tf.keras.layers.Dense(512, activation='relu', kernel_regularizer = 'l2'))\n",
    "model.add(tf.keras.layers.Dropout(rate=0.3))\n",
    "# add output layer\n",
    "model.add(tf.keras.layers.Dense(5, activation='softmax'))\n",
    "\n",
    "model.compile(optimizer=tf.keras.optimizers.Adam(learning_rate=2e-5),\n",
    "              loss='sparse_categorical_crossentropy',\n",
    "              metrics=['accuracy'])\n",
    "\n",
    "es_callback = tf.keras.callbacks.EarlyStopping(monitor='val_loss', patience=15, \n",
    "                                               restore_best_weights=True,\n",
    "                                               verbose=1)\n",
    "\n",
    "history = model.fit(X_train,\n",
    "                    y_train,\n",
    "                    batch_size = 64, \n",
    "                    callbacks=[es_callback],\n",
    "                    validation_data=(X_test, y_test), \n",
    "                    epochs=300, \n",
    "                    verbose = 1)"
   ]
  },
  {
   "cell_type": "code",
   "execution_count": 45,
   "metadata": {
    "scrolled": true
   },
   "outputs": [
    {
     "data": {
      "image/png": "[encoded data removed]",
      "text/plain": [
       "<Figure size 1080x288 with 2 Axes>"
      ]
     },
     "metadata": {
      "needs_background": "light"
     },
     "output_type": "display_data"
    }
   ],
   "source": [
    "fig, ax = plt.subplots(1, 2, figsize=(15, 4))\n",
    "\n",
    "history_df = pd.DataFrame(history.history)\n",
    "history_df[['loss', 'val_loss']].plot(kind='line', ax=ax[0])\n",
    "history_df[['accuracy', 'val_accuracy']].plot(kind='line', ax=ax[1]);"
   ]
  },
  {
   "cell_type": "markdown",
   "metadata": {},
   "source": [
    "# Predictions with CNN & Regularization"
   ]
  },
  {
   "cell_type": "code",
   "execution_count": 46,
   "metadata": {},
   "outputs": [
    {
     "data": {
      "text/plain": [
       "array(['elefante', 'farfalla', 'mucca', 'pecora', 'scoiattolo'],\n",
       "      dtype='<U10')"
      ]
     },
     "execution_count": 46,
     "metadata": {},
     "output_type": "execute_result"
    }
   ],
   "source": [
    "prediction_labels_test = np.argmax(model.predict(X_test_set_norm), axis=1)\n",
    "prediction_labels_test = le.inverse_transform(prediction_labels_test)\n",
    "predictions = [x.split('_')[0] for x in prediction_labels_test]\n",
    "np.unique(predictions)"
   ]
  },
  {
   "cell_type": "code",
   "execution_count": 47,
   "metadata": {},
   "outputs": [],
   "source": [
    "np.savetxt('/Users/danieljerman/Desktop/data/prediction_cnn_reg.csv', predictions, delimiter=',', fmt='%s')"
   ]
  },
  {
   "cell_type": "code",
   "execution_count": 48,
   "metadata": {
    "scrolled": true
   },
   "outputs": [
    {
     "name": "stdout",
     "output_type": "stream",
     "text": [
      "['farfalla', 'farfalla', 'farfalla', 'farfalla', 'farfalla', 'farfalla', 'elefante', 'pecora', 'scoiattolo', 'pecora', 'pecora', 'elefante', 'elefante', 'scoiattolo', 'scoiattolo', 'farfalla', 'scoiattolo', 'pecora', 'pecora', 'pecora', 'scoiattolo', 'elefante', 'pecora', 'pecora', 'scoiattolo', 'scoiattolo', 'elefante', 'farfalla', 'farfalla', 'farfalla', 'pecora', 'pecora', 'pecora', 'pecora', 'scoiattolo', 'pecora', 'scoiattolo', 'farfalla', 'elefante', 'farfalla', 'farfalla', 'pecora', 'farfalla', 'pecora', 'pecora', 'elefante', 'elefante', 'elefante', 'elefante', 'elefante', 'elefante', 'farfalla', 'farfalla', 'farfalla', 'pecora', 'farfalla', 'farfalla', 'elefante', 'farfalla', 'farfalla', 'scoiattolo', 'farfalla', 'farfalla', 'farfalla', 'mucca', 'pecora', 'pecora', 'scoiattolo', 'farfalla', 'mucca', 'farfalla', 'farfalla', 'pecora', 'pecora', 'pecora', 'farfalla', 'pecora', 'scoiattolo', 'farfalla', 'farfalla', 'farfalla', 'farfalla', 'farfalla', 'elefante', 'farfalla', 'farfalla', 'pecora', 'elefante', 'elefante', 'elefante', 'farfalla', 'elefante', 'elefante', 'elefante', 'elefante', 'scoiattolo', 'farfalla', 'elefante', 'pecora', 'pecora', 'elefante', 'pecora', 'elefante', 'elefante', 'elefante', 'elefante', 'elefante', 'pecora', 'elefante', 'elefante', 'elefante', 'pecora', 'elefante', 'scoiattolo', 'elefante', 'pecora', 'scoiattolo', 'scoiattolo', 'scoiattolo', 'pecora', 'mucca', 'farfalla', 'scoiattolo', 'pecora', 'elefante', 'pecora', 'elefante', 'pecora', 'pecora', 'farfalla', 'pecora', 'scoiattolo', 'pecora', 'pecora', 'pecora', 'farfalla', 'scoiattolo', 'elefante', 'scoiattolo', 'scoiattolo', 'elefante', 'pecora', 'pecora', 'pecora', 'scoiattolo', 'pecora', 'farfalla', 'farfalla', 'scoiattolo', 'scoiattolo', 'elefante', 'pecora', 'farfalla', 'farfalla', 'pecora', 'pecora', 'farfalla', 'scoiattolo', 'pecora', 'scoiattolo', 'pecora', 'farfalla', 'elefante', 'elefante', 'elefante', 'pecora', 'mucca', 'farfalla', 'pecora', 'elefante', 'elefante', 'scoiattolo', 'pecora', 'farfalla', 'elefante', 'farfalla', 'pecora', 'farfalla', 'farfalla', 'mucca', 'farfalla', 'scoiattolo', 'farfalla', 'scoiattolo', 'scoiattolo', 'pecora', 'elefante', 'pecora', 'pecora', 'mucca', 'mucca', 'pecora', 'pecora', 'pecora', 'pecora', 'pecora', 'scoiattolo', 'scoiattolo', 'elefante', 'mucca', 'scoiattolo', 'elefante', 'pecora', 'scoiattolo', 'mucca', 'scoiattolo', 'scoiattolo', 'farfalla', 'farfalla', 'elefante', 'farfalla', 'farfalla', 'farfalla', 'scoiattolo', 'farfalla', 'farfalla', 'farfalla', 'farfalla', 'farfalla', 'elefante', 'scoiattolo', 'elefante', 'farfalla', 'pecora', 'farfalla', 'farfalla', 'elefante', 'mucca', 'pecora', 'pecora', 'scoiattolo', 'elefante', 'elefante', 'pecora', 'elefante', 'farfalla', 'farfalla', 'pecora', 'elefante', 'farfalla', 'farfalla', 'pecora', 'elefante', 'elefante', 'pecora', 'scoiattolo', 'farfalla', 'farfalla', 'farfalla', 'farfalla', 'farfalla', 'farfalla', 'elefante', 'farfalla', 'elefante', 'pecora', 'farfalla', 'farfalla', 'pecora', 'farfalla', 'pecora', 'scoiattolo', 'pecora', 'scoiattolo', 'pecora', 'pecora', 'farfalla', 'farfalla', 'elefante', 'farfalla', 'farfalla', 'farfalla', 'pecora', 'farfalla', 'farfalla', 'farfalla', 'elefante', 'farfalla', 'farfalla', 'farfalla', 'farfalla', 'farfalla', 'farfalla', 'elefante', 'farfalla', 'pecora', 'scoiattolo', 'farfalla', 'farfalla', 'farfalla', 'farfalla', 'farfalla', 'farfalla', 'farfalla', 'farfalla', 'farfalla', 'farfalla', 'farfalla', 'pecora', 'farfalla', 'elefante', 'scoiattolo', 'elefante', 'farfalla', 'pecora', 'elefante', 'elefante', 'elefante', 'pecora', 'pecora', 'elefante', 'farfalla', 'pecora', 'scoiattolo', 'mucca', 'elefante', 'farfalla', 'farfalla', 'farfalla', 'elefante', 'elefante', 'farfalla', 'farfalla', 'farfalla', 'pecora', 'farfalla', 'elefante', 'pecora', 'farfalla', 'pecora', 'elefante', 'scoiattolo', 'pecora', 'elefante', 'pecora', 'scoiattolo', 'pecora', 'scoiattolo', 'farfalla', 'scoiattolo', 'pecora', 'pecora', 'scoiattolo', 'pecora', 'pecora', 'farfalla', 'pecora', 'farfalla', 'farfalla', 'farfalla', 'farfalla', 'elefante', 'elefante', 'elefante', 'elefante', 'elefante', 'scoiattolo', 'pecora', 'pecora', 'elefante', 'elefante', 'elefante', 'pecora', 'pecora', 'scoiattolo', 'farfalla', 'farfalla', 'farfalla', 'farfalla', 'farfalla', 'farfalla', 'farfalla', 'elefante', 'farfalla', 'pecora', 'farfalla', 'farfalla', 'farfalla', 'farfalla', 'elefante', 'farfalla', 'pecora', 'mucca', 'elefante', 'pecora', 'scoiattolo', 'farfalla', 'farfalla', 'farfalla', 'farfalla', 'farfalla', 'scoiattolo', 'elefante', 'pecora', 'farfalla', 'farfalla', 'pecora', 'pecora', 'mucca', 'farfalla', 'farfalla', 'elefante', 'elefante', 'elefante', 'elefante', 'farfalla', 'farfalla', 'pecora', 'pecora', 'farfalla', 'farfalla', 'farfalla', 'farfalla', 'farfalla', 'farfalla', 'farfalla', 'farfalla', 'farfalla', 'farfalla', 'farfalla', 'farfalla', 'pecora', 'farfalla', 'farfalla', 'pecora', 'pecora', 'pecora', 'pecora', 'mucca', 'farfalla', 'farfalla', 'scoiattolo', 'elefante', 'elefante', 'elefante', 'elefante', 'farfalla', 'scoiattolo', 'farfalla', 'farfalla', 'farfalla', 'farfalla', 'pecora', 'farfalla', 'scoiattolo', 'farfalla', 'farfalla', 'farfalla', 'farfalla', 'farfalla', 'pecora', 'pecora', 'scoiattolo', 'farfalla', 'farfalla', 'farfalla', 'farfalla', 'farfalla', 'farfalla', 'farfalla', 'farfalla', 'pecora', 'pecora', 'pecora', 'pecora', 'farfalla', 'pecora', 'farfalla', 'farfalla', 'farfalla', 'scoiattolo', 'pecora', 'farfalla', 'scoiattolo', 'farfalla', 'pecora', 'pecora', 'pecora', 'farfalla', 'scoiattolo', 'mucca', 'farfalla', 'farfalla', 'farfalla', 'farfalla', 'farfalla', 'farfalla', 'pecora', 'farfalla', 'pecora', 'farfalla', 'farfalla', 'farfalla', 'farfalla', 'pecora', 'farfalla', 'pecora', 'scoiattolo', 'farfalla', 'scoiattolo', 'farfalla', 'farfalla', 'farfalla', 'farfalla', 'pecora', 'farfalla', 'farfalla', 'farfalla', 'farfalla', 'scoiattolo', 'pecora', 'pecora', 'pecora', 'pecora', 'scoiattolo', 'pecora', 'pecora', 'pecora', 'pecora', 'mucca', 'scoiattolo', 'elefante', 'elefante', 'farfalla', 'scoiattolo', 'pecora', 'pecora', 'scoiattolo', 'scoiattolo', 'scoiattolo', 'pecora', 'scoiattolo', 'scoiattolo', 'pecora', 'pecora', 'pecora', 'mucca', 'pecora', 'elefante', 'pecora', 'scoiattolo', 'mucca', 'mucca', 'mucca', 'elefante', 'scoiattolo', 'mucca', 'pecora', 'pecora', 'scoiattolo', 'scoiattolo', 'elefante', 'scoiattolo', 'scoiattolo', 'scoiattolo', 'elefante', 'elefante', 'scoiattolo', 'mucca', 'mucca', 'scoiattolo', 'mucca', 'mucca', 'scoiattolo', 'scoiattolo', 'scoiattolo', 'pecora', 'pecora', 'pecora', 'scoiattolo', 'scoiattolo', 'scoiattolo', 'scoiattolo', 'scoiattolo', 'scoiattolo', 'elefante', 'pecora', 'elefante', 'scoiattolo', 'scoiattolo', 'pecora', 'scoiattolo', 'scoiattolo', 'scoiattolo', 'scoiattolo', 'pecora', 'pecora', 'pecora', 'mucca', 'pecora', 'pecora', 'pecora', 'scoiattolo', 'scoiattolo', 'scoiattolo', 'mucca', 'pecora', 'mucca', 'scoiattolo', 'mucca', 'scoiattolo', 'farfalla', 'elefante', 'mucca', 'pecora', 'elefante', 'scoiattolo', 'scoiattolo', 'scoiattolo', 'scoiattolo', 'scoiattolo', 'scoiattolo', 'farfalla', 'pecora', 'scoiattolo', 'pecora', 'scoiattolo', 'elefante', 'scoiattolo', 'scoiattolo', 'scoiattolo', 'mucca', 'scoiattolo', 'pecora', 'scoiattolo', 'mucca', 'pecora', 'mucca', 'scoiattolo', 'scoiattolo', 'scoiattolo', 'scoiattolo', 'mucca', 'scoiattolo', 'mucca', 'scoiattolo', 'mucca', 'mucca', 'scoiattolo', 'mucca', 'scoiattolo', 'scoiattolo', 'scoiattolo', 'farfalla', 'scoiattolo', 'mucca', 'mucca', 'scoiattolo', 'mucca', 'scoiattolo', 'mucca', 'scoiattolo', 'pecora', 'pecora', 'scoiattolo', 'pecora', 'mucca', 'mucca', 'scoiattolo', 'mucca', 'pecora', 'mucca', 'mucca', 'mucca', 'pecora', 'scoiattolo', 'mucca', 'scoiattolo', 'pecora', 'scoiattolo', 'scoiattolo', 'scoiattolo', 'scoiattolo', 'farfalla', 'mucca', 'mucca', 'scoiattolo', 'scoiattolo', 'scoiattolo', 'farfalla', 'scoiattolo', 'scoiattolo', 'pecora', 'pecora', 'elefante', 'scoiattolo', 'mucca', 'scoiattolo', 'mucca', 'mucca', 'pecora', 'mucca', 'mucca', 'mucca', 'farfalla', 'pecora', 'scoiattolo', 'mucca', 'scoiattolo', 'pecora', 'farfalla', 'mucca', 'mucca', 'mucca', 'farfalla', 'scoiattolo', 'pecora', 'mucca', 'scoiattolo', 'mucca', 'scoiattolo', 'pecora', 'scoiattolo', 'mucca', 'scoiattolo', 'mucca', 'scoiattolo', 'pecora', 'scoiattolo', 'scoiattolo', 'mucca', 'scoiattolo', 'scoiattolo', 'mucca', 'scoiattolo', 'elefante', 'mucca', 'elefante', 'farfalla', 'mucca', 'scoiattolo', 'scoiattolo', 'elefante', 'mucca', 'pecora', 'pecora', 'mucca', 'mucca', 'scoiattolo', 'scoiattolo', 'mucca', 'scoiattolo', 'scoiattolo', 'elefante', 'pecora', 'scoiattolo', 'scoiattolo', 'mucca', 'mucca', 'mucca', 'mucca', 'scoiattolo', 'pecora', 'scoiattolo', 'scoiattolo', 'scoiattolo', 'mucca', 'pecora', 'scoiattolo', 'scoiattolo', 'pecora', 'mucca', 'scoiattolo', 'scoiattolo', 'scoiattolo', 'scoiattolo', 'scoiattolo', 'pecora', 'pecora', 'scoiattolo', 'pecora', 'mucca', 'scoiattolo', 'scoiattolo', 'scoiattolo', 'scoiattolo', 'mucca', 'mucca', 'scoiattolo', 'scoiattolo', 'scoiattolo', 'scoiattolo', 'mucca', 'mucca', 'pecora', 'mucca', 'pecora', 'elefante', 'pecora', 'scoiattolo', 'scoiattolo', 'scoiattolo', 'mucca', 'pecora', 'scoiattolo', 'pecora', 'pecora', 'scoiattolo', 'scoiattolo', 'scoiattolo', 'mucca', 'scoiattolo', 'mucca', 'scoiattolo', 'pecora', 'scoiattolo', 'scoiattolo', 'elefante', 'mucca', 'mucca', 'mucca', 'mucca', 'scoiattolo', 'scoiattolo', 'elefante', 'elefante', 'scoiattolo', 'mucca', 'scoiattolo', 'mucca', 'scoiattolo', 'mucca', 'scoiattolo', 'mucca', 'pecora', 'pecora', 'pecora', 'mucca', 'mucca', 'scoiattolo', 'scoiattolo', 'mucca', 'mucca', 'scoiattolo', 'scoiattolo', 'mucca', 'pecora', 'scoiattolo', 'scoiattolo', 'scoiattolo', 'pecora', 'scoiattolo', 'mucca', 'scoiattolo', 'pecora', 'scoiattolo', 'elefante', 'scoiattolo', 'mucca', 'elefante', 'mucca', 'mucca', 'mucca', 'pecora', 'mucca', 'scoiattolo', 'scoiattolo', 'mucca', 'pecora', 'farfalla', 'pecora', 'pecora', 'scoiattolo', 'pecora', 'mucca', 'mucca', 'pecora', 'mucca', 'scoiattolo', 'scoiattolo', 'pecora', 'scoiattolo', 'mucca', 'scoiattolo', 'farfalla', 'scoiattolo', 'scoiattolo', 'mucca', 'scoiattolo', 'scoiattolo', 'scoiattolo', 'mucca', 'mucca', 'farfalla', 'mucca', 'scoiattolo', 'scoiattolo', 'pecora', 'mucca', 'mucca', 'scoiattolo', 'pecora', 'mucca', 'scoiattolo', 'scoiattolo', 'pecora', 'mucca', 'mucca', 'mucca', 'mucca', 'pecora', 'farfalla', 'pecora', 'farfalla', 'scoiattolo', 'scoiattolo', 'scoiattolo', 'scoiattolo', 'scoiattolo', 'scoiattolo']\n"
     ]
    }
   ],
   "source": [
    "print(predictions)"
   ]
  }
 ],
 "metadata": {
  "colab": {
   "collapsed_sections": [],
   "name": "Assignment 2.ipynb",
   "provenance": [
    {
     "file_id": "1FFdp-QroxjbsL3A1JVRCFlZnLtEFMoYF",
     "timestamp": 1599595711787
    },
    {
     "file_id": "https://github.com/dphi-official/Deep_Learning_Bootcamp/blob/master/DL%20For%20Classification/DL_Day6_Binary_Classification.ipynb",
     "timestamp": 1598901583158
    }
   ]
  },
  "kernelspec": {
   "display_name": "Python 3",
   "language": "python",
   "name": "python3"
  },
  "language_info": {
   "codemirror_mode": {
    "name": "ipython",
    "version": 3
   },
   "file_extension": ".py",
   "mimetype": "text/x-python",
   "name": "python",
   "nbconvert_exporter": "python",
   "pygments_lexer": "ipython3",
   "version": "3.8.3"
  }
 },
 "nbformat": 4,
 "nbformat_minor": 1
}
