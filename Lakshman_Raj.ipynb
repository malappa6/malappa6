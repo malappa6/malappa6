{
  "nbformat": 4,
  "nbformat_minor": 0,
  "metadata": {
    "colab": {
      "name": "genuine or not.ipynb",
      "provenance": []
    },
    "kernelspec": {
      "name": "python3",
      "display_name": "Python 3"
    }
  },
  "cells": [
    {
      "cell_type": "code",
      "metadata": {
        "id": "UTXvuAU2k0X7",
        "colab_type": "code",
        "colab": {}
      },
      "source": [
        "import pandas as pd\n",
        "import numpy as np\n",
        "\n",
        "\n",
        "bank_note_data = pd.read_csv(\"https://raw.githubusercontent.com/dphi-official/Datasets/master/bank_note_data/training_set_label.csv\" )"
      ],
      "execution_count": 55,
      "outputs": []
    },
    {
      "cell_type": "code",
      "metadata": {
        "id": "PGwxUAf4lHgG",
        "colab_type": "code",
        "colab": {
          "base_uri": "https://localhost:8080/",
          "height": 195
        },
        "outputId": "687facc2-aa2f-48f8-e808-fe55cb60884a"
      },
      "source": [
        "bank_note_data.head()"
      ],
      "execution_count": 56,
      "outputs": [
        {
          "output_type": "execute_result",
          "data": {
            "text/html": [
              "<div>\n",
              "<style scoped>\n",
              "    .dataframe tbody tr th:only-of-type {\n",
              "        vertical-align: middle;\n",
              "    }\n",
              "\n",
              "    .dataframe tbody tr th {\n",
              "        vertical-align: top;\n",
              "    }\n",
              "\n",
              "    .dataframe thead th {\n",
              "        text-align: right;\n",
              "    }\n",
              "</style>\n",
              "<table border=\"1\" class=\"dataframe\">\n",
              "  <thead>\n",
              "    <tr style=\"text-align: right;\">\n",
              "      <th></th>\n",
              "      <th>VWTI</th>\n",
              "      <th>SWTI</th>\n",
              "      <th>CWTI</th>\n",
              "      <th>EI</th>\n",
              "      <th>Class</th>\n",
              "    </tr>\n",
              "  </thead>\n",
              "  <tbody>\n",
              "    <tr>\n",
              "      <th>0</th>\n",
              "      <td>2.2634</td>\n",
              "      <td>-4.4862</td>\n",
              "      <td>3.6558</td>\n",
              "      <td>-0.612510</td>\n",
              "      <td>0</td>\n",
              "    </tr>\n",
              "    <tr>\n",
              "      <th>1</th>\n",
              "      <td>3.2718</td>\n",
              "      <td>1.7837</td>\n",
              "      <td>2.1161</td>\n",
              "      <td>0.613340</td>\n",
              "      <td>0</td>\n",
              "    </tr>\n",
              "    <tr>\n",
              "      <th>2</th>\n",
              "      <td>-3.9411</td>\n",
              "      <td>-12.8792</td>\n",
              "      <td>13.0597</td>\n",
              "      <td>-3.312500</td>\n",
              "      <td>1</td>\n",
              "    </tr>\n",
              "    <tr>\n",
              "      <th>3</th>\n",
              "      <td>0.5195</td>\n",
              "      <td>-3.2633</td>\n",
              "      <td>3.0895</td>\n",
              "      <td>-0.984900</td>\n",
              "      <td>0</td>\n",
              "    </tr>\n",
              "    <tr>\n",
              "      <th>4</th>\n",
              "      <td>2.5698</td>\n",
              "      <td>-4.4076</td>\n",
              "      <td>5.9856</td>\n",
              "      <td>0.078002</td>\n",
              "      <td>0</td>\n",
              "    </tr>\n",
              "  </tbody>\n",
              "</table>\n",
              "</div>"
            ],
            "text/plain": [
              "     VWTI     SWTI     CWTI        EI  Class\n",
              "0  2.2634  -4.4862   3.6558 -0.612510      0\n",
              "1  3.2718   1.7837   2.1161  0.613340      0\n",
              "2 -3.9411 -12.8792  13.0597 -3.312500      1\n",
              "3  0.5195  -3.2633   3.0895 -0.984900      0\n",
              "4  2.5698  -4.4076   5.9856  0.078002      0"
            ]
          },
          "metadata": {
            "tags": []
          },
          "execution_count": 56
        }
      ]
    },
    {
      "cell_type": "code",
      "metadata": {
        "id": "5xwbqQejlvC2",
        "colab_type": "code",
        "colab": {
          "base_uri": "https://localhost:8080/",
          "height": 118
        },
        "outputId": "8fdf021d-9006-4d9b-d764-3e7c889b053f"
      },
      "source": [
        "bank_note_data.isnull().sum()"
      ],
      "execution_count": 57,
      "outputs": [
        {
          "output_type": "execute_result",
          "data": {
            "text/plain": [
              "VWTI     0\n",
              "SWTI     0\n",
              "CWTI     0\n",
              "EI       0\n",
              "Class    0\n",
              "dtype: int64"
            ]
          },
          "metadata": {
            "tags": []
          },
          "execution_count": 57
        }
      ]
    },
    {
      "cell_type": "code",
      "metadata": {
        "id": "KSnojDoMl_f8",
        "colab_type": "code",
        "colab": {
          "base_uri": "https://localhost:8080/",
          "height": 34
        },
        "outputId": "73a28fdb-266d-470f-efc9-2c6c60857191"
      },
      "source": [
        "bank_note_data.shape"
      ],
      "execution_count": 58,
      "outputs": [
        {
          "output_type": "execute_result",
          "data": {
            "text/plain": [
              "(1096, 5)"
            ]
          },
          "metadata": {
            "tags": []
          },
          "execution_count": 58
        }
      ]
    },
    {
      "cell_type": "code",
      "metadata": {
        "id": "EM7DqV1QmJc5",
        "colab_type": "code",
        "colab": {}
      },
      "source": [
        "X = bank_note_data.drop('Class', axis=1) #Input variables\n",
        "# axis=1 indicates that a column will be dropped\n",
        "y = bank_note_data['Class']  # Target variable"
      ],
      "execution_count": 59,
      "outputs": []
    },
    {
      "cell_type": "code",
      "metadata": {
        "id": "Bupggm1bmZKV",
        "colab_type": "code",
        "colab": {}
      },
      "source": [
        "from sklearn.model_selection import train_test_split\n",
        "X_train, X_test, y_train, y_test = train_test_split(X, y, test_size=0.2, random_state=42)"
      ],
      "execution_count": 60,
      "outputs": []
    },
    {
      "cell_type": "code",
      "metadata": {
        "id": "QaK6-HV2mmgT",
        "colab_type": "code",
        "colab": {
          "base_uri": "https://localhost:8080/",
          "height": 34
        },
        "outputId": "9d91d366-bdf1-40b9-c007-0c2a20b535bc"
      },
      "source": [
        "# find the number of input features\n",
        "X_train.shape[1]"
      ],
      "execution_count": 61,
      "outputs": [
        {
          "output_type": "execute_result",
          "data": {
            "text/plain": [
              "4"
            ]
          },
          "metadata": {
            "tags": []
          },
          "execution_count": 61
        }
      ]
    },
    {
      "cell_type": "code",
      "metadata": {
        "id": "-CyR4Lfsmolh",
        "colab_type": "code",
        "colab": {}
      },
      "source": [
        "# Imports\n",
        "import tensorflow as tf  # Importing the TensorFlow Library\n",
        "from tensorflow import keras  # Import Keras from TensorFlow\n",
        "\n",
        "from tensorflow.keras import Sequential \n",
        "from tensorflow.keras import layers\n",
        "from tensorflow.keras.layers import Dense"
      ],
      "execution_count": 62,
      "outputs": []
    },
    {
      "cell_type": "code",
      "metadata": {
        "id": "i6zuOjKWms1j",
        "colab_type": "code",
        "colab": {}
      },
      "source": [
        "# Building the model\n",
        "model = Sequential()\n",
        "model.add(Dense(16, activation='relu', input_shape=(X_train.shape[1],)))   \n",
        "model.add(Dense(8, activation='relu'))\n",
        "model.add(Dense(4, activation='relu'))\n",
        "model.add(Dense(1, activation='sigmoid'))                                  "
      ],
      "execution_count": 63,
      "outputs": []
    },
    {
      "cell_type": "code",
      "metadata": {
        "id": "Edi6u-SMo57o",
        "colab_type": "code",
        "colab": {}
      },
      "source": [
        "# Compiling the model\n",
        "from tensorflow.keras.optimizers import RMSprop\n",
        "optimizer = RMSprop(0.001)  # Here, we have set our learning rate as 0.001\n",
        "model.compile(loss='binary_crossentropy', optimizer= optimizer , metrics=['accuracy'])"
      ],
      "execution_count": 64,
      "outputs": []
    },
    {
      "cell_type": "code",
      "metadata": {
        "id": "ht_ersTcpNVc",
        "colab_type": "code",
        "colab": {
          "base_uri": "https://localhost:8080/",
          "height": 286
        },
        "outputId": "e42df115-8558-4bff-f7ba-db5b9635fbc7"
      },
      "source": [
        "model.summary()"
      ],
      "execution_count": 65,
      "outputs": [
        {
          "output_type": "stream",
          "text": [
            "Model: \"sequential_2\"\n",
            "_________________________________________________________________\n",
            "Layer (type)                 Output Shape              Param #   \n",
            "=================================================================\n",
            "dense_8 (Dense)              (None, 16)                80        \n",
            "_________________________________________________________________\n",
            "dense_9 (Dense)              (None, 8)                 136       \n",
            "_________________________________________________________________\n",
            "dense_10 (Dense)             (None, 4)                 36        \n",
            "_________________________________________________________________\n",
            "dense_11 (Dense)             (None, 1)                 5         \n",
            "=================================================================\n",
            "Total params: 257\n",
            "Trainable params: 257\n",
            "Non-trainable params: 0\n",
            "_________________________________________________________________\n"
          ],
          "name": "stdout"
        }
      ]
    },
    {
      "cell_type": "code",
      "metadata": {
        "id": "iXeAlY-7pVhm",
        "colab_type": "code",
        "colab": {
          "base_uri": "https://localhost:8080/",
          "height": 1000
        },
        "outputId": "d5561b10-4422-4d5b-edcf-e00036beeb78"
      },
      "source": [
        "history = model.fit(X_train, y_train, validation_split=0.2, epochs=100, batch_size=10, verbose=1)"
      ],
      "execution_count": 66,
      "outputs": [
        {
          "output_type": "stream",
          "text": [
            "Epoch 1/100\n",
            "70/70 [==============================] - 0s 3ms/step - loss: 0.7292 - accuracy: 0.6000 - val_loss: 0.5751 - val_accuracy: 0.6932\n",
            "Epoch 2/100\n",
            "70/70 [==============================] - 0s 1ms/step - loss: 0.5134 - accuracy: 0.7286 - val_loss: 0.4005 - val_accuracy: 0.8693\n",
            "Epoch 3/100\n",
            "70/70 [==============================] - 0s 1ms/step - loss: 0.3316 - accuracy: 0.9443 - val_loss: 0.2235 - val_accuracy: 0.9943\n",
            "Epoch 4/100\n",
            "70/70 [==============================] - 0s 2ms/step - loss: 0.1870 - accuracy: 0.9943 - val_loss: 0.1211 - val_accuracy: 1.0000\n",
            "Epoch 5/100\n",
            "70/70 [==============================] - 0s 2ms/step - loss: 0.1015 - accuracy: 1.0000 - val_loss: 0.0590 - val_accuracy: 1.0000\n",
            "Epoch 6/100\n",
            "70/70 [==============================] - 0s 1ms/step - loss: 0.0560 - accuracy: 0.9957 - val_loss: 0.0324 - val_accuracy: 1.0000\n",
            "Epoch 7/100\n",
            "70/70 [==============================] - 0s 1ms/step - loss: 0.0306 - accuracy: 0.9986 - val_loss: 0.0183 - val_accuracy: 1.0000\n",
            "Epoch 8/100\n",
            "70/70 [==============================] - 0s 1ms/step - loss: 0.0176 - accuracy: 1.0000 - val_loss: 0.0108 - val_accuracy: 1.0000\n",
            "Epoch 9/100\n",
            "70/70 [==============================] - 0s 1ms/step - loss: 0.0106 - accuracy: 1.0000 - val_loss: 0.0068 - val_accuracy: 1.0000\n",
            "Epoch 10/100\n",
            "70/70 [==============================] - 0s 1ms/step - loss: 0.0063 - accuracy: 1.0000 - val_loss: 0.0041 - val_accuracy: 1.0000\n",
            "Epoch 11/100\n",
            "70/70 [==============================] - 0s 1ms/step - loss: 0.0040 - accuracy: 1.0000 - val_loss: 0.0024 - val_accuracy: 1.0000\n",
            "Epoch 12/100\n",
            "70/70 [==============================] - 0s 1ms/step - loss: 0.0023 - accuracy: 1.0000 - val_loss: 0.0014 - val_accuracy: 1.0000\n",
            "Epoch 13/100\n",
            "70/70 [==============================] - 0s 1ms/step - loss: 0.0014 - accuracy: 1.0000 - val_loss: 9.6334e-04 - val_accuracy: 1.0000\n",
            "Epoch 14/100\n",
            "70/70 [==============================] - 0s 1ms/step - loss: 9.7613e-04 - accuracy: 1.0000 - val_loss: 6.5402e-04 - val_accuracy: 1.0000\n",
            "Epoch 15/100\n",
            "70/70 [==============================] - 0s 1ms/step - loss: 6.2466e-04 - accuracy: 1.0000 - val_loss: 4.5693e-04 - val_accuracy: 1.0000\n",
            "Epoch 16/100\n",
            "70/70 [==============================] - 0s 1ms/step - loss: 4.5285e-04 - accuracy: 1.0000 - val_loss: 2.9599e-04 - val_accuracy: 1.0000\n",
            "Epoch 17/100\n",
            "70/70 [==============================] - 0s 1ms/step - loss: 4.7633e-04 - accuracy: 1.0000 - val_loss: 2.3910e-04 - val_accuracy: 1.0000\n",
            "Epoch 18/100\n",
            "70/70 [==============================] - 0s 1ms/step - loss: 4.3865e-04 - accuracy: 1.0000 - val_loss: 1.9327e-04 - val_accuracy: 1.0000\n",
            "Epoch 19/100\n",
            "70/70 [==============================] - 0s 1ms/step - loss: 2.4384e-04 - accuracy: 1.0000 - val_loss: 1.6203e-04 - val_accuracy: 1.0000\n",
            "Epoch 20/100\n",
            "70/70 [==============================] - 0s 1ms/step - loss: 1.4376e-04 - accuracy: 1.0000 - val_loss: 1.0745e-04 - val_accuracy: 1.0000\n",
            "Epoch 21/100\n",
            "70/70 [==============================] - 0s 1ms/step - loss: 1.6831e-04 - accuracy: 1.0000 - val_loss: 8.4510e-05 - val_accuracy: 1.0000\n",
            "Epoch 22/100\n",
            "70/70 [==============================] - 0s 1ms/step - loss: 1.0529e-04 - accuracy: 1.0000 - val_loss: 8.0608e-05 - val_accuracy: 1.0000\n",
            "Epoch 23/100\n",
            "70/70 [==============================] - 0s 2ms/step - loss: 6.4335e-05 - accuracy: 1.0000 - val_loss: 4.4563e-05 - val_accuracy: 1.0000\n",
            "Epoch 24/100\n",
            "70/70 [==============================] - 0s 1ms/step - loss: 1.8743e-04 - accuracy: 1.0000 - val_loss: 4.4925e-05 - val_accuracy: 1.0000\n",
            "Epoch 25/100\n",
            "70/70 [==============================] - 0s 2ms/step - loss: 4.1066e-05 - accuracy: 1.0000 - val_loss: 4.8781e-05 - val_accuracy: 1.0000\n",
            "Epoch 26/100\n",
            "70/70 [==============================] - 0s 2ms/step - loss: 3.8027e-05 - accuracy: 1.0000 - val_loss: 4.3092e-05 - val_accuracy: 1.0000\n",
            "Epoch 27/100\n",
            "70/70 [==============================] - 0s 1ms/step - loss: 3.0453e-05 - accuracy: 1.0000 - val_loss: 3.4969e-05 - val_accuracy: 1.0000\n",
            "Epoch 28/100\n",
            "70/70 [==============================] - 0s 1ms/step - loss: 1.6628e-05 - accuracy: 1.0000 - val_loss: 1.3915e-05 - val_accuracy: 1.0000\n",
            "Epoch 29/100\n",
            "70/70 [==============================] - 0s 1ms/step - loss: 1.2092e-05 - accuracy: 1.0000 - val_loss: 3.6289e-05 - val_accuracy: 1.0000\n",
            "Epoch 30/100\n",
            "70/70 [==============================] - 0s 1ms/step - loss: 7.0309e-06 - accuracy: 1.0000 - val_loss: 5.5937e-06 - val_accuracy: 1.0000\n",
            "Epoch 31/100\n",
            "70/70 [==============================] - 0s 1ms/step - loss: 4.6837e-06 - accuracy: 1.0000 - val_loss: 1.7453e-05 - val_accuracy: 1.0000\n",
            "Epoch 32/100\n",
            "70/70 [==============================] - 0s 1ms/step - loss: 3.0101e-06 - accuracy: 1.0000 - val_loss: 7.8712e-06 - val_accuracy: 1.0000\n",
            "Epoch 33/100\n",
            "70/70 [==============================] - 0s 1ms/step - loss: 2.5958e-06 - accuracy: 1.0000 - val_loss: 6.1730e-06 - val_accuracy: 1.0000\n",
            "Epoch 34/100\n",
            "70/70 [==============================] - 0s 1ms/step - loss: 1.2701e-06 - accuracy: 1.0000 - val_loss: 1.5717e-06 - val_accuracy: 1.0000\n",
            "Epoch 35/100\n",
            "70/70 [==============================] - 0s 1ms/step - loss: 8.3065e-07 - accuracy: 1.0000 - val_loss: 4.1142e-06 - val_accuracy: 1.0000\n",
            "Epoch 36/100\n",
            "70/70 [==============================] - 0s 1ms/step - loss: 3.4375e-06 - accuracy: 1.0000 - val_loss: 1.0653e-06 - val_accuracy: 1.0000\n",
            "Epoch 37/100\n",
            "70/70 [==============================] - 0s 1ms/step - loss: 4.0321e-07 - accuracy: 1.0000 - val_loss: 6.9780e-07 - val_accuracy: 1.0000\n",
            "Epoch 38/100\n",
            "70/70 [==============================] - 0s 1ms/step - loss: 5.1757e-07 - accuracy: 1.0000 - val_loss: 7.1806e-07 - val_accuracy: 1.0000\n",
            "Epoch 39/100\n",
            "70/70 [==============================] - 0s 1ms/step - loss: 2.6728e-07 - accuracy: 1.0000 - val_loss: 3.1829e-07 - val_accuracy: 1.0000\n",
            "Epoch 40/100\n",
            "70/70 [==============================] - 0s 1ms/step - loss: 2.3678e-07 - accuracy: 1.0000 - val_loss: 2.3200e-07 - val_accuracy: 1.0000\n",
            "Epoch 41/100\n",
            "70/70 [==============================] - 0s 1ms/step - loss: 1.4064e-07 - accuracy: 1.0000 - val_loss: 3.0450e-07 - val_accuracy: 1.0000\n",
            "Epoch 42/100\n",
            "70/70 [==============================] - 0s 1ms/step - loss: 8.7581e-08 - accuracy: 1.0000 - val_loss: 1.2954e-07 - val_accuracy: 1.0000\n",
            "Epoch 43/100\n",
            "70/70 [==============================] - 0s 1ms/step - loss: 6.7861e-08 - accuracy: 1.0000 - val_loss: 1.7579e-07 - val_accuracy: 1.0000\n",
            "Epoch 44/100\n",
            "70/70 [==============================] - 0s 1ms/step - loss: 3.8434e-08 - accuracy: 1.0000 - val_loss: 8.3331e-08 - val_accuracy: 1.0000\n",
            "Epoch 45/100\n",
            "70/70 [==============================] - 0s 1ms/step - loss: 3.2054e-08 - accuracy: 1.0000 - val_loss: 5.0970e-08 - val_accuracy: 1.0000\n",
            "Epoch 46/100\n",
            "70/70 [==============================] - 0s 1ms/step - loss: 1.9799e-08 - accuracy: 1.0000 - val_loss: 1.0468e-07 - val_accuracy: 1.0000\n",
            "Epoch 47/100\n",
            "70/70 [==============================] - 0s 1ms/step - loss: 1.4361e-08 - accuracy: 1.0000 - val_loss: 2.8958e-08 - val_accuracy: 1.0000\n",
            "Epoch 48/100\n",
            "70/70 [==============================] - 0s 1ms/step - loss: 1.7065e-08 - accuracy: 1.0000 - val_loss: 6.8315e-08 - val_accuracy: 1.0000\n",
            "Epoch 49/100\n",
            "70/70 [==============================] - 0s 2ms/step - loss: 8.8939e-09 - accuracy: 1.0000 - val_loss: 5.3560e-08 - val_accuracy: 1.0000\n",
            "Epoch 50/100\n",
            "70/70 [==============================] - 0s 1ms/step - loss: 6.7576e-09 - accuracy: 1.0000 - val_loss: 2.3470e-08 - val_accuracy: 1.0000\n",
            "Epoch 51/100\n",
            "70/70 [==============================] - 0s 1ms/step - loss: 6.3363e-09 - accuracy: 1.0000 - val_loss: 2.0692e-08 - val_accuracy: 1.0000\n",
            "Epoch 52/100\n",
            "70/70 [==============================] - 0s 1ms/step - loss: 4.1286e-09 - accuracy: 1.0000 - val_loss: 2.4487e-08 - val_accuracy: 1.0000\n",
            "Epoch 53/100\n",
            "70/70 [==============================] - 0s 1ms/step - loss: 3.3104e-09 - accuracy: 1.0000 - val_loss: 2.0168e-08 - val_accuracy: 1.0000\n",
            "Epoch 54/100\n",
            "70/70 [==============================] - 0s 1ms/step - loss: 2.7270e-09 - accuracy: 1.0000 - val_loss: 1.2595e-08 - val_accuracy: 1.0000\n",
            "Epoch 55/100\n",
            "70/70 [==============================] - 0s 1ms/step - loss: 2.4918e-09 - accuracy: 1.0000 - val_loss: 1.2427e-08 - val_accuracy: 1.0000\n",
            "Epoch 56/100\n",
            "70/70 [==============================] - 0s 2ms/step - loss: 2.4657e-09 - accuracy: 1.0000 - val_loss: 1.9468e-08 - val_accuracy: 1.0000\n",
            "Epoch 57/100\n",
            "70/70 [==============================] - 0s 1ms/step - loss: 1.7804e-09 - accuracy: 1.0000 - val_loss: 9.3982e-09 - val_accuracy: 1.0000\n",
            "Epoch 58/100\n",
            "70/70 [==============================] - 0s 2ms/step - loss: 1.6159e-09 - accuracy: 1.0000 - val_loss: 9.6180e-09 - val_accuracy: 1.0000\n",
            "Epoch 59/100\n",
            "70/70 [==============================] - 0s 1ms/step - loss: 1.4351e-09 - accuracy: 1.0000 - val_loss: 7.0708e-09 - val_accuracy: 1.0000\n",
            "Epoch 60/100\n",
            "70/70 [==============================] - 0s 1ms/step - loss: 1.2695e-09 - accuracy: 1.0000 - val_loss: 1.3351e-08 - val_accuracy: 1.0000\n",
            "Epoch 61/100\n",
            "70/70 [==============================] - 0s 1ms/step - loss: 1.2260e-09 - accuracy: 1.0000 - val_loss: 6.8454e-09 - val_accuracy: 1.0000\n",
            "Epoch 62/100\n",
            "70/70 [==============================] - 0s 1ms/step - loss: 1.0605e-09 - accuracy: 1.0000 - val_loss: 5.0580e-09 - val_accuracy: 1.0000\n",
            "Epoch 63/100\n",
            "70/70 [==============================] - 0s 1ms/step - loss: 1.1064e-09 - accuracy: 1.0000 - val_loss: 5.8223e-09 - val_accuracy: 1.0000\n",
            "Epoch 64/100\n",
            "70/70 [==============================] - 0s 1ms/step - loss: 9.3143e-10 - accuracy: 1.0000 - val_loss: 4.6535e-09 - val_accuracy: 1.0000\n",
            "Epoch 65/100\n",
            "70/70 [==============================] - 0s 1ms/step - loss: 9.2680e-10 - accuracy: 1.0000 - val_loss: 6.6568e-09 - val_accuracy: 1.0000\n",
            "Epoch 66/100\n",
            "70/70 [==============================] - 0s 1ms/step - loss: 8.1398e-10 - accuracy: 1.0000 - val_loss: 4.4762e-09 - val_accuracy: 1.0000\n",
            "Epoch 67/100\n",
            "70/70 [==============================] - 0s 1ms/step - loss: 7.9061e-10 - accuracy: 1.0000 - val_loss: 3.6532e-09 - val_accuracy: 1.0000\n",
            "Epoch 68/100\n",
            "70/70 [==============================] - 0s 1ms/step - loss: 7.9103e-10 - accuracy: 1.0000 - val_loss: 4.9819e-09 - val_accuracy: 1.0000\n",
            "Epoch 69/100\n",
            "70/70 [==============================] - 0s 1ms/step - loss: 6.7521e-10 - accuracy: 1.0000 - val_loss: 3.9050e-09 - val_accuracy: 1.0000\n",
            "Epoch 70/100\n",
            "70/70 [==============================] - 0s 1ms/step - loss: 6.2972e-10 - accuracy: 1.0000 - val_loss: 3.4084e-09 - val_accuracy: 1.0000\n",
            "Epoch 71/100\n",
            "70/70 [==============================] - 0s 1ms/step - loss: 6.1422e-10 - accuracy: 1.0000 - val_loss: 3.6047e-09 - val_accuracy: 1.0000\n",
            "Epoch 72/100\n",
            "70/70 [==============================] - 0s 1ms/step - loss: 6.1972e-10 - accuracy: 1.0000 - val_loss: 3.2770e-09 - val_accuracy: 1.0000\n",
            "Epoch 73/100\n",
            "70/70 [==============================] - 0s 1ms/step - loss: 6.4337e-10 - accuracy: 1.0000 - val_loss: 4.7752e-09 - val_accuracy: 1.0000\n",
            "Epoch 74/100\n",
            "70/70 [==============================] - 0s 1ms/step - loss: 5.1519e-10 - accuracy: 1.0000 - val_loss: 3.5696e-09 - val_accuracy: 1.0000\n",
            "Epoch 75/100\n",
            "70/70 [==============================] - 0s 1ms/step - loss: 5.1929e-10 - accuracy: 1.0000 - val_loss: 3.1247e-09 - val_accuracy: 1.0000\n",
            "Epoch 76/100\n",
            "70/70 [==============================] - 0s 1ms/step - loss: 5.1535e-10 - accuracy: 1.0000 - val_loss: 2.7895e-09 - val_accuracy: 1.0000\n",
            "Epoch 77/100\n",
            "70/70 [==============================] - 0s 1ms/step - loss: 5.4856e-10 - accuracy: 1.0000 - val_loss: 4.5666e-09 - val_accuracy: 1.0000\n",
            "Epoch 78/100\n",
            "70/70 [==============================] - 0s 2ms/step - loss: 4.5087e-10 - accuracy: 1.0000 - val_loss: 3.4962e-09 - val_accuracy: 1.0000\n",
            "Epoch 79/100\n",
            "70/70 [==============================] - 0s 1ms/step - loss: 4.3517e-10 - accuracy: 1.0000 - val_loss: 3.0140e-09 - val_accuracy: 1.0000\n",
            "Epoch 80/100\n",
            "70/70 [==============================] - 0s 1ms/step - loss: 4.5189e-10 - accuracy: 1.0000 - val_loss: 2.5136e-09 - val_accuracy: 1.0000\n",
            "Epoch 81/100\n",
            "70/70 [==============================] - 0s 1ms/step - loss: 4.0683e-10 - accuracy: 1.0000 - val_loss: 2.3875e-09 - val_accuracy: 1.0000\n",
            "Epoch 82/100\n",
            "70/70 [==============================] - 0s 2ms/step - loss: 4.5838e-10 - accuracy: 1.0000 - val_loss: 3.8717e-09 - val_accuracy: 1.0000\n",
            "Epoch 83/100\n",
            "70/70 [==============================] - 0s 2ms/step - loss: 4.0601e-10 - accuracy: 1.0000 - val_loss: 2.8283e-09 - val_accuracy: 1.0000\n",
            "Epoch 84/100\n",
            "70/70 [==============================] - 0s 2ms/step - loss: 3.8687e-10 - accuracy: 1.0000 - val_loss: 2.3806e-09 - val_accuracy: 1.0000\n",
            "Epoch 85/100\n",
            "70/70 [==============================] - 0s 2ms/step - loss: 4.1345e-10 - accuracy: 1.0000 - val_loss: 2.0521e-09 - val_accuracy: 1.0000\n",
            "Epoch 86/100\n",
            "70/70 [==============================] - 0s 1ms/step - loss: 3.8262e-10 - accuracy: 1.0000 - val_loss: 2.0260e-09 - val_accuracy: 1.0000\n",
            "Epoch 87/100\n",
            "70/70 [==============================] - 0s 1ms/step - loss: 3.7852e-10 - accuracy: 1.0000 - val_loss: 1.8827e-09 - val_accuracy: 1.0000\n",
            "Epoch 88/100\n",
            "70/70 [==============================] - 0s 1ms/step - loss: 3.9117e-10 - accuracy: 1.0000 - val_loss: 1.9066e-09 - val_accuracy: 1.0000\n",
            "Epoch 89/100\n",
            "70/70 [==============================] - 0s 1ms/step - loss: 3.8931e-10 - accuracy: 1.0000 - val_loss: 1.8145e-09 - val_accuracy: 1.0000\n",
            "Epoch 90/100\n",
            "70/70 [==============================] - 0s 2ms/step - loss: 4.5708e-10 - accuracy: 1.0000 - val_loss: 2.8738e-09 - val_accuracy: 1.0000\n",
            "Epoch 91/100\n",
            "70/70 [==============================] - 0s 1ms/step - loss: 3.2229e-10 - accuracy: 1.0000 - val_loss: 2.3458e-09 - val_accuracy: 1.0000\n",
            "Epoch 92/100\n",
            "70/70 [==============================] - 0s 2ms/step - loss: 3.1917e-10 - accuracy: 1.0000 - val_loss: 2.0716e-09 - val_accuracy: 1.0000\n",
            "Epoch 93/100\n",
            "70/70 [==============================] - 0s 2ms/step - loss: 3.1595e-10 - accuracy: 1.0000 - val_loss: 1.8779e-09 - val_accuracy: 1.0000\n",
            "Epoch 94/100\n",
            "70/70 [==============================] - 0s 1ms/step - loss: 3.2119e-10 - accuracy: 1.0000 - val_loss: 1.7675e-09 - val_accuracy: 1.0000\n",
            "Epoch 95/100\n",
            "70/70 [==============================] - 0s 1ms/step - loss: 3.2555e-10 - accuracy: 1.0000 - val_loss: 1.6854e-09 - val_accuracy: 1.0000\n",
            "Epoch 96/100\n",
            "70/70 [==============================] - 0s 1ms/step - loss: 3.4042e-10 - accuracy: 1.0000 - val_loss: 1.7373e-09 - val_accuracy: 1.0000\n",
            "Epoch 97/100\n",
            "70/70 [==============================] - 0s 1ms/step - loss: 3.4586e-10 - accuracy: 1.0000 - val_loss: 1.6137e-09 - val_accuracy: 1.0000\n",
            "Epoch 98/100\n",
            "70/70 [==============================] - 0s 1ms/step - loss: 3.1414e-10 - accuracy: 1.0000 - val_loss: 3.2491e-09 - val_accuracy: 1.0000\n",
            "Epoch 99/100\n",
            "70/70 [==============================] - 0s 1ms/step - loss: 2.9323e-10 - accuracy: 1.0000 - val_loss: 2.4285e-09 - val_accuracy: 1.0000\n",
            "Epoch 100/100\n",
            "70/70 [==============================] - 0s 1ms/step - loss: 2.7763e-10 - accuracy: 1.0000 - val_loss: 2.0574e-09 - val_accuracy: 1.0000\n"
          ],
          "name": "stdout"
        }
      ]
    },
    {
      "cell_type": "code",
      "metadata": {
        "id": "rKKOWPXIpm0M",
        "colab_type": "code",
        "colab": {
          "base_uri": "https://localhost:8080/",
          "height": 50
        },
        "outputId": "7673bcf9-512a-40ab-d3af-58b53141ca32"
      },
      "source": [
        "model.evaluate(X_test, y_test)"
      ],
      "execution_count": 67,
      "outputs": [
        {
          "output_type": "stream",
          "text": [
            "7/7 [==============================] - 0s 1ms/step - loss: 1.9099e-09 - accuracy: 1.0000\n"
          ],
          "name": "stdout"
        },
        {
          "output_type": "execute_result",
          "data": {
            "text/plain": [
              "[1.909868485583388e-09, 1.0]"
            ]
          },
          "metadata": {
            "tags": []
          },
          "execution_count": 67
        }
      ]
    },
    {
      "cell_type": "code",
      "metadata": {
        "id": "mZZmQWeJpudI",
        "colab_type": "code",
        "colab": {
          "base_uri": "https://localhost:8080/",
          "height": 295
        },
        "outputId": "0bf2f918-a45f-4016-9821-67b010a16669"
      },
      "source": [
        "import matplotlib.pyplot as plt\n",
        "\n",
        "plt.plot(history.history['accuracy'])\n",
        "plt.plot(history.history['val_accuracy'])\n",
        "plt.title('Model Accuracy')\n",
        "plt.ylabel('accuracy')\n",
        "plt.xlabel('epoch')\n",
        "plt.legend(['Train', 'Validation'])\n",
        "plt.show()"
      ],
      "execution_count": 68,
      "outputs": [
        {
          "output_type": "display_data",
          "data": {
            "image/png": "[encoded data removed]",
            "text/plain": [
              "<Figure size 432x288 with 1 Axes>"
            ]
          },
          "metadata": {
            "tags": [],
            "needs_background": "light"
          }
        }
      ]
    },
    {
      "cell_type": "code",
      "metadata": {
        "id": "n_TjhPS8qER0",
        "colab_type": "code",
        "colab": {
          "base_uri": "https://localhost:8080/",
          "height": 295
        },
        "outputId": "fab00dac-ba2e-4fe9-93b4-154a099cc602"
      },
      "source": [
        "plt.plot(history.history['loss'])\n",
        "plt.plot(history.history['val_loss'])\n",
        "plt.title('Model Loss')\n",
        "plt.ylabel('loss')\n",
        "plt.xlabel('epoch')\n",
        "plt.legend(['Train', 'Validation'])\n",
        "plt.show()"
      ],
      "execution_count": 69,
      "outputs": [
        {
          "output_type": "display_data",
          "data": {
            "image/png": "[encoded data removed]",
            "text/plain": [
              "<Figure size 432x288 with 1 Axes>"
            ]
          },
          "metadata": {
            "tags": [],
            "needs_background": "light"
          }
        }
      ]
    },
    {
      "cell_type": "code",
      "metadata": {
        "id": "tvhdHYBGqLrX",
        "colab_type": "code",
        "colab": {}
      },
      "source": [
        "test_data = pd.read_csv('https://raw.githubusercontent.com/dphi-official/Datasets/master/bank_note_data/testing_set_label.csv')"
      ],
      "execution_count": 70,
      "outputs": []
    },
    {
      "cell_type": "code",
      "metadata": {
        "id": "gnpSBTwgqVto",
        "colab_type": "code",
        "colab": {
          "base_uri": "https://localhost:8080/",
          "height": 195
        },
        "outputId": "40c60966-5b7f-484c-ff61-83e45b973de9"
      },
      "source": [
        "test_data.head()"
      ],
      "execution_count": 71,
      "outputs": [
        {
          "output_type": "execute_result",
          "data": {
            "text/html": [
              "<div>\n",
              "<style scoped>\n",
              "    .dataframe tbody tr th:only-of-type {\n",
              "        vertical-align: middle;\n",
              "    }\n",
              "\n",
              "    .dataframe tbody tr th {\n",
              "        vertical-align: top;\n",
              "    }\n",
              "\n",
              "    .dataframe thead th {\n",
              "        text-align: right;\n",
              "    }\n",
              "</style>\n",
              "<table border=\"1\" class=\"dataframe\">\n",
              "  <thead>\n",
              "    <tr style=\"text-align: right;\">\n",
              "      <th></th>\n",
              "      <th>VWTI</th>\n",
              "      <th>SWTI</th>\n",
              "      <th>CWTI</th>\n",
              "      <th>EI</th>\n",
              "    </tr>\n",
              "  </thead>\n",
              "  <tbody>\n",
              "    <tr>\n",
              "      <th>0</th>\n",
              "      <td>-0.40804</td>\n",
              "      <td>0.54214</td>\n",
              "      <td>-0.52725</td>\n",
              "      <td>0.65860</td>\n",
              "    </tr>\n",
              "    <tr>\n",
              "      <th>1</th>\n",
              "      <td>-3.71810</td>\n",
              "      <td>-8.50890</td>\n",
              "      <td>12.36300</td>\n",
              "      <td>-0.95518</td>\n",
              "    </tr>\n",
              "    <tr>\n",
              "      <th>2</th>\n",
              "      <td>5.50400</td>\n",
              "      <td>10.36710</td>\n",
              "      <td>-4.41300</td>\n",
              "      <td>-4.02110</td>\n",
              "    </tr>\n",
              "    <tr>\n",
              "      <th>3</th>\n",
              "      <td>1.68490</td>\n",
              "      <td>8.74890</td>\n",
              "      <td>-1.26410</td>\n",
              "      <td>-1.38580</td>\n",
              "    </tr>\n",
              "    <tr>\n",
              "      <th>4</th>\n",
              "      <td>4.74320</td>\n",
              "      <td>2.10860</td>\n",
              "      <td>0.13680</td>\n",
              "      <td>1.65430</td>\n",
              "    </tr>\n",
              "  </tbody>\n",
              "</table>\n",
              "</div>"
            ],
            "text/plain": [
              "      VWTI      SWTI      CWTI       EI\n",
              "0 -0.40804   0.54214  -0.52725  0.65860\n",
              "1 -3.71810  -8.50890  12.36300 -0.95518\n",
              "2  5.50400  10.36710  -4.41300 -4.02110\n",
              "3  1.68490   8.74890  -1.26410 -1.38580\n",
              "4  4.74320   2.10860   0.13680  1.65430"
            ]
          },
          "metadata": {
            "tags": []
          },
          "execution_count": 71
        }
      ]
    },
    {
      "cell_type": "code",
      "metadata": {
        "id": "TvzcDgEUqbA1",
        "colab_type": "code",
        "colab": {
          "base_uri": "https://localhost:8080/",
          "height": 101
        },
        "outputId": "3c9b3735-92cc-42da-bbd0-862085fe9c2c"
      },
      "source": [
        "test_data.isnull().sum()"
      ],
      "execution_count": 72,
      "outputs": [
        {
          "output_type": "execute_result",
          "data": {
            "text/plain": [
              "VWTI    0\n",
              "SWTI    0\n",
              "CWTI    0\n",
              "EI      0\n",
              "dtype: int64"
            ]
          },
          "metadata": {
            "tags": []
          },
          "execution_count": 72
        }
      ]
    },
    {
      "cell_type": "code",
      "metadata": {
        "id": "xeNVzqYS0MjC",
        "colab_type": "code",
        "colab": {}
      },
      "source": [
        "pre=model.predict(test_data)"
      ],
      "execution_count": 73,
      "outputs": []
    },
    {
      "cell_type": "code",
      "metadata": {
        "id": "RuoKZRin132C",
        "colab_type": "code",
        "colab": {}
      },
      "source": [
        "def fun(x):\n",
        "\n",
        "    if x == 1:\n",
        "        return 1       \n",
        "    else:\n",
        "      return 0\n"
      ],
      "execution_count": 74,
      "outputs": []
    },
    {
      "cell_type": "code",
      "metadata": {
        "id": "p5BihF3N29Iw",
        "colab_type": "code",
        "colab": {}
      },
      "source": [
        "for i in range(len(pre)):\n",
        "  pre[i]=fun(pre[i]);"
      ],
      "execution_count": 75,
      "outputs": []
    },
    {
      "cell_type": "code",
      "metadata": {
        "id": "LtWpdfs81Ir3",
        "colab_type": "code",
        "colab": {
          "base_uri": "https://localhost:8080/",
          "height": 17
        },
        "outputId": "5b3fa38e-7902-4c8d-bfbd-f5b915e953ac"
      },
      "source": [
        "res = pd.DataFrame(pre)\n",
        "res.index = test_data.index # its important for comparison\n",
        "res.columns = [\"pre\"]\n",
        "\n",
        "# To download the csv file locally\n",
        "from google.colab import files\n",
        "res.to_csv('prediction_results_HP.csv')         \n",
        "files.download('prediction_results_HP.csv')"
      ],
      "execution_count": 76,
      "outputs": [
        {
          "output_type": "display_data",
          "data": {
            "application/javascript": [
              "\n",
              "    async function download(id, filename, size) {\n",
              "      if (!google.colab.kernel.accessAllowed) {\n",
              "        return;\n",
              "      }\n",
              "      const div = document.createElement('div');\n",
              "      const label = document.createElement('label');\n",
              "      label.textContent = `Downloading \"${filename}\": `;\n",
              "      div.appendChild(label);\n",
              "      const progress = document.createElement('progress');\n",
              "      progress.max = size;\n",
              "      div.appendChild(progress);\n",
              "      document.body.appendChild(div);\n",
              "\n",
              "      const buffers = [];\n",
              "      let downloaded = 0;\n",
              "\n",
              "      const channel = await google.colab.kernel.comms.open(id);\n",
              "      // Send a message to notify the kernel that we're ready.\n",
              "      channel.send({})\n",
              "\n",
              "      for await (const message of channel.messages) {\n",
              "        // Send a message to notify the kernel that we're ready.\n",
              "        channel.send({})\n",
              "        if (message.buffers) {\n",
              "          for (const buffer of message.buffers) {\n",
              "            buffers.push(buffer);\n",
              "            downloaded += buffer.byteLength;\n",
              "            progress.value = downloaded;\n",
              "          }\n",
              "        }\n",
              "      }\n",
              "      const blob = new Blob(buffers, {type: 'application/binary'});\n",
              "      const a = document.createElement('a');\n",
              "      a.href = window.URL.createObjectURL(blob);\n",
              "      a.download = filename;\n",
              "      div.appendChild(a);\n",
              "      a.click();\n",
              "      div.remove();\n",
              "    }\n",
              "  "
            ],
            "text/plain": [
              "<IPython.core.display.Javascript object>"
            ]
          },
          "metadata": {
            "tags": []
          }
        },
        {
          "output_type": "display_data",
          "data": {
            "application/javascript": [
              "download(\"download_1348c324-6568-47a1-8556-8ccd67492571\", \"prediction_results_HP.csv\", 2095)"
            ],
            "text/plain": [
              "<IPython.core.display.Javascript object>"
            ]
          },
          "metadata": {
            "tags": []
          }
        }
      ]
    }
  ]
}