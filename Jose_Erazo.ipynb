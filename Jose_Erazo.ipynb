{
 "cells": [
  {
   "cell_type": "markdown",
   "metadata": {
    "colab_type": "text",
    "id": "N8cz53iDAaxC"
   },
   "source": [
    "# Loading Libraries"
   ]
  },
  {
   "cell_type": "code",
   "execution_count": 1,
   "metadata": {
    "colab": {},
    "colab_type": "code",
    "id": "hnryOwcYN9sN"
   },
   "outputs": [],
   "source": [
    "import pandas as pd\n",
    "import numpy as np\n",
    "import matplotlib.pyplot as plt\n",
    "from glob import glob\n",
    "import cv2\n",
    "\n",
    "%matplotlib inline"
   ]
  },
  {
   "cell_type": "code",
   "execution_count": 2,
   "metadata": {
    "colab": {},
    "colab_type": "code",
    "id": "sCS8tn6zOPuW"
   },
   "outputs": [],
   "source": [
    "import tensorflow as tf\n",
    "from tensorflow.keras import Model,Input\n",
    "from tensorflow.keras.layers import Dense, Flatten, Conv2D, MaxPooling2D\n",
    "\n",
    "from tensorflow.keras.applications.vgg16 import VGG16,preprocess_input\n",
    "from tensorflow.keras.preprocessing.image import ImageDataGenerator"
   ]
  },
  {
   "cell_type": "code",
   "execution_count": 3,
   "metadata": {
    "colab": {
     "base_uri": "https://localhost:8080/",
     "height": 33
    },
    "colab_type": "code",
    "id": "GLwUFR9TOeyn",
    "outputId": "59e2d184-4593-4eae-dec5-d85ca2e64c86"
   },
   "outputs": [
    {
     "name": "stdout",
     "output_type": "stream",
     "text": [
      "Drive already mounted at /content/gdrive; to attempt to forcibly remount, call drive.mount(\"/content/gdrive\", force_remount=True).\n"
     ]
    }
   ],
   "source": [
    "from google.colab import drive\n",
    "drive.mount('/content/gdrive')\n"
   ]
  },
  {
   "cell_type": "code",
   "execution_count": 4,
   "metadata": {
    "colab": {},
    "colab_type": "code",
    "id": "VavM5QA7AaBr"
   },
   "outputs": [],
   "source": [
    "from google.colab.patches import cv2_imshow\n",
    "import re\n",
    "import random"
   ]
  },
  {
   "cell_type": "markdown",
   "metadata": {
    "colab_type": "text",
    "id": "haj0aavu974c"
   },
   "source": [
    " # TASK 1: Loading Data "
   ]
  },
  {
   "cell_type": "markdown",
   "metadata": {
    "colab_type": "text",
    "id": "j8NyyIVsrGak"
   },
   "source": [
    "Load the data and save it in appropriate variables. Display an image and its corresponding label. "
   ]
  },
  {
   "cell_type": "code",
   "execution_count": 5,
   "metadata": {
    "colab": {},
    "colab_type": "code",
    "id": "ERLY5XTEOruh"
   },
   "outputs": [],
   "source": [
    "!unzip -q -o  \"/content/gdrive/My Drive/animal_dataset_intermediate.zip\""
   ]
  },
  {
   "cell_type": "code",
   "execution_count": 6,
   "metadata": {
    "colab": {},
    "colab_type": "code",
    "id": "Fm5NX_FdQbhj"
   },
   "outputs": [],
   "source": [
    "train_path = \"animal_dataset_intermediate/train\"\n",
    "test_path = \"animal_dataset_intermediate/test\""
   ]
  },
  {
   "cell_type": "code",
   "execution_count": 47,
   "metadata": {
    "colab": {},
    "colab_type": "code",
    "id": "3wPcQ8fQQgn7"
   },
   "outputs": [],
   "source": [
    "image_files = glob(train_path+\"/*/*.jp*\")\n",
    "random.seed(33)\n",
    "random.shuffle(image_files) #shuffle images\n",
    "test_image_files = glob(test_path+\"/*\")"
   ]
  },
  {
   "cell_type": "code",
   "execution_count": null,
   "metadata": {
    "colab": {
     "base_uri": "https://localhost:8080/",
     "height": 130
    },
    "colab_type": "code",
    "id": "yeFh0vGMQgq8",
    "outputId": "d49ab91f-ec34-4796-fe43-257211c47c21"
   },
   "outputs": [],
   "source": [
    "n = 0   #image number\n",
    "\n",
    "img = cv2.imread(image_files[n],1) \n",
    "cv2_imshow(img)\n",
    "print((re.search(\"\\w*(\\/)\",image_files[n].replace(\"animal_dataset_intermediate/train/\",\"\").replace(\"_train\",\"\"))[0]).replace(\"/\",\"\"))"
   ]
  },
  {
   "cell_type": "markdown",
   "metadata": {
    "colab_type": "text",
    "id": "BLXfnHU_YbG7"
   },
   "source": [
    "Lets take a look at image size"
   ]
  },
  {
   "cell_type": "code",
   "execution_count": 9,
   "metadata": {
    "colab": {
     "base_uri": "https://localhost:8080/",
     "height": 33
    },
    "colab_type": "code",
    "id": "T8r-4RMiQgtq",
    "outputId": "b37b5672-35bf-43d5-c970-c31b7a55ad83"
   },
   "outputs": [
    {
     "data": {
      "text/plain": [
       "(97, 300, 3)"
      ]
     },
     "execution_count": 9,
     "metadata": {
      "tags": []
     },
     "output_type": "execute_result"
    }
   ],
   "source": [
    "img.shape"
   ]
  },
  {
   "cell_type": "markdown",
   "metadata": {
    "colab_type": "text",
    "id": "_hN8JgLOYeOB"
   },
   "source": [
    "We need to fix it to an specific value for our networks input. 224 x 224 is selected as it is a popular image size in a lot of networks."
   ]
  },
  {
   "cell_type": "code",
   "execution_count": 10,
   "metadata": {
    "colab": {},
    "colab_type": "code",
    "id": "ihB92qyER3BL"
   },
   "outputs": [],
   "source": [
    "IMAGE_SIZE=(224,224)"
   ]
  },
  {
   "cell_type": "markdown",
   "metadata": {
    "colab_type": "text",
    "id": "wwFg6JIIXhjI"
   },
   "source": [
    "Lets convert images to an array"
   ]
  },
  {
   "cell_type": "code",
   "execution_count": 11,
   "metadata": {
    "colab": {},
    "colab_type": "code",
    "id": "Tbk2YIz9Xf1n"
   },
   "outputs": [],
   "source": [
    "X = np.array([cv2.resize(cv2.imread(x,1),IMAGE_SIZE) for x in image_files])"
   ]
  },
  {
   "cell_type": "code",
   "execution_count": 12,
   "metadata": {
    "colab": {},
    "colab_type": "code",
    "id": "JOTAKH5sb49j"
   },
   "outputs": [],
   "source": [
    "y = np.array([(re.search(\"\\w*(\\/)\",n.replace(\"animal_dataset_intermediate/train/\",\"\").replace(\"_train\",\"\"))[0]).replace(\"/\",\"\") for n in image_files])"
   ]
  },
  {
   "cell_type": "code",
   "execution_count": 13,
   "metadata": {
    "colab": {
     "base_uri": "https://localhost:8080/",
     "height": 33
    },
    "colab_type": "code",
    "id": "ongxSv4mX37g",
    "outputId": "c2f6610e-2334-4d35-d702-1f44b873bdf6"
   },
   "outputs": [
    {
     "data": {
      "text/plain": [
       "(8162, 224, 224, 3)"
      ]
     },
     "execution_count": 13,
     "metadata": {
      "tags": []
     },
     "output_type": "execute_result"
    }
   ],
   "source": [
    "X.shape"
   ]
  },
  {
   "cell_type": "code",
   "execution_count": 14,
   "metadata": {
    "colab": {
     "base_uri": "https://localhost:8080/",
     "height": 33
    },
    "colab_type": "code",
    "id": "gwdwOl5CbBPx",
    "outputId": "21253810-266b-4533-af09-2998527653da"
   },
   "outputs": [
    {
     "data": {
      "text/plain": [
       "(8162,)"
      ]
     },
     "execution_count": 14,
     "metadata": {
      "tags": []
     },
     "output_type": "execute_result"
    }
   ],
   "source": [
    "y.shape"
   ]
  },
  {
   "cell_type": "markdown",
   "metadata": {
    "colab_type": "text",
    "id": "t7YJbgMKXFKY"
   },
   "source": [
    "# TASK 2: Pre-processing"
   ]
  },
  {
   "cell_type": "markdown",
   "metadata": {
    "colab_type": "text",
    "id": "C9P5JWDBrEZk"
   },
   "source": [
    "Apply the required pre-processing steps on the image data. These may include scaling, converting to grayscale or anything else. Justify your decision about performing those particular pre-processing steps. "
   ]
  },
  {
   "cell_type": "markdown",
   "metadata": {
    "colab_type": "text",
    "id": "kf6UZ6guawmg"
   },
   "source": [
    "Lets start rescaling the data"
   ]
  },
  {
   "cell_type": "code",
   "execution_count": 13,
   "metadata": {
    "colab": {},
    "colab_type": "code",
    "id": "G7Ta2hwLakl5"
   },
   "outputs": [],
   "source": [
    "X = X/255"
   ]
  },
  {
   "cell_type": "markdown",
   "metadata": {
    "colab_type": "text",
    "id": "ghe9Ec70bB1y"
   },
   "source": [
    "Lets encode the output"
   ]
  },
  {
   "cell_type": "code",
   "execution_count": 14,
   "metadata": {
    "colab": {},
    "colab_type": "code",
    "id": "R9KLvv9rfD8D"
   },
   "outputs": [],
   "source": [
    "y_dummy = pd.get_dummies(y)"
   ]
  },
  {
   "cell_type": "code",
   "execution_count": 17,
   "metadata": {
    "colab": {
     "base_uri": "https://localhost:8080/",
     "height": 391
    },
    "colab_type": "code",
    "id": "HjFwBFJJupMO",
    "outputId": "cf044570-5302-48e1-8fde-50d323d1eb16"
   },
   "outputs": [
    {
     "data": {
      "text/html": [
       "<div>\n",
       "<style scoped>\n",
       "    .dataframe tbody tr th:only-of-type {\n",
       "        vertical-align: middle;\n",
       "    }\n",
       "\n",
       "    .dataframe tbody tr th {\n",
       "        vertical-align: top;\n",
       "    }\n",
       "\n",
       "    .dataframe thead th {\n",
       "        text-align: right;\n",
       "    }\n",
       "</style>\n",
       "<table border=\"1\" class=\"dataframe\">\n",
       "  <thead>\n",
       "    <tr style=\"text-align: right;\">\n",
       "      <th></th>\n",
       "      <th>elefante</th>\n",
       "      <th>farfalla</th>\n",
       "      <th>mucca</th>\n",
       "      <th>pecora</th>\n",
       "      <th>scoiattolo</th>\n",
       "    </tr>\n",
       "  </thead>\n",
       "  <tbody>\n",
       "    <tr>\n",
       "      <th>0</th>\n",
       "      <td>0</td>\n",
       "      <td>0</td>\n",
       "      <td>0</td>\n",
       "      <td>0</td>\n",
       "      <td>1</td>\n",
       "    </tr>\n",
       "    <tr>\n",
       "      <th>1</th>\n",
       "      <td>0</td>\n",
       "      <td>0</td>\n",
       "      <td>0</td>\n",
       "      <td>1</td>\n",
       "      <td>0</td>\n",
       "    </tr>\n",
       "    <tr>\n",
       "      <th>2</th>\n",
       "      <td>0</td>\n",
       "      <td>0</td>\n",
       "      <td>0</td>\n",
       "      <td>1</td>\n",
       "      <td>0</td>\n",
       "    </tr>\n",
       "    <tr>\n",
       "      <th>3</th>\n",
       "      <td>1</td>\n",
       "      <td>0</td>\n",
       "      <td>0</td>\n",
       "      <td>0</td>\n",
       "      <td>0</td>\n",
       "    </tr>\n",
       "    <tr>\n",
       "      <th>4</th>\n",
       "      <td>1</td>\n",
       "      <td>0</td>\n",
       "      <td>0</td>\n",
       "      <td>0</td>\n",
       "      <td>0</td>\n",
       "    </tr>\n",
       "    <tr>\n",
       "      <th>...</th>\n",
       "      <td>...</td>\n",
       "      <td>...</td>\n",
       "      <td>...</td>\n",
       "      <td>...</td>\n",
       "      <td>...</td>\n",
       "    </tr>\n",
       "    <tr>\n",
       "      <th>8157</th>\n",
       "      <td>0</td>\n",
       "      <td>0</td>\n",
       "      <td>0</td>\n",
       "      <td>1</td>\n",
       "      <td>0</td>\n",
       "    </tr>\n",
       "    <tr>\n",
       "      <th>8158</th>\n",
       "      <td>1</td>\n",
       "      <td>0</td>\n",
       "      <td>0</td>\n",
       "      <td>0</td>\n",
       "      <td>0</td>\n",
       "    </tr>\n",
       "    <tr>\n",
       "      <th>8159</th>\n",
       "      <td>0</td>\n",
       "      <td>0</td>\n",
       "      <td>0</td>\n",
       "      <td>0</td>\n",
       "      <td>1</td>\n",
       "    </tr>\n",
       "    <tr>\n",
       "      <th>8160</th>\n",
       "      <td>0</td>\n",
       "      <td>1</td>\n",
       "      <td>0</td>\n",
       "      <td>0</td>\n",
       "      <td>0</td>\n",
       "    </tr>\n",
       "    <tr>\n",
       "      <th>8161</th>\n",
       "      <td>0</td>\n",
       "      <td>0</td>\n",
       "      <td>1</td>\n",
       "      <td>0</td>\n",
       "      <td>0</td>\n",
       "    </tr>\n",
       "  </tbody>\n",
       "</table>\n",
       "<p>8162 rows × 5 columns</p>\n",
       "</div>"
      ],
      "text/plain": [
       "      elefante  farfalla  mucca  pecora  scoiattolo\n",
       "0            0         0      0       0           1\n",
       "1            0         0      0       1           0\n",
       "2            0         0      0       1           0\n",
       "3            1         0      0       0           0\n",
       "4            1         0      0       0           0\n",
       "...        ...       ...    ...     ...         ...\n",
       "8157         0         0      0       1           0\n",
       "8158         1         0      0       0           0\n",
       "8159         0         0      0       0           1\n",
       "8160         0         1      0       0           0\n",
       "8161         0         0      1       0           0\n",
       "\n",
       "[8162 rows x 5 columns]"
      ]
     },
     "execution_count": 17,
     "metadata": {
      "tags": []
     },
     "output_type": "execute_result"
    }
   ],
   "source": [
    "y_dummy"
   ]
  },
  {
   "cell_type": "markdown",
   "metadata": {
    "colab_type": "text",
    "id": "EpanUPqaXOUQ"
   },
   "source": [
    "# TASK 3: Building a Multi-Layer Perceptron"
   ]
  },
  {
   "cell_type": "markdown",
   "metadata": {
    "colab_type": "text",
    "id": "Pd4JU7oerCD8"
   },
   "source": [
    "Create a multi-layer perceptron, deciding on the number of layers, neurons and activation functions that should be provided. Print a summary and architecture of the model. Explain the architecture."
   ]
  },
  {
   "cell_type": "code",
   "execution_count": null,
   "metadata": {
    "colab": {},
    "colab_type": "code",
    "id": "F8qRQknVhtgc"
   },
   "outputs": [],
   "source": [
    "N, D = X.reshape(X.shape[0],-1).shape \n",
    "_, K = y_dummy.shape"
   ]
  },
  {
   "cell_type": "code",
   "execution_count": null,
   "metadata": {
    "colab": {},
    "colab_type": "code",
    "id": "_lTPWneTyqbY"
   },
   "outputs": [],
   "source": [
    "tf.keras.backend.clear_session()"
   ]
  },
  {
   "cell_type": "code",
   "execution_count": null,
   "metadata": {
    "colab": {},
    "colab_type": "code",
    "id": "yeJicIe0htoR"
   },
   "outputs": [],
   "source": [
    "m_in = Input(shape=[D,])\n",
    "m = Dense(100,activation = \"relu\")(m_in)\n",
    "m = Dense(50,activation = \"relu\")(m)\n",
    "m = Dense(K,activation = \"softmax\")(m)"
   ]
  },
  {
   "cell_type": "code",
   "execution_count": null,
   "metadata": {
    "colab": {},
    "colab_type": "code",
    "id": "jDElMGM6jTY9"
   },
   "outputs": [],
   "source": [
    "dense_nn = Model(inputs = m_in, outputs = m)"
   ]
  },
  {
   "cell_type": "code",
   "execution_count": null,
   "metadata": {
    "colab": {
     "base_uri": "https://localhost:8080/",
     "height": 289
    },
    "colab_type": "code",
    "id": "MvUb5IMghtrp",
    "outputId": "5cd3d2f0-6ce7-4d14-a9fd-4a6e74b83491"
   },
   "outputs": [
    {
     "name": "stdout",
     "output_type": "stream",
     "text": [
      "Model: \"functional_1\"\n",
      "_________________________________________________________________\n",
      "Layer (type)                 Output Shape              Param #   \n",
      "=================================================================\n",
      "input_1 (InputLayer)         [(None, 150528)]          0         \n",
      "_________________________________________________________________\n",
      "dense (Dense)                (None, 100)               15052900  \n",
      "_________________________________________________________________\n",
      "dense_1 (Dense)              (None, 50)                5050      \n",
      "_________________________________________________________________\n",
      "dense_2 (Dense)              (None, 5)                 255       \n",
      "=================================================================\n",
      "Total params: 15,058,205\n",
      "Trainable params: 15,058,205\n",
      "Non-trainable params: 0\n",
      "_________________________________________________________________\n"
     ]
    }
   ],
   "source": [
    "dense_nn.summary()"
   ]
  },
  {
   "cell_type": "code",
   "execution_count": null,
   "metadata": {
    "colab": {
     "base_uri": "https://localhost:8080/",
     "height": 422
    },
    "colab_type": "code",
    "id": "7l3EMzc5Ay9q",
    "outputId": "248fe727-6cdc-4e17-e78c-717e3f310a26"
   },
   "outputs": [
    {
     "data": {
      "image/png": "[encoded data removed]",
      "text/plain": [
       "<IPython.core.display.Image object>"
      ]
     },
     "execution_count": 23,
     "metadata": {
      "tags": []
     },
     "output_type": "execute_result"
    }
   ],
   "source": [
    "tf.keras.utils.plot_model(dense_nn,show_shapes=True)"
   ]
  },
  {
   "cell_type": "markdown",
   "metadata": {
    "colab_type": "text",
    "id": "4nimnuSjqGu1"
   },
   "source": [
    "# TASK 4: Optimizer"
   ]
  },
  {
   "cell_type": "markdown",
   "metadata": {
    "colab_type": "text",
    "id": "M8I89tUIq_fr"
   },
   "source": [
    "Decide the Learning Rate, Optimizer, Loss Function and Metrics to be used and justify why they were chosen. "
   ]
  },
  {
   "cell_type": "code",
   "execution_count": null,
   "metadata": {
    "colab": {},
    "colab_type": "code",
    "id": "x1K3LuRDk5R9"
   },
   "outputs": [],
   "source": [
    "from tensorflow.keras.optimizers import Adam, SGD\n",
    "\n",
    "dense_nn.compile(loss='categorical_crossentropy',optimizer=Adam(1e-6),metrics=['accuracy'])"
   ]
  },
  {
   "cell_type": "markdown",
   "metadata": {
    "colab_type": "text",
    "id": "q3iy9obAqKcT"
   },
   "source": [
    "# TASK 5: Training the model"
   ]
  },
  {
   "cell_type": "markdown",
   "metadata": {
    "colab_type": "text",
    "id": "NBOSFeDRqOaN"
   },
   "source": [
    "Fit the model to the data by dividing the train data into train and validation set in a ratio of 80:20. Decide the number of epochs and ensure overfitting doesn’t occur."
   ]
  },
  {
   "cell_type": "code",
   "execution_count": null,
   "metadata": {
    "colab": {
     "base_uri": "https://localhost:8080/",
     "height": 1000
    },
    "colab_type": "code",
    "id": "Ve-6KMYyhtuW",
    "outputId": "d2d4c140-9f5a-4dca-8819-0486569bc630"
   },
   "outputs": [
    {
     "name": "stdout",
     "output_type": "stream",
     "text": [
      "Epoch 1/200\n",
      "103/103 [==============================] - 2s 23ms/step - loss: 1.5677 - accuracy: 0.2795 - val_loss: 1.5060 - val_accuracy: 0.3595\n",
      "Epoch 2/200\n",
      "103/103 [==============================] - 2s 18ms/step - loss: 1.4739 - accuracy: 0.3578 - val_loss: 1.4583 - val_accuracy: 0.3748\n",
      "Epoch 3/200\n",
      "103/103 [==============================] - 2s 18ms/step - loss: 1.4339 - accuracy: 0.3893 - val_loss: 1.4408 - val_accuracy: 0.3974\n",
      "Epoch 4/200\n",
      "103/103 [==============================] - 2s 18ms/step - loss: 1.4017 - accuracy: 0.4103 - val_loss: 1.4434 - val_accuracy: 0.3509\n",
      "Epoch 5/200\n",
      "103/103 [==============================] - 2s 18ms/step - loss: 1.3753 - accuracy: 0.4342 - val_loss: 1.3817 - val_accuracy: 0.4366\n",
      "Epoch 6/200\n",
      "103/103 [==============================] - 2s 18ms/step - loss: 1.3490 - accuracy: 0.4403 - val_loss: 1.3714 - val_accuracy: 0.4329\n",
      "Epoch 7/200\n",
      "103/103 [==============================] - 2s 18ms/step - loss: 1.3319 - accuracy: 0.4543 - val_loss: 1.3518 - val_accuracy: 0.4434\n",
      "Epoch 8/200\n",
      "103/103 [==============================] - 2s 18ms/step - loss: 1.3136 - accuracy: 0.4675 - val_loss: 1.3563 - val_accuracy: 0.4213\n",
      "Epoch 9/200\n",
      "103/103 [==============================] - 2s 18ms/step - loss: 1.3002 - accuracy: 0.4796 - val_loss: 1.3318 - val_accuracy: 0.4544\n",
      "Epoch 10/200\n",
      "103/103 [==============================] - 2s 18ms/step - loss: 1.2886 - accuracy: 0.4837 - val_loss: 1.3668 - val_accuracy: 0.4072\n",
      "Epoch 11/200\n",
      "103/103 [==============================] - 2s 18ms/step - loss: 1.2765 - accuracy: 0.4866 - val_loss: 1.3376 - val_accuracy: 0.4287\n",
      "Epoch 12/200\n",
      "103/103 [==============================] - 2s 18ms/step - loss: 1.2610 - accuracy: 0.4961 - val_loss: 1.3248 - val_accuracy: 0.4581\n",
      "Epoch 13/200\n",
      "103/103 [==============================] - 2s 18ms/step - loss: 1.2492 - accuracy: 0.5018 - val_loss: 1.3104 - val_accuracy: 0.4660\n",
      "Epoch 14/200\n",
      "103/103 [==============================] - 2s 18ms/step - loss: 1.2354 - accuracy: 0.5178 - val_loss: 1.3135 - val_accuracy: 0.4611\n",
      "Epoch 15/200\n",
      "103/103 [==============================] - 2s 19ms/step - loss: 1.2222 - accuracy: 0.5181 - val_loss: 1.2941 - val_accuracy: 0.4691\n",
      "Epoch 16/200\n",
      "103/103 [==============================] - 2s 19ms/step - loss: 1.2110 - accuracy: 0.5249 - val_loss: 1.2937 - val_accuracy: 0.4642\n",
      "Epoch 17/200\n",
      "103/103 [==============================] - 2s 19ms/step - loss: 1.2121 - accuracy: 0.5198 - val_loss: 1.2863 - val_accuracy: 0.4832\n",
      "Epoch 18/200\n",
      "103/103 [==============================] - 2s 19ms/step - loss: 1.1979 - accuracy: 0.5292 - val_loss: 1.2851 - val_accuracy: 0.4789\n",
      "Epoch 19/200\n",
      "103/103 [==============================] - 2s 19ms/step - loss: 1.1870 - accuracy: 0.5413 - val_loss: 1.2883 - val_accuracy: 0.4630\n",
      "Epoch 20/200\n",
      "103/103 [==============================] - 2s 19ms/step - loss: 1.1902 - accuracy: 0.5370 - val_loss: 1.2830 - val_accuracy: 0.4703\n",
      "Epoch 21/200\n",
      "103/103 [==============================] - 2s 18ms/step - loss: 1.1703 - accuracy: 0.5466 - val_loss: 1.2698 - val_accuracy: 0.4874\n",
      "Epoch 22/200\n",
      "103/103 [==============================] - 2s 18ms/step - loss: 1.1608 - accuracy: 0.5630 - val_loss: 1.2664 - val_accuracy: 0.4862\n",
      "Epoch 23/200\n",
      "103/103 [==============================] - 2s 18ms/step - loss: 1.1515 - accuracy: 0.5609 - val_loss: 1.2955 - val_accuracy: 0.4427\n",
      "Epoch 24/200\n",
      "103/103 [==============================] - 2s 18ms/step - loss: 1.1552 - accuracy: 0.5514 - val_loss: 1.2612 - val_accuracy: 0.4844\n",
      "Epoch 25/200\n",
      "103/103 [==============================] - 2s 18ms/step - loss: 1.1491 - accuracy: 0.5517 - val_loss: 1.2530 - val_accuracy: 0.4954\n",
      "Epoch 26/200\n",
      "103/103 [==============================] - 2s 18ms/step - loss: 1.1394 - accuracy: 0.5603 - val_loss: 1.2576 - val_accuracy: 0.4881\n",
      "Epoch 27/200\n",
      "103/103 [==============================] - 2s 18ms/step - loss: 1.1252 - accuracy: 0.5711 - val_loss: 1.2669 - val_accuracy: 0.4887\n",
      "Epoch 28/200\n",
      "103/103 [==============================] - 2s 18ms/step - loss: 1.1412 - accuracy: 0.5647 - val_loss: 1.2494 - val_accuracy: 0.4905\n",
      "Epoch 29/200\n",
      "103/103 [==============================] - 2s 18ms/step - loss: 1.1172 - accuracy: 0.5776 - val_loss: 1.2460 - val_accuracy: 0.4966\n",
      "Epoch 30/200\n",
      "103/103 [==============================] - 2s 18ms/step - loss: 1.1052 - accuracy: 0.5848 - val_loss: 1.2506 - val_accuracy: 0.4936\n",
      "Epoch 31/200\n",
      "103/103 [==============================] - 2s 18ms/step - loss: 1.0974 - accuracy: 0.5874 - val_loss: 1.2494 - val_accuracy: 0.4942\n",
      "Epoch 32/200\n",
      "103/103 [==============================] - 2s 18ms/step - loss: 1.0983 - accuracy: 0.5900 - val_loss: 1.2430 - val_accuracy: 0.5003\n",
      "Epoch 33/200\n",
      "103/103 [==============================] - 2s 18ms/step - loss: 1.0867 - accuracy: 0.5918 - val_loss: 1.2496 - val_accuracy: 0.4991\n",
      "Epoch 34/200\n",
      "103/103 [==============================] - 2s 18ms/step - loss: 1.0901 - accuracy: 0.5938 - val_loss: 1.2362 - val_accuracy: 0.5003\n",
      "Epoch 35/200\n",
      "103/103 [==============================] - 2s 18ms/step - loss: 1.0779 - accuracy: 0.5983 - val_loss: 1.2408 - val_accuracy: 0.4948\n",
      "Epoch 36/200\n",
      "103/103 [==============================] - 2s 18ms/step - loss: 1.0752 - accuracy: 0.6004 - val_loss: 1.2542 - val_accuracy: 0.4881\n",
      "Epoch 37/200\n",
      "103/103 [==============================] - 2s 18ms/step - loss: 1.0661 - accuracy: 0.6051 - val_loss: 1.2332 - val_accuracy: 0.5119\n",
      "Epoch 38/200\n",
      "103/103 [==============================] - 2s 18ms/step - loss: 1.0593 - accuracy: 0.6065 - val_loss: 1.2302 - val_accuracy: 0.4942\n",
      "Epoch 39/200\n",
      "103/103 [==============================] - 2s 18ms/step - loss: 1.0514 - accuracy: 0.6110 - val_loss: 1.2239 - val_accuracy: 0.5070\n",
      "Epoch 40/200\n",
      "103/103 [==============================] - 2s 18ms/step - loss: 1.0464 - accuracy: 0.6171 - val_loss: 1.2211 - val_accuracy: 0.4997\n",
      "Epoch 41/200\n",
      "103/103 [==============================] - 2s 18ms/step - loss: 1.0420 - accuracy: 0.6182 - val_loss: 1.2392 - val_accuracy: 0.4972\n",
      "Epoch 42/200\n",
      "103/103 [==============================] - 2s 18ms/step - loss: 1.0475 - accuracy: 0.6111 - val_loss: 1.2292 - val_accuracy: 0.5028\n",
      "Epoch 43/200\n",
      "103/103 [==============================] - 2s 18ms/step - loss: 1.0328 - accuracy: 0.6212 - val_loss: 1.2254 - val_accuracy: 0.5113\n",
      "Epoch 44/200\n",
      "103/103 [==============================] - 2s 18ms/step - loss: 1.0297 - accuracy: 0.6202 - val_loss: 1.2153 - val_accuracy: 0.5107\n",
      "Epoch 45/200\n",
      "103/103 [==============================] - 2s 18ms/step - loss: 1.0191 - accuracy: 0.6297 - val_loss: 1.2253 - val_accuracy: 0.4966\n",
      "Epoch 46/200\n",
      "103/103 [==============================] - 2s 18ms/step - loss: 1.0162 - accuracy: 0.6313 - val_loss: 1.2270 - val_accuracy: 0.5126\n",
      "Epoch 47/200\n",
      "103/103 [==============================] - 2s 18ms/step - loss: 1.0102 - accuracy: 0.6378 - val_loss: 1.2416 - val_accuracy: 0.4850\n",
      "Epoch 48/200\n",
      "103/103 [==============================] - 2s 18ms/step - loss: 1.0180 - accuracy: 0.6310 - val_loss: 1.2207 - val_accuracy: 0.4923\n",
      "Epoch 49/200\n",
      "103/103 [==============================] - 2s 18ms/step - loss: 1.0200 - accuracy: 0.6274 - val_loss: 1.2154 - val_accuracy: 0.5162\n",
      "Epoch 50/200\n",
      "103/103 [==============================] - 2s 18ms/step - loss: 1.0028 - accuracy: 0.6352 - val_loss: 1.2223 - val_accuracy: 0.5021\n",
      "Epoch 51/200\n",
      "103/103 [==============================] - 2s 18ms/step - loss: 0.9915 - accuracy: 0.6460 - val_loss: 1.2313 - val_accuracy: 0.5052\n",
      "Epoch 52/200\n",
      "103/103 [==============================] - 2s 18ms/step - loss: 0.9992 - accuracy: 0.6425 - val_loss: 1.2140 - val_accuracy: 0.5156\n",
      "Epoch 53/200\n",
      "103/103 [==============================] - 2s 18ms/step - loss: 0.9937 - accuracy: 0.6414 - val_loss: 1.2074 - val_accuracy: 0.5015\n",
      "Epoch 54/200\n",
      "103/103 [==============================] - 2s 18ms/step - loss: 0.9831 - accuracy: 0.6476 - val_loss: 1.2233 - val_accuracy: 0.5150\n",
      "Epoch 55/200\n",
      "103/103 [==============================] - 2s 18ms/step - loss: 0.9786 - accuracy: 0.6485 - val_loss: 1.2037 - val_accuracy: 0.5119\n",
      "Epoch 56/200\n",
      "103/103 [==============================] - 2s 18ms/step - loss: 0.9653 - accuracy: 0.6584 - val_loss: 1.2055 - val_accuracy: 0.5162\n",
      "Epoch 57/200\n",
      "103/103 [==============================] - 2s 18ms/step - loss: 0.9641 - accuracy: 0.6617 - val_loss: 1.2002 - val_accuracy: 0.5156\n",
      "Epoch 58/200\n",
      "103/103 [==============================] - 2s 18ms/step - loss: 0.9653 - accuracy: 0.6592 - val_loss: 1.2079 - val_accuracy: 0.5113\n",
      "Epoch 59/200\n",
      "103/103 [==============================] - 2s 18ms/step - loss: 0.9539 - accuracy: 0.6681 - val_loss: 1.2047 - val_accuracy: 0.5126\n",
      "Epoch 60/200\n",
      "103/103 [==============================] - 2s 18ms/step - loss: 0.9600 - accuracy: 0.6594 - val_loss: 1.2030 - val_accuracy: 0.5297\n",
      "Epoch 61/200\n",
      "103/103 [==============================] - 2s 18ms/step - loss: 0.9563 - accuracy: 0.6653 - val_loss: 1.2101 - val_accuracy: 0.5107\n",
      "Epoch 62/200\n",
      "103/103 [==============================] - 2s 18ms/step - loss: 0.9461 - accuracy: 0.6656 - val_loss: 1.2026 - val_accuracy: 0.5126\n",
      "Epoch 63/200\n",
      "103/103 [==============================] - 2s 18ms/step - loss: 0.9427 - accuracy: 0.6698 - val_loss: 1.2111 - val_accuracy: 0.5224\n",
      "Epoch 64/200\n",
      "103/103 [==============================] - 2s 18ms/step - loss: 0.9426 - accuracy: 0.6728 - val_loss: 1.1983 - val_accuracy: 0.5187\n",
      "Epoch 65/200\n",
      "103/103 [==============================] - 2s 18ms/step - loss: 0.9322 - accuracy: 0.6753 - val_loss: 1.1952 - val_accuracy: 0.5175\n",
      "Epoch 66/200\n",
      "103/103 [==============================] - 2s 18ms/step - loss: 0.9262 - accuracy: 0.6840 - val_loss: 1.1953 - val_accuracy: 0.5230\n",
      "Epoch 67/200\n",
      "103/103 [==============================] - 2s 18ms/step - loss: 0.9220 - accuracy: 0.6848 - val_loss: 1.2085 - val_accuracy: 0.5193\n",
      "Epoch 68/200\n",
      "103/103 [==============================] - 2s 18ms/step - loss: 0.9294 - accuracy: 0.6781 - val_loss: 1.1926 - val_accuracy: 0.5138\n",
      "Epoch 69/200\n",
      "103/103 [==============================] - 2s 18ms/step - loss: 0.9184 - accuracy: 0.6830 - val_loss: 1.2016 - val_accuracy: 0.5181\n",
      "Epoch 70/200\n",
      "103/103 [==============================] - 2s 18ms/step - loss: 0.9188 - accuracy: 0.6808 - val_loss: 1.1956 - val_accuracy: 0.5199\n",
      "Epoch 71/200\n",
      "103/103 [==============================] - 2s 18ms/step - loss: 0.9115 - accuracy: 0.6857 - val_loss: 1.2623 - val_accuracy: 0.4764\n",
      "Epoch 72/200\n",
      "103/103 [==============================] - 2s 19ms/step - loss: 0.9191 - accuracy: 0.6781 - val_loss: 1.2001 - val_accuracy: 0.5126\n",
      "Epoch 73/200\n",
      "103/103 [==============================] - 2s 19ms/step - loss: 0.9032 - accuracy: 0.6894 - val_loss: 1.1915 - val_accuracy: 0.5211\n",
      "Epoch 74/200\n",
      "103/103 [==============================] - 2s 18ms/step - loss: 0.8968 - accuracy: 0.7004 - val_loss: 1.1964 - val_accuracy: 0.5254\n",
      "Epoch 75/200\n",
      "103/103 [==============================] - 2s 18ms/step - loss: 0.8991 - accuracy: 0.6905 - val_loss: 1.2032 - val_accuracy: 0.5162\n",
      "Epoch 76/200\n",
      "103/103 [==============================] - 2s 18ms/step - loss: 0.9167 - accuracy: 0.6767 - val_loss: 1.1886 - val_accuracy: 0.5297\n",
      "Epoch 77/200\n",
      "103/103 [==============================] - 2s 18ms/step - loss: 0.8881 - accuracy: 0.6992 - val_loss: 1.1887 - val_accuracy: 0.5224\n",
      "Epoch 78/200\n",
      "103/103 [==============================] - 2s 18ms/step - loss: 0.8813 - accuracy: 0.7049 - val_loss: 1.2026 - val_accuracy: 0.5236\n",
      "Epoch 79/200\n",
      "103/103 [==============================] - 2s 18ms/step - loss: 0.8839 - accuracy: 0.6946 - val_loss: 1.1834 - val_accuracy: 0.5297\n",
      "Epoch 80/200\n",
      "103/103 [==============================] - 2s 18ms/step - loss: 0.8769 - accuracy: 0.7044 - val_loss: 1.2073 - val_accuracy: 0.5236\n",
      "Epoch 81/200\n",
      "103/103 [==============================] - 2s 18ms/step - loss: 0.8775 - accuracy: 0.7026 - val_loss: 1.1963 - val_accuracy: 0.5162\n",
      "Epoch 82/200\n",
      "103/103 [==============================] - 2s 18ms/step - loss: 0.8688 - accuracy: 0.7124 - val_loss: 1.2012 - val_accuracy: 0.5162\n",
      "Epoch 83/200\n",
      "103/103 [==============================] - 2s 18ms/step - loss: 0.8861 - accuracy: 0.6928 - val_loss: 1.1853 - val_accuracy: 0.5303\n",
      "Epoch 84/200\n",
      "103/103 [==============================] - 2s 18ms/step - loss: 0.8640 - accuracy: 0.7121 - val_loss: 1.1882 - val_accuracy: 0.5340\n",
      "Epoch 85/200\n",
      "103/103 [==============================] - 2s 18ms/step - loss: 0.8589 - accuracy: 0.7151 - val_loss: 1.1861 - val_accuracy: 0.5199\n",
      "Epoch 86/200\n",
      "103/103 [==============================] - 2s 18ms/step - loss: 0.8561 - accuracy: 0.7176 - val_loss: 1.1876 - val_accuracy: 0.5315\n",
      "Epoch 87/200\n",
      "103/103 [==============================] - 2s 18ms/step - loss: 0.8544 - accuracy: 0.7140 - val_loss: 1.1861 - val_accuracy: 0.5217\n",
      "Epoch 88/200\n",
      "103/103 [==============================] - 2s 18ms/step - loss: 0.8453 - accuracy: 0.7232 - val_loss: 1.1845 - val_accuracy: 0.5205\n",
      "Epoch 89/200\n",
      "103/103 [==============================] - 2s 18ms/step - loss: 0.8478 - accuracy: 0.7173 - val_loss: 1.1927 - val_accuracy: 0.5144\n",
      "Epoch 90/200\n",
      "103/103 [==============================] - 2s 18ms/step - loss: 0.8413 - accuracy: 0.7240 - val_loss: 1.1813 - val_accuracy: 0.5303\n",
      "Epoch 91/200\n",
      "103/103 [==============================] - 2s 18ms/step - loss: 0.8393 - accuracy: 0.7217 - val_loss: 1.1940 - val_accuracy: 0.5285\n",
      "Epoch 92/200\n",
      "103/103 [==============================] - 2s 18ms/step - loss: 0.8335 - accuracy: 0.7258 - val_loss: 1.1900 - val_accuracy: 0.5266\n",
      "Epoch 93/200\n",
      "103/103 [==============================] - 2s 18ms/step - loss: 0.8331 - accuracy: 0.7231 - val_loss: 1.1846 - val_accuracy: 0.5273\n",
      "Epoch 94/200\n",
      "103/103 [==============================] - 2s 18ms/step - loss: 0.8284 - accuracy: 0.7315 - val_loss: 1.1921 - val_accuracy: 0.5199\n",
      "Epoch 95/200\n",
      "103/103 [==============================] - 2s 18ms/step - loss: 0.8301 - accuracy: 0.7258 - val_loss: 1.1829 - val_accuracy: 0.5321\n",
      "Epoch 96/200\n",
      "103/103 [==============================] - 2s 18ms/step - loss: 0.8238 - accuracy: 0.7303 - val_loss: 1.1936 - val_accuracy: 0.5205\n",
      "Epoch 97/200\n",
      "103/103 [==============================] - 2s 18ms/step - loss: 0.8192 - accuracy: 0.7341 - val_loss: 1.1825 - val_accuracy: 0.5309\n",
      "Epoch 98/200\n",
      "103/103 [==============================] - 2s 18ms/step - loss: 0.8151 - accuracy: 0.7367 - val_loss: 1.1793 - val_accuracy: 0.5358\n",
      "Epoch 99/200\n",
      "103/103 [==============================] - 2s 18ms/step - loss: 0.8115 - accuracy: 0.7398 - val_loss: 1.1988 - val_accuracy: 0.5070\n",
      "Epoch 100/200\n",
      "103/103 [==============================] - 2s 18ms/step - loss: 0.8119 - accuracy: 0.7356 - val_loss: 1.1910 - val_accuracy: 0.5254\n",
      "Epoch 101/200\n",
      "103/103 [==============================] - 2s 18ms/step - loss: 0.8117 - accuracy: 0.7333 - val_loss: 1.1833 - val_accuracy: 0.5279\n",
      "Epoch 102/200\n",
      "103/103 [==============================] - 2s 19ms/step - loss: 0.8021 - accuracy: 0.7412 - val_loss: 1.1851 - val_accuracy: 0.5352\n",
      "Epoch 103/200\n",
      "103/103 [==============================] - 2s 18ms/step - loss: 0.8030 - accuracy: 0.7398 - val_loss: 1.1772 - val_accuracy: 0.5175\n",
      "Epoch 104/200\n",
      "103/103 [==============================] - 2s 18ms/step - loss: 0.7938 - accuracy: 0.7470 - val_loss: 1.1806 - val_accuracy: 0.5199\n",
      "Epoch 105/200\n",
      "103/103 [==============================] - 2s 18ms/step - loss: 0.7918 - accuracy: 0.7467 - val_loss: 1.1831 - val_accuracy: 0.5321\n",
      "Epoch 106/200\n",
      "103/103 [==============================] - 2s 18ms/step - loss: 0.7933 - accuracy: 0.7415 - val_loss: 1.1881 - val_accuracy: 0.5352\n",
      "Epoch 107/200\n",
      "103/103 [==============================] - 2s 18ms/step - loss: 0.7915 - accuracy: 0.7418 - val_loss: 1.1788 - val_accuracy: 0.5260\n",
      "Epoch 108/200\n",
      "103/103 [==============================] - 2s 18ms/step - loss: 0.7889 - accuracy: 0.7476 - val_loss: 1.1842 - val_accuracy: 0.5328\n",
      "Epoch 109/200\n",
      "103/103 [==============================] - 2s 18ms/step - loss: 0.7904 - accuracy: 0.7413 - val_loss: 1.1836 - val_accuracy: 0.5224\n",
      "Epoch 110/200\n",
      "103/103 [==============================] - 2s 18ms/step - loss: 0.7755 - accuracy: 0.7569 - val_loss: 1.1958 - val_accuracy: 0.5291\n",
      "Epoch 111/200\n",
      "103/103 [==============================] - 2s 18ms/step - loss: 0.7735 - accuracy: 0.7543 - val_loss: 1.1768 - val_accuracy: 0.5242\n",
      "Epoch 112/200\n",
      "103/103 [==============================] - 2s 18ms/step - loss: 0.7707 - accuracy: 0.7601 - val_loss: 1.2165 - val_accuracy: 0.5138\n",
      "Epoch 113/200\n",
      "103/103 [==============================] - 2s 18ms/step - loss: 0.7734 - accuracy: 0.7499 - val_loss: 1.1745 - val_accuracy: 0.5346\n",
      "Epoch 114/200\n",
      "103/103 [==============================] - 2s 18ms/step - loss: 0.7706 - accuracy: 0.7526 - val_loss: 1.1812 - val_accuracy: 0.5303\n",
      "Epoch 115/200\n",
      "103/103 [==============================] - 2s 18ms/step - loss: 0.7683 - accuracy: 0.7575 - val_loss: 1.1782 - val_accuracy: 0.5242\n",
      "Epoch 116/200\n",
      "103/103 [==============================] - 2s 18ms/step - loss: 0.7685 - accuracy: 0.7554 - val_loss: 1.1909 - val_accuracy: 0.5346\n",
      "Epoch 117/200\n",
      "103/103 [==============================] - 2s 18ms/step - loss: 0.7700 - accuracy: 0.7560 - val_loss: 1.1757 - val_accuracy: 0.5291\n",
      "Epoch 118/200\n",
      "103/103 [==============================] - 2s 18ms/step - loss: 0.7563 - accuracy: 0.7640 - val_loss: 1.1846 - val_accuracy: 0.5248\n",
      "Epoch 119/200\n",
      "103/103 [==============================] - 2s 18ms/step - loss: 0.7682 - accuracy: 0.7533 - val_loss: 1.1782 - val_accuracy: 0.5352\n",
      "Epoch 120/200\n",
      "103/103 [==============================] - 2s 18ms/step - loss: 0.7469 - accuracy: 0.7735 - val_loss: 1.1728 - val_accuracy: 0.5315\n",
      "Epoch 121/200\n",
      "103/103 [==============================] - 2s 18ms/step - loss: 0.7445 - accuracy: 0.7741 - val_loss: 1.1715 - val_accuracy: 0.5260\n",
      "Epoch 122/200\n",
      "103/103 [==============================] - 2s 18ms/step - loss: 0.7421 - accuracy: 0.7744 - val_loss: 1.1767 - val_accuracy: 0.5395\n",
      "Epoch 123/200\n",
      "103/103 [==============================] - 2s 18ms/step - loss: 0.7419 - accuracy: 0.7727 - val_loss: 1.1829 - val_accuracy: 0.5340\n",
      "Epoch 124/200\n",
      "103/103 [==============================] - 2s 18ms/step - loss: 0.7524 - accuracy: 0.7641 - val_loss: 1.1769 - val_accuracy: 0.5285\n",
      "Epoch 125/200\n",
      "103/103 [==============================] - 2s 18ms/step - loss: 0.7357 - accuracy: 0.7787 - val_loss: 1.1878 - val_accuracy: 0.5389\n",
      "Epoch 126/200\n",
      "103/103 [==============================] - 2s 18ms/step - loss: 0.7323 - accuracy: 0.7796 - val_loss: 1.1725 - val_accuracy: 0.5279\n",
      "Epoch 127/200\n",
      "103/103 [==============================] - 2s 18ms/step - loss: 0.7302 - accuracy: 0.7836 - val_loss: 1.1786 - val_accuracy: 0.5260\n",
      "Epoch 128/200\n",
      "103/103 [==============================] - 2s 18ms/step - loss: 0.7301 - accuracy: 0.7813 - val_loss: 1.1889 - val_accuracy: 0.5358\n",
      "Epoch 129/200\n",
      "103/103 [==============================] - 2s 18ms/step - loss: 0.7278 - accuracy: 0.7801 - val_loss: 1.1913 - val_accuracy: 0.5144\n",
      "Epoch 130/200\n",
      "103/103 [==============================] - 2s 18ms/step - loss: 0.7322 - accuracy: 0.7761 - val_loss: 1.1724 - val_accuracy: 0.5364\n",
      "Epoch 131/200\n",
      "103/103 [==============================] - 2s 18ms/step - loss: 0.7171 - accuracy: 0.7868 - val_loss: 1.1805 - val_accuracy: 0.5156\n",
      "Epoch 132/200\n",
      "103/103 [==============================] - 2s 18ms/step - loss: 0.7194 - accuracy: 0.7830 - val_loss: 1.1708 - val_accuracy: 0.5303\n",
      "Epoch 133/200\n",
      "103/103 [==============================] - 2s 18ms/step - loss: 0.7170 - accuracy: 0.7868 - val_loss: 1.1757 - val_accuracy: 0.5450\n",
      "Epoch 134/200\n",
      "103/103 [==============================] - 2s 18ms/step - loss: 0.7148 - accuracy: 0.7889 - val_loss: 1.1822 - val_accuracy: 0.5370\n",
      "Epoch 135/200\n",
      "103/103 [==============================] - 2s 18ms/step - loss: 0.7122 - accuracy: 0.7903 - val_loss: 1.2022 - val_accuracy: 0.5260\n",
      "Epoch 136/200\n",
      "103/103 [==============================] - 2s 18ms/step - loss: 0.7285 - accuracy: 0.7733 - val_loss: 1.1726 - val_accuracy: 0.5389\n",
      "Epoch 137/200\n",
      "103/103 [==============================] - 2s 18ms/step - loss: 0.7067 - accuracy: 0.7943 - val_loss: 1.1658 - val_accuracy: 0.5279\n",
      "Epoch 138/200\n",
      "103/103 [==============================] - 2s 18ms/step - loss: 0.7047 - accuracy: 0.7938 - val_loss: 1.1701 - val_accuracy: 0.5395\n",
      "Epoch 139/200\n",
      "103/103 [==============================] - 2s 18ms/step - loss: 0.7113 - accuracy: 0.7909 - val_loss: 1.1771 - val_accuracy: 0.5346\n",
      "Epoch 140/200\n",
      "103/103 [==============================] - 2s 18ms/step - loss: 0.6961 - accuracy: 0.7984 - val_loss: 1.1713 - val_accuracy: 0.5383\n",
      "Epoch 141/200\n",
      "103/103 [==============================] - 2s 18ms/step - loss: 0.6920 - accuracy: 0.8020 - val_loss: 1.1697 - val_accuracy: 0.5370\n",
      "Epoch 142/200\n",
      "103/103 [==============================] - 2s 18ms/step - loss: 0.6920 - accuracy: 0.8015 - val_loss: 1.1665 - val_accuracy: 0.5383\n",
      "Epoch 143/200\n",
      "103/103 [==============================] - 2s 18ms/step - loss: 0.6877 - accuracy: 0.8043 - val_loss: 1.1705 - val_accuracy: 0.5358\n",
      "Epoch 144/200\n",
      "103/103 [==============================] - 2s 18ms/step - loss: 0.6891 - accuracy: 0.7994 - val_loss: 1.1751 - val_accuracy: 0.5377\n",
      "Epoch 145/200\n",
      "103/103 [==============================] - 2s 18ms/step - loss: 0.6957 - accuracy: 0.7964 - val_loss: 1.1809 - val_accuracy: 0.5199\n",
      "Epoch 146/200\n",
      "103/103 [==============================] - 2s 18ms/step - loss: 0.6812 - accuracy: 0.8061 - val_loss: 1.1732 - val_accuracy: 0.5309\n",
      "Epoch 147/200\n",
      "103/103 [==============================] - 2s 18ms/step - loss: 0.6857 - accuracy: 0.8050 - val_loss: 1.1801 - val_accuracy: 0.5291\n",
      "Epoch 148/200\n",
      "103/103 [==============================] - 2s 18ms/step - loss: 0.6808 - accuracy: 0.8061 - val_loss: 1.1735 - val_accuracy: 0.5401\n",
      "Epoch 149/200\n",
      "103/103 [==============================] - 2s 18ms/step - loss: 0.6755 - accuracy: 0.8102 - val_loss: 1.1835 - val_accuracy: 0.5383\n",
      "Epoch 150/200\n",
      "103/103 [==============================] - 2s 18ms/step - loss: 0.6826 - accuracy: 0.8059 - val_loss: 1.1671 - val_accuracy: 0.5438\n",
      "Epoch 151/200\n",
      "103/103 [==============================] - 2s 18ms/step - loss: 0.6719 - accuracy: 0.8107 - val_loss: 1.1672 - val_accuracy: 0.5426\n",
      "Epoch 152/200\n",
      "103/103 [==============================] - 2s 18ms/step - loss: 0.6703 - accuracy: 0.8122 - val_loss: 1.1842 - val_accuracy: 0.5346\n",
      "Epoch 153/200\n",
      "103/103 [==============================] - 2s 18ms/step - loss: 0.6656 - accuracy: 0.8148 - val_loss: 1.1709 - val_accuracy: 0.5395\n",
      "Epoch 154/200\n",
      "103/103 [==============================] - 2s 18ms/step - loss: 0.6623 - accuracy: 0.8141 - val_loss: 1.1707 - val_accuracy: 0.5383\n",
      "Epoch 155/200\n",
      "103/103 [==============================] - 2s 18ms/step - loss: 0.6612 - accuracy: 0.8162 - val_loss: 1.1761 - val_accuracy: 0.5419\n",
      "Epoch 156/200\n",
      "103/103 [==============================] - 2s 19ms/step - loss: 0.6632 - accuracy: 0.8115 - val_loss: 1.1660 - val_accuracy: 0.5413\n",
      "Epoch 157/200\n",
      "103/103 [==============================] - 2s 18ms/step - loss: 0.6541 - accuracy: 0.8220 - val_loss: 1.1693 - val_accuracy: 0.5364\n",
      "Epoch 158/200\n",
      "103/103 [==============================] - 2s 18ms/step - loss: 0.6615 - accuracy: 0.8138 - val_loss: 1.1807 - val_accuracy: 0.5419\n",
      "Epoch 159/200\n",
      "103/103 [==============================] - 2s 18ms/step - loss: 0.6538 - accuracy: 0.8176 - val_loss: 1.1671 - val_accuracy: 0.5407\n",
      "Epoch 160/200\n",
      "103/103 [==============================] - 2s 18ms/step - loss: 0.6521 - accuracy: 0.8202 - val_loss: 1.1794 - val_accuracy: 0.5444\n",
      "Epoch 161/200\n",
      "103/103 [==============================] - 2s 18ms/step - loss: 0.6514 - accuracy: 0.8191 - val_loss: 1.1730 - val_accuracy: 0.5352\n",
      "Epoch 162/200\n",
      "103/103 [==============================] - 2s 18ms/step - loss: 0.6487 - accuracy: 0.8242 - val_loss: 1.1910 - val_accuracy: 0.5254\n",
      "Epoch 163/200\n",
      "103/103 [==============================] - 2s 18ms/step - loss: 0.6575 - accuracy: 0.8119 - val_loss: 1.1818 - val_accuracy: 0.5438\n",
      "Epoch 164/200\n",
      "103/103 [==============================] - 2s 18ms/step - loss: 0.6585 - accuracy: 0.8093 - val_loss: 1.1692 - val_accuracy: 0.5346\n",
      "Epoch 165/200\n",
      "103/103 [==============================] - 2s 18ms/step - loss: 0.6462 - accuracy: 0.8259 - val_loss: 1.1712 - val_accuracy: 0.5358\n",
      "Epoch 166/200\n",
      "103/103 [==============================] - 2s 18ms/step - loss: 0.6333 - accuracy: 0.8331 - val_loss: 1.1745 - val_accuracy: 0.5309\n",
      "Epoch 167/200\n",
      "103/103 [==============================] - 2s 18ms/step - loss: 0.6328 - accuracy: 0.8346 - val_loss: 1.1840 - val_accuracy: 0.5285\n",
      "Epoch 168/200\n",
      "103/103 [==============================] - 2s 18ms/step - loss: 0.6349 - accuracy: 0.8277 - val_loss: 1.1792 - val_accuracy: 0.5242\n",
      "Epoch 169/200\n",
      "103/103 [==============================] - 2s 18ms/step - loss: 0.6302 - accuracy: 0.8318 - val_loss: 1.1834 - val_accuracy: 0.5456\n",
      "Epoch 170/200\n",
      "103/103 [==============================] - 2s 18ms/step - loss: 0.6406 - accuracy: 0.8191 - val_loss: 1.1745 - val_accuracy: 0.5426\n",
      "Epoch 171/200\n",
      "103/103 [==============================] - 2s 19ms/step - loss: 0.6260 - accuracy: 0.8335 - val_loss: 1.1764 - val_accuracy: 0.5419\n",
      "Epoch 172/200\n",
      "103/103 [==============================] - 2s 18ms/step - loss: 0.6242 - accuracy: 0.8389 - val_loss: 1.1763 - val_accuracy: 0.5401\n",
      "Epoch 173/200\n",
      "103/103 [==============================] - 2s 18ms/step - loss: 0.6249 - accuracy: 0.8321 - val_loss: 1.1687 - val_accuracy: 0.5334\n",
      "Epoch 174/200\n",
      "103/103 [==============================] - 2s 18ms/step - loss: 0.6206 - accuracy: 0.8357 - val_loss: 1.1673 - val_accuracy: 0.5364\n",
      "Epoch 175/200\n",
      "103/103 [==============================] - 2s 18ms/step - loss: 0.6178 - accuracy: 0.8366 - val_loss: 1.1729 - val_accuracy: 0.5260\n",
      "Epoch 176/200\n",
      "103/103 [==============================] - 2s 18ms/step - loss: 0.6160 - accuracy: 0.8378 - val_loss: 1.1726 - val_accuracy: 0.5419\n",
      "Epoch 177/200\n",
      "103/103 [==============================] - 2s 18ms/step - loss: 0.6130 - accuracy: 0.8403 - val_loss: 1.1685 - val_accuracy: 0.5389\n",
      "Epoch 178/200\n",
      "103/103 [==============================] - 2s 19ms/step - loss: 0.6082 - accuracy: 0.8461 - val_loss: 1.1685 - val_accuracy: 0.5395\n",
      "Epoch 179/200\n",
      "103/103 [==============================] - 2s 19ms/step - loss: 0.6308 - accuracy: 0.8233 - val_loss: 1.1838 - val_accuracy: 0.5279\n",
      "Epoch 180/200\n",
      "103/103 [==============================] - 2s 19ms/step - loss: 0.6165 - accuracy: 0.8353 - val_loss: 1.1683 - val_accuracy: 0.5370\n",
      "Epoch 181/200\n",
      "103/103 [==============================] - 2s 19ms/step - loss: 0.6021 - accuracy: 0.8433 - val_loss: 1.1732 - val_accuracy: 0.5358\n",
      "Epoch 182/200\n",
      "103/103 [==============================] - 2s 19ms/step - loss: 0.6068 - accuracy: 0.8399 - val_loss: 1.1732 - val_accuracy: 0.5395\n",
      "Epoch 183/200\n",
      "103/103 [==============================] - 2s 19ms/step - loss: 0.6003 - accuracy: 0.8427 - val_loss: 1.1671 - val_accuracy: 0.5395\n",
      "Epoch 184/200\n",
      "103/103 [==============================] - 2s 18ms/step - loss: 0.5958 - accuracy: 0.8487 - val_loss: 1.1755 - val_accuracy: 0.5377\n",
      "Epoch 185/200\n",
      "103/103 [==============================] - 2s 18ms/step - loss: 0.5955 - accuracy: 0.8507 - val_loss: 1.1847 - val_accuracy: 0.5389\n",
      "Epoch 186/200\n",
      "103/103 [==============================] - 2s 18ms/step - loss: 0.5925 - accuracy: 0.8502 - val_loss: 1.1719 - val_accuracy: 0.5346\n",
      "Epoch 187/200\n",
      "103/103 [==============================] - 2s 18ms/step - loss: 0.5929 - accuracy: 0.8530 - val_loss: 1.1849 - val_accuracy: 0.5364\n",
      "Epoch 188/200\n",
      "103/103 [==============================] - 2s 18ms/step - loss: 0.5935 - accuracy: 0.8465 - val_loss: 1.1702 - val_accuracy: 0.5450\n",
      "Epoch 189/200\n",
      "103/103 [==============================] - 2s 18ms/step - loss: 0.5923 - accuracy: 0.8476 - val_loss: 1.1692 - val_accuracy: 0.5462\n",
      "Epoch 190/200\n",
      "103/103 [==============================] - 2s 18ms/step - loss: 0.5897 - accuracy: 0.8501 - val_loss: 1.1687 - val_accuracy: 0.5456\n",
      "Epoch 191/200\n",
      "103/103 [==============================] - 2s 18ms/step - loss: 0.5897 - accuracy: 0.8511 - val_loss: 1.1720 - val_accuracy: 0.5285\n",
      "Epoch 192/200\n",
      "103/103 [==============================] - 2s 18ms/step - loss: 0.5869 - accuracy: 0.8513 - val_loss: 1.1713 - val_accuracy: 0.5383\n",
      "Epoch 193/200\n",
      "103/103 [==============================] - 2s 19ms/step - loss: 0.5811 - accuracy: 0.8557 - val_loss: 1.1684 - val_accuracy: 0.5370\n",
      "Epoch 194/200\n",
      "103/103 [==============================] - 2s 18ms/step - loss: 0.5770 - accuracy: 0.8560 - val_loss: 1.1775 - val_accuracy: 0.5377\n",
      "Epoch 195/200\n",
      "103/103 [==============================] - 2s 18ms/step - loss: 0.5831 - accuracy: 0.8553 - val_loss: 1.1799 - val_accuracy: 0.5407\n",
      "Epoch 196/200\n",
      "103/103 [==============================] - 2s 18ms/step - loss: 0.5903 - accuracy: 0.8441 - val_loss: 1.1865 - val_accuracy: 0.5358\n",
      "Epoch 197/200\n",
      "103/103 [==============================] - 2s 18ms/step - loss: 0.5948 - accuracy: 0.8399 - val_loss: 1.1757 - val_accuracy: 0.5315\n",
      "Epoch 198/200\n",
      "103/103 [==============================] - 2s 18ms/step - loss: 0.5670 - accuracy: 0.8632 - val_loss: 1.1731 - val_accuracy: 0.5407\n",
      "Epoch 199/200\n",
      "103/103 [==============================] - 2s 18ms/step - loss: 0.5654 - accuracy: 0.8614 - val_loss: 1.1649 - val_accuracy: 0.5383\n",
      "Epoch 200/200\n",
      "103/103 [==============================] - 2s 18ms/step - loss: 0.5670 - accuracy: 0.8651 - val_loss: 1.1728 - val_accuracy: 0.5370\n"
     ]
    },
    {
     "data": {
      "text/plain": [
       "<tensorflow.python.keras.callbacks.History at 0x7f0ef0050080>"
      ]
     },
     "execution_count": 28,
     "metadata": {
      "tags": []
     },
     "output_type": "execute_result"
    }
   ],
   "source": [
    "dense_nn.fit(X.reshape(X.shape[0],-1),y_dummy, epochs = 200, batch_size=64,validation_split = 0.2) #fit with 20# validation set"
   ]
  },
  {
   "cell_type": "code",
   "execution_count": null,
   "metadata": {
    "colab": {},
    "colab_type": "code",
    "id": "d2XE23-MMOK8"
   },
   "outputs": [],
   "source": [
    "dense_nn.save(\"nn_model.h5\")"
   ]
  },
  {
   "cell_type": "markdown",
   "metadata": {
    "colab_type": "text",
    "id": "W12VHx2zKD0j"
   },
   "source": [
    "# TASK 6: Tensorboard"
   ]
  },
  {
   "cell_type": "markdown",
   "metadata": {
    "colab_type": "text",
    "id": "yxVv_5CqKHF3"
   },
   "source": [
    "Use Tensorboard to display the accuracy and loss graphs of the training. "
   ]
  },
  {
   "cell_type": "markdown",
   "metadata": {
    "colab_type": "text",
    "id": "dGG4oJycKHPx"
   },
   "source": [
    "# TASK 7: Building a Convolutional Neural Network"
   ]
  },
  {
   "cell_type": "markdown",
   "metadata": {
    "colab_type": "text",
    "id": "tdFQawKeKHag"
   },
   "source": [
    "Build a Convolutional Neural Network (CNN) on the given dataset. Decide the number of convolution, pooling layers. Print a summary and architecture of the model. Explain the architecture. Perform all the steps applied on MLP and compare the performances of both. "
   ]
  },
  {
   "cell_type": "code",
   "execution_count": null,
   "metadata": {
    "colab": {
     "base_uri": "https://localhost:8080/",
     "height": 595
    },
    "colab_type": "code",
    "id": "SEhM0xHNK7Mr",
    "outputId": "a34a1940-37be-402f-a351-a06920d93022"
   },
   "outputs": [
    {
     "name": "stdout",
     "output_type": "stream",
     "text": [
      "Model: \"functional_3\"\n",
      "_________________________________________________________________\n",
      "Layer (type)                 Output Shape              Param #   \n",
      "=================================================================\n",
      "input_2 (InputLayer)         [(None, 224, 224, 3)]     0         \n",
      "_________________________________________________________________\n",
      "conv2d (Conv2D)              (None, 224, 224, 64)      1792      \n",
      "_________________________________________________________________\n",
      "conv2d_1 (Conv2D)            (None, 112, 112, 64)      36928     \n",
      "_________________________________________________________________\n",
      "conv2d_2 (Conv2D)            (None, 112, 112, 128)     73856     \n",
      "_________________________________________________________________\n",
      "conv2d_3 (Conv2D)            (None, 56, 56, 128)       147584    \n",
      "_________________________________________________________________\n",
      "conv2d_4 (Conv2D)            (None, 56, 56, 256)       295168    \n",
      "_________________________________________________________________\n",
      "conv2d_5 (Conv2D)            (None, 56, 56, 256)       590080    \n",
      "_________________________________________________________________\n",
      "conv2d_6 (Conv2D)            (None, 28, 28, 512)       1180160   \n",
      "_________________________________________________________________\n",
      "conv2d_7 (Conv2D)            (None, 28, 28, 512)       2359808   \n",
      "_________________________________________________________________\n",
      "conv2d_8 (Conv2D)            (None, 28, 28, 512)       2359808   \n",
      "_________________________________________________________________\n",
      "conv2d_9 (Conv2D)            (None, 14, 14, 512)       2359808   \n",
      "_________________________________________________________________\n",
      "flatten (Flatten)            (None, 100352)            0         \n",
      "_________________________________________________________________\n",
      "dense_3 (Dense)              (None, 5)                 501765    \n",
      "=================================================================\n",
      "Total params: 9,906,757\n",
      "Trainable params: 9,906,757\n",
      "Non-trainable params: 0\n",
      "_________________________________________________________________\n"
     ]
    }
   ],
   "source": [
    "input = Input(shape=(224,224,3))\n",
    "m = Conv2D(64,(3,3),padding = \"same\") (input)\n",
    "m = Conv2D(64,(3,3),padding = \"same\", strides = 2) (m)\n",
    "m = Conv2D(128,(3,3),padding = \"same\") (m)\n",
    "m = Conv2D(128,(3,3),padding = \"same\", strides = 2) (m)\n",
    "m = Conv2D(256,(3,3),padding = \"same\") (m)\n",
    "m = Conv2D(256,(3,3),padding = \"same\") (m)\n",
    "m = Conv2D(512,(3,3),padding = \"same\", strides = 2) (m)\n",
    "m = Conv2D(512,(3,3),padding = \"same\") (m)\n",
    "m = Conv2D(512,(3,3),padding = \"same\") (m)\n",
    "m = Conv2D(512,(3,3),padding = \"same\", strides = 2) (m)\n",
    "m = Flatten()(m)\n",
    "m = Dense(K, activation = \"softmax\")(m)\n",
    "\n",
    "conv_model = Model(inputs= input, outputs = m)\n",
    "\n",
    "conv_model.summary()"
   ]
  },
  {
   "cell_type": "code",
   "execution_count": null,
   "metadata": {
    "colab": {},
    "colab_type": "code",
    "id": "mkxY59O3O13f"
   },
   "outputs": [],
   "source": [
    "conv_model.compile(loss = \"categorical_crossentropy\",metrics=[\"accuracy\"],optimizer = \"adam\")"
   ]
  },
  {
   "cell_type": "code",
   "execution_count": null,
   "metadata": {
    "colab": {
     "base_uri": "https://localhost:8080/",
     "height": 1000
    },
    "colab_type": "code",
    "id": "R4LciP-RPF4i",
    "outputId": "de0a7f10-a11f-4d07-9c07-350b0355515d"
   },
   "outputs": [
    {
     "name": "stdout",
     "output_type": "stream",
     "text": [
      "Epoch 1/200\n",
      "  2/103 [..............................] - ETA: 10s - loss: 17.3644 - accuracy: 0.1797WARNING:tensorflow:Callbacks method `on_train_batch_end` is slow compared to the batch time (batch time: 0.0742s vs `on_train_batch_end` time: 0.1351s). Check your callbacks.\n",
      "103/103 [==============================] - 25s 239ms/step - loss: 445.4943 - accuracy: 0.2175 - val_loss: 2.2223 - val_accuracy: 0.2076\n",
      "Epoch 2/200\n",
      "103/103 [==============================] - 24s 230ms/step - loss: 1.6164 - accuracy: 0.2970 - val_loss: 2.1833 - val_accuracy: 0.2156\n",
      "Epoch 3/200\n",
      "103/103 [==============================] - 24s 230ms/step - loss: 1.5903 - accuracy: 0.3301 - val_loss: 2.4280 - val_accuracy: 0.1911\n",
      "Epoch 4/200\n",
      "103/103 [==============================] - 24s 231ms/step - loss: 1.5303 - accuracy: 0.3575 - val_loss: 1.6417 - val_accuracy: 0.3092\n",
      "Epoch 5/200\n",
      "103/103 [==============================] - 24s 231ms/step - loss: 1.4815 - accuracy: 0.3627 - val_loss: 1.4601 - val_accuracy: 0.3717\n",
      "Epoch 6/200\n",
      "103/103 [==============================] - 24s 231ms/step - loss: 1.4510 - accuracy: 0.3821 - val_loss: 1.6914 - val_accuracy: 0.3374\n",
      "Epoch 7/200\n",
      "103/103 [==============================] - 24s 231ms/step - loss: 1.4414 - accuracy: 0.3933 - val_loss: 2.7103 - val_accuracy: 0.2547\n",
      "Epoch 8/200\n",
      "103/103 [==============================] - 24s 231ms/step - loss: 1.8330 - accuracy: 0.3233 - val_loss: 1.4190 - val_accuracy: 0.4127\n",
      "Epoch 9/200\n",
      "103/103 [==============================] - 24s 231ms/step - loss: 1.4096 - accuracy: 0.3887 - val_loss: 1.7223 - val_accuracy: 0.3043\n",
      "Epoch 10/200\n",
      "103/103 [==============================] - 24s 231ms/step - loss: 1.5439 - accuracy: 0.3722 - val_loss: 1.4746 - val_accuracy: 0.3968\n",
      "Epoch 11/200\n",
      "103/103 [==============================] - 24s 231ms/step - loss: 1.4217 - accuracy: 0.4010 - val_loss: 1.3805 - val_accuracy: 0.4262\n",
      "Epoch 12/200\n",
      "103/103 [==============================] - 24s 231ms/step - loss: 1.3553 - accuracy: 0.4316 - val_loss: 1.5539 - val_accuracy: 0.3233\n",
      "Epoch 13/200\n",
      "103/103 [==============================] - 24s 231ms/step - loss: 1.3911 - accuracy: 0.4206 - val_loss: 1.4644 - val_accuracy: 0.3895\n",
      "Epoch 14/200\n",
      "103/103 [==============================] - 24s 231ms/step - loss: 1.3328 - accuracy: 0.4526 - val_loss: 1.5657 - val_accuracy: 0.3337\n",
      "Epoch 15/200\n",
      "103/103 [==============================] - 24s 231ms/step - loss: 1.3601 - accuracy: 0.4319 - val_loss: 1.4742 - val_accuracy: 0.3809\n",
      "Epoch 16/200\n",
      "103/103 [==============================] - 24s 230ms/step - loss: 1.3318 - accuracy: 0.4486 - val_loss: 1.4610 - val_accuracy: 0.3968\n",
      "Epoch 17/200\n",
      "103/103 [==============================] - 24s 230ms/step - loss: 1.3310 - accuracy: 0.4497 - val_loss: 1.3534 - val_accuracy: 0.4250\n",
      "Epoch 18/200\n",
      "103/103 [==============================] - 24s 231ms/step - loss: 1.3145 - accuracy: 0.4632 - val_loss: 1.3444 - val_accuracy: 0.4403\n",
      "Epoch 19/200\n",
      "103/103 [==============================] - 24s 231ms/step - loss: 1.2964 - accuracy: 0.4725 - val_loss: 1.4412 - val_accuracy: 0.4158\n",
      "Epoch 20/200\n",
      "103/103 [==============================] - 24s 231ms/step - loss: 1.3088 - accuracy: 0.4724 - val_loss: 1.3250 - val_accuracy: 0.4623\n",
      "Epoch 21/200\n",
      "103/103 [==============================] - 24s 231ms/step - loss: 1.2774 - accuracy: 0.4776 - val_loss: 1.3662 - val_accuracy: 0.4336\n",
      "Epoch 22/200\n",
      "103/103 [==============================] - 24s 231ms/step - loss: 1.2860 - accuracy: 0.4739 - val_loss: 1.3333 - val_accuracy: 0.4532\n",
      "Epoch 23/200\n",
      "103/103 [==============================] - 24s 231ms/step - loss: 1.2677 - accuracy: 0.4860 - val_loss: 1.3599 - val_accuracy: 0.4562\n",
      "Epoch 24/200\n",
      "103/103 [==============================] - 24s 231ms/step - loss: 1.2460 - accuracy: 0.4982 - val_loss: 1.3334 - val_accuracy: 0.4519\n",
      "Epoch 25/200\n",
      "103/103 [==============================] - 24s 231ms/step - loss: 1.2455 - accuracy: 0.4979 - val_loss: 1.4812 - val_accuracy: 0.3484\n",
      "Epoch 26/200\n",
      "103/103 [==============================] - 24s 231ms/step - loss: 1.2431 - accuracy: 0.4985 - val_loss: 1.4969 - val_accuracy: 0.3509\n",
      "Epoch 27/200\n",
      "103/103 [==============================] - 24s 231ms/step - loss: 1.2480 - accuracy: 0.5004 - val_loss: 1.4944 - val_accuracy: 0.3919\n",
      "Epoch 28/200\n",
      "103/103 [==============================] - 24s 231ms/step - loss: 1.2977 - accuracy: 0.4694 - val_loss: 1.4536 - val_accuracy: 0.4152\n",
      "Epoch 29/200\n",
      "103/103 [==============================] - 24s 231ms/step - loss: 1.2664 - accuracy: 0.4782 - val_loss: 1.3823 - val_accuracy: 0.4274\n",
      "Epoch 30/200\n",
      "103/103 [==============================] - 24s 231ms/step - loss: 1.2158 - accuracy: 0.5134 - val_loss: 1.4100 - val_accuracy: 0.4060\n",
      "Epoch 31/200\n",
      "103/103 [==============================] - 24s 231ms/step - loss: 1.2185 - accuracy: 0.5134 - val_loss: 1.4234 - val_accuracy: 0.4256\n",
      "Epoch 32/200\n",
      "103/103 [==============================] - 24s 231ms/step - loss: 1.2701 - accuracy: 0.4909 - val_loss: 1.3704 - val_accuracy: 0.4464\n",
      "Epoch 33/200\n",
      "103/103 [==============================] - 24s 231ms/step - loss: 1.2045 - accuracy: 0.5238 - val_loss: 1.3812 - val_accuracy: 0.4299\n",
      "Epoch 34/200\n",
      "103/103 [==============================] - 24s 231ms/step - loss: 1.1760 - accuracy: 0.5289 - val_loss: 1.4347 - val_accuracy: 0.4023\n",
      "Epoch 35/200\n",
      "103/103 [==============================] - 24s 231ms/step - loss: 1.1902 - accuracy: 0.5211 - val_loss: 1.3363 - val_accuracy: 0.4666\n",
      "Epoch 36/200\n",
      "103/103 [==============================] - 24s 230ms/step - loss: 1.1356 - accuracy: 0.5581 - val_loss: 1.3860 - val_accuracy: 0.4458\n",
      "Epoch 37/200\n",
      "103/103 [==============================] - 24s 231ms/step - loss: 1.1372 - accuracy: 0.5560 - val_loss: 1.3739 - val_accuracy: 0.4421\n",
      "Epoch 38/200\n",
      "103/103 [==============================] - 24s 231ms/step - loss: 1.1196 - accuracy: 0.5610 - val_loss: 1.4857 - val_accuracy: 0.4311\n",
      "Epoch 39/200\n",
      "103/103 [==============================] - 24s 230ms/step - loss: 1.1039 - accuracy: 0.5693 - val_loss: 1.3782 - val_accuracy: 0.4513\n",
      "Epoch 40/200\n",
      "103/103 [==============================] - 24s 231ms/step - loss: 1.0691 - accuracy: 0.5846 - val_loss: 1.4154 - val_accuracy: 0.4354\n",
      "Epoch 41/200\n",
      "103/103 [==============================] - 24s 231ms/step - loss: 1.0670 - accuracy: 0.5924 - val_loss: 1.4407 - val_accuracy: 0.4378\n",
      "Epoch 42/200\n",
      "103/103 [==============================] - 24s 230ms/step - loss: 1.0345 - accuracy: 0.5952 - val_loss: 1.4231 - val_accuracy: 0.4630\n",
      "Epoch 43/200\n",
      "103/103 [==============================] - 24s 231ms/step - loss: 0.9913 - accuracy: 0.6261 - val_loss: 1.5438 - val_accuracy: 0.4042\n",
      "Epoch 44/200\n",
      "103/103 [==============================] - 24s 231ms/step - loss: 1.0589 - accuracy: 0.5926 - val_loss: 1.5024 - val_accuracy: 0.4158\n",
      "Epoch 45/200\n",
      "103/103 [==============================] - 24s 231ms/step - loss: 0.9252 - accuracy: 0.6512 - val_loss: 1.6296 - val_accuracy: 0.4164\n",
      "Epoch 46/200\n",
      "103/103 [==============================] - 24s 231ms/step - loss: 0.9471 - accuracy: 0.6424 - val_loss: 1.5672 - val_accuracy: 0.4201\n",
      "Epoch 47/200\n",
      "103/103 [==============================] - 24s 230ms/step - loss: 0.9985 - accuracy: 0.6269 - val_loss: 1.8492 - val_accuracy: 0.3368\n",
      "Epoch 48/200\n",
      "103/103 [==============================] - 24s 230ms/step - loss: 0.9158 - accuracy: 0.6601 - val_loss: 1.6379 - val_accuracy: 0.4127\n",
      "Epoch 49/200\n",
      "103/103 [==============================] - 24s 230ms/step - loss: 0.7783 - accuracy: 0.7137 - val_loss: 1.7897 - val_accuracy: 0.4115\n",
      "Epoch 50/200\n",
      "103/103 [==============================] - 24s 231ms/step - loss: 0.7184 - accuracy: 0.7384 - val_loss: 1.8096 - val_accuracy: 0.4140\n",
      "Epoch 51/200\n",
      "103/103 [==============================] - 24s 230ms/step - loss: 0.7342 - accuracy: 0.7344 - val_loss: 1.8130 - val_accuracy: 0.4385\n",
      "Epoch 52/200\n",
      "103/103 [==============================] - 24s 231ms/step - loss: 0.5160 - accuracy: 0.8278 - val_loss: 2.0651 - val_accuracy: 0.4170\n",
      "Epoch 53/200\n",
      "103/103 [==============================] - 24s 231ms/step - loss: 0.3882 - accuracy: 0.8764 - val_loss: 2.4199 - val_accuracy: 0.4336\n",
      "Epoch 54/200\n",
      "103/103 [==============================] - 24s 231ms/step - loss: 0.3075 - accuracy: 0.9015 - val_loss: 2.9320 - val_accuracy: 0.4005\n",
      "Epoch 55/200\n",
      "103/103 [==============================] - 24s 230ms/step - loss: 0.6588 - accuracy: 0.7641 - val_loss: 2.5478 - val_accuracy: 0.3766\n",
      "Epoch 56/200\n",
      "103/103 [==============================] - 24s 230ms/step - loss: 0.8112 - accuracy: 0.7203 - val_loss: 1.9984 - val_accuracy: 0.4299\n",
      "Epoch 57/200\n",
      "103/103 [==============================] - 24s 230ms/step - loss: 0.3286 - accuracy: 0.8989 - val_loss: 2.5733 - val_accuracy: 0.4207\n",
      "Epoch 58/200\n",
      "103/103 [==============================] - 24s 230ms/step - loss: 0.2394 - accuracy: 0.9240 - val_loss: 3.1527 - val_accuracy: 0.4152\n",
      "Epoch 59/200\n",
      "103/103 [==============================] - 24s 230ms/step - loss: 0.1069 - accuracy: 0.9741 - val_loss: 3.8858 - val_accuracy: 0.4225\n",
      "Epoch 60/200\n",
      "103/103 [==============================] - 24s 230ms/step - loss: 1.2501 - accuracy: 0.6597 - val_loss: 1.8379 - val_accuracy: 0.4091\n",
      "Epoch 61/200\n",
      "103/103 [==============================] - 24s 230ms/step - loss: 0.3891 - accuracy: 0.8802 - val_loss: 2.4282 - val_accuracy: 0.4287\n",
      "Epoch 62/200\n",
      "103/103 [==============================] - 24s 230ms/step - loss: 0.1820 - accuracy: 0.9565 - val_loss: 3.0489 - val_accuracy: 0.4109\n",
      "Epoch 63/200\n",
      "103/103 [==============================] - 24s 231ms/step - loss: 0.0832 - accuracy: 0.9844 - val_loss: 3.6697 - val_accuracy: 0.4097\n",
      "Epoch 64/200\n",
      "103/103 [==============================] - 24s 230ms/step - loss: 0.0362 - accuracy: 0.9956 - val_loss: 4.2698 - val_accuracy: 0.4170\n",
      "Epoch 65/200\n",
      "103/103 [==============================] - 24s 230ms/step - loss: 0.7236 - accuracy: 0.7857 - val_loss: 2.6034 - val_accuracy: 0.4103\n",
      "Epoch 66/200\n",
      "103/103 [==============================] - 24s 231ms/step - loss: 0.2129 - accuracy: 0.9363 - val_loss: 3.1336 - val_accuracy: 0.4060\n",
      "Epoch 67/200\n",
      "103/103 [==============================] - 24s 230ms/step - loss: 0.0722 - accuracy: 0.9848 - val_loss: 3.8169 - val_accuracy: 0.4195\n",
      "Epoch 68/200\n",
      "103/103 [==============================] - 24s 230ms/step - loss: 0.0211 - accuracy: 0.9985 - val_loss: 4.2677 - val_accuracy: 0.4195\n",
      "Epoch 69/200\n",
      "103/103 [==============================] - 24s 230ms/step - loss: 0.0080 - accuracy: 0.9998 - val_loss: 4.6081 - val_accuracy: 0.4176\n",
      "Epoch 70/200\n",
      "103/103 [==============================] - 24s 230ms/step - loss: 0.0041 - accuracy: 1.0000 - val_loss: 4.8479 - val_accuracy: 0.4182\n",
      "Epoch 71/200\n",
      "103/103 [==============================] - 24s 230ms/step - loss: 0.0028 - accuracy: 1.0000 - val_loss: 5.0390 - val_accuracy: 0.4231\n",
      "Epoch 72/200\n",
      "103/103 [==============================] - 24s 230ms/step - loss: 0.0021 - accuracy: 1.0000 - val_loss: 5.2172 - val_accuracy: 0.4213\n",
      "Epoch 73/200\n",
      "103/103 [==============================] - 24s 230ms/step - loss: 0.0016 - accuracy: 1.0000 - val_loss: 5.3703 - val_accuracy: 0.4250\n",
      "Epoch 74/200\n",
      "103/103 [==============================] - 24s 230ms/step - loss: 0.0013 - accuracy: 1.0000 - val_loss: 5.5149 - val_accuracy: 0.4219\n",
      "Epoch 75/200\n",
      "103/103 [==============================] - 24s 230ms/step - loss: 0.0011 - accuracy: 1.0000 - val_loss: 5.6383 - val_accuracy: 0.4250\n",
      "Epoch 76/200\n",
      "103/103 [==============================] - 24s 230ms/step - loss: 9.1588e-04 - accuracy: 1.0000 - val_loss: 5.7585 - val_accuracy: 0.4256\n",
      "Epoch 77/200\n",
      "103/103 [==============================] - 24s 230ms/step - loss: 7.8594e-04 - accuracy: 1.0000 - val_loss: 5.8741 - val_accuracy: 0.4250\n",
      "Epoch 78/200\n",
      "103/103 [==============================] - 24s 230ms/step - loss: 6.7482e-04 - accuracy: 1.0000 - val_loss: 5.9780 - val_accuracy: 0.4238\n",
      "Epoch 79/200\n",
      "103/103 [==============================] - 24s 230ms/step - loss: 5.8677e-04 - accuracy: 1.0000 - val_loss: 6.0753 - val_accuracy: 0.4250\n",
      "Epoch 80/200\n",
      "103/103 [==============================] - 24s 230ms/step - loss: 5.1355e-04 - accuracy: 1.0000 - val_loss: 6.1671 - val_accuracy: 0.4256\n",
      "Epoch 81/200\n",
      "103/103 [==============================] - 24s 230ms/step - loss: 4.5352e-04 - accuracy: 1.0000 - val_loss: 6.2552 - val_accuracy: 0.4250\n",
      "Epoch 82/200\n",
      "103/103 [==============================] - 24s 230ms/step - loss: 4.0357e-04 - accuracy: 1.0000 - val_loss: 6.3469 - val_accuracy: 0.4225\n",
      "Epoch 83/200\n",
      "103/103 [==============================] - 24s 230ms/step - loss: 3.5968e-04 - accuracy: 1.0000 - val_loss: 6.4276 - val_accuracy: 0.4219\n",
      "Epoch 84/200\n",
      "103/103 [==============================] - 24s 230ms/step - loss: 3.2148e-04 - accuracy: 1.0000 - val_loss: 6.5066 - val_accuracy: 0.4231\n",
      "Epoch 85/200\n",
      "103/103 [==============================] - 24s 230ms/step - loss: 2.8872e-04 - accuracy: 1.0000 - val_loss: 6.5829 - val_accuracy: 0.4238\n",
      "Epoch 86/200\n",
      "103/103 [==============================] - 24s 230ms/step - loss: 2.6041e-04 - accuracy: 1.0000 - val_loss: 6.6580 - val_accuracy: 0.4219\n",
      "Epoch 87/200\n",
      "103/103 [==============================] - 24s 231ms/step - loss: 2.4191e-04 - accuracy: 1.0000 - val_loss: 6.7394 - val_accuracy: 0.4219\n",
      "Epoch 88/200\n",
      "103/103 [==============================] - 24s 230ms/step - loss: 2.1478e-04 - accuracy: 1.0000 - val_loss: 6.8100 - val_accuracy: 0.4207\n",
      "Epoch 89/200\n",
      "103/103 [==============================] - 24s 230ms/step - loss: 1.9485e-04 - accuracy: 1.0000 - val_loss: 6.8782 - val_accuracy: 0.4225\n",
      "Epoch 90/200\n",
      "103/103 [==============================] - 24s 231ms/step - loss: 1.7740e-04 - accuracy: 1.0000 - val_loss: 6.9453 - val_accuracy: 0.4219\n",
      "Epoch 91/200\n",
      "103/103 [==============================] - 24s 230ms/step - loss: 1.6193e-04 - accuracy: 1.0000 - val_loss: 7.0126 - val_accuracy: 0.4231\n",
      "Epoch 92/200\n",
      "103/103 [==============================] - 24s 231ms/step - loss: 1.4825e-04 - accuracy: 1.0000 - val_loss: 7.0790 - val_accuracy: 0.4231\n",
      "Epoch 93/200\n",
      "103/103 [==============================] - 24s 230ms/step - loss: 1.3573e-04 - accuracy: 1.0000 - val_loss: 7.1434 - val_accuracy: 0.4238\n",
      "Epoch 94/200\n",
      "103/103 [==============================] - 24s 230ms/step - loss: 1.2454e-04 - accuracy: 1.0000 - val_loss: 7.2062 - val_accuracy: 0.4238\n",
      "Epoch 95/200\n",
      "103/103 [==============================] - 24s 230ms/step - loss: 1.1522e-04 - accuracy: 1.0000 - val_loss: 7.2723 - val_accuracy: 0.4219\n",
      "Epoch 96/200\n",
      "103/103 [==============================] - 24s 230ms/step - loss: 1.0547e-04 - accuracy: 1.0000 - val_loss: 7.3317 - val_accuracy: 0.4207\n",
      "Epoch 97/200\n",
      "103/103 [==============================] - 24s 231ms/step - loss: 9.7094e-05 - accuracy: 1.0000 - val_loss: 7.3928 - val_accuracy: 0.4213\n",
      "Epoch 98/200\n",
      "103/103 [==============================] - 24s 230ms/step - loss: 8.9510e-05 - accuracy: 1.0000 - val_loss: 7.4523 - val_accuracy: 0.4207\n",
      "Epoch 99/200\n",
      "103/103 [==============================] - 24s 230ms/step - loss: 8.2773e-05 - accuracy: 1.0000 - val_loss: 7.5123 - val_accuracy: 0.4201\n",
      "Epoch 100/200\n",
      "103/103 [==============================] - 24s 230ms/step - loss: 7.6573e-05 - accuracy: 1.0000 - val_loss: 7.5727 - val_accuracy: 0.4201\n",
      "Epoch 101/200\n",
      "103/103 [==============================] - 24s 230ms/step - loss: 7.0830e-05 - accuracy: 1.0000 - val_loss: 7.6300 - val_accuracy: 0.4201\n",
      "Epoch 102/200\n",
      "103/103 [==============================] - 24s 230ms/step - loss: 6.5786e-05 - accuracy: 1.0000 - val_loss: 7.6865 - val_accuracy: 0.4201\n",
      "Epoch 103/200\n",
      "103/103 [==============================] - 24s 230ms/step - loss: 6.0796e-05 - accuracy: 1.0000 - val_loss: 7.7412 - val_accuracy: 0.4213\n",
      "Epoch 104/200\n",
      "103/103 [==============================] - 24s 231ms/step - loss: 5.6339e-05 - accuracy: 1.0000 - val_loss: 7.7981 - val_accuracy: 0.4213\n",
      "Epoch 105/200\n",
      "103/103 [==============================] - 24s 231ms/step - loss: 5.2322e-05 - accuracy: 1.0000 - val_loss: 7.8538 - val_accuracy: 0.4213\n",
      "Epoch 106/200\n",
      "103/103 [==============================] - 24s 230ms/step - loss: 4.8608e-05 - accuracy: 1.0000 - val_loss: 7.9094 - val_accuracy: 0.4207\n",
      "Epoch 107/200\n",
      "103/103 [==============================] - 24s 231ms/step - loss: 4.5177e-05 - accuracy: 1.0000 - val_loss: 7.9630 - val_accuracy: 0.4207\n",
      "Epoch 108/200\n",
      "103/103 [==============================] - 24s 230ms/step - loss: 4.2066e-05 - accuracy: 1.0000 - val_loss: 8.0180 - val_accuracy: 0.4207\n",
      "Epoch 109/200\n",
      "103/103 [==============================] - 24s 230ms/step - loss: 3.9130e-05 - accuracy: 1.0000 - val_loss: 8.0711 - val_accuracy: 0.4207\n",
      "Epoch 110/200\n",
      "103/103 [==============================] - 24s 230ms/step - loss: 3.6461e-05 - accuracy: 1.0000 - val_loss: 8.1247 - val_accuracy: 0.4207\n",
      "Epoch 111/200\n",
      "103/103 [==============================] - 24s 231ms/step - loss: 3.3997e-05 - accuracy: 1.0000 - val_loss: 8.1779 - val_accuracy: 0.4219\n",
      "Epoch 112/200\n",
      "103/103 [==============================] - 24s 230ms/step - loss: 3.1676e-05 - accuracy: 1.0000 - val_loss: 8.2310 - val_accuracy: 0.4207\n",
      "Epoch 113/200\n",
      "103/103 [==============================] - 24s 230ms/step - loss: 2.9561e-05 - accuracy: 1.0000 - val_loss: 8.2835 - val_accuracy: 0.4213\n",
      "Epoch 114/200\n",
      "103/103 [==============================] - 24s 230ms/step - loss: 2.7565e-05 - accuracy: 1.0000 - val_loss: 8.3359 - val_accuracy: 0.4213\n",
      "Epoch 115/200\n",
      "103/103 [==============================] - 24s 230ms/step - loss: 2.5744e-05 - accuracy: 1.0000 - val_loss: 8.3889 - val_accuracy: 0.4219\n",
      "Epoch 116/200\n",
      "103/103 [==============================] - 24s 230ms/step - loss: 2.4042e-05 - accuracy: 1.0000 - val_loss: 8.4395 - val_accuracy: 0.4219\n",
      "Epoch 117/200\n",
      "103/103 [==============================] - 24s 230ms/step - loss: 2.2434e-05 - accuracy: 1.0000 - val_loss: 8.4910 - val_accuracy: 0.4213\n",
      "Epoch 118/200\n",
      "103/103 [==============================] - 24s 230ms/step - loss: 2.1054e-05 - accuracy: 1.0000 - val_loss: 8.5430 - val_accuracy: 0.4219\n",
      "Epoch 119/200\n",
      "103/103 [==============================] - 24s 230ms/step - loss: 1.9644e-05 - accuracy: 1.0000 - val_loss: 8.5947 - val_accuracy: 0.4219\n",
      "Epoch 120/200\n",
      "103/103 [==============================] - 24s 231ms/step - loss: 1.8366e-05 - accuracy: 1.0000 - val_loss: 8.6461 - val_accuracy: 0.4213\n",
      "Epoch 121/200\n",
      "103/103 [==============================] - 24s 230ms/step - loss: 1.7172e-05 - accuracy: 1.0000 - val_loss: 8.6960 - val_accuracy: 0.4207\n",
      "Epoch 122/200\n",
      "103/103 [==============================] - 24s 230ms/step - loss: 1.6090e-05 - accuracy: 1.0000 - val_loss: 8.7448 - val_accuracy: 0.4207\n",
      "Epoch 123/200\n",
      "103/103 [==============================] - 24s 230ms/step - loss: 1.5045e-05 - accuracy: 1.0000 - val_loss: 8.7949 - val_accuracy: 0.4207\n",
      "Epoch 124/200\n",
      "103/103 [==============================] - 24s 230ms/step - loss: 1.4068e-05 - accuracy: 1.0000 - val_loss: 8.8436 - val_accuracy: 0.4207\n",
      "Epoch 125/200\n",
      "103/103 [==============================] - 24s 230ms/step - loss: 1.3173e-05 - accuracy: 1.0000 - val_loss: 8.8950 - val_accuracy: 0.4207\n",
      "Epoch 126/200\n",
      "103/103 [==============================] - 24s 230ms/step - loss: 1.2343e-05 - accuracy: 1.0000 - val_loss: 8.9442 - val_accuracy: 0.4195\n",
      "Epoch 127/200\n",
      "103/103 [==============================] - 24s 230ms/step - loss: 1.1579e-05 - accuracy: 1.0000 - val_loss: 8.9966 - val_accuracy: 0.4195\n",
      "Epoch 128/200\n",
      "103/103 [==============================] - 24s 230ms/step - loss: 1.0841e-05 - accuracy: 1.0000 - val_loss: 9.0464 - val_accuracy: 0.4195\n",
      "Epoch 129/200\n",
      "103/103 [==============================] - 24s 231ms/step - loss: 1.0152e-05 - accuracy: 1.0000 - val_loss: 9.0953 - val_accuracy: 0.4195\n",
      "Epoch 130/200\n",
      "103/103 [==============================] - 24s 230ms/step - loss: 9.5246e-06 - accuracy: 1.0000 - val_loss: 9.1441 - val_accuracy: 0.4195\n",
      "Epoch 131/200\n",
      "103/103 [==============================] - 24s 230ms/step - loss: 8.9262e-06 - accuracy: 1.0000 - val_loss: 9.1926 - val_accuracy: 0.4189\n",
      "Epoch 132/200\n",
      "103/103 [==============================] - 24s 230ms/step - loss: 8.3679e-06 - accuracy: 1.0000 - val_loss: 9.2419 - val_accuracy: 0.4195\n",
      "Epoch 133/200\n",
      "103/103 [==============================] - 24s 230ms/step - loss: 7.8589e-06 - accuracy: 1.0000 - val_loss: 9.2903 - val_accuracy: 0.4195\n",
      "Epoch 134/200\n",
      "103/103 [==============================] - 24s 231ms/step - loss: 7.3627e-06 - accuracy: 1.0000 - val_loss: 9.3399 - val_accuracy: 0.4195\n",
      "Epoch 135/200\n",
      "103/103 [==============================] - 24s 230ms/step - loss: 6.9113e-06 - accuracy: 1.0000 - val_loss: 9.3904 - val_accuracy: 0.4195\n",
      "Epoch 136/200\n",
      "103/103 [==============================] - 24s 230ms/step - loss: 6.4801e-06 - accuracy: 1.0000 - val_loss: 9.4384 - val_accuracy: 0.4195\n",
      "Epoch 137/200\n",
      "103/103 [==============================] - 24s 230ms/step - loss: 6.0785e-06 - accuracy: 1.0000 - val_loss: 9.4864 - val_accuracy: 0.4195\n",
      "Epoch 138/200\n",
      "103/103 [==============================] - 24s 230ms/step - loss: 5.7076e-06 - accuracy: 1.0000 - val_loss: 9.5338 - val_accuracy: 0.4189\n",
      "Epoch 139/200\n",
      "103/103 [==============================] - 24s 230ms/step - loss: 5.3770e-06 - accuracy: 1.0000 - val_loss: 9.5852 - val_accuracy: 0.4189\n",
      "Epoch 140/200\n",
      "103/103 [==============================] - 24s 230ms/step - loss: 5.0313e-06 - accuracy: 1.0000 - val_loss: 9.6325 - val_accuracy: 0.4189\n",
      "Epoch 141/200\n",
      "103/103 [==============================] - 24s 230ms/step - loss: 4.7207e-06 - accuracy: 1.0000 - val_loss: 9.6802 - val_accuracy: 0.4182\n",
      "Epoch 142/200\n",
      "103/103 [==============================] - 24s 230ms/step - loss: 4.4282e-06 - accuracy: 1.0000 - val_loss: 9.7283 - val_accuracy: 0.4189\n",
      "Epoch 143/200\n",
      "103/103 [==============================] - 24s 230ms/step - loss: 4.1599e-06 - accuracy: 1.0000 - val_loss: 9.7764 - val_accuracy: 0.4189\n",
      "Epoch 144/200\n",
      "103/103 [==============================] - 24s 230ms/step - loss: 3.9079e-06 - accuracy: 1.0000 - val_loss: 9.8238 - val_accuracy: 0.4189\n",
      "Epoch 145/200\n",
      "103/103 [==============================] - 24s 230ms/step - loss: 3.6725e-06 - accuracy: 1.0000 - val_loss: 9.8716 - val_accuracy: 0.4189\n",
      "Epoch 146/200\n",
      "103/103 [==============================] - 24s 230ms/step - loss: 3.4488e-06 - accuracy: 1.0000 - val_loss: 9.9179 - val_accuracy: 0.4189\n",
      "Epoch 147/200\n",
      "103/103 [==============================] - 24s 230ms/step - loss: 3.2437e-06 - accuracy: 1.0000 - val_loss: 9.9669 - val_accuracy: 0.4182\n",
      "Epoch 148/200\n",
      "103/103 [==============================] - 24s 230ms/step - loss: 3.0458e-06 - accuracy: 1.0000 - val_loss: 10.0133 - val_accuracy: 0.4182\n",
      "Epoch 149/200\n",
      "103/103 [==============================] - 24s 230ms/step - loss: 2.8612e-06 - accuracy: 1.0000 - val_loss: 10.0618 - val_accuracy: 0.4182\n",
      "Epoch 150/200\n",
      "103/103 [==============================] - 24s 230ms/step - loss: 2.6909e-06 - accuracy: 1.0000 - val_loss: 10.1086 - val_accuracy: 0.4170\n",
      "Epoch 151/200\n",
      "103/103 [==============================] - 24s 230ms/step - loss: 2.5295e-06 - accuracy: 1.0000 - val_loss: 10.1553 - val_accuracy: 0.4170\n",
      "Epoch 152/200\n",
      "103/103 [==============================] - 24s 230ms/step - loss: 2.3797e-06 - accuracy: 1.0000 - val_loss: 10.2025 - val_accuracy: 0.4170\n",
      "Epoch 153/200\n",
      "103/103 [==============================] - 24s 230ms/step - loss: 2.2394e-06 - accuracy: 1.0000 - val_loss: 10.2507 - val_accuracy: 0.4182\n",
      "Epoch 154/200\n",
      "103/103 [==============================] - 24s 230ms/step - loss: 2.1035e-06 - accuracy: 1.0000 - val_loss: 10.2974 - val_accuracy: 0.4164\n",
      "Epoch 155/200\n",
      "103/103 [==============================] - 24s 230ms/step - loss: 1.9788e-06 - accuracy: 1.0000 - val_loss: 10.3448 - val_accuracy: 0.4164\n",
      "Epoch 156/200\n",
      "103/103 [==============================] - 24s 230ms/step - loss: 1.8588e-06 - accuracy: 1.0000 - val_loss: 10.3921 - val_accuracy: 0.4164\n",
      "Epoch 157/200\n",
      "103/103 [==============================] - 24s 231ms/step - loss: 1.7488e-06 - accuracy: 1.0000 - val_loss: 10.4376 - val_accuracy: 0.4164\n",
      "Epoch 158/200\n",
      "103/103 [==============================] - 24s 231ms/step - loss: 1.6461e-06 - accuracy: 1.0000 - val_loss: 10.4852 - val_accuracy: 0.4164\n",
      "Epoch 159/200\n",
      "103/103 [==============================] - 24s 230ms/step - loss: 1.5543e-06 - accuracy: 1.0000 - val_loss: 10.5380 - val_accuracy: 0.4170\n",
      "Epoch 160/200\n",
      "103/103 [==============================] - 24s 230ms/step - loss: 1.4576e-06 - accuracy: 1.0000 - val_loss: 10.5840 - val_accuracy: 0.4164\n",
      "Epoch 161/200\n",
      "103/103 [==============================] - 24s 230ms/step - loss: 1.3703e-06 - accuracy: 1.0000 - val_loss: 10.6299 - val_accuracy: 0.4164\n",
      "Epoch 162/200\n",
      "103/103 [==============================] - 24s 230ms/step - loss: 1.2887e-06 - accuracy: 1.0000 - val_loss: 10.6773 - val_accuracy: 0.4176\n",
      "Epoch 163/200\n",
      "103/103 [==============================] - 24s 230ms/step - loss: 1.2117e-06 - accuracy: 1.0000 - val_loss: 10.7243 - val_accuracy: 0.4176\n",
      "Epoch 164/200\n",
      "103/103 [==============================] - 24s 230ms/step - loss: 1.1396e-06 - accuracy: 1.0000 - val_loss: 10.7702 - val_accuracy: 0.4182\n",
      "Epoch 165/200\n",
      "103/103 [==============================] - 24s 230ms/step - loss: 1.0725e-06 - accuracy: 1.0000 - val_loss: 10.8166 - val_accuracy: 0.4182\n",
      "Epoch 166/200\n",
      "103/103 [==============================] - 24s 230ms/step - loss: 1.0086e-06 - accuracy: 1.0000 - val_loss: 10.8628 - val_accuracy: 0.4189\n",
      "Epoch 167/200\n",
      "103/103 [==============================] - 24s 230ms/step - loss: 9.5236e-07 - accuracy: 1.0000 - val_loss: 10.9109 - val_accuracy: 0.4189\n",
      "Epoch 168/200\n",
      "103/103 [==============================] - 24s 230ms/step - loss: 8.9472e-07 - accuracy: 1.0000 - val_loss: 10.9571 - val_accuracy: 0.4189\n",
      "Epoch 169/200\n",
      "103/103 [==============================] - 24s 230ms/step - loss: 8.4206e-07 - accuracy: 1.0000 - val_loss: 11.0023 - val_accuracy: 0.4182\n",
      "Epoch 170/200\n",
      "103/103 [==============================] - 24s 230ms/step - loss: 7.9223e-07 - accuracy: 1.0000 - val_loss: 11.0491 - val_accuracy: 0.4189\n",
      "Epoch 171/200\n",
      "103/103 [==============================] - 24s 230ms/step - loss: 7.4492e-07 - accuracy: 1.0000 - val_loss: 11.0957 - val_accuracy: 0.4182\n",
      "Epoch 172/200\n",
      "103/103 [==============================] - 24s 230ms/step - loss: 7.0278e-07 - accuracy: 1.0000 - val_loss: 11.1421 - val_accuracy: 0.4189\n",
      "Epoch 173/200\n",
      "103/103 [==============================] - 24s 230ms/step - loss: 6.6057e-07 - accuracy: 1.0000 - val_loss: 11.1882 - val_accuracy: 0.4195\n",
      "Epoch 174/200\n",
      "103/103 [==============================] - 24s 230ms/step - loss: 6.2210e-07 - accuracy: 1.0000 - val_loss: 11.2337 - val_accuracy: 0.4189\n",
      "Epoch 175/200\n",
      "103/103 [==============================] - 24s 230ms/step - loss: 5.8500e-07 - accuracy: 1.0000 - val_loss: 11.2804 - val_accuracy: 0.4195\n",
      "Epoch 176/200\n",
      "103/103 [==============================] - 24s 230ms/step - loss: 5.5235e-07 - accuracy: 1.0000 - val_loss: 11.3281 - val_accuracy: 0.4189\n",
      "Epoch 177/200\n",
      "103/103 [==============================] - 24s 230ms/step - loss: 5.1768e-07 - accuracy: 1.0000 - val_loss: 11.3724 - val_accuracy: 0.4189\n",
      "Epoch 178/200\n",
      "103/103 [==============================] - 24s 230ms/step - loss: 4.8781e-07 - accuracy: 1.0000 - val_loss: 11.4182 - val_accuracy: 0.4189\n",
      "Epoch 179/200\n",
      "103/103 [==============================] - 24s 230ms/step - loss: 4.5896e-07 - accuracy: 1.0000 - val_loss: 11.4630 - val_accuracy: 0.4189\n",
      "Epoch 180/200\n",
      "103/103 [==============================] - 24s 230ms/step - loss: 4.3265e-07 - accuracy: 1.0000 - val_loss: 11.5076 - val_accuracy: 0.4189\n",
      "Epoch 181/200\n",
      "103/103 [==============================] - 24s 230ms/step - loss: 4.0718e-07 - accuracy: 1.0000 - val_loss: 11.5527 - val_accuracy: 0.4189\n",
      "Epoch 182/200\n",
      "103/103 [==============================] - 24s 230ms/step - loss: 3.8324e-07 - accuracy: 1.0000 - val_loss: 11.5984 - val_accuracy: 0.4189\n",
      "Epoch 183/200\n",
      "103/103 [==============================] - 24s 230ms/step - loss: 3.6062e-07 - accuracy: 1.0000 - val_loss: 11.6429 - val_accuracy: 0.4189\n",
      "Epoch 184/200\n",
      "103/103 [==============================] - 24s 231ms/step - loss: 3.4028e-07 - accuracy: 1.0000 - val_loss: 11.6877 - val_accuracy: 0.4189\n",
      "Epoch 185/200\n",
      "103/103 [==============================] - 24s 230ms/step - loss: 3.2067e-07 - accuracy: 1.0000 - val_loss: 11.7340 - val_accuracy: 0.4189\n",
      "Epoch 186/200\n",
      "103/103 [==============================] - 24s 230ms/step - loss: 3.0272e-07 - accuracy: 1.0000 - val_loss: 11.7804 - val_accuracy: 0.4195\n",
      "Epoch 187/200\n",
      "103/103 [==============================] - 24s 230ms/step - loss: 2.8452e-07 - accuracy: 1.0000 - val_loss: 11.8254 - val_accuracy: 0.4189\n",
      "Epoch 188/200\n",
      "103/103 [==============================] - 24s 230ms/step - loss: 2.6823e-07 - accuracy: 1.0000 - val_loss: 11.8691 - val_accuracy: 0.4195\n",
      "Epoch 189/200\n",
      "103/103 [==============================] - 24s 230ms/step - loss: 2.5211e-07 - accuracy: 1.0000 - val_loss: 11.9135 - val_accuracy: 0.4195\n",
      "Epoch 190/200\n",
      "103/103 [==============================] - 24s 230ms/step - loss: 2.3924e-07 - accuracy: 1.0000 - val_loss: 11.9605 - val_accuracy: 0.4195\n",
      "Epoch 191/200\n",
      "103/103 [==============================] - 24s 230ms/step - loss: 2.2462e-07 - accuracy: 1.0000 - val_loss: 12.0038 - val_accuracy: 0.4195\n",
      "Epoch 192/200\n",
      "103/103 [==============================] - 24s 230ms/step - loss: 2.1224e-07 - accuracy: 1.0000 - val_loss: 12.0471 - val_accuracy: 0.4195\n",
      "Epoch 193/200\n",
      "103/103 [==============================] - 24s 230ms/step - loss: 1.9891e-07 - accuracy: 1.0000 - val_loss: 12.0927 - val_accuracy: 0.4195\n",
      "Epoch 194/200\n",
      "103/103 [==============================] - 24s 230ms/step - loss: 1.8709e-07 - accuracy: 1.0000 - val_loss: 12.1372 - val_accuracy: 0.4195\n",
      "Epoch 195/200\n",
      "103/103 [==============================] - 24s 230ms/step - loss: 1.7658e-07 - accuracy: 1.0000 - val_loss: 12.1812 - val_accuracy: 0.4195\n",
      "Epoch 196/200\n",
      "103/103 [==============================] - 24s 230ms/step - loss: 1.6710e-07 - accuracy: 1.0000 - val_loss: 12.2258 - val_accuracy: 0.4195\n",
      "Epoch 197/200\n",
      "103/103 [==============================] - 24s 230ms/step - loss: 1.5677e-07 - accuracy: 1.0000 - val_loss: 12.2702 - val_accuracy: 0.4195\n",
      "Epoch 198/200\n",
      "103/103 [==============================] - 24s 230ms/step - loss: 1.4833e-07 - accuracy: 1.0000 - val_loss: 12.3157 - val_accuracy: 0.4195\n",
      "Epoch 199/200\n",
      "103/103 [==============================] - 24s 230ms/step - loss: 1.3911e-07 - accuracy: 1.0000 - val_loss: 12.3591 - val_accuracy: 0.4195\n",
      "Epoch 200/200\n",
      "103/103 [==============================] - 24s 230ms/step - loss: 1.3142e-07 - accuracy: 1.0000 - val_loss: 12.4025 - val_accuracy: 0.4195\n"
     ]
    },
    {
     "data": {
      "text/plain": [
       "<tensorflow.python.keras.callbacks.History at 0x7fa51e072b00>"
      ]
     },
     "execution_count": 27,
     "metadata": {
      "tags": []
     },
     "output_type": "execute_result"
    }
   ],
   "source": [
    "conv_model.fit(X,y_dummy, epochs = 200, batch_size=64,validation_split = 0.2)"
   ]
  },
  {
   "cell_type": "markdown",
   "metadata": {
    "colab_type": "text",
    "id": "RTPmLO1CKYl6"
   },
   "source": [
    "# TASK 8: Optimization Techniques"
   ]
  },
  {
   "cell_type": "markdown",
   "metadata": {
    "colab_type": "text",
    "id": "d92Hp-8gKY0S"
   },
   "source": [
    "Apply a minimum of two different optimization techniques on both models (CNN and MLP) e.g. including Dropouts in-between, and list down any performance improvements.\n",
    "\n"
   ]
  },
  {
   "cell_type": "markdown",
   "metadata": {
    "colab_type": "text",
    "id": "gv6YNxZ4KZAW"
   },
   "source": [
    "# TASK 9: Predict"
   ]
  },
  {
   "cell_type": "markdown",
   "metadata": {
    "colab_type": "text",
    "id": "t7415OWoKZMz"
   },
   "source": [
    "Use the model that is performing better to predict over new_test_data. Please pay attention to the class labels, since your predictions will be evaluated against the same labels.\n"
   ]
  },
  {
   "cell_type": "code",
   "execution_count": 15,
   "metadata": {
    "colab": {},
    "colab_type": "code",
    "id": "ueYshzw6CCJa"
   },
   "outputs": [],
   "source": [
    "ptm = VGG16(\n",
    "    input_shape= list(IMAGE_SIZE)+[3], #add color channel\n",
    "    weights = \"imagenet\", #weights trained on imagenet\n",
    "    include_top = False) #Dont include flatten nor dense\n",
    "\n",
    "ptm.trainable = False #Freeze pretrained weights"
   ]
  },
  {
   "cell_type": "code",
   "execution_count": 16,
   "metadata": {
    "colab": {
     "base_uri": "https://localhost:8080/",
     "height": 830
    },
    "colab_type": "code",
    "id": "9dCXpZCRSIYc",
    "outputId": "bebd29bf-23b5-4501-97c4-e9e42694ca2d"
   },
   "outputs": [
    {
     "name": "stdout",
     "output_type": "stream",
     "text": [
      "Model: \"functional_1\"\n",
      "_________________________________________________________________\n",
      "Layer (type)                 Output Shape              Param #   \n",
      "=================================================================\n",
      "input_2 (InputLayer)         [(None, 224, 224, 3)]     0         \n",
      "_________________________________________________________________\n",
      "block1_conv1 (Conv2D)        (None, 224, 224, 64)      1792      \n",
      "_________________________________________________________________\n",
      "block1_conv2 (Conv2D)        (None, 224, 224, 64)      36928     \n",
      "_________________________________________________________________\n",
      "block1_pool (MaxPooling2D)   (None, 112, 112, 64)      0         \n",
      "_________________________________________________________________\n",
      "block2_conv1 (Conv2D)        (None, 112, 112, 128)     73856     \n",
      "_________________________________________________________________\n",
      "block2_conv2 (Conv2D)        (None, 112, 112, 128)     147584    \n",
      "_________________________________________________________________\n",
      "block2_pool (MaxPooling2D)   (None, 56, 56, 128)       0         \n",
      "_________________________________________________________________\n",
      "block3_conv1 (Conv2D)        (None, 56, 56, 256)       295168    \n",
      "_________________________________________________________________\n",
      "block3_conv2 (Conv2D)        (None, 56, 56, 256)       590080    \n",
      "_________________________________________________________________\n",
      "block3_conv3 (Conv2D)        (None, 56, 56, 256)       590080    \n",
      "_________________________________________________________________\n",
      "block3_pool (MaxPooling2D)   (None, 28, 28, 256)       0         \n",
      "_________________________________________________________________\n",
      "block4_conv1 (Conv2D)        (None, 28, 28, 512)       1180160   \n",
      "_________________________________________________________________\n",
      "block4_conv2 (Conv2D)        (None, 28, 28, 512)       2359808   \n",
      "_________________________________________________________________\n",
      "block4_conv3 (Conv2D)        (None, 28, 28, 512)       2359808   \n",
      "_________________________________________________________________\n",
      "block4_pool (MaxPooling2D)   (None, 14, 14, 512)       0         \n",
      "_________________________________________________________________\n",
      "block5_conv1 (Conv2D)        (None, 14, 14, 512)       2359808   \n",
      "_________________________________________________________________\n",
      "block5_conv2 (Conv2D)        (None, 14, 14, 512)       2359808   \n",
      "_________________________________________________________________\n",
      "block5_conv3 (Conv2D)        (None, 14, 14, 512)       2359808   \n",
      "_________________________________________________________________\n",
      "block5_pool (MaxPooling2D)   (None, 7, 7, 512)         0         \n",
      "_________________________________________________________________\n",
      "flatten (Flatten)            (None, 25088)             0         \n",
      "_________________________________________________________________\n",
      "dense (Dense)                (None, 5)                 125445    \n",
      "=================================================================\n",
      "Total params: 14,840,133\n",
      "Trainable params: 125,445\n",
      "Non-trainable params: 14,714,688\n",
      "_________________________________________________________________\n"
     ]
    }
   ],
   "source": [
    "input = Input(shape=(224,224,3))\n",
    "x = ptm.layers[1](input) #assuming you are ignoring the first conv layer as implied in your code\n",
    "for layer in ptm.layers[2:]:\n",
    "    x = layer(x)\n",
    "\n",
    "m = Flatten()(x)\n",
    "m = Dense(len(y_dummy.columns),activation = \"softmax\")(m)\n",
    "\n",
    "model = Model(inputs = input, outputs = m)\n",
    "\n",
    "model.summary()\n"
   ]
  },
  {
   "cell_type": "code",
   "execution_count": 17,
   "metadata": {
    "colab": {},
    "colab_type": "code",
    "id": "wteuKru6SPVl"
   },
   "outputs": [],
   "source": [
    "gen_train = ImageDataGenerator(\n",
    "  rotation_range=20,\n",
    "  width_shift_range=0.1,\n",
    "  height_shift_range=0.1,\n",
    "  shear_range=0.1,\n",
    "  zoom_range=0.2,\n",
    "  horizontal_flip=True,\n",
    ")"
   ]
  },
  {
   "cell_type": "code",
   "execution_count": 18,
   "metadata": {
    "colab": {},
    "colab_type": "code",
    "id": "JDGWJxUnS9wx"
   },
   "outputs": [],
   "source": [
    "batch_size = 128"
   ]
  },
  {
   "cell_type": "code",
   "execution_count": 19,
   "metadata": {
    "colab": {},
    "colab_type": "code",
    "id": "0GuQQTH1S-_p"
   },
   "outputs": [],
   "source": [
    "train_generator = gen_train.flow(\n",
    "  X, y = y_dummy,\n",
    "  batch_size=batch_size\n",
    ")"
   ]
  },
  {
   "cell_type": "code",
   "execution_count": 20,
   "metadata": {
    "colab": {},
    "colab_type": "code",
    "id": "JP330Jk4S_IK"
   },
   "outputs": [],
   "source": [
    "model.compile(\n",
    "    loss = \"categorical_crossentropy\",\n",
    "    optimizer = \"adam\",\n",
    "    metrics = [\"accuracy\"])\n"
   ]
  },
  {
   "cell_type": "code",
   "execution_count": 21,
   "metadata": {
    "colab": {},
    "colab_type": "code",
    "id": "--5wgjhvHkAH"
   },
   "outputs": [],
   "source": [
    "tf.keras.backend.clear_session()"
   ]
  },
  {
   "cell_type": "code",
   "execution_count": 24,
   "metadata": {
    "colab": {
     "base_uri": "https://localhost:8080/",
     "height": 667
    },
    "colab_type": "code",
    "id": "7-jZEWg-Tpn3",
    "outputId": "cc656419-1c56-48f7-bc35-9444cb4ace28"
   },
   "outputs": [
    {
     "name": "stdout",
     "output_type": "stream",
     "text": [
      "Epoch 1/20\n",
      "64/64 [==============================] - 82s 1s/step - loss: 0.5072 - accuracy: 0.8103\n",
      "Epoch 2/20\n",
      "64/64 [==============================] - 80s 1s/step - loss: 0.3587 - accuracy: 0.8689\n",
      "Epoch 3/20\n",
      "64/64 [==============================] - 81s 1s/step - loss: 0.3194 - accuracy: 0.8831\n",
      "Epoch 4/20\n",
      "64/64 [==============================] - 82s 1s/step - loss: 0.2733 - accuracy: 0.9014\n",
      "Epoch 5/20\n",
      "64/64 [==============================] - 81s 1s/step - loss: 0.2669 - accuracy: 0.9032\n",
      "Epoch 6/20\n",
      "64/64 [==============================] - 79s 1s/step - loss: 0.2479 - accuracy: 0.9079\n",
      "Epoch 7/20\n",
      "64/64 [==============================] - 77s 1s/step - loss: 0.2427 - accuracy: 0.9112\n",
      "Epoch 8/20\n",
      "64/64 [==============================] - 78s 1s/step - loss: 0.2250 - accuracy: 0.9188\n",
      "Epoch 9/20\n",
      "64/64 [==============================] - 77s 1s/step - loss: 0.2132 - accuracy: 0.9264\n",
      "Epoch 10/20\n",
      "64/64 [==============================] - 77s 1s/step - loss: 0.1918 - accuracy: 0.9320\n",
      "Epoch 11/20\n",
      "64/64 [==============================] - 80s 1s/step - loss: 0.1953 - accuracy: 0.9315\n",
      "Epoch 12/20\n",
      "64/64 [==============================] - 79s 1s/step - loss: 0.1871 - accuracy: 0.9296\n",
      "Epoch 13/20\n",
      "64/64 [==============================] - 75s 1s/step - loss: 0.1804 - accuracy: 0.9337\n",
      "Epoch 14/20\n",
      "64/64 [==============================] - 76s 1s/step - loss: 0.1839 - accuracy: 0.9343\n",
      "Epoch 15/20\n",
      "64/64 [==============================] - 76s 1s/step - loss: 0.1639 - accuracy: 0.9395\n",
      "Epoch 16/20\n",
      "64/64 [==============================] - 75s 1s/step - loss: 0.1682 - accuracy: 0.9378\n",
      "Epoch 17/20\n",
      "64/64 [==============================] - 75s 1s/step - loss: 0.1784 - accuracy: 0.9302\n",
      "Epoch 18/20\n",
      "64/64 [==============================] - 75s 1s/step - loss: 0.1724 - accuracy: 0.9357\n",
      "Epoch 19/20\n",
      "64/64 [==============================] - 75s 1s/step - loss: 0.1731 - accuracy: 0.9338\n",
      "Epoch 20/20\n",
      "64/64 [==============================] - 75s 1s/step - loss: 0.1554 - accuracy: 0.9439\n"
     ]
    }
   ],
   "source": [
    "r = model.fit_generator(\n",
    "    train_generator,\n",
    "    epochs = 20,\n",
    "    steps_per_epoch = int(np.ceil(len(image_files)/batch_size))\n",
    "    )"
   ]
  },
  {
   "cell_type": "code",
   "execution_count": 25,
   "metadata": {
    "colab": {
     "base_uri": "https://localhost:8080/",
     "height": 265
    },
    "colab_type": "code",
    "id": "S25gPAWlT1M-",
    "outputId": "69d91091-7bea-4322-82ff-0499b748a91b"
   },
   "outputs": [
    {
     "data": {
      "image/png": "[encoded data removed]",
      "text/plain": [
       "<Figure size 432x288 with 1 Axes>"
      ]
     },
     "metadata": {
      "needs_background": "light",
      "tags": []
     },
     "output_type": "display_data"
    }
   ],
   "source": [
    "plt.plot(r.history['loss'], label='train loss')\n",
    "#plt.plot(r.history['val_loss'], label='val loss')\n",
    "plt.legend()\n",
    "plt.show()"
   ]
  },
  {
   "cell_type": "code",
   "execution_count": 26,
   "metadata": {
    "colab": {
     "base_uri": "https://localhost:8080/",
     "height": 265
    },
    "colab_type": "code",
    "id": "_Z1Vk7eWT7gA",
    "outputId": "5e3ad857-9e27-4ff5-ba37-8398591afb61"
   },
   "outputs": [
    {
     "data": {
      "image/png": "[encoded data removed]",
      "text/plain": [
       "<Figure size 432x288 with 1 Axes>"
      ]
     },
     "metadata": {
      "needs_background": "light",
      "tags": []
     },
     "output_type": "display_data"
    }
   ],
   "source": [
    "plt.plot(r.history['accuracy'], label='train acc')\n",
    "#plt.plot(r.history['val_accuracy'], label='val acc')\n",
    "plt.legend()\n",
    "plt.show()"
   ]
  },
  {
   "cell_type": "code",
   "execution_count": 27,
   "metadata": {
    "colab": {},
    "colab_type": "code",
    "id": "-xRHYrQKGFql"
   },
   "outputs": [],
   "source": [
    "model.save(\"model1.h5\")"
   ]
  },
  {
   "cell_type": "code",
   "execution_count": 49,
   "metadata": {
    "colab": {},
    "colab_type": "code",
    "id": "AVn6U-lHWSTX"
   },
   "outputs": [],
   "source": [
    "X_t = np.array([cv2.resize(cv2.imread(x,1),IMAGE_SIZE) for x in test_image_files])/255"
   ]
  },
  {
   "cell_type": "code",
   "execution_count": 50,
   "metadata": {
    "colab": {
     "base_uri": "https://localhost:8080/",
     "height": 33
    },
    "colab_type": "code",
    "id": "z8E_k91vS2yz",
    "outputId": "cc2ec80f-92a0-4e5f-8567-d8e297d478ec"
   },
   "outputs": [
    {
     "data": {
      "text/plain": [
       "(910, 224, 224, 3)"
      ]
     },
     "execution_count": 50,
     "metadata": {
      "tags": []
     },
     "output_type": "execute_result"
    }
   ],
   "source": [
    "X_t.shape"
   ]
  },
  {
   "cell_type": "code",
   "execution_count": 51,
   "metadata": {
    "colab": {},
    "colab_type": "code",
    "id": "Tu41yY0EZuXn"
   },
   "outputs": [],
   "source": [
    "predict = model.predict(X_t).argmax(axis=1)"
   ]
  },
  {
   "cell_type": "code",
   "execution_count": 52,
   "metadata": {
    "colab": {},
    "colab_type": "code",
    "id": "1nlrJc9JQgcg"
   },
   "outputs": [],
   "source": [
    "predict2 = pd.Series(predict).map(lambda x: y_dummy.columns[x] )"
   ]
  },
  {
   "cell_type": "code",
   "execution_count": 53,
   "metadata": {
    "colab": {},
    "colab_type": "code",
    "id": "9eoC0TETRNEg"
   },
   "outputs": [],
   "source": [
    "files = pd.Series(test_image_files).map(lambda x: x.replace(\"animal_dataset_intermediate/test/\",\"\"))"
   ]
  },
  {
   "cell_type": "code",
   "execution_count": 54,
   "metadata": {
    "colab": {},
    "colab_type": "code",
    "id": "vv7k9ZdaRhdX"
   },
   "outputs": [],
   "source": [
    "df2 = pd.DataFrame([files,predict2]).transpose()"
   ]
  },
  {
   "cell_type": "code",
   "execution_count": 55,
   "metadata": {
    "colab": {},
    "colab_type": "code",
    "id": "nsSNG5mNRpdi"
   },
   "outputs": [],
   "source": [
    "df2.columns = [\"filename\",\"label\"]"
   ]
  },
  {
   "cell_type": "code",
   "execution_count": 56,
   "metadata": {
    "colab": {},
    "colab_type": "code",
    "id": "SimeI_rZhJR1"
   },
   "outputs": [],
   "source": [
    "df3 = pd.read_csv(\"animal_dataset_intermediate/Testing_set_animals.csv\").merge(df2, on = \"filename\").drop(\"target\",axis = 1)"
   ]
  },
  {
   "cell_type": "code",
   "execution_count": 57,
   "metadata": {
    "colab": {
     "base_uri": "https://localhost:8080/",
     "height": 17
    },
    "colab_type": "code",
    "id": "O0H7CI4TjFTN",
    "outputId": "21a2b90f-7869-411d-d498-925b5ceeb615"
   },
   "outputs": [
    {
     "data": {
      "application/javascript": [
       "\n",
       "    async function download(id, filename, size) {\n",
       "      if (!google.colab.kernel.accessAllowed) {\n",
       "        return;\n",
       "      }\n",
       "      const div = document.createElement('div');\n",
       "      const label = document.createElement('label');\n",
       "      label.textContent = `Downloading \"${filename}\": `;\n",
       "      div.appendChild(label);\n",
       "      const progress = document.createElement('progress');\n",
       "      progress.max = size;\n",
       "      div.appendChild(progress);\n",
       "      document.body.appendChild(div);\n",
       "\n",
       "      const buffers = [];\n",
       "      let downloaded = 0;\n",
       "\n",
       "      const channel = await google.colab.kernel.comms.open(id);\n",
       "      // Send a message to notify the kernel that we're ready.\n",
       "      channel.send({})\n",
       "\n",
       "      for await (const message of channel.messages) {\n",
       "        // Send a message to notify the kernel that we're ready.\n",
       "        channel.send({})\n",
       "        if (message.buffers) {\n",
       "          for (const buffer of message.buffers) {\n",
       "            buffers.push(buffer);\n",
       "            downloaded += buffer.byteLength;\n",
       "            progress.value = downloaded;\n",
       "          }\n",
       "        }\n",
       "      }\n",
       "      const blob = new Blob(buffers, {type: 'application/binary'});\n",
       "      const a = document.createElement('a');\n",
       "      a.href = window.URL.createObjectURL(blob);\n",
       "      a.download = filename;\n",
       "      div.appendChild(a);\n",
       "      a.click();\n",
       "      div.remove();\n",
       "    }\n",
       "  "
      ],
      "text/plain": [
       "<IPython.core.display.Javascript object>"
      ]
     },
     "metadata": {
      "tags": []
     },
     "output_type": "display_data"
    },
    {
     "data": {
      "application/javascript": [
       "download(\"download_38fc06b3-4060-4da0-8524-2b3eb16eb17d\", \"predictions.csv\", 60125)"
      ],
      "text/plain": [
       "<IPython.core.display.Javascript object>"
      ]
     },
     "metadata": {
      "tags": []
     },
     "output_type": "display_data"
    }
   ],
   "source": [
    "df3.to_csv(\"predictions.csv\",index=False)\n",
    "\n",
    "from google.colab import files\n",
    "files.download(\"predictions.csv\")"
   ]
  },
  {
   "cell_type": "code",
   "execution_count": null,
   "metadata": {
    "colab": {},
    "colab_type": "code",
    "id": "wUF9HKdRTawN"
   },
   "outputs": [],
   "source": []
  }
 ],
 "metadata": {
  "accelerator": "GPU",
  "colab": {
   "collapsed_sections": [],
   "machine_shape": "hm",
   "name": "Assigment 2 - Intermediate.ipynb",
   "provenance": [],
   "toc_visible": true
  },
  "kernelspec": {
   "display_name": "Python 3",
   "language": "python",
   "name": "python3"
  },
  "language_info": {
   "codemirror_mode": {
    "name": "ipython",
    "version": 3
   },
   "file_extension": ".py",
   "mimetype": "text/x-python",
   "name": "python",
   "nbconvert_exporter": "python",
   "pygments_lexer": "ipython3",
   "version": "3.8.3"
  }
 },
 "nbformat": 4,
 "nbformat_minor": 1
}
