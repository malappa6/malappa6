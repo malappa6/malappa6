{
  "nbformat": 4,
  "nbformat_minor": 0,
  "metadata": {
    "colab": {
      "name": "Deep Learning Assignment 1_Shivani Singh.ipynb",
      "provenance": []
    },
    "kernelspec": {
      "name": "python3",
      "display_name": "Python 3"
    }
  },
  "cells": [
    {
      "cell_type": "code",
      "metadata": {
        "id": "R-O_GYSC--j6",
        "colab_type": "code",
        "colab": {}
      },
      "source": [
        "# Import the required libraries\n",
        "import pandas as pd\n",
        "import numpy as np\n",
        "import matplotlib.pyplot as plt"
      ],
      "execution_count": null,
      "outputs": []
    },
    {
      "cell_type": "code",
      "metadata": {
        "id": "xSY10M0-Clq8",
        "colab_type": "code",
        "colab": {}
      },
      "source": [
        "# Import the Data\n",
        "bank_note_data = pd.read_csv(\"https://raw.githubusercontent.com/dphi-official/Datasets/master/bank_note_data/training_set_label.csv\" )"
      ],
      "execution_count": null,
      "outputs": []
    },
    {
      "cell_type": "code",
      "metadata": {
        "id": "uLIW0d-NCv_A",
        "colab_type": "code",
        "colab": {
          "base_uri": "https://localhost:8080/",
          "height": 204
        },
        "outputId": "77c34386-b86f-49b1-9dbb-1f6fb17e83f0"
      },
      "source": [
        "# Check the first few rows of the data\n",
        "bank_note_data.head()"
      ],
      "execution_count": null,
      "outputs": [
        {
          "output_type": "execute_result",
          "data": {
            "text/html": [
              "<div>\n",
              "<style scoped>\n",
              "    .dataframe tbody tr th:only-of-type {\n",
              "        vertical-align: middle;\n",
              "    }\n",
              "\n",
              "    .dataframe tbody tr th {\n",
              "        vertical-align: top;\n",
              "    }\n",
              "\n",
              "    .dataframe thead th {\n",
              "        text-align: right;\n",
              "    }\n",
              "</style>\n",
              "<table border=\"1\" class=\"dataframe\">\n",
              "  <thead>\n",
              "    <tr style=\"text-align: right;\">\n",
              "      <th></th>\n",
              "      <th>VWTI</th>\n",
              "      <th>SWTI</th>\n",
              "      <th>CWTI</th>\n",
              "      <th>EI</th>\n",
              "      <th>Class</th>\n",
              "    </tr>\n",
              "  </thead>\n",
              "  <tbody>\n",
              "    <tr>\n",
              "      <th>0</th>\n",
              "      <td>2.2634</td>\n",
              "      <td>-4.4862</td>\n",
              "      <td>3.6558</td>\n",
              "      <td>-0.612510</td>\n",
              "      <td>0</td>\n",
              "    </tr>\n",
              "    <tr>\n",
              "      <th>1</th>\n",
              "      <td>3.2718</td>\n",
              "      <td>1.7837</td>\n",
              "      <td>2.1161</td>\n",
              "      <td>0.613340</td>\n",
              "      <td>0</td>\n",
              "    </tr>\n",
              "    <tr>\n",
              "      <th>2</th>\n",
              "      <td>-3.9411</td>\n",
              "      <td>-12.8792</td>\n",
              "      <td>13.0597</td>\n",
              "      <td>-3.312500</td>\n",
              "      <td>1</td>\n",
              "    </tr>\n",
              "    <tr>\n",
              "      <th>3</th>\n",
              "      <td>0.5195</td>\n",
              "      <td>-3.2633</td>\n",
              "      <td>3.0895</td>\n",
              "      <td>-0.984900</td>\n",
              "      <td>0</td>\n",
              "    </tr>\n",
              "    <tr>\n",
              "      <th>4</th>\n",
              "      <td>2.5698</td>\n",
              "      <td>-4.4076</td>\n",
              "      <td>5.9856</td>\n",
              "      <td>0.078002</td>\n",
              "      <td>0</td>\n",
              "    </tr>\n",
              "  </tbody>\n",
              "</table>\n",
              "</div>"
            ],
            "text/plain": [
              "     VWTI     SWTI     CWTI        EI  Class\n",
              "0  2.2634  -4.4862   3.6558 -0.612510      0\n",
              "1  3.2718   1.7837   2.1161  0.613340      0\n",
              "2 -3.9411 -12.8792  13.0597 -3.312500      1\n",
              "3  0.5195  -3.2633   3.0895 -0.984900      0\n",
              "4  2.5698  -4.4076   5.9856  0.078002      0"
            ]
          },
          "metadata": {
            "tags": []
          },
          "execution_count": 29
        }
      ]
    },
    {
      "cell_type": "markdown",
      "metadata": {
        "id": "9LkZU6y6C-Br",
        "colab_type": "text"
      },
      "source": [
        "** Information about the Data - The final images have 400x 400 pixels.Due to the object lens and distance to the investigated object grey-scale pictures with a resolution of about 660 dpi were gained**"
      ]
    },
    {
      "cell_type": "code",
      "metadata": {
        "id": "9YJp0HJKDJSQ",
        "colab_type": "code",
        "colab": {
          "base_uri": "https://localhost:8080/",
          "height": 34
        },
        "outputId": "9c8aeae1-43d2-445c-e02e-6fb492965010"
      },
      "source": [
        "# Check the data shape\n",
        "bank_note_data.shape"
      ],
      "execution_count": null,
      "outputs": [
        {
          "output_type": "execute_result",
          "data": {
            "text/plain": [
              "(1096, 5)"
            ]
          },
          "metadata": {
            "tags": []
          },
          "execution_count": 30
        }
      ]
    },
    {
      "cell_type": "markdown",
      "metadata": {
        "id": "YYeo2ctGJGWO",
        "colab_type": "text"
      },
      "source": [
        "**Separate the Input and Output Data**\n"
      ]
    },
    {
      "cell_type": "code",
      "metadata": {
        "id": "GrVAJxpLI7Fb",
        "colab_type": "code",
        "colab": {}
      },
      "source": [
        "x = bank_note_data.drop('Class',axis=1)\n",
        "y = bank_note_data['Class']\n",
        "np.random.seed(7)"
      ],
      "execution_count": null,
      "outputs": []
    },
    {
      "cell_type": "code",
      "metadata": {
        "id": "u-VnnGTvJlHg",
        "colab_type": "code",
        "colab": {}
      },
      "source": [
        "from sklearn.model_selection import train_test_split\n",
        "x_train,x_test,y_train,y_test = train_test_split(x,y,test_size =0.2,random_state=42)"
      ],
      "execution_count": null,
      "outputs": []
    },
    {
      "cell_type": "code",
      "metadata": {
        "id": "pSS14J0XKN4D",
        "colab_type": "code",
        "colab": {
          "base_uri": "https://localhost:8080/",
          "height": 34
        },
        "outputId": "7bac7556-6c59-4a95-ed4c-45eba6e71850"
      },
      "source": [
        "# No of Input Features\n",
        "x_train.shape[1]"
      ],
      "execution_count": null,
      "outputs": [
        {
          "output_type": "execute_result",
          "data": {
            "text/plain": [
              "4"
            ]
          },
          "metadata": {
            "tags": []
          },
          "execution_count": 33
        }
      ]
    },
    {
      "cell_type": "markdown",
      "metadata": {
        "id": "vWNF2SHsLNRR",
        "colab_type": "text"
      },
      "source": [
        "**Import Required Tensorflow Libraries**"
      ]
    },
    {
      "cell_type": "code",
      "metadata": {
        "id": "x6WUoktRLLbm",
        "colab_type": "code",
        "colab": {}
      },
      "source": [
        "import tensorflow as tf\n",
        "from tensorflow import keras\n",
        "from tensorflow.keras import Sequential\n",
        "from tensorflow.keras import layers\n",
        "from tensorflow.keras.layers import Dense\n"
      ],
      "execution_count": null,
      "outputs": []
    },
    {
      "cell_type": "markdown",
      "metadata": {
        "id": "7BsmrpWCVoiH",
        "colab_type": "text"
      },
      "source": [
        "**Model Architecture**\n",
        "\n",
        "\n",
        "1.   No of Input Features = 4\n",
        "2.   Neurons in First Dense Layer = 15\n",
        "3.   Neurons in Second Dense Layer = 10\n",
        "4.   Neurons in Third Dense Layer = 5\n",
        "5.   Neurons in Final/Output Layer = 1\n",
        "\n",
        "(Changed Layer Multiple times but i got the best accuracy from this Layer)\n",
        "\n",
        "**Model = Sequential**\n",
        "\n",
        "Activation Function :-\n",
        "\n",
        "\n",
        "\n",
        "\n",
        "1.   Input & Hidden Layer = relu (Doesnot Give Negative output as formula of relu is Max(0,z)\n",
        "2.   Output Layer = Sigmoid ( Gives the output between 0 to 1)\n",
        "\n",
        "\n",
        "\n",
        "\n"
      ]
    },
    {
      "cell_type": "code",
      "metadata": {
        "id": "XBvsyDkhL4F6",
        "colab_type": "code",
        "colab": {}
      },
      "source": [
        "model = Sequential()\n",
        "model.add(Dense(15,activation='relu',input_shape = (x_train.shape[1],)))\n",
        "model.add(Dense(10,activation='relu'))\n",
        "model.add(Dense(5,activation = 'relu'))\n",
        "model.add(Dense(1,activation='sigmoid'))\n"
      ],
      "execution_count": null,
      "outputs": []
    },
    {
      "cell_type": "markdown",
      "metadata": {
        "id": "im6Ybc40Zu__",
        "colab_type": "text"
      },
      "source": [
        "Loss Function as Binary Crossentropy because this Problem is Binary\n",
        "\n",
        "---\n",
        "\n",
        "\n",
        "Learning Rate should be low initially so taken as 0.001 ( After Running Model on Different Learning Rate i got the best accuracy in this Learning Rate)\n",
        "\n",
        "---\n",
        "\n",
        "Metrics will be Accuracy"
      ]
    },
    {
      "cell_type": "code",
      "metadata": {
        "id": "HeTRnxZ9ZH5Z",
        "colab_type": "code",
        "colab": {}
      },
      "source": [
        "# Compile the Model\n",
        "from tensorflow.keras.optimizers import RMSprop\n",
        "optimizer = RMSprop(0.001) #Learning rate as 0.01\n",
        "model.compile(loss = 'binary_crossentropy',optimizer=optimizer,metrics=['accuracy'])"
      ],
      "execution_count": null,
      "outputs": []
    },
    {
      "cell_type": "code",
      "metadata": {
        "id": "T4JGg9MlaV5h",
        "colab_type": "code",
        "colab": {
          "base_uri": "https://localhost:8080/",
          "height": 289
        },
        "outputId": "5f45f0bc-bf32-4618-82d1-6ba4c1678bc9"
      },
      "source": [
        "# Print the summary\n",
        "model.summary()"
      ],
      "execution_count": null,
      "outputs": [
        {
          "output_type": "stream",
          "text": [
            "Model: \"sequential_5\"\n",
            "_________________________________________________________________\n",
            "Layer (type)                 Output Shape              Param #   \n",
            "=================================================================\n",
            "dense_14 (Dense)             (None, 15)                75        \n",
            "_________________________________________________________________\n",
            "dense_15 (Dense)             (None, 10)                160       \n",
            "_________________________________________________________________\n",
            "dense_16 (Dense)             (None, 5)                 55        \n",
            "_________________________________________________________________\n",
            "dense_17 (Dense)             (None, 1)                 6         \n",
            "=================================================================\n",
            "Total params: 296\n",
            "Trainable params: 296\n",
            "Non-trainable params: 0\n",
            "_________________________________________________________________\n"
          ],
          "name": "stdout"
        }
      ]
    },
    {
      "cell_type": "code",
      "metadata": {
        "id": "5iDxrXMsafRj",
        "colab_type": "code",
        "colab": {
          "base_uri": "https://localhost:8080/",
          "height": 1000
        },
        "outputId": "66c17e1b-3a2c-4ac7-959f-1fb73ead892b"
      },
      "source": [
        "# Model Training with Epochs = 100 with Batch Size 10\n",
        "check_accuracy = model.fit(x_train,y_train,validation_split=0.2,epochs=50,batch_size=10,verbose=1)\n"
      ],
      "execution_count": null,
      "outputs": [
        {
          "output_type": "stream",
          "text": [
            "Epoch 1/50\n",
            "70/70 [==============================] - 0s 3ms/step - loss: 0.5782 - accuracy: 0.7500 - val_loss: 0.4892 - val_accuracy: 0.8636\n",
            "Epoch 2/50\n",
            "70/70 [==============================] - 0s 1ms/step - loss: 0.4256 - accuracy: 0.8886 - val_loss: 0.3441 - val_accuracy: 0.9205\n",
            "Epoch 3/50\n",
            "70/70 [==============================] - 0s 1ms/step - loss: 0.2938 - accuracy: 0.9371 - val_loss: 0.2165 - val_accuracy: 0.9659\n",
            "Epoch 4/50\n",
            "70/70 [==============================] - 0s 1ms/step - loss: 0.1869 - accuracy: 0.9786 - val_loss: 0.1269 - val_accuracy: 0.9830\n",
            "Epoch 5/50\n",
            "70/70 [==============================] - 0s 1ms/step - loss: 0.1111 - accuracy: 0.9814 - val_loss: 0.0676 - val_accuracy: 1.0000\n",
            "Epoch 6/50\n",
            "70/70 [==============================] - 0s 1ms/step - loss: 0.0587 - accuracy: 0.9929 - val_loss: 0.0327 - val_accuracy: 1.0000\n",
            "Epoch 7/50\n",
            "70/70 [==============================] - 0s 1ms/step - loss: 0.0310 - accuracy: 0.9971 - val_loss: 0.0167 - val_accuracy: 1.0000\n",
            "Epoch 8/50\n",
            "70/70 [==============================] - 0s 1ms/step - loss: 0.0172 - accuracy: 1.0000 - val_loss: 0.0089 - val_accuracy: 1.0000\n",
            "Epoch 9/50\n",
            "70/70 [==============================] - 0s 2ms/step - loss: 0.0107 - accuracy: 1.0000 - val_loss: 0.0057 - val_accuracy: 1.0000\n",
            "Epoch 10/50\n",
            "70/70 [==============================] - 0s 1ms/step - loss: 0.0069 - accuracy: 1.0000 - val_loss: 0.0035 - val_accuracy: 1.0000\n",
            "Epoch 11/50\n",
            "70/70 [==============================] - 0s 1ms/step - loss: 0.0044 - accuracy: 1.0000 - val_loss: 0.0023 - val_accuracy: 1.0000\n",
            "Epoch 12/50\n",
            "70/70 [==============================] - 0s 1ms/step - loss: 0.0030 - accuracy: 1.0000 - val_loss: 0.0016 - val_accuracy: 1.0000\n",
            "Epoch 13/50\n",
            "70/70 [==============================] - 0s 1ms/step - loss: 0.0020 - accuracy: 1.0000 - val_loss: 0.0010 - val_accuracy: 1.0000\n",
            "Epoch 14/50\n",
            "70/70 [==============================] - 0s 1ms/step - loss: 0.0014 - accuracy: 1.0000 - val_loss: 6.5360e-04 - val_accuracy: 1.0000\n",
            "Epoch 15/50\n",
            "70/70 [==============================] - 0s 1ms/step - loss: 8.7568e-04 - accuracy: 1.0000 - val_loss: 4.2452e-04 - val_accuracy: 1.0000\n",
            "Epoch 16/50\n",
            "70/70 [==============================] - 0s 1ms/step - loss: 5.9182e-04 - accuracy: 1.0000 - val_loss: 2.4753e-04 - val_accuracy: 1.0000\n",
            "Epoch 17/50\n",
            "70/70 [==============================] - 0s 1ms/step - loss: 4.1900e-04 - accuracy: 1.0000 - val_loss: 1.8235e-04 - val_accuracy: 1.0000\n",
            "Epoch 18/50\n",
            "70/70 [==============================] - 0s 1ms/step - loss: 3.2473e-04 - accuracy: 1.0000 - val_loss: 1.0431e-04 - val_accuracy: 1.0000\n",
            "Epoch 19/50\n",
            "70/70 [==============================] - 0s 1ms/step - loss: 1.6058e-04 - accuracy: 1.0000 - val_loss: 7.6048e-05 - val_accuracy: 1.0000\n",
            "Epoch 20/50\n",
            "70/70 [==============================] - 0s 1ms/step - loss: 1.3050e-04 - accuracy: 1.0000 - val_loss: 4.9189e-05 - val_accuracy: 1.0000\n",
            "Epoch 21/50\n",
            "70/70 [==============================] - 0s 1ms/step - loss: 8.8529e-05 - accuracy: 1.0000 - val_loss: 2.6662e-05 - val_accuracy: 1.0000\n",
            "Epoch 22/50\n",
            "70/70 [==============================] - 0s 1ms/step - loss: 7.7198e-05 - accuracy: 1.0000 - val_loss: 1.8426e-05 - val_accuracy: 1.0000\n",
            "Epoch 23/50\n",
            "70/70 [==============================] - 0s 1ms/step - loss: 4.0635e-05 - accuracy: 1.0000 - val_loss: 1.2816e-05 - val_accuracy: 1.0000\n",
            "Epoch 24/50\n",
            "70/70 [==============================] - 0s 1ms/step - loss: 2.6843e-05 - accuracy: 1.0000 - val_loss: 1.0858e-05 - val_accuracy: 1.0000\n",
            "Epoch 25/50\n",
            "70/70 [==============================] - 0s 1ms/step - loss: 1.6998e-05 - accuracy: 1.0000 - val_loss: 9.8062e-06 - val_accuracy: 1.0000\n",
            "Epoch 26/50\n",
            "70/70 [==============================] - 0s 1ms/step - loss: 2.3397e-05 - accuracy: 1.0000 - val_loss: 3.6842e-06 - val_accuracy: 1.0000\n",
            "Epoch 27/50\n",
            "70/70 [==============================] - 0s 2ms/step - loss: 1.0483e-05 - accuracy: 1.0000 - val_loss: 2.6672e-06 - val_accuracy: 1.0000\n",
            "Epoch 28/50\n",
            "70/70 [==============================] - 0s 2ms/step - loss: 8.5001e-06 - accuracy: 1.0000 - val_loss: 1.5500e-06 - val_accuracy: 1.0000\n",
            "Epoch 29/50\n",
            "70/70 [==============================] - 0s 1ms/step - loss: 4.2510e-06 - accuracy: 1.0000 - val_loss: 1.3644e-06 - val_accuracy: 1.0000\n",
            "Epoch 30/50\n",
            "70/70 [==============================] - 0s 1ms/step - loss: 4.0134e-06 - accuracy: 1.0000 - val_loss: 6.4135e-07 - val_accuracy: 1.0000\n",
            "Epoch 31/50\n",
            "70/70 [==============================] - 0s 1ms/step - loss: 2.6257e-06 - accuracy: 1.0000 - val_loss: 3.9890e-07 - val_accuracy: 1.0000\n",
            "Epoch 32/50\n",
            "70/70 [==============================] - 0s 1ms/step - loss: 1.4083e-06 - accuracy: 1.0000 - val_loss: 2.3671e-07 - val_accuracy: 1.0000\n",
            "Epoch 33/50\n",
            "70/70 [==============================] - 0s 1ms/step - loss: 1.0293e-06 - accuracy: 1.0000 - val_loss: 1.8579e-07 - val_accuracy: 1.0000\n",
            "Epoch 34/50\n",
            "70/70 [==============================] - 0s 2ms/step - loss: 5.6857e-07 - accuracy: 1.0000 - val_loss: 9.4769e-08 - val_accuracy: 1.0000\n",
            "Epoch 35/50\n",
            "70/70 [==============================] - 0s 1ms/step - loss: 8.9002e-07 - accuracy: 1.0000 - val_loss: 7.0826e-08 - val_accuracy: 1.0000\n",
            "Epoch 36/50\n",
            "70/70 [==============================] - 0s 1ms/step - loss: 3.4483e-07 - accuracy: 1.0000 - val_loss: 4.8731e-08 - val_accuracy: 1.0000\n",
            "Epoch 37/50\n",
            "70/70 [==============================] - 0s 1ms/step - loss: 2.3325e-07 - accuracy: 1.0000 - val_loss: 3.5220e-08 - val_accuracy: 1.0000\n",
            "Epoch 38/50\n",
            "70/70 [==============================] - 0s 2ms/step - loss: 2.4453e-07 - accuracy: 1.0000 - val_loss: 2.5079e-08 - val_accuracy: 1.0000\n",
            "Epoch 39/50\n",
            "70/70 [==============================] - 0s 1ms/step - loss: 1.0961e-07 - accuracy: 1.0000 - val_loss: 1.3957e-08 - val_accuracy: 1.0000\n",
            "Epoch 40/50\n",
            "70/70 [==============================] - 0s 1ms/step - loss: 1.2604e-07 - accuracy: 1.0000 - val_loss: 1.1207e-08 - val_accuracy: 1.0000\n",
            "Epoch 41/50\n",
            "70/70 [==============================] - 0s 1ms/step - loss: 4.8611e-08 - accuracy: 1.0000 - val_loss: 6.4081e-09 - val_accuracy: 1.0000\n",
            "Epoch 42/50\n",
            "70/70 [==============================] - 0s 1ms/step - loss: 5.1003e-08 - accuracy: 1.0000 - val_loss: 5.9843e-09 - val_accuracy: 1.0000\n",
            "Epoch 43/50\n",
            "70/70 [==============================] - 0s 1ms/step - loss: 2.7641e-08 - accuracy: 1.0000 - val_loss: 3.2235e-09 - val_accuracy: 1.0000\n",
            "Epoch 44/50\n",
            "70/70 [==============================] - 0s 1ms/step - loss: 2.7210e-08 - accuracy: 1.0000 - val_loss: 3.5825e-09 - val_accuracy: 1.0000\n",
            "Epoch 45/50\n",
            "70/70 [==============================] - 0s 1ms/step - loss: 1.6390e-08 - accuracy: 1.0000 - val_loss: 1.8306e-09 - val_accuracy: 1.0000\n",
            "Epoch 46/50\n",
            "70/70 [==============================] - 0s 1ms/step - loss: 1.3093e-08 - accuracy: 1.0000 - val_loss: 1.3370e-09 - val_accuracy: 1.0000\n",
            "Epoch 47/50\n",
            "70/70 [==============================] - 0s 2ms/step - loss: 1.0864e-08 - accuracy: 1.0000 - val_loss: 1.0607e-09 - val_accuracy: 1.0000\n",
            "Epoch 48/50\n",
            "70/70 [==============================] - 0s 1ms/step - loss: 7.0750e-09 - accuracy: 1.0000 - val_loss: 7.5541e-10 - val_accuracy: 1.0000\n",
            "Epoch 49/50\n",
            "70/70 [==============================] - 0s 1ms/step - loss: 6.1160e-09 - accuracy: 1.0000 - val_loss: 9.5776e-10 - val_accuracy: 1.0000\n",
            "Epoch 50/50\n",
            "70/70 [==============================] - 0s 1ms/step - loss: 3.9306e-09 - accuracy: 1.0000 - val_loss: 4.4006e-10 - val_accuracy: 1.0000\n"
          ],
          "name": "stdout"
        }
      ]
    },
    {
      "cell_type": "markdown",
      "metadata": {
        "id": "wQhSOR_NdamY",
        "colab_type": "text"
      },
      "source": [
        "After Running multiple times i got the best accuracy in 10 Batch Size and  50 Epochs\n"
      ]
    },
    {
      "cell_type": "code",
      "metadata": {
        "id": "jiEBxWb5fpSM",
        "colab_type": "code",
        "colab": {
          "base_uri": "https://localhost:8080/",
          "height": 295
        },
        "outputId": "080ff734-cc28-42cb-9f82-dd68f66046cd"
      },
      "source": [
        "plt.plot(check_accuracy.history['accuracy'])\n",
        "plt.plot(check_accuracy.history['val_accuracy'])\n",
        "plt.title('Model Accuracy')\n",
        "plt.ylabel('accuracy')\n",
        "plt.xlabel('epoch')\n",
        "plt.legend(['Train', 'Validation'])\n",
        "plt.show()"
      ],
      "execution_count": null,
      "outputs": [
        {
          "output_type": "display_data",
          "data": {
            "image/png": "[encoded data removed]",
            "text/plain": [
              "<Figure size 432x288 with 1 Axes>"
            ]
          },
          "metadata": {
            "tags": [],
            "needs_background": "light"
          }
        }
      ]
    },
    {
      "cell_type": "code",
      "metadata": {
        "id": "_I4M0Vh0nvy3",
        "colab_type": "code",
        "colab": {
          "base_uri": "https://localhost:8080/",
          "height": 295
        },
        "outputId": "7dbce53e-1ca6-4eaf-e33e-0a15295e6cec"
      },
      "source": [
        "plt.plot(check_accuracy.history['loss'])\n",
        "plt.plot(check_accuracy.history['val_loss'])\n",
        "plt.title('Model Loss')\n",
        "plt.ylabel('loss')\n",
        "plt.xlabel('epoch')\n",
        "plt.legend(['Train', 'Validation'])\n",
        "plt.show()"
      ],
      "execution_count": null,
      "outputs": [
        {
          "output_type": "display_data",
          "data": {
            "image/png": "[encoded data removed]",
            "text/plain": [
              "<Figure size 432x288 with 1 Axes>"
            ]
          },
          "metadata": {
            "tags": [],
            "needs_background": "light"
          }
        }
      ]
    },
    {
      "cell_type": "markdown",
      "metadata": {
        "id": "WLDgulOAAdeC",
        "colab_type": "text"
      },
      "source": [
        "Model loss is decreasing from the very beginning but it became constant after 15/20 Epoch"
      ]
    },
    {
      "cell_type": "code",
      "metadata": {
        "id": "vlS2vNGxeElQ",
        "colab_type": "code",
        "colab": {
          "base_uri": "https://localhost:8080/",
          "height": 51
        },
        "outputId": "7b8c516f-0a05-4cf7-ee7f-89f3774f401c"
      },
      "source": [
        "# Model Evaluate\n",
        "model.evaluate(x_test,y_test)"
      ],
      "execution_count": null,
      "outputs": [
        {
          "output_type": "stream",
          "text": [
            "7/7 [==============================] - 0s 2ms/step - loss: 1.1747e-07 - accuracy: 1.0000\n"
          ],
          "name": "stdout"
        },
        {
          "output_type": "execute_result",
          "data": {
            "text/plain": [
              "[1.1747136596795826e-07, 1.0]"
            ]
          },
          "metadata": {
            "tags": []
          },
          "execution_count": 71
        }
      ]
    },
    {
      "cell_type": "code",
      "metadata": {
        "id": "vBJ84v8noDLq",
        "colab_type": "code",
        "colab": {}
      },
      "source": [
        "test_data = pd.read_csv('https://raw.githubusercontent.com/dphi-official/Datasets/master/bank_note_data/testing_set_label.csv')"
      ],
      "execution_count": null,
      "outputs": []
    },
    {
      "cell_type": "code",
      "metadata": {
        "id": "ItjNrqpgoJhd",
        "colab_type": "code",
        "colab": {
          "base_uri": "https://localhost:8080/",
          "height": 34
        },
        "outputId": "b99ed379-8979-4144-d746-f56ccbe07779"
      },
      "source": [
        "test_data.shape"
      ],
      "execution_count": null,
      "outputs": [
        {
          "output_type": "execute_result",
          "data": {
            "text/plain": [
              "(275, 4)"
            ]
          },
          "metadata": {
            "tags": []
          },
          "execution_count": 74
        }
      ]
    },
    {
      "cell_type": "code",
      "metadata": {
        "id": "6z6LPzweoYo5",
        "colab_type": "code",
        "colab": {
          "base_uri": "https://localhost:8080/",
          "height": 34
        },
        "outputId": "9155a00e-a261-4001-828f-304c1bb9854c"
      },
      "source": [
        "test_data.shape[1]"
      ],
      "execution_count": null,
      "outputs": [
        {
          "output_type": "execute_result",
          "data": {
            "text/plain": [
              "4"
            ]
          },
          "metadata": {
            "tags": []
          },
          "execution_count": 75
        }
      ]
    },
    {
      "cell_type": "code",
      "metadata": {
        "id": "MG4k-XW9obb5",
        "colab_type": "code",
        "colab": {}
      },
      "source": [
        "# Predict the Model on New Test DATA\n",
        "predict = model.predict(test_data)"
      ],
      "execution_count": null,
      "outputs": []
    },
    {
      "cell_type": "code",
      "metadata": {
        "id": "g1YoTt0j8XDB",
        "colab_type": "code",
        "colab": {}
      },
      "source": [
        "# If value is more than threshold 0.5 it will give 1 otherwise 0\n",
        "predict = [1 if x >= 0.5 else 0 for x in predict]"
      ],
      "execution_count": null,
      "outputs": []
    },
    {
      "cell_type": "code",
      "metadata": {
        "id": "L7Td2tFZpIL-",
        "colab_type": "code",
        "colab": {
          "base_uri": "https://localhost:8080/",
          "height": 17
        },
        "outputId": "b1a8c7df-ed8f-471f-a64d-ab1c17c9e1ff"
      },
      "source": [
        "res = pd.DataFrame(predict) # Save the Result as DataFrame\n",
        "res.index = test_data.index # To Match the Index of Test New Data with the Predicted Value\n",
        "res.columns = [\"class\"] # Column name as Class\n",
        "\n",
        "# To download the csv file locally\n",
        "from google.colab import files\n",
        "res.to_csv('prediction_results.csv')         \n",
        "files.download('prediction_results.csv')"
      ],
      "execution_count": null,
      "outputs": [
        {
          "output_type": "display_data",
          "data": {
            "application/javascript": [
              "\n",
              "    async function download(id, filename, size) {\n",
              "      if (!google.colab.kernel.accessAllowed) {\n",
              "        return;\n",
              "      }\n",
              "      const div = document.createElement('div');\n",
              "      const label = document.createElement('label');\n",
              "      label.textContent = `Downloading \"${filename}\": `;\n",
              "      div.appendChild(label);\n",
              "      const progress = document.createElement('progress');\n",
              "      progress.max = size;\n",
              "      div.appendChild(progress);\n",
              "      document.body.appendChild(div);\n",
              "\n",
              "      const buffers = [];\n",
              "      let downloaded = 0;\n",
              "\n",
              "      const channel = await google.colab.kernel.comms.open(id);\n",
              "      // Send a message to notify the kernel that we're ready.\n",
              "      channel.send({})\n",
              "\n",
              "      for await (const message of channel.messages) {\n",
              "        // Send a message to notify the kernel that we're ready.\n",
              "        channel.send({})\n",
              "        if (message.buffers) {\n",
              "          for (const buffer of message.buffers) {\n",
              "            buffers.push(buffer);\n",
              "            downloaded += buffer.byteLength;\n",
              "            progress.value = downloaded;\n",
              "          }\n",
              "        }\n",
              "      }\n",
              "      const blob = new Blob(buffers, {type: 'application/binary'});\n",
              "      const a = document.createElement('a');\n",
              "      a.href = window.URL.createObjectURL(blob);\n",
              "      a.download = filename;\n",
              "      div.appendChild(a);\n",
              "      a.click();\n",
              "      div.remove();\n",
              "    }\n",
              "  "
            ],
            "text/plain": [
              "<IPython.core.display.Javascript object>"
            ]
          },
          "metadata": {
            "tags": []
          }
        },
        {
          "output_type": "display_data",
          "data": {
            "application/javascript": [
              "download(\"download_d87ba7e7-7520-4bbf-b7b4-542496fa4158\", \"prediction_results.csv\", 1547)"
            ],
            "text/plain": [
              "<IPython.core.display.Javascript object>"
            ]
          },
          "metadata": {
            "tags": []
          }
        }
      ]
    }
  ]
}