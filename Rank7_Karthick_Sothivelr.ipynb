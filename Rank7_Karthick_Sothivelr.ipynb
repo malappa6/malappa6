{
  "nbformat": 4,
  "nbformat_minor": 0,
  "metadata": {
    "kernelspec": {
      "display_name": "Python 3",
      "language": "python",
      "name": "python3"
    },
    "language_info": {
      "codemirror_mode": {
        "name": "ipython",
        "version": 3
      },
      "file_extension": ".py",
      "mimetype": "text/x-python",
      "name": "python",
      "nbconvert_exporter": "python",
      "pygments_lexer": "ipython3",
      "version": "3.6.10"
    },
    "colab": {
      "name": "Challenge_Problem_1-CNN.ipynb",
      "provenance": [],
      "toc_visible": true,
      "machine_shape": "hm"
    },
    "accelerator": "GPU"
  },
  "cells": [
    {
      "cell_type": "markdown",
      "metadata": {
        "id": "PnqljkvywvWH",
        "colab_type": "text"
      },
      "source": [
        "# Challenge Problem 1\n",
        "- Identify object in picture (['airplane', 'automobile', 'bird', 'cat', 'deer', 'dog', 'frog', 'horse', 'ship', 'truck'])\n",
        "- Architecture: Convolutional Neural Network (CNN)"
      ]
    },
    {
      "cell_type": "markdown",
      "metadata": {
        "id": "4FAHRyfcwvWI",
        "colab_type": "text"
      },
      "source": [
        "## Import Libraries"
      ]
    },
    {
      "cell_type": "code",
      "metadata": {
        "id": "1RCl9xxfwvWJ",
        "colab_type": "code",
        "colab": {
          "base_uri": "https://localhost:8080/",
          "height": 51
        },
        "outputId": "33bded85-775d-4098-e6ca-8e19158aa6fd"
      },
      "source": [
        "import tensorflow as tf\n",
        "physical_devices = tf.config.list_physical_devices('GPU')\n",
        "tf.config.experimental.set_memory_growth(physical_devices[0], True)\n",
        "\n",
        "# Import libraries\n",
        "import pandas as pd\n",
        "import numpy as np\n",
        "import matplotlib.pyplot as plt\n",
        "import seaborn as sns\n",
        "\n",
        "from tensorflow.keras.models import Sequential\n",
        "from tensorflow.keras.layers import Dense, Dropout, Flatten, BatchNormalization, Conv2D, MaxPool2D, GlobalAveragePooling2D, GlobalMaxPooling2D\n",
        "from tensorflow.keras.optimizers import Adam, RMSprop, SGD\n",
        "from tensorflow.keras.callbacks import ModelCheckpoint, EarlyStopping, ReduceLROnPlateau, Callback\n",
        "from tensorflow.keras.utils import to_categorical\n",
        "from tensorflow.keras.preprocessing.image import ImageDataGenerator\n",
        "\n",
        "from sklearn.model_selection import train_test_split, KFold, ParameterSampler\n",
        "from sklearn.metrics import confusion_matrix, classification_report\n",
        "\n",
        "import cv2"
      ],
      "execution_count": 1,
      "outputs": [
        {
          "output_type": "stream",
          "text": [
            "/usr/local/lib/python3.6/dist-packages/statsmodels/tools/_testing.py:19: FutureWarning: pandas.util.testing is deprecated. Use the functions in the public API at pandas.testing instead.\n",
            "  import pandas.util.testing as tm\n"
          ],
          "name": "stderr"
        }
      ]
    },
    {
      "cell_type": "markdown",
      "metadata": {
        "id": "mGZbz8kUwvWL",
        "colab_type": "text"
      },
      "source": [
        "## Load the Data"
      ]
    },
    {
      "cell_type": "code",
      "metadata": {
        "id": "hHfJxIn1wvWM",
        "colab_type": "code",
        "colab": {
          "base_uri": "https://localhost:8080/",
          "height": 51
        },
        "outputId": "e860a3e0-e2d1-4ffa-eeaa-398dd02a0896"
      },
      "source": [
        "from tensorflow.keras.datasets.cifar10 import load_data\n",
        "\n",
        "(X_train, y_train), (X_test, y_test) = load_data()"
      ],
      "execution_count": 2,
      "outputs": [
        {
          "output_type": "stream",
          "text": [
            "Downloading data from https://www.cs.toronto.edu/~kriz/cifar-10-python.tar.gz\n",
            "170500096/170498071 [==============================] - 6s 0us/step\n"
          ],
          "name": "stdout"
        }
      ]
    },
    {
      "cell_type": "code",
      "metadata": {
        "id": "fHvYVfrzwvWO",
        "colab_type": "code",
        "colab": {
          "base_uri": "https://localhost:8080/",
          "height": 311
        },
        "outputId": "91fb69a2-804e-417f-a299-994b207cae60"
      },
      "source": [
        "# Understanding the Data\n",
        "print(f\"Total number of training dataset: {len(X_train)}\")\n",
        "print(f\"Shape of Train: {X_train.shape}\")\n",
        "print(f\"Total number of test dataset: {len(X_test)}\")\n",
        "print(f\"Shape of Test: {X_test.shape}\")\n",
        "\n",
        "unique_elements, counts_elements = np.unique(y_train, return_counts=True)\n",
        "\n",
        "print(f\"Number of classes: {len(unique_elements)}\")\n",
        "print(\"\\n\")\n",
        "\n",
        "print(f'''Number of train samples by class: \n",
        "Class Labels: {unique_elements}\n",
        "Number of Samples: {counts_elements}''')\n",
        "print(\"\\n\")\n",
        "\n",
        "unique_elements, counts_elements = np.unique(y_test, return_counts=True)\n",
        "\n",
        "print(f'''Number of test samples by class: \n",
        "Class Labels: {unique_elements}\n",
        "Number of Samples: {counts_elements}''')\n",
        "print(\"\\n\")"
      ],
      "execution_count": 3,
      "outputs": [
        {
          "output_type": "stream",
          "text": [
            "Total number of training dataset: 50000\n",
            "Shape of Train: (50000, 32, 32, 3)\n",
            "Total number of test dataset: 10000\n",
            "Shape of Test: (10000, 32, 32, 3)\n",
            "Number of classes: 10\n",
            "\n",
            "\n",
            "Number of train samples by class: \n",
            "Class Labels: [0 1 2 3 4 5 6 7 8 9]\n",
            "Number of Samples: [5000 5000 5000 5000 5000 5000 5000 5000 5000 5000]\n",
            "\n",
            "\n",
            "Number of test samples by class: \n",
            "Class Labels: [0 1 2 3 4 5 6 7 8 9]\n",
            "Number of Samples: [1000 1000 1000 1000 1000 1000 1000 1000 1000 1000]\n",
            "\n",
            "\n"
          ],
          "name": "stdout"
        }
      ]
    },
    {
      "cell_type": "markdown",
      "metadata": {
        "id": "zqe3OezkwvWQ",
        "colab_type": "text"
      },
      "source": [
        "## View Sample Image"
      ]
    },
    {
      "cell_type": "code",
      "metadata": {
        "id": "_zN1bZDQwvWR",
        "colab_type": "code",
        "colab": {}
      },
      "source": [
        "def load_label_names():\n",
        "    return ['airplane', 'automobile', 'bird', 'cat', 'deer', 'dog', 'frog', 'horse', 'ship', 'truck']\n",
        "\n",
        "def show_sample_image(X_train, y_train, image_id):\n",
        "    print(f\"Class Label: {y_train[image_id]}\")\n",
        "    print(f\"Label Name: {load_label_names()[y_train[image_id][0]]}\")\n",
        "    plt.imshow(X_train[image_id]);"
      ],
      "execution_count": 4,
      "outputs": []
    },
    {
      "cell_type": "code",
      "metadata": {
        "id": "qUxNTBcswvWT",
        "colab_type": "code",
        "colab": {
          "base_uri": "https://localhost:8080/",
          "height": 301
        },
        "outputId": "00713f3c-c28d-4b1e-d731-d13b2c938b3f"
      },
      "source": [
        "show_sample_image(X_train, y_train, image_id=50)"
      ],
      "execution_count": 5,
      "outputs": [
        {
          "output_type": "stream",
          "text": [
            "Class Label: [9]\n",
            "Label Name: truck\n"
          ],
          "name": "stdout"
        },
        {
          "output_type": "display_data",
          "data": {
            "image/png": "[encoded data removed]",
            "text/plain": [
              "<Figure size 432x288 with 1 Axes>"
            ]
          },
          "metadata": {
            "tags": [],
            "needs_background": "light"
          }
        }
      ]
    },
    {
      "cell_type": "markdown",
      "metadata": {
        "id": "4PrjPiAtwvWV",
        "colab_type": "text"
      },
      "source": [
        "## Normalize the Data"
      ]
    },
    {
      "cell_type": "code",
      "metadata": {
        "id": "FW1jFbnfwvWV",
        "colab_type": "code",
        "colab": {}
      },
      "source": [
        "# Normalize the X data\n",
        "max_val = X_train.max()\n",
        "X_train = X_train/max_val\n",
        "X_test = X_test/max_val\n",
        "\n",
        "# One-hot encode the output\n",
        "y_train_cat = to_categorical(y_train)\n",
        "y_test_cat = to_categorical(y_test)\n"
      ],
      "execution_count": 6,
      "outputs": []
    },
    {
      "cell_type": "markdown",
      "metadata": {
        "id": "iogLvnm_wvWX",
        "colab_type": "text"
      },
      "source": [
        "## Data Augmentation"
      ]
    },
    {
      "cell_type": "code",
      "metadata": {
        "id": "tqXWzeldwvWY",
        "colab_type": "code",
        "colab": {}
      },
      "source": [
        "datagen = ImageDataGenerator(width_shift_range=0.1, height_shift_range=0.1, horizontal_flip=True)\n",
        "\n",
        "# Prepare Iterator\n",
        "it_train = datagen.flow(X_train, y_train_cat, batch_size=64)"
      ],
      "execution_count": 7,
      "outputs": []
    },
    {
      "cell_type": "code",
      "metadata": {
        "id": "iy5kbcIbwvWZ",
        "colab_type": "code",
        "colab": {}
      },
      "source": [
        "datagen = ImageDataGenerator(width_shift_range=0.2, height_shift_range=0.2, horizontal_flip=True)\n",
        "\n",
        "# Prepare Iterator\n",
        "it_train = datagen.flow(X_train, y_train_cat, batch_size=64)"
      ],
      "execution_count": 8,
      "outputs": []
    },
    {
      "cell_type": "markdown",
      "metadata": {
        "id": "eCaZwTQBwvWb",
        "colab_type": "text"
      },
      "source": [
        "## Define Model"
      ]
    },
    {
      "cell_type": "code",
      "metadata": {
        "id": "B6pAbhS-wvWc",
        "colab_type": "code",
        "colab": {}
      },
      "source": [
        "height = X_train.shape[1]\n",
        "width = X_train.shape[2]\n",
        "channel = X_train.shape[3]\n",
        "\n",
        "def build_model():\n",
        "    model = Sequential()\n",
        "    model.add(Conv2D(32, (3,3), activation=\"relu\", kernel_initializer='he_uniform', padding=\"same\", input_shape=(height, width, channel)))\n",
        "    model.add(BatchNormalization())\n",
        "    model.add(Conv2D(32, (3,3), activation=\"relu\", kernel_initializer='he_uniform', padding=\"same\"))\n",
        "    model.add(BatchNormalization())\n",
        "    model.add(MaxPool2D(pool_size=(2,2)))\n",
        "    model.add(Dropout(0.2))\n",
        "    \n",
        "    model.add(Conv2D(64, (3,3), activation=\"relu\", kernel_initializer='he_uniform', padding=\"same\"))\n",
        "    model.add(BatchNormalization())\n",
        "    model.add(Conv2D(64, (3,3), activation=\"relu\", kernel_initializer='he_uniform', padding=\"same\"))\n",
        "    model.add(BatchNormalization())\n",
        "    model.add(MaxPool2D(pool_size=(2,2)))\n",
        "    model.add(Dropout(0.3))\n",
        "    \n",
        "    model.add(Conv2D(128, (3,3), activation=\"relu\", kernel_initializer='he_uniform', padding=\"same\"))\n",
        "    model.add(BatchNormalization())\n",
        "    model.add(Conv2D(128, (3,3), activation=\"relu\", kernel_initializer='he_uniform', padding=\"same\"))\n",
        "    model.add(BatchNormalization())\n",
        "    model.add(MaxPool2D(pool_size=(2,2)))\n",
        "    model.add(Dropout(0.4))\n",
        "    \n",
        "    model.add(Conv2D(256, (3,3), activation=\"relu\", kernel_initializer='he_uniform', padding=\"same\"))\n",
        "    model.add(BatchNormalization())\n",
        "    model.add(Conv2D(256, (3,3), activation=\"relu\", kernel_initializer='he_uniform', padding=\"same\"))\n",
        "    model.add(BatchNormalization())\n",
        "    model.add(MaxPool2D(pool_size=(2,2)))\n",
        "    model.add(Dropout(0.5))\n",
        "    \n",
        "    model.add(Conv2D(512, (3,3), activation=\"relu\", kernel_initializer='he_uniform', padding=\"same\"))\n",
        "    model.add(BatchNormalization())\n",
        "    model.add(Conv2D(512, (3,3), activation=\"relu\", kernel_initializer='he_uniform', padding=\"same\"))\n",
        "    model.add(BatchNormalization())\n",
        "    model.add(MaxPool2D(pool_size=(2,2)))\n",
        "    model.add(Dropout(0.2))\n",
        "    \n",
        "    #model.add(Flatten())\n",
        "    model.add(GlobalAveragePooling2D())\n",
        "    model.add(Dense(256, activation=\"relu\", kernel_initializer='he_uniform'))\n",
        "    model.add(BatchNormalization())\n",
        "    model.add(Dropout(0.3))\n",
        "    \n",
        "    model.add(Dense(128, activation=\"relu\", kernel_initializer='he_uniform'))\n",
        "    model.add(BatchNormalization())\n",
        "    model.add(Dropout(0.4))\n",
        "    \n",
        "    model.add(Dense(64, activation=\"relu\", kernel_initializer='he_uniform'))\n",
        "    model.add(BatchNormalization())\n",
        "    model.add(Dropout(0.5))\n",
        "    \n",
        "    model.add(Dense(32, activation=\"relu\", kernel_initializer='he_uniform'))\n",
        "    model.add(BatchNormalization())\n",
        "    model.add(Dropout(0.2))\n",
        "    \n",
        "    model.add(Dense(16, activation=\"relu\", kernel_initializer='he_uniform'))\n",
        "    model.add(BatchNormalization())\n",
        "    model.add(Dropout(0.1))\n",
        "    \n",
        "    model.add(Dense(10, activation=\"softmax\"))\n",
        "    \n",
        "    # Compile Model\n",
        "    #opt = SGD(lr=0.001, momentum=0.9)\n",
        "    opt = Adam(learning_rate=0.001)\n",
        "    model.compile(optimizer=opt, loss=\"categorical_crossentropy\", metrics=['accuracy'])\n",
        "    \n",
        "    return model\n"
      ],
      "execution_count": 9,
      "outputs": []
    },
    {
      "cell_type": "code",
      "metadata": {
        "id": "XW26UuJuwvWd",
        "colab_type": "code",
        "colab": {}
      },
      "source": [
        "# Plot Model Diagnostic\n",
        "def summary_diagnostics(history):\n",
        "    # Plot Loss\n",
        "    plt.figure(figsize=(12,8))\n",
        "    plt.title(\"Cross Entropy Loss\")\n",
        "    plt.plot(history.history[\"loss\"], color='blue', label='train')\n",
        "    plt.plot(history.history[\"val_loss\"], color='red', label='test')\n",
        "    \n",
        "    # Plot Accuracy\n",
        "    plt.figure(figsize=(12,8))\n",
        "    plt.title(\"Classification Accuracy\")\n",
        "    plt.plot(history.history[\"accuracy\"], color='blue', label='train')\n",
        "    plt.plot(history.history[\"val_accuracy\"], color='orange', label='test')\n"
      ],
      "execution_count": 10,
      "outputs": []
    },
    {
      "cell_type": "markdown",
      "metadata": {
        "id": "c058Z-2OwvWf",
        "colab_type": "text"
      },
      "source": [
        "## Train Model"
      ]
    },
    {
      "cell_type": "code",
      "metadata": {
        "id": "h26JfK9XwvWg",
        "colab_type": "code",
        "colab": {
          "base_uri": "https://localhost:8080/",
          "height": 1000
        },
        "outputId": "769a67d0-c0f7-48a3-f2e9-2d6e8e04e61b"
      },
      "source": [
        "# Define Model\n",
        "model = build_model()\n",
        "model.summary()"
      ],
      "execution_count": 11,
      "outputs": [
        {
          "output_type": "stream",
          "text": [
            "Model: \"sequential\"\n",
            "_________________________________________________________________\n",
            "Layer (type)                 Output Shape              Param #   \n",
            "=================================================================\n",
            "conv2d (Conv2D)              (None, 32, 32, 32)        896       \n",
            "_________________________________________________________________\n",
            "batch_normalization (BatchNo (None, 32, 32, 32)        128       \n",
            "_________________________________________________________________\n",
            "conv2d_1 (Conv2D)            (None, 32, 32, 32)        9248      \n",
            "_________________________________________________________________\n",
            "batch_normalization_1 (Batch (None, 32, 32, 32)        128       \n",
            "_________________________________________________________________\n",
            "max_pooling2d (MaxPooling2D) (None, 16, 16, 32)        0         \n",
            "_________________________________________________________________\n",
            "dropout (Dropout)            (None, 16, 16, 32)        0         \n",
            "_________________________________________________________________\n",
            "conv2d_2 (Conv2D)            (None, 16, 16, 64)        18496     \n",
            "_________________________________________________________________\n",
            "batch_normalization_2 (Batch (None, 16, 16, 64)        256       \n",
            "_________________________________________________________________\n",
            "conv2d_3 (Conv2D)            (None, 16, 16, 64)        36928     \n",
            "_________________________________________________________________\n",
            "batch_normalization_3 (Batch (None, 16, 16, 64)        256       \n",
            "_________________________________________________________________\n",
            "max_pooling2d_1 (MaxPooling2 (None, 8, 8, 64)          0         \n",
            "_________________________________________________________________\n",
            "dropout_1 (Dropout)          (None, 8, 8, 64)          0         \n",
            "_________________________________________________________________\n",
            "conv2d_4 (Conv2D)            (None, 8, 8, 128)         73856     \n",
            "_________________________________________________________________\n",
            "batch_normalization_4 (Batch (None, 8, 8, 128)         512       \n",
            "_________________________________________________________________\n",
            "conv2d_5 (Conv2D)            (None, 8, 8, 128)         147584    \n",
            "_________________________________________________________________\n",
            "batch_normalization_5 (Batch (None, 8, 8, 128)         512       \n",
            "_________________________________________________________________\n",
            "max_pooling2d_2 (MaxPooling2 (None, 4, 4, 128)         0         \n",
            "_________________________________________________________________\n",
            "dropout_2 (Dropout)          (None, 4, 4, 128)         0         \n",
            "_________________________________________________________________\n",
            "conv2d_6 (Conv2D)            (None, 4, 4, 256)         295168    \n",
            "_________________________________________________________________\n",
            "batch_normalization_6 (Batch (None, 4, 4, 256)         1024      \n",
            "_________________________________________________________________\n",
            "conv2d_7 (Conv2D)            (None, 4, 4, 256)         590080    \n",
            "_________________________________________________________________\n",
            "batch_normalization_7 (Batch (None, 4, 4, 256)         1024      \n",
            "_________________________________________________________________\n",
            "max_pooling2d_3 (MaxPooling2 (None, 2, 2, 256)         0         \n",
            "_________________________________________________________________\n",
            "dropout_3 (Dropout)          (None, 2, 2, 256)         0         \n",
            "_________________________________________________________________\n",
            "conv2d_8 (Conv2D)            (None, 2, 2, 512)         1180160   \n",
            "_________________________________________________________________\n",
            "batch_normalization_8 (Batch (None, 2, 2, 512)         2048      \n",
            "_________________________________________________________________\n",
            "conv2d_9 (Conv2D)            (None, 2, 2, 512)         2359808   \n",
            "_________________________________________________________________\n",
            "batch_normalization_9 (Batch (None, 2, 2, 512)         2048      \n",
            "_________________________________________________________________\n",
            "max_pooling2d_4 (MaxPooling2 (None, 1, 1, 512)         0         \n",
            "_________________________________________________________________\n",
            "dropout_4 (Dropout)          (None, 1, 1, 512)         0         \n",
            "_________________________________________________________________\n",
            "global_average_pooling2d (Gl (None, 512)               0         \n",
            "_________________________________________________________________\n",
            "dense (Dense)                (None, 256)               131328    \n",
            "_________________________________________________________________\n",
            "batch_normalization_10 (Batc (None, 256)               1024      \n",
            "_________________________________________________________________\n",
            "dropout_5 (Dropout)          (None, 256)               0         \n",
            "_________________________________________________________________\n",
            "dense_1 (Dense)              (None, 128)               32896     \n",
            "_________________________________________________________________\n",
            "batch_normalization_11 (Batc (None, 128)               512       \n",
            "_________________________________________________________________\n",
            "dropout_6 (Dropout)          (None, 128)               0         \n",
            "_________________________________________________________________\n",
            "dense_2 (Dense)              (None, 64)                8256      \n",
            "_________________________________________________________________\n",
            "batch_normalization_12 (Batc (None, 64)                256       \n",
            "_________________________________________________________________\n",
            "dropout_7 (Dropout)          (None, 64)                0         \n",
            "_________________________________________________________________\n",
            "dense_3 (Dense)              (None, 32)                2080      \n",
            "_________________________________________________________________\n",
            "batch_normalization_13 (Batc (None, 32)                128       \n",
            "_________________________________________________________________\n",
            "dropout_8 (Dropout)          (None, 32)                0         \n",
            "_________________________________________________________________\n",
            "dense_4 (Dense)              (None, 16)                528       \n",
            "_________________________________________________________________\n",
            "batch_normalization_14 (Batc (None, 16)                64        \n",
            "_________________________________________________________________\n",
            "dropout_9 (Dropout)          (None, 16)                0         \n",
            "_________________________________________________________________\n",
            "dense_5 (Dense)              (None, 10)                170       \n",
            "=================================================================\n",
            "Total params: 4,897,402\n",
            "Trainable params: 4,892,442\n",
            "Non-trainable params: 4,960\n",
            "_________________________________________________________________\n"
          ],
          "name": "stdout"
        }
      ]
    },
    {
      "cell_type": "code",
      "metadata": {
        "id": "Ldg4Us41wvWh",
        "colab_type": "code",
        "colab": {}
      },
      "source": [
        "steps = int(X_train.shape[0]/64)"
      ],
      "execution_count": 12,
      "outputs": []
    },
    {
      "cell_type": "code",
      "metadata": {
        "id": "SJ0XRR4dwvWj",
        "colab_type": "code",
        "colab": {
          "base_uri": "https://localhost:8080/",
          "height": 1000
        },
        "outputId": "bb39ca9e-5135-4b96-9a97-8a9dd7ba48d5"
      },
      "source": [
        "# Fit Model\n",
        "early_stopper = EarlyStopping(patience=10, verbose=1)\n",
        "reduce_on_plateau = ReduceLROnPlateau(verbose=1, patience=10, factor=0.1)\n",
        "\n",
        "history = model.fit_generator(generator=it_train, steps_per_epoch=steps, epochs=200, validation_data=(X_test, y_test_cat), callbacks=[reduce_on_plateau]) #, callbacks=[early_stopper, reduce_on_plateau])"
      ],
      "execution_count": 13,
      "outputs": [
        {
          "output_type": "stream",
          "text": [
            "WARNING:tensorflow:From <ipython-input-13-74c117a0e22c>:5: Model.fit_generator (from tensorflow.python.keras.engine.training) is deprecated and will be removed in a future version.\n",
            "Instructions for updating:\n",
            "Please use Model.fit, which supports generators.\n",
            "Epoch 1/200\n",
            "781/781 [==============================] - 26s 33ms/step - loss: 2.0961 - accuracy: 0.2127 - val_loss: 1.7478 - val_accuracy: 0.2986\n",
            "Epoch 2/200\n",
            "781/781 [==============================] - 25s 32ms/step - loss: 1.7857 - accuracy: 0.3067 - val_loss: 1.6217 - val_accuracy: 0.3770\n",
            "Epoch 3/200\n",
            "781/781 [==============================] - 25s 32ms/step - loss: 1.6420 - accuracy: 0.3736 - val_loss: 1.7063 - val_accuracy: 0.4150\n",
            "Epoch 4/200\n",
            "781/781 [==============================] - 25s 32ms/step - loss: 1.5288 - accuracy: 0.4258 - val_loss: 1.3108 - val_accuracy: 0.5114\n",
            "Epoch 5/200\n",
            "781/781 [==============================] - 25s 31ms/step - loss: 1.4159 - accuracy: 0.4761 - val_loss: 1.3466 - val_accuracy: 0.5030\n",
            "Epoch 6/200\n",
            "781/781 [==============================] - 25s 32ms/step - loss: 1.3309 - accuracy: 0.5263 - val_loss: 1.0578 - val_accuracy: 0.6395\n",
            "Epoch 7/200\n",
            "781/781 [==============================] - 25s 32ms/step - loss: 1.2403 - accuracy: 0.5814 - val_loss: 1.1850 - val_accuracy: 0.6105\n",
            "Epoch 8/200\n",
            "781/781 [==============================] - 25s 32ms/step - loss: 1.1551 - accuracy: 0.6197 - val_loss: 1.0733 - val_accuracy: 0.6523\n",
            "Epoch 9/200\n",
            "781/781 [==============================] - 25s 32ms/step - loss: 1.0905 - accuracy: 0.6479 - val_loss: 1.0017 - val_accuracy: 0.6773\n",
            "Epoch 10/200\n",
            "781/781 [==============================] - 25s 32ms/step - loss: 1.0425 - accuracy: 0.6677 - val_loss: 1.0579 - val_accuracy: 0.6717\n",
            "Epoch 11/200\n",
            "781/781 [==============================] - 25s 32ms/step - loss: 0.9974 - accuracy: 0.6820 - val_loss: 0.8433 - val_accuracy: 0.7294\n",
            "Epoch 12/200\n",
            "781/781 [==============================] - 25s 32ms/step - loss: 0.9618 - accuracy: 0.6950 - val_loss: 0.8565 - val_accuracy: 0.7208\n",
            "Epoch 13/200\n",
            "781/781 [==============================] - 25s 32ms/step - loss: 0.9356 - accuracy: 0.7047 - val_loss: 0.8580 - val_accuracy: 0.7300\n",
            "Epoch 14/200\n",
            "781/781 [==============================] - 25s 32ms/step - loss: 0.8992 - accuracy: 0.7197 - val_loss: 0.7702 - val_accuracy: 0.7561\n",
            "Epoch 15/200\n",
            "781/781 [==============================] - 25s 32ms/step - loss: 0.8797 - accuracy: 0.7254 - val_loss: 0.7315 - val_accuracy: 0.7608\n",
            "Epoch 16/200\n",
            "781/781 [==============================] - 25s 32ms/step - loss: 0.8646 - accuracy: 0.7330 - val_loss: 0.7293 - val_accuracy: 0.7721\n",
            "Epoch 17/200\n",
            "781/781 [==============================] - 25s 32ms/step - loss: 0.8288 - accuracy: 0.7453 - val_loss: 0.7525 - val_accuracy: 0.7632\n",
            "Epoch 18/200\n",
            "781/781 [==============================] - 25s 32ms/step - loss: 0.8198 - accuracy: 0.7477 - val_loss: 0.6788 - val_accuracy: 0.7853\n",
            "Epoch 19/200\n",
            "781/781 [==============================] - 25s 32ms/step - loss: 0.8065 - accuracy: 0.7535 - val_loss: 0.6799 - val_accuracy: 0.7809\n",
            "Epoch 20/200\n",
            "781/781 [==============================] - 25s 32ms/step - loss: 0.7903 - accuracy: 0.7575 - val_loss: 0.6853 - val_accuracy: 0.7809\n",
            "Epoch 21/200\n",
            "781/781 [==============================] - 25s 32ms/step - loss: 0.7708 - accuracy: 0.7633 - val_loss: 0.6355 - val_accuracy: 0.7981\n",
            "Epoch 22/200\n",
            "781/781 [==============================] - 25s 32ms/step - loss: 0.7626 - accuracy: 0.7674 - val_loss: 0.6030 - val_accuracy: 0.8074\n",
            "Epoch 23/200\n",
            "781/781 [==============================] - 25s 32ms/step - loss: 0.7489 - accuracy: 0.7735 - val_loss: 0.6632 - val_accuracy: 0.7876\n",
            "Epoch 24/200\n",
            "781/781 [==============================] - 25s 32ms/step - loss: 0.7275 - accuracy: 0.7784 - val_loss: 0.6043 - val_accuracy: 0.8052\n",
            "Epoch 25/200\n",
            "781/781 [==============================] - 25s 31ms/step - loss: 0.7201 - accuracy: 0.7804 - val_loss: 0.6190 - val_accuracy: 0.8070\n",
            "Epoch 26/200\n",
            "781/781 [==============================] - 25s 31ms/step - loss: 0.7069 - accuracy: 0.7847 - val_loss: 0.5775 - val_accuracy: 0.8181\n",
            "Epoch 27/200\n",
            "781/781 [==============================] - 24s 31ms/step - loss: 0.6920 - accuracy: 0.7896 - val_loss: 0.5683 - val_accuracy: 0.8204\n",
            "Epoch 28/200\n",
            "781/781 [==============================] - 24s 31ms/step - loss: 0.6886 - accuracy: 0.7917 - val_loss: 0.5777 - val_accuracy: 0.8177\n",
            "Epoch 29/200\n",
            "781/781 [==============================] - 24s 31ms/step - loss: 0.6827 - accuracy: 0.7926 - val_loss: 0.6619 - val_accuracy: 0.8023\n",
            "Epoch 30/200\n",
            "781/781 [==============================] - 24s 31ms/step - loss: 0.6718 - accuracy: 0.7956 - val_loss: 0.5911 - val_accuracy: 0.8179\n",
            "Epoch 31/200\n",
            "781/781 [==============================] - 24s 31ms/step - loss: 0.6554 - accuracy: 0.8020 - val_loss: 0.5406 - val_accuracy: 0.8294\n",
            "Epoch 32/200\n",
            "781/781 [==============================] - 24s 31ms/step - loss: 0.6554 - accuracy: 0.8020 - val_loss: 0.5138 - val_accuracy: 0.8413\n",
            "Epoch 33/200\n",
            "781/781 [==============================] - 25s 32ms/step - loss: 0.6427 - accuracy: 0.8042 - val_loss: 0.5536 - val_accuracy: 0.8237\n",
            "Epoch 34/200\n",
            "781/781 [==============================] - 24s 31ms/step - loss: 0.6431 - accuracy: 0.8042 - val_loss: 0.5297 - val_accuracy: 0.8381\n",
            "Epoch 35/200\n",
            "781/781 [==============================] - 24s 31ms/step - loss: 0.6271 - accuracy: 0.8097 - val_loss: 0.5434 - val_accuracy: 0.8330\n",
            "Epoch 36/200\n",
            "781/781 [==============================] - 24s 31ms/step - loss: 0.6278 - accuracy: 0.8089 - val_loss: 0.4686 - val_accuracy: 0.8508\n",
            "Epoch 37/200\n",
            "781/781 [==============================] - 24s 31ms/step - loss: 0.6166 - accuracy: 0.8127 - val_loss: 0.5690 - val_accuracy: 0.8250\n",
            "Epoch 38/200\n",
            "781/781 [==============================] - 24s 31ms/step - loss: 0.6055 - accuracy: 0.8168 - val_loss: 0.5052 - val_accuracy: 0.8432\n",
            "Epoch 39/200\n",
            "781/781 [==============================] - 24s 31ms/step - loss: 0.5982 - accuracy: 0.8187 - val_loss: 0.5160 - val_accuracy: 0.8368\n",
            "Epoch 40/200\n",
            "781/781 [==============================] - 24s 30ms/step - loss: 0.5974 - accuracy: 0.8175 - val_loss: 0.4836 - val_accuracy: 0.8497\n",
            "Epoch 41/200\n",
            "781/781 [==============================] - 24s 30ms/step - loss: 0.5906 - accuracy: 0.8220 - val_loss: 0.4536 - val_accuracy: 0.8596\n",
            "Epoch 42/200\n",
            "781/781 [==============================] - 24s 30ms/step - loss: 0.5860 - accuracy: 0.8231 - val_loss: 0.5488 - val_accuracy: 0.8325\n",
            "Epoch 43/200\n",
            "781/781 [==============================] - 24s 31ms/step - loss: 0.5844 - accuracy: 0.8239 - val_loss: 0.4625 - val_accuracy: 0.8585\n",
            "Epoch 44/200\n",
            "781/781 [==============================] - 24s 30ms/step - loss: 0.5773 - accuracy: 0.8272 - val_loss: 0.4978 - val_accuracy: 0.8460\n",
            "Epoch 45/200\n",
            "781/781 [==============================] - 25s 31ms/step - loss: 0.5707 - accuracy: 0.8274 - val_loss: 0.4357 - val_accuracy: 0.8652\n",
            "Epoch 46/200\n",
            "781/781 [==============================] - 25s 32ms/step - loss: 0.5684 - accuracy: 0.8281 - val_loss: 0.5139 - val_accuracy: 0.8442\n",
            "Epoch 47/200\n",
            "781/781 [==============================] - 24s 31ms/step - loss: 0.5575 - accuracy: 0.8324 - val_loss: 0.5310 - val_accuracy: 0.8428\n",
            "Epoch 48/200\n",
            "781/781 [==============================] - 24s 31ms/step - loss: 0.5482 - accuracy: 0.8349 - val_loss: 0.6021 - val_accuracy: 0.8219\n",
            "Epoch 49/200\n",
            "781/781 [==============================] - 24s 31ms/step - loss: 0.5433 - accuracy: 0.8349 - val_loss: 0.4240 - val_accuracy: 0.8679\n",
            "Epoch 50/200\n",
            "781/781 [==============================] - 24s 31ms/step - loss: 0.5410 - accuracy: 0.8380 - val_loss: 0.4073 - val_accuracy: 0.8702\n",
            "Epoch 51/200\n",
            "781/781 [==============================] - 24s 31ms/step - loss: 0.5451 - accuracy: 0.8340 - val_loss: 0.4563 - val_accuracy: 0.8595\n",
            "Epoch 52/200\n",
            "781/781 [==============================] - 24s 31ms/step - loss: 0.5326 - accuracy: 0.8391 - val_loss: 0.4976 - val_accuracy: 0.8493\n",
            "Epoch 53/200\n",
            "781/781 [==============================] - 24s 31ms/step - loss: 0.5352 - accuracy: 0.8370 - val_loss: 0.4449 - val_accuracy: 0.8643\n",
            "Epoch 54/200\n",
            "781/781 [==============================] - 24s 31ms/step - loss: 0.5298 - accuracy: 0.8420 - val_loss: 0.4440 - val_accuracy: 0.8635\n",
            "Epoch 55/200\n",
            "781/781 [==============================] - 24s 31ms/step - loss: 0.5294 - accuracy: 0.8413 - val_loss: 0.4839 - val_accuracy: 0.8488\n",
            "Epoch 56/200\n",
            "781/781 [==============================] - 25s 31ms/step - loss: 0.5179 - accuracy: 0.8434 - val_loss: 0.4002 - val_accuracy: 0.8747\n",
            "Epoch 57/200\n",
            "781/781 [==============================] - 24s 31ms/step - loss: 0.5223 - accuracy: 0.8425 - val_loss: 0.4446 - val_accuracy: 0.8620\n",
            "Epoch 58/200\n",
            "781/781 [==============================] - 25s 32ms/step - loss: 0.5085 - accuracy: 0.8469 - val_loss: 0.4215 - val_accuracy: 0.8681\n",
            "Epoch 59/200\n",
            "781/781 [==============================] - 24s 31ms/step - loss: 0.5130 - accuracy: 0.8442 - val_loss: 0.5516 - val_accuracy: 0.8386\n",
            "Epoch 60/200\n",
            "781/781 [==============================] - 24s 31ms/step - loss: 0.5023 - accuracy: 0.8490 - val_loss: 0.4664 - val_accuracy: 0.8574\n",
            "Epoch 61/200\n",
            "781/781 [==============================] - 24s 31ms/step - loss: 0.4963 - accuracy: 0.8497 - val_loss: 0.4283 - val_accuracy: 0.8649\n",
            "Epoch 62/200\n",
            "781/781 [==============================] - 24s 31ms/step - loss: 0.4987 - accuracy: 0.8494 - val_loss: 0.4076 - val_accuracy: 0.8729\n",
            "Epoch 63/200\n",
            "781/781 [==============================] - 24s 31ms/step - loss: 0.5024 - accuracy: 0.8484 - val_loss: 0.4661 - val_accuracy: 0.8580\n",
            "Epoch 64/200\n",
            "781/781 [==============================] - 24s 31ms/step - loss: 0.4966 - accuracy: 0.8511 - val_loss: 0.4909 - val_accuracy: 0.8517\n",
            "Epoch 65/200\n",
            "781/781 [==============================] - 25s 31ms/step - loss: 0.4923 - accuracy: 0.8504 - val_loss: 0.4312 - val_accuracy: 0.8699\n",
            "Epoch 66/200\n",
            "781/781 [==============================] - 25s 32ms/step - loss: 0.4801 - accuracy: 0.8554 - val_loss: 0.3968 - val_accuracy: 0.8728\n",
            "Epoch 67/200\n",
            "781/781 [==============================] - 25s 31ms/step - loss: 0.4839 - accuracy: 0.8551 - val_loss: 0.4534 - val_accuracy: 0.8579\n",
            "Epoch 68/200\n",
            "781/781 [==============================] - 25s 32ms/step - loss: 0.4790 - accuracy: 0.8556 - val_loss: 0.4317 - val_accuracy: 0.8659\n",
            "Epoch 69/200\n",
            "781/781 [==============================] - 24s 31ms/step - loss: 0.4767 - accuracy: 0.8572 - val_loss: 0.4404 - val_accuracy: 0.8652\n",
            "Epoch 70/200\n",
            "781/781 [==============================] - 24s 31ms/step - loss: 0.4724 - accuracy: 0.8571 - val_loss: 0.3845 - val_accuracy: 0.8800\n",
            "Epoch 71/200\n",
            "781/781 [==============================] - 24s 31ms/step - loss: 0.4791 - accuracy: 0.8561 - val_loss: 0.4084 - val_accuracy: 0.8755\n",
            "Epoch 72/200\n",
            "781/781 [==============================] - 24s 31ms/step - loss: 0.4758 - accuracy: 0.8568 - val_loss: 0.4317 - val_accuracy: 0.8689\n",
            "Epoch 73/200\n",
            "781/781 [==============================] - 24s 31ms/step - loss: 0.4698 - accuracy: 0.8571 - val_loss: 0.3890 - val_accuracy: 0.8795\n",
            "Epoch 74/200\n",
            "781/781 [==============================] - 25s 32ms/step - loss: 0.4653 - accuracy: 0.8577 - val_loss: 0.4026 - val_accuracy: 0.8789\n",
            "Epoch 75/200\n",
            "781/781 [==============================] - 25s 32ms/step - loss: 0.4597 - accuracy: 0.8611 - val_loss: 0.3906 - val_accuracy: 0.8814\n",
            "Epoch 76/200\n",
            "781/781 [==============================] - 25s 32ms/step - loss: 0.4609 - accuracy: 0.8596 - val_loss: 0.4132 - val_accuracy: 0.8734\n",
            "Epoch 77/200\n",
            "781/781 [==============================] - 24s 31ms/step - loss: 0.4579 - accuracy: 0.8605 - val_loss: 0.4070 - val_accuracy: 0.8761\n",
            "Epoch 78/200\n",
            "781/781 [==============================] - 24s 31ms/step - loss: 0.4568 - accuracy: 0.8618 - val_loss: 0.4214 - val_accuracy: 0.8672\n",
            "Epoch 79/200\n",
            "781/781 [==============================] - 25s 31ms/step - loss: 0.4489 - accuracy: 0.8643 - val_loss: 0.3773 - val_accuracy: 0.8833\n",
            "Epoch 80/200\n",
            "781/781 [==============================] - 24s 31ms/step - loss: 0.4549 - accuracy: 0.8641 - val_loss: 0.4112 - val_accuracy: 0.8749\n",
            "Epoch 81/200\n",
            "781/781 [==============================] - 24s 31ms/step - loss: 0.4487 - accuracy: 0.8635 - val_loss: 0.3868 - val_accuracy: 0.8813\n",
            "Epoch 82/200\n",
            "781/781 [==============================] - 24s 31ms/step - loss: 0.4462 - accuracy: 0.8656 - val_loss: 0.4581 - val_accuracy: 0.8633\n",
            "Epoch 83/200\n",
            "781/781 [==============================] - 24s 30ms/step - loss: 0.4304 - accuracy: 0.8706 - val_loss: 0.3661 - val_accuracy: 0.8859\n",
            "Epoch 84/200\n",
            "781/781 [==============================] - 24s 31ms/step - loss: 0.4374 - accuracy: 0.8686 - val_loss: 0.3671 - val_accuracy: 0.8852\n",
            "Epoch 85/200\n",
            "781/781 [==============================] - 24s 30ms/step - loss: 0.4351 - accuracy: 0.8701 - val_loss: 0.3814 - val_accuracy: 0.8839\n",
            "Epoch 86/200\n",
            "781/781 [==============================] - 24s 30ms/step - loss: 0.4381 - accuracy: 0.8685 - val_loss: 0.3940 - val_accuracy: 0.8793\n",
            "Epoch 87/200\n",
            "781/781 [==============================] - 24s 31ms/step - loss: 0.4331 - accuracy: 0.8690 - val_loss: 0.3618 - val_accuracy: 0.8905\n",
            "Epoch 88/200\n",
            "781/781 [==============================] - 24s 31ms/step - loss: 0.4289 - accuracy: 0.8697 - val_loss: 0.5238 - val_accuracy: 0.8464\n",
            "Epoch 89/200\n",
            "781/781 [==============================] - 24s 31ms/step - loss: 0.4320 - accuracy: 0.8695 - val_loss: 0.3900 - val_accuracy: 0.8814\n",
            "Epoch 90/200\n",
            "781/781 [==============================] - 24s 31ms/step - loss: 0.4245 - accuracy: 0.8704 - val_loss: 0.3688 - val_accuracy: 0.8849\n",
            "Epoch 91/200\n",
            "781/781 [==============================] - 24s 31ms/step - loss: 0.4246 - accuracy: 0.8707 - val_loss: 0.4063 - val_accuracy: 0.8789\n",
            "Epoch 92/200\n",
            "781/781 [==============================] - 24s 31ms/step - loss: 0.4268 - accuracy: 0.8728 - val_loss: 0.3737 - val_accuracy: 0.8864\n",
            "Epoch 93/200\n",
            "781/781 [==============================] - 24s 31ms/step - loss: 0.4200 - accuracy: 0.8717 - val_loss: 0.4916 - val_accuracy: 0.8553\n",
            "Epoch 94/200\n",
            "781/781 [==============================] - 24s 31ms/step - loss: 0.4162 - accuracy: 0.8733 - val_loss: 0.4102 - val_accuracy: 0.8769\n",
            "Epoch 95/200\n",
            "781/781 [==============================] - 24s 31ms/step - loss: 0.4194 - accuracy: 0.8730 - val_loss: 0.3553 - val_accuracy: 0.8903\n",
            "Epoch 96/200\n",
            "781/781 [==============================] - 25s 32ms/step - loss: 0.4145 - accuracy: 0.8743 - val_loss: 0.3645 - val_accuracy: 0.8878\n",
            "Epoch 97/200\n",
            "781/781 [==============================] - 25s 32ms/step - loss: 0.4138 - accuracy: 0.8749 - val_loss: 0.3899 - val_accuracy: 0.8826\n",
            "Epoch 98/200\n",
            "781/781 [==============================] - 24s 31ms/step - loss: 0.4172 - accuracy: 0.8734 - val_loss: 0.4298 - val_accuracy: 0.8693\n",
            "Epoch 99/200\n",
            "781/781 [==============================] - 24s 31ms/step - loss: 0.4069 - accuracy: 0.8762 - val_loss: 0.3796 - val_accuracy: 0.8852\n",
            "Epoch 100/200\n",
            "781/781 [==============================] - 24s 31ms/step - loss: 0.3992 - accuracy: 0.8795 - val_loss: 0.4018 - val_accuracy: 0.8750\n",
            "Epoch 101/200\n",
            "781/781 [==============================] - 23s 29ms/step - loss: 0.4057 - accuracy: 0.8769 - val_loss: 0.3756 - val_accuracy: 0.8865\n",
            "Epoch 102/200\n",
            "781/781 [==============================] - 23s 29ms/step - loss: 0.4057 - accuracy: 0.8767 - val_loss: 0.4306 - val_accuracy: 0.8706\n",
            "Epoch 103/200\n",
            "781/781 [==============================] - 23s 29ms/step - loss: 0.4047 - accuracy: 0.8785 - val_loss: 0.3872 - val_accuracy: 0.8832\n",
            "Epoch 104/200\n",
            "781/781 [==============================] - 22s 29ms/step - loss: 0.3989 - accuracy: 0.8789 - val_loss: 0.3437 - val_accuracy: 0.8915\n",
            "Epoch 105/200\n",
            "781/781 [==============================] - 22s 28ms/step - loss: 0.3959 - accuracy: 0.8792 - val_loss: 0.3800 - val_accuracy: 0.8850\n",
            "Epoch 106/200\n",
            "781/781 [==============================] - 22s 29ms/step - loss: 0.3999 - accuracy: 0.8798 - val_loss: 0.3802 - val_accuracy: 0.8841\n",
            "Epoch 107/200\n",
            "781/781 [==============================] - 22s 28ms/step - loss: 0.3956 - accuracy: 0.8804 - val_loss: 0.3521 - val_accuracy: 0.8925\n",
            "Epoch 108/200\n",
            "781/781 [==============================] - 22s 29ms/step - loss: 0.3931 - accuracy: 0.8802 - val_loss: 0.4019 - val_accuracy: 0.8775\n",
            "Epoch 109/200\n",
            "781/781 [==============================] - 22s 28ms/step - loss: 0.3905 - accuracy: 0.8816 - val_loss: 0.3637 - val_accuracy: 0.8875\n",
            "Epoch 110/200\n",
            "781/781 [==============================] - 23s 29ms/step - loss: 0.3911 - accuracy: 0.8824 - val_loss: 0.3732 - val_accuracy: 0.8918\n",
            "Epoch 111/200\n",
            "781/781 [==============================] - 22s 28ms/step - loss: 0.3890 - accuracy: 0.8800 - val_loss: 0.3864 - val_accuracy: 0.8848\n",
            "Epoch 112/200\n",
            "781/781 [==============================] - 22s 28ms/step - loss: 0.3930 - accuracy: 0.8802 - val_loss: 0.3667 - val_accuracy: 0.8880\n",
            "Epoch 113/200\n",
            "781/781 [==============================] - 22s 28ms/step - loss: 0.3852 - accuracy: 0.8833 - val_loss: 0.3408 - val_accuracy: 0.8969\n",
            "Epoch 114/200\n",
            "781/781 [==============================] - 22s 28ms/step - loss: 0.3863 - accuracy: 0.8826 - val_loss: 0.3432 - val_accuracy: 0.8934\n",
            "Epoch 115/200\n",
            "781/781 [==============================] - 22s 28ms/step - loss: 0.3848 - accuracy: 0.8838 - val_loss: 0.3700 - val_accuracy: 0.8876\n",
            "Epoch 116/200\n",
            "781/781 [==============================] - 22s 28ms/step - loss: 0.3879 - accuracy: 0.8835 - val_loss: 0.3999 - val_accuracy: 0.8800\n",
            "Epoch 117/200\n",
            "781/781 [==============================] - 22s 28ms/step - loss: 0.3800 - accuracy: 0.8833 - val_loss: 0.3439 - val_accuracy: 0.8985\n",
            "Epoch 118/200\n",
            "781/781 [==============================] - 22s 28ms/step - loss: 0.3716 - accuracy: 0.8857 - val_loss: 0.3553 - val_accuracy: 0.8965\n",
            "Epoch 119/200\n",
            "781/781 [==============================] - 23s 29ms/step - loss: 0.3840 - accuracy: 0.8832 - val_loss: 0.3820 - val_accuracy: 0.8814\n",
            "Epoch 120/200\n",
            "781/781 [==============================] - 22s 29ms/step - loss: 0.3782 - accuracy: 0.8838 - val_loss: 0.3435 - val_accuracy: 0.8974\n",
            "Epoch 121/200\n",
            "781/781 [==============================] - 23s 29ms/step - loss: 0.3746 - accuracy: 0.8868 - val_loss: 0.4227 - val_accuracy: 0.8721\n",
            "Epoch 122/200\n",
            "781/781 [==============================] - 23s 30ms/step - loss: 0.3744 - accuracy: 0.8866 - val_loss: 0.3887 - val_accuracy: 0.8836\n",
            "Epoch 123/200\n",
            "781/781 [==============================] - ETA: 0s - loss: 0.3746 - accuracy: 0.8864\n",
            "Epoch 00123: ReduceLROnPlateau reducing learning rate to 0.00010000000474974513.\n",
            "781/781 [==============================] - 22s 29ms/step - loss: 0.3746 - accuracy: 0.8864 - val_loss: 0.3851 - val_accuracy: 0.8871\n",
            "Epoch 124/200\n",
            "781/781 [==============================] - 23s 30ms/step - loss: 0.3491 - accuracy: 0.8934 - val_loss: 0.3290 - val_accuracy: 0.9026\n",
            "Epoch 125/200\n",
            "781/781 [==============================] - 22s 29ms/step - loss: 0.3358 - accuracy: 0.8975 - val_loss: 0.3243 - val_accuracy: 0.9041\n",
            "Epoch 126/200\n",
            "781/781 [==============================] - 22s 28ms/step - loss: 0.3363 - accuracy: 0.8988 - val_loss: 0.3274 - val_accuracy: 0.9028\n",
            "Epoch 127/200\n",
            "781/781 [==============================] - 22s 29ms/step - loss: 0.3252 - accuracy: 0.9011 - val_loss: 0.3234 - val_accuracy: 0.9038\n",
            "Epoch 128/200\n",
            "781/781 [==============================] - 23s 29ms/step - loss: 0.3243 - accuracy: 0.9011 - val_loss: 0.3251 - val_accuracy: 0.9058\n",
            "Epoch 129/200\n",
            "781/781 [==============================] - 22s 29ms/step - loss: 0.3190 - accuracy: 0.9024 - val_loss: 0.3195 - val_accuracy: 0.9062\n",
            "Epoch 130/200\n",
            "781/781 [==============================] - 22s 29ms/step - loss: 0.3218 - accuracy: 0.9018 - val_loss: 0.3209 - val_accuracy: 0.9037\n",
            "Epoch 131/200\n",
            "781/781 [==============================] - 23s 29ms/step - loss: 0.3233 - accuracy: 0.9024 - val_loss: 0.3198 - val_accuracy: 0.9051\n",
            "Epoch 132/200\n",
            "781/781 [==============================] - 23s 29ms/step - loss: 0.3113 - accuracy: 0.9048 - val_loss: 0.3196 - val_accuracy: 0.9055\n",
            "Epoch 133/200\n",
            "781/781 [==============================] - 22s 29ms/step - loss: 0.3226 - accuracy: 0.9009 - val_loss: 0.3284 - val_accuracy: 0.9053\n",
            "Epoch 134/200\n",
            "781/781 [==============================] - 22s 29ms/step - loss: 0.3131 - accuracy: 0.9049 - val_loss: 0.3172 - val_accuracy: 0.9074\n",
            "Epoch 135/200\n",
            "781/781 [==============================] - 23s 29ms/step - loss: 0.3129 - accuracy: 0.9043 - val_loss: 0.3212 - val_accuracy: 0.9063\n",
            "Epoch 136/200\n",
            "781/781 [==============================] - 23s 29ms/step - loss: 0.3118 - accuracy: 0.9048 - val_loss: 0.3236 - val_accuracy: 0.9062\n",
            "Epoch 137/200\n",
            "781/781 [==============================] - 22s 29ms/step - loss: 0.3117 - accuracy: 0.9035 - val_loss: 0.3221 - val_accuracy: 0.9061\n",
            "Epoch 138/200\n",
            "781/781 [==============================] - 23s 30ms/step - loss: 0.2998 - accuracy: 0.9081 - val_loss: 0.3235 - val_accuracy: 0.9059\n",
            "Epoch 139/200\n",
            "781/781 [==============================] - 22s 29ms/step - loss: 0.3074 - accuracy: 0.9063 - val_loss: 0.3277 - val_accuracy: 0.9054\n",
            "Epoch 140/200\n",
            "781/781 [==============================] - 23s 29ms/step - loss: 0.3064 - accuracy: 0.9062 - val_loss: 0.3275 - val_accuracy: 0.9057\n",
            "Epoch 141/200\n",
            "781/781 [==============================] - 23s 29ms/step - loss: 0.3024 - accuracy: 0.9082 - val_loss: 0.3198 - val_accuracy: 0.9057\n",
            "Epoch 142/200\n",
            "781/781 [==============================] - 23s 29ms/step - loss: 0.3028 - accuracy: 0.9066 - val_loss: 0.3170 - val_accuracy: 0.9066\n",
            "Epoch 143/200\n",
            "781/781 [==============================] - 23s 29ms/step - loss: 0.3061 - accuracy: 0.9061 - val_loss: 0.3220 - val_accuracy: 0.9076\n",
            "Epoch 144/200\n",
            "781/781 [==============================] - 23s 29ms/step - loss: 0.2997 - accuracy: 0.9080 - val_loss: 0.3224 - val_accuracy: 0.9062\n",
            "Epoch 145/200\n",
            "781/781 [==============================] - 23s 29ms/step - loss: 0.2982 - accuracy: 0.9097 - val_loss: 0.3222 - val_accuracy: 0.9062\n",
            "Epoch 146/200\n",
            "781/781 [==============================] - 22s 29ms/step - loss: 0.3083 - accuracy: 0.9062 - val_loss: 0.3224 - val_accuracy: 0.9053\n",
            "Epoch 147/200\n",
            "781/781 [==============================] - 23s 30ms/step - loss: 0.3006 - accuracy: 0.9089 - val_loss: 0.3189 - val_accuracy: 0.9069\n",
            "Epoch 148/200\n",
            "781/781 [==============================] - 23s 30ms/step - loss: 0.2956 - accuracy: 0.9097 - val_loss: 0.3203 - val_accuracy: 0.9056\n",
            "Epoch 149/200\n",
            "781/781 [==============================] - 24s 30ms/step - loss: 0.2996 - accuracy: 0.9075 - val_loss: 0.3257 - val_accuracy: 0.9064\n",
            "Epoch 150/200\n",
            "781/781 [==============================] - 23s 30ms/step - loss: 0.2965 - accuracy: 0.9087 - val_loss: 0.3188 - val_accuracy: 0.9068\n",
            "Epoch 151/200\n",
            "781/781 [==============================] - 24s 31ms/step - loss: 0.3002 - accuracy: 0.9083 - val_loss: 0.3185 - val_accuracy: 0.9093\n",
            "Epoch 152/200\n",
            "780/781 [============================>.] - ETA: 0s - loss: 0.2963 - accuracy: 0.9090\n",
            "Epoch 00152: ReduceLROnPlateau reducing learning rate to 1.0000000474974514e-05.\n",
            "781/781 [==============================] - 23s 30ms/step - loss: 0.2963 - accuracy: 0.9090 - val_loss: 0.3285 - val_accuracy: 0.9062\n",
            "Epoch 153/200\n",
            "781/781 [==============================] - 23s 30ms/step - loss: 0.2929 - accuracy: 0.9113 - val_loss: 0.3248 - val_accuracy: 0.9065\n",
            "Epoch 154/200\n",
            "781/781 [==============================] - 23s 30ms/step - loss: 0.2914 - accuracy: 0.9102 - val_loss: 0.3272 - val_accuracy: 0.9063\n",
            "Epoch 155/200\n",
            "781/781 [==============================] - 23s 30ms/step - loss: 0.2963 - accuracy: 0.9091 - val_loss: 0.3215 - val_accuracy: 0.9083\n",
            "Epoch 156/200\n",
            "781/781 [==============================] - 23s 30ms/step - loss: 0.2953 - accuracy: 0.9096 - val_loss: 0.3213 - val_accuracy: 0.9086\n",
            "Epoch 157/200\n",
            "781/781 [==============================] - 23s 30ms/step - loss: 0.2948 - accuracy: 0.9085 - val_loss: 0.3231 - val_accuracy: 0.9075\n",
            "Epoch 158/200\n",
            "781/781 [==============================] - 23s 30ms/step - loss: 0.2936 - accuracy: 0.9097 - val_loss: 0.3209 - val_accuracy: 0.9072\n",
            "Epoch 159/200\n",
            "781/781 [==============================] - 23s 30ms/step - loss: 0.2892 - accuracy: 0.9109 - val_loss: 0.3208 - val_accuracy: 0.9069\n",
            "Epoch 160/200\n",
            "781/781 [==============================] - 23s 29ms/step - loss: 0.2976 - accuracy: 0.9088 - val_loss: 0.3208 - val_accuracy: 0.9070\n",
            "Epoch 161/200\n",
            "781/781 [==============================] - 23s 29ms/step - loss: 0.2875 - accuracy: 0.9109 - val_loss: 0.3205 - val_accuracy: 0.9069\n",
            "Epoch 162/200\n",
            "780/781 [============================>.] - ETA: 0s - loss: 0.2975 - accuracy: 0.9088\n",
            "Epoch 00162: ReduceLROnPlateau reducing learning rate to 1.0000000656873453e-06.\n",
            "781/781 [==============================] - 23s 30ms/step - loss: 0.2974 - accuracy: 0.9088 - val_loss: 0.3206 - val_accuracy: 0.9071\n",
            "Epoch 163/200\n",
            "781/781 [==============================] - 23s 30ms/step - loss: 0.2955 - accuracy: 0.9085 - val_loss: 0.3201 - val_accuracy: 0.9076\n",
            "Epoch 164/200\n",
            "781/781 [==============================] - 23s 30ms/step - loss: 0.2910 - accuracy: 0.9125 - val_loss: 0.3220 - val_accuracy: 0.9068\n",
            "Epoch 165/200\n",
            "781/781 [==============================] - 24s 31ms/step - loss: 0.2930 - accuracy: 0.9108 - val_loss: 0.3206 - val_accuracy: 0.9075\n",
            "Epoch 166/200\n",
            "781/781 [==============================] - 23s 30ms/step - loss: 0.2951 - accuracy: 0.9100 - val_loss: 0.3204 - val_accuracy: 0.9072\n",
            "Epoch 167/200\n",
            "781/781 [==============================] - 23s 30ms/step - loss: 0.2930 - accuracy: 0.9114 - val_loss: 0.3200 - val_accuracy: 0.9069\n",
            "Epoch 168/200\n",
            "781/781 [==============================] - 23s 30ms/step - loss: 0.2969 - accuracy: 0.9093 - val_loss: 0.3208 - val_accuracy: 0.9068\n",
            "Epoch 169/200\n",
            "781/781 [==============================] - 23s 30ms/step - loss: 0.2961 - accuracy: 0.9080 - val_loss: 0.3212 - val_accuracy: 0.9073\n",
            "Epoch 170/200\n",
            "781/781 [==============================] - 23s 30ms/step - loss: 0.2955 - accuracy: 0.9090 - val_loss: 0.3208 - val_accuracy: 0.9073\n",
            "Epoch 171/200\n",
            "781/781 [==============================] - 23s 29ms/step - loss: 0.2925 - accuracy: 0.9095 - val_loss: 0.3218 - val_accuracy: 0.9075\n",
            "Epoch 172/200\n",
            "780/781 [============================>.] - ETA: 0s - loss: 0.2889 - accuracy: 0.9113\n",
            "Epoch 00172: ReduceLROnPlateau reducing learning rate to 1.0000001111620805e-07.\n",
            "781/781 [==============================] - 23s 29ms/step - loss: 0.2889 - accuracy: 0.9114 - val_loss: 0.3201 - val_accuracy: 0.9080\n",
            "Epoch 173/200\n",
            "781/781 [==============================] - 23s 30ms/step - loss: 0.2883 - accuracy: 0.9116 - val_loss: 0.3187 - val_accuracy: 0.9076\n",
            "Epoch 174/200\n",
            "781/781 [==============================] - 23s 29ms/step - loss: 0.2961 - accuracy: 0.9098 - val_loss: 0.3204 - val_accuracy: 0.9074\n",
            "Epoch 175/200\n",
            "781/781 [==============================] - 23s 29ms/step - loss: 0.2923 - accuracy: 0.9094 - val_loss: 0.3214 - val_accuracy: 0.9078\n",
            "Epoch 176/200\n",
            "781/781 [==============================] - 22s 28ms/step - loss: 0.2956 - accuracy: 0.9086 - val_loss: 0.3219 - val_accuracy: 0.9075\n",
            "Epoch 177/200\n",
            "781/781 [==============================] - 23s 29ms/step - loss: 0.2929 - accuracy: 0.9094 - val_loss: 0.3210 - val_accuracy: 0.9074\n",
            "Epoch 178/200\n",
            "781/781 [==============================] - 23s 29ms/step - loss: 0.2882 - accuracy: 0.9121 - val_loss: 0.3207 - val_accuracy: 0.9078\n",
            "Epoch 179/200\n",
            "781/781 [==============================] - 22s 28ms/step - loss: 0.2916 - accuracy: 0.9098 - val_loss: 0.3193 - val_accuracy: 0.9079\n",
            "Epoch 180/200\n",
            "781/781 [==============================] - 22s 28ms/step - loss: 0.2882 - accuracy: 0.9111 - val_loss: 0.3206 - val_accuracy: 0.9075\n",
            "Epoch 181/200\n",
            "781/781 [==============================] - 22s 28ms/step - loss: 0.2896 - accuracy: 0.9111 - val_loss: 0.3211 - val_accuracy: 0.9083\n",
            "Epoch 182/200\n",
            "780/781 [============================>.] - ETA: 0s - loss: 0.2901 - accuracy: 0.9103\n",
            "Epoch 00182: ReduceLROnPlateau reducing learning rate to 1.000000082740371e-08.\n",
            "781/781 [==============================] - 22s 28ms/step - loss: 0.2901 - accuracy: 0.9103 - val_loss: 0.3204 - val_accuracy: 0.9076\n",
            "Epoch 183/200\n",
            "781/781 [==============================] - 22s 28ms/step - loss: 0.2940 - accuracy: 0.9086 - val_loss: 0.3229 - val_accuracy: 0.9071\n",
            "Epoch 184/200\n",
            "781/781 [==============================] - 22s 29ms/step - loss: 0.2960 - accuracy: 0.9093 - val_loss: 0.3194 - val_accuracy: 0.9078\n",
            "Epoch 185/200\n",
            "781/781 [==============================] - 22s 28ms/step - loss: 0.2923 - accuracy: 0.9110 - val_loss: 0.3206 - val_accuracy: 0.9074\n",
            "Epoch 186/200\n",
            "781/781 [==============================] - 22s 29ms/step - loss: 0.2939 - accuracy: 0.9104 - val_loss: 0.3212 - val_accuracy: 0.9073\n",
            "Epoch 187/200\n",
            "781/781 [==============================] - 22s 29ms/step - loss: 0.2871 - accuracy: 0.9109 - val_loss: 0.3205 - val_accuracy: 0.9073\n",
            "Epoch 188/200\n",
            "781/781 [==============================] - 22s 29ms/step - loss: 0.2959 - accuracy: 0.9103 - val_loss: 0.3204 - val_accuracy: 0.9075\n",
            "Epoch 189/200\n",
            "781/781 [==============================] - 22s 29ms/step - loss: 0.2938 - accuracy: 0.9094 - val_loss: 0.3195 - val_accuracy: 0.9081\n",
            "Epoch 190/200\n",
            "781/781 [==============================] - 22s 29ms/step - loss: 0.2955 - accuracy: 0.9099 - val_loss: 0.3205 - val_accuracy: 0.9071\n",
            "Epoch 191/200\n",
            "781/781 [==============================] - 23s 29ms/step - loss: 0.2888 - accuracy: 0.9110 - val_loss: 0.3210 - val_accuracy: 0.9066\n",
            "Epoch 192/200\n",
            "781/781 [==============================] - ETA: 0s - loss: 0.2959 - accuracy: 0.9083\n",
            "Epoch 00192: ReduceLROnPlateau reducing learning rate to 1.000000082740371e-09.\n",
            "781/781 [==============================] - 23s 29ms/step - loss: 0.2959 - accuracy: 0.9083 - val_loss: 0.3212 - val_accuracy: 0.9071\n",
            "Epoch 193/200\n",
            "781/781 [==============================] - 23s 29ms/step - loss: 0.2923 - accuracy: 0.9104 - val_loss: 0.3199 - val_accuracy: 0.9071\n",
            "Epoch 194/200\n",
            "781/781 [==============================] - 23s 29ms/step - loss: 0.2892 - accuracy: 0.9106 - val_loss: 0.3210 - val_accuracy: 0.9075\n",
            "Epoch 195/200\n",
            "781/781 [==============================] - 23s 29ms/step - loss: 0.2940 - accuracy: 0.9110 - val_loss: 0.3194 - val_accuracy: 0.9077\n",
            "Epoch 196/200\n",
            "781/781 [==============================] - 23s 29ms/step - loss: 0.2935 - accuracy: 0.9098 - val_loss: 0.3219 - val_accuracy: 0.9075\n",
            "Epoch 197/200\n",
            "781/781 [==============================] - 23s 29ms/step - loss: 0.2917 - accuracy: 0.9105 - val_loss: 0.3195 - val_accuracy: 0.9080\n",
            "Epoch 198/200\n",
            "781/781 [==============================] - 23s 29ms/step - loss: 0.2959 - accuracy: 0.9098 - val_loss: 0.3202 - val_accuracy: 0.9079\n",
            "Epoch 199/200\n",
            "781/781 [==============================] - 23s 29ms/step - loss: 0.2899 - accuracy: 0.9103 - val_loss: 0.3193 - val_accuracy: 0.9075\n",
            "Epoch 200/200\n",
            "781/781 [==============================] - 23s 29ms/step - loss: 0.2895 - accuracy: 0.9104 - val_loss: 0.3205 - val_accuracy: 0.9078\n"
          ],
          "name": "stdout"
        }
      ]
    },
    {
      "cell_type": "code",
      "metadata": {
        "id": "Q9d6HOkYwvWl",
        "colab_type": "code",
        "colab": {
          "base_uri": "https://localhost:8080/",
          "height": 981
        },
        "outputId": "6a8d1059-3b06-4826-873f-c4276d660b1b"
      },
      "source": [
        "# Madel Diagnostics\n",
        "summary_diagnostics(history)"
      ],
      "execution_count": 14,
      "outputs": [
        {
          "output_type": "display_data",
          "data": {
            "image/png": "[encoded data removed]",
            "text/plain": [
              "<Figure size 864x576 with 1 Axes>"
            ]
          },
          "metadata": {
            "tags": [],
            "needs_background": "light"
          }
        },
        {
          "output_type": "display_data",
          "data": {
            "image/png": "[encoded data removed]",
            "text/plain": [
              "<Figure size 864x576 with 1 Axes>"
            ]
          },
          "metadata": {
            "tags": [],
            "needs_background": "light"
          }
        }
      ]
    },
    {
      "cell_type": "markdown",
      "metadata": {
        "id": "nSDNAKqIwvWn",
        "colab_type": "text"
      },
      "source": [
        "## Model Evaluation"
      ]
    },
    {
      "cell_type": "markdown",
      "metadata": {
        "id": "aBkxLyzuwvWn",
        "colab_type": "text"
      },
      "source": [
        "###### Confusion Matrix"
      ]
    },
    {
      "cell_type": "code",
      "metadata": {
        "id": "iee_Sg2ZwvWn",
        "colab_type": "code",
        "colab": {
          "base_uri": "https://localhost:8080/",
          "height": 572
        },
        "outputId": "a140e7b7-bbe3-4f63-da5c-24cf06e6e4fd"
      },
      "source": [
        "cf_matrix = confusion_matrix(y_test, model.predict_classes(X_test))\n",
        "\n",
        "plt.figure(figsize=(12,8))\n",
        "sns.heatmap(cf_matrix/np.sum(cf_matrix), annot=True, fmt='.2%', cmap='Blues')"
      ],
      "execution_count": 15,
      "outputs": [
        {
          "output_type": "stream",
          "text": [
            "WARNING:tensorflow:From <ipython-input-15-5c6eea78fdad>:1: Sequential.predict_classes (from tensorflow.python.keras.engine.sequential) is deprecated and will be removed after 2021-01-01.\n",
            "Instructions for updating:\n",
            "Please use instead:* `np.argmax(model.predict(x), axis=-1)`,   if your model does multi-class classification   (e.g. if it uses a `softmax` last-layer activation).* `(model.predict(x) > 0.5).astype(\"int32\")`,   if your model does binary classification   (e.g. if it uses a `sigmoid` last-layer activation).\n"
          ],
          "name": "stdout"
        },
        {
          "output_type": "execute_result",
          "data": {
            "text/plain": [
              "<matplotlib.axes._subplots.AxesSubplot at 0x7fc46c7a4128>"
            ]
          },
          "metadata": {
            "tags": []
          },
          "execution_count": 15
        },
        {
          "output_type": "display_data",
          "data": {
            "image/png": "[encoded data removed]",
            "text/plain": [
              "<Figure size 864x576 with 2 Axes>"
            ]
          },
          "metadata": {
            "tags": [],
            "needs_background": "light"
          }
        }
      ]
    },
    {
      "cell_type": "markdown",
      "metadata": {
        "id": "8MxfqpEqwvWp",
        "colab_type": "text"
      },
      "source": [
        "###### Classification Report"
      ]
    },
    {
      "cell_type": "code",
      "metadata": {
        "id": "RgJnDJZ_wvWp",
        "colab_type": "code",
        "colab": {
          "base_uri": "https://localhost:8080/",
          "height": 311
        },
        "outputId": "99d9e318-e188-44ba-ae23-97c97cb89f07"
      },
      "source": [
        "print(classification_report(y_test, model.predict_classes(X_test)))"
      ],
      "execution_count": 16,
      "outputs": [
        {
          "output_type": "stream",
          "text": [
            "              precision    recall  f1-score   support\n",
            "\n",
            "           0       0.91      0.92      0.92      1000\n",
            "           1       0.95      0.97      0.96      1000\n",
            "           2       0.91      0.86      0.88      1000\n",
            "           3       0.84      0.78      0.81      1000\n",
            "           4       0.89      0.90      0.90      1000\n",
            "           5       0.88      0.82      0.85      1000\n",
            "           6       0.87      0.97      0.92      1000\n",
            "           7       0.93      0.95      0.94      1000\n",
            "           8       0.95      0.94      0.95      1000\n",
            "           9       0.93      0.96      0.95      1000\n",
            "\n",
            "    accuracy                           0.91     10000\n",
            "   macro avg       0.91      0.91      0.91     10000\n",
            "weighted avg       0.91      0.91      0.91     10000\n",
            "\n"
          ],
          "name": "stdout"
        }
      ]
    },
    {
      "cell_type": "code",
      "metadata": {
        "id": "Hfv3CNUlwvWr",
        "colab_type": "code",
        "colab": {}
      },
      "source": [
        ""
      ],
      "execution_count": 16,
      "outputs": []
    },
    {
      "cell_type": "markdown",
      "metadata": {
        "id": "e-nmL-K8wvWt",
        "colab_type": "text"
      },
      "source": [
        "## Generate Predictions"
      ]
    },
    {
      "cell_type": "code",
      "metadata": {
        "id": "ns1cwf7PwvWt",
        "colab_type": "code",
        "colab": {}
      },
      "source": [
        "# Load Test Data\n",
        "test_data = pd.read_csv(\"https://raw.githubusercontent.com/dphi-official/Datasets/master/cifar_image_flattened_pixels.csv\")\n",
        "\n",
        "# Normalize Test Data\n",
        "test_data = test_data.values\n",
        "test_data = test_data/test_data.max()\n",
        "\n",
        "# Reshape test Data to required shape\n",
        "test_data = test_data.reshape(test_data.shape[0], height, width, channel)\n"
      ],
      "execution_count": 17,
      "outputs": []
    },
    {
      "cell_type": "code",
      "metadata": {
        "id": "VIXhSZJrwvWv",
        "colab_type": "code",
        "colab": {}
      },
      "source": [
        "# Generate predictions for test data\n",
        "y_predicted = model.predict(test_data)\n",
        "y_predicted_labels = np.argmax(y_predicted, axis=1)\n",
        "\n",
        "# Save Prediction Results\n",
        "y_pred = pd.DataFrame(data=y_predicted_labels, columns=[\"predictions\"])\n",
        "y_pred.to_csv(\"CNN_prediction_results.csv\", index=False)"
      ],
      "execution_count": 18,
      "outputs": []
    },
    {
      "cell_type": "code",
      "metadata": {
        "id": "FDLlK1xCwvWx",
        "colab_type": "code",
        "colab": {}
      },
      "source": [
        ""
      ],
      "execution_count": 18,
      "outputs": []
    }
  ]
}