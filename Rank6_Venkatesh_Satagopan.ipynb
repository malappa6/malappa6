{
  "nbformat": 4,
  "nbformat_minor": 0,
  "metadata": {
    "colab": {
      "name": "Copy of CIFAR10_base_model.ipynb",
      "provenance": [],
      "collapsed_sections": [],
      "toc_visible": true
    },
    "kernelspec": {
      "name": "python3",
      "display_name": "Python 3"
    },
    "accelerator": "TPU"
  },
  "cells": [
    {
      "cell_type": "markdown",
      "metadata": {
        "id": "Jlwg3_6bDtTC",
        "colab_type": "text"
      },
      "source": [
        "# Load required libraries"
      ]
    },
    {
      "cell_type": "code",
      "metadata": {
        "id": "oq0Sy-0aDqvb",
        "colab_type": "code",
        "colab": {}
      },
      "source": [
        "from tensorflow.keras.datasets.cifar10 import load_data\n",
        "from tensorflow.keras import Sequential, Model, optimizers, losses,Input\n",
        "from tensorflow.keras import layers\n",
        "from tensorflow.keras import utils\n",
        "# from tensorflow.keras.preprocessing.image import ImageDataGenerator\n",
        "import numpy as np\n",
        "import matplotlib.pyplot as plt\n",
        "from mpl_toolkits.axes_grid1 import ImageGrid\n",
        "# from tensorflow.keras.applications.resnet50 import preprocess_input,ResNet50\n",
        "# from tensorflow.keras.applications.inception_v3 import InceptionV3\n",
        "import scipy.ndimage\n",
        "from skimage.transform import resize\n",
        "# from tensorflow.keras.layers import GlobalAveragePooling2D, Dense\n",
        "# from tensorflow.keras.preprocessing.image import ImageDataGenerator\n",
        "# from sklearn.model_selection import train_test_split\n",
        "#from tensorflow.keras.applications.resnet50 import preprocess_input\n"
      ],
      "execution_count": null,
      "outputs": []
    },
    {
      "cell_type": "markdown",
      "metadata": {
        "id": "7iJDCBI9DyG0",
        "colab_type": "text"
      },
      "source": [
        "# Load the training data"
      ]
    },
    {
      "cell_type": "code",
      "metadata": {
        "id": "-NdRQnn4DjT3",
        "colab_type": "code",
        "colab": {
          "base_uri": "https://localhost:8080/",
          "height": 51
        },
        "outputId": "b5adfa13-54e2-48aa-8f06-39524fd9d1b2"
      },
      "source": [
        "(x_train, y_train), (_, __) = load_data()"
      ],
      "execution_count": null,
      "outputs": [
        {
          "output_type": "stream",
          "text": [
            "Downloading data from https://www.cs.toronto.edu/~kriz/cifar-10-python.tar.gz\n",
            "170500096/170498071 [==============================] - 6s 0us/step\n"
          ],
          "name": "stdout"
        }
      ]
    },
    {
      "cell_type": "code",
      "metadata": {
        "id": "ghLL0LngFro3",
        "colab_type": "code",
        "colab": {
          "base_uri": "https://localhost:8080/",
          "height": 34
        },
        "outputId": "e063d4f3-0b89-4495-a9c9-a8a0df51da63"
      },
      "source": [
        "x_train.shape"
      ],
      "execution_count": null,
      "outputs": [
        {
          "output_type": "execute_result",
          "data": {
            "text/plain": [
              "(50000, 32, 32, 3)"
            ]
          },
          "metadata": {
            "tags": []
          },
          "execution_count": 3
        }
      ]
    },
    {
      "cell_type": "markdown",
      "metadata": {
        "id": "Ia2wcY9mEBca",
        "colab_type": "text"
      },
      "source": [
        "# Visualising the data"
      ]
    },
    {
      "cell_type": "markdown",
      "metadata": {
        "id": "V1jODrZaFI7D",
        "colab_type": "text"
      },
      "source": [
        "# Take random 5 images from each class for visualisation"
      ]
    },
    {
      "cell_type": "code",
      "metadata": {
        "id": "tnjmMS1IEbk7",
        "colab_type": "code",
        "colab": {}
      },
      "source": [
        "indices = {cls: np.random.choice(np.where(y_train == cls)[0], 5, replace=False) for cls in range(10)}"
      ],
      "execution_count": null,
      "outputs": []
    },
    {
      "cell_type": "code",
      "metadata": {
        "id": "QeiH-NwNFEGl",
        "colab_type": "code",
        "colab": {
          "base_uri": "https://localhost:8080/",
          "height": 187
        },
        "outputId": "78fbb963-e967-42f8-9023-85685d602c1a"
      },
      "source": [
        "indices"
      ],
      "execution_count": null,
      "outputs": [
        {
          "output_type": "execute_result",
          "data": {
            "text/plain": [
              "{0: array([14080, 46613, 40851, 13260, 16423]),\n",
              " 1: array([ 4917, 41322, 26789,  3142, 13366]),\n",
              " 2: array([ 6757, 38806, 39308, 48232,  6488]),\n",
              " 3: array([42408, 24775,  6493, 38246, 39651]),\n",
              " 4: array([31627, 23943, 32280,  8417, 19548]),\n",
              " 5: array([39456, 14673, 33820, 40373,  9196]),\n",
              " 6: array([37846, 33411, 13049, 42099, 10218]),\n",
              " 7: array([22703, 49116, 45724, 19542,  6449]),\n",
              " 8: array([10688, 22776, 39534, 29694, 33549]),\n",
              " 9: array([15420, 21121, 21583, 23979, 16614])}"
            ]
          },
          "metadata": {
            "tags": []
          },
          "execution_count": 5
        }
      ]
    },
    {
      "cell_type": "code",
      "metadata": {
        "id": "Uj75e1_yFQA5",
        "colab_type": "code",
        "colab": {
          "base_uri": "https://localhost:8080/",
          "height": 277
        },
        "outputId": "5281e18a-76a3-4853-91c6-9754b6636214"
      },
      "source": [
        "fig = plt.figure(figsize=(10, 4))\n",
        "ig = ImageGrid(fig, 111, (5, 10))\n",
        "for c, cls in enumerate(indices):\n",
        "  for r, i in enumerate(indices[cls]):\n",
        "    img= x_train[i,:,:,:]\n",
        "    ax = ig.axes_column[c][r]\n",
        "    ax.imshow((img).astype(np.uint8))\n",
        "    ax.set_axis_off()\n",
        "fig.suptitle('The whole 5-shot CIFAR10 dataset');"
      ],
      "execution_count": null,
      "outputs": [
        {
          "output_type": "display_data",
          "data": {
            "image/png": "[encoded data removed]",
            "text/plain": [
              "<Figure size 720x288 with 100 Axes>"
            ]
          },
          "metadata": {
            "tags": [],
            "needs_background": "light"
          }
        }
      ]
    },
    {
      "cell_type": "markdown",
      "metadata": {
        "id": "UXPg7HEHHG3f",
        "colab_type": "text"
      },
      "source": [
        "# Let's find the distribution of each class in the CIFAR10 dataset"
      ]
    },
    {
      "cell_type": "code",
      "metadata": {
        "id": "WNofY4bpGUn5",
        "colab_type": "code",
        "colab": {}
      },
      "source": [
        "total_indices = {cls: len(np.where(y_train == cls)[0]) for cls in range(10)}"
      ],
      "execution_count": null,
      "outputs": []
    },
    {
      "cell_type": "code",
      "metadata": {
        "id": "_ZjBmHqXG3Fq",
        "colab_type": "code",
        "colab": {
          "base_uri": "https://localhost:8080/",
          "height": 187
        },
        "outputId": "4ac1fe2d-795a-4de0-d11a-b0b87e3c58ff"
      },
      "source": [
        "total_indices"
      ],
      "execution_count": null,
      "outputs": [
        {
          "output_type": "execute_result",
          "data": {
            "text/plain": [
              "{0: 5000,\n",
              " 1: 5000,\n",
              " 2: 5000,\n",
              " 3: 5000,\n",
              " 4: 5000,\n",
              " 5: 5000,\n",
              " 6: 5000,\n",
              " 7: 5000,\n",
              " 8: 5000,\n",
              " 9: 5000}"
            ]
          },
          "metadata": {
            "tags": []
          },
          "execution_count": 8
        }
      ]
    },
    {
      "cell_type": "markdown",
      "metadata": {
        "id": "JgMWjqRhHOtI",
        "colab_type": "text"
      },
      "source": [
        "# All the classes are equally distributed so there is no class imbalance and we can proceed further in model creation"
      ]
    },
    {
      "cell_type": "code",
      "metadata": {
        "id": "KURqaCmLEQWk",
        "colab_type": "code",
        "colab": {}
      },
      "source": [
        "x_train=x_train.astype(\"float32\")/np.max(x_train)\n"
      ],
      "execution_count": null,
      "outputs": []
    },
    {
      "cell_type": "code",
      "metadata": {
        "id": "xNKFHm93J3A0",
        "colab_type": "code",
        "colab": {
          "base_uri": "https://localhost:8080/",
          "height": 34
        },
        "outputId": "0a0b2795-1e4a-4999-dc31-7bf4e4047886"
      },
      "source": [
        "x_train.shape"
      ],
      "execution_count": null,
      "outputs": [
        {
          "output_type": "execute_result",
          "data": {
            "text/plain": [
              "(50000, 32, 32, 3)"
            ]
          },
          "metadata": {
            "tags": []
          },
          "execution_count": 10
        }
      ]
    },
    {
      "cell_type": "code",
      "metadata": {
        "id": "WwmJb_J_JJY9",
        "colab_type": "code",
        "colab": {}
      },
      "source": [
        "num_classes=len(np.unique(y_train))"
      ],
      "execution_count": null,
      "outputs": []
    },
    {
      "cell_type": "code",
      "metadata": {
        "id": "QEpziPkTI08d",
        "colab_type": "code",
        "colab": {}
      },
      "source": [
        "y_train=utils.to_categorical(y_train,num_classes=num_classes)"
      ],
      "execution_count": null,
      "outputs": []
    },
    {
      "cell_type": "markdown",
      "metadata": {
        "id": "Zsr-ZQvXLW7S",
        "colab_type": "text"
      },
      "source": [
        "# Method -1 ( Simple model)"
      ]
    },
    {
      "cell_type": "markdown",
      "metadata": {
        "id": "MahcrMF0HiZV",
        "colab_type": "text"
      },
      "source": [
        "# Creating model"
      ]
    },
    {
      "cell_type": "code",
      "metadata": {
        "id": "2lK5XPI9EmEZ",
        "colab_type": "code",
        "colab": {}
      },
      "source": [
        "model=Sequential()\n",
        "model.add(layers.Conv2D(32,kernel_size=(5,5),padding='same',input_shape=x_train.shape[1:]))\n",
        "model.add(layers.BatchNormalization())\n",
        "model.add(layers.Activation('relu'))\n",
        "\n",
        "model.add(layers.Conv2D(32,kernel_size=(5,5),padding='same'))\n",
        "model.add(layers.BatchNormalization())\n",
        "model.add(layers.Activation('relu'))\n",
        "\n",
        "model.add(layers.MaxPool2D(pool_size=(2,2)))\n",
        "model.add(layers.Dropout(0.25))\n",
        "\n",
        "model.add(layers.Conv2D(64,kernel_size=(3,3),padding='same'))\n",
        "model.add(layers.BatchNormalization())\n",
        "model.add(layers.Activation('relu'))\n",
        "model.add(layers.Conv2D(64,kernel_size=(3,3),padding='same'))\n",
        "model.add(layers.BatchNormalization())\n",
        "model.add(layers.Activation('relu'))\n",
        "model.add(layers.MaxPool2D(pool_size=(2,2)))\n",
        "model.add(layers.Dropout(0.25))\n",
        "\n",
        "model.add(layers.Flatten())\n",
        "model.add(layers.Dense(512))\n",
        "model.add(layers.Activation('relu'))\n",
        "model.add(layers.Dropout(0.5))\n",
        "model.add(layers.Dense(num_classes))\n",
        "model.add(layers.Activation('softmax'))\n",
        "\n"
      ],
      "execution_count": null,
      "outputs": []
    },
    {
      "cell_type": "code",
      "metadata": {
        "id": "L-r5bU1UMvKE",
        "colab_type": "code",
        "colab": {}
      },
      "source": [
        "opt=optimizers.RMSprop(learning_rate=0.0001,decay=1e-6)"
      ],
      "execution_count": null,
      "outputs": []
    },
    {
      "cell_type": "code",
      "metadata": {
        "id": "HQFRnDtwNDgB",
        "colab_type": "code",
        "colab": {}
      },
      "source": [
        "model.compile(loss='categorical_crossentropy',optimizer=opt,metrics=['accuracy'])"
      ],
      "execution_count": null,
      "outputs": []
    },
    {
      "cell_type": "code",
      "metadata": {
        "id": "21uhEc10NzIg",
        "colab_type": "code",
        "colab": {}
      },
      "source": [
        "data_augmentation=True\n",
        "batch_size=128\n",
        "epochs=50"
      ],
      "execution_count": null,
      "outputs": []
    },
    {
      "cell_type": "code",
      "metadata": {
        "id": "BwQoUn1ENR1C",
        "colab_type": "code",
        "colab": {
          "base_uri": "https://localhost:8080/",
          "height": 1000
        },
        "outputId": "9a0ffd9b-b100-4f6d-d311-e74b671834a6"
      },
      "source": [
        "if not data_augmentation:\n",
        "    print('Not using data augmentation.')\n",
        "    model.fit(x_train, y_train,\n",
        "              batch_size=batch_size,\n",
        "              epochs=epochs,\n",
        "              shuffle=True,validation_split=0.1)\n",
        "else:\n",
        "    print('Using real-time data augmentation.')\n",
        "    # This will do preprocessing and realtime data augmentation:\n",
        "    datagen = ImageDataGenerator(\n",
        "        featurewise_center=False,  # set input mean to 0 over the dataset\n",
        "        samplewise_center=False,  # set each sample mean to 0\n",
        "        featurewise_std_normalization=False,  # divide inputs by std of the dataset\n",
        "        samplewise_std_normalization=False,  # divide each input by its std\n",
        "        zca_whitening=False,  # apply ZCA whitening\n",
        "        zca_epsilon=1e-06,  # epsilon for ZCA whitening\n",
        "        rotation_range=0,  # randomly rotate images in the range (degrees, 0 to 180)\n",
        "        # randomly shift images horizontally (fraction of total width)\n",
        "        width_shift_range=0.1,\n",
        "        # randomly shift images vertically (fraction of total height)\n",
        "        height_shift_range=0.1,\n",
        "        shear_range=0.,  # set range for random shear\n",
        "        zoom_range=0.,  # set range for random zoom\n",
        "        channel_shift_range=0.,  # set range for random channel shifts\n",
        "        # set mode for filling points outside the input boundaries\n",
        "        fill_mode='nearest',\n",
        "        cval=0.,  # value used for fill_mode = \"constant\"\n",
        "        horizontal_flip=True,  # randomly flip images\n",
        "        vertical_flip=False,  # randomly flip images\n",
        "        # set rescaling factor (applied before any other transformation)\n",
        "        rescale=None,\n",
        "        # set function that will be applied on each input\n",
        "        preprocessing_function=None,\n",
        "        # image data format, either \"channels_first\" or \"channels_last\"\n",
        "        data_format=None,\n",
        "        # fraction of images reserved for validation (strictly between 0 and 1)\n",
        "        validation_split=0.1)\n",
        "\n",
        "    # Compute quantities required for feature-wise normalization\n",
        "    # (std, mean, and principal components if ZCA whitening is applied).\n",
        "    datagen.fit(x_train)\n",
        "\n",
        "    # Fit the model on the batches generated by datagen.flow().\n",
        "    model.fit_generator(datagen.flow(x_train, y_train,\n",
        "                                     batch_size=batch_size),\n",
        "                        epochs=epochs,\n",
        "                        workers=4)\n"
      ],
      "execution_count": null,
      "outputs": [
        {
          "output_type": "stream",
          "text": [
            "Using real-time data augmentation.\n",
            "WARNING:tensorflow:From <ipython-input-12-9630ca05c71a>:47: Model.fit_generator (from tensorflow.python.keras.engine.training) is deprecated and will be removed in a future version.\n",
            "Instructions for updating:\n",
            "Please use Model.fit, which supports generators.\n",
            "Epoch 1/50\n",
            "391/391 [==============================] - 35s 90ms/step - loss: 1.9738 - accuracy: 0.2958\n",
            "Epoch 2/50\n",
            "391/391 [==============================] - 36s 92ms/step - loss: 1.6459 - accuracy: 0.3986\n",
            "Epoch 3/50\n",
            "391/391 [==============================] - 37s 94ms/step - loss: 1.5295 - accuracy: 0.4422\n",
            "Epoch 4/50\n",
            "391/391 [==============================] - 35s 91ms/step - loss: 1.4469 - accuracy: 0.4763\n",
            "Epoch 5/50\n",
            "391/391 [==============================] - 36s 91ms/step - loss: 1.3854 - accuracy: 0.5008\n",
            "Epoch 6/50\n",
            "391/391 [==============================] - 36s 91ms/step - loss: 1.3216 - accuracy: 0.5267\n",
            "Epoch 7/50\n",
            "391/391 [==============================] - 35s 91ms/step - loss: 1.2654 - accuracy: 0.5435\n",
            "Epoch 8/50\n",
            "391/391 [==============================] - 35s 89ms/step - loss: 1.2229 - accuracy: 0.5645\n",
            "Epoch 9/50\n",
            "391/391 [==============================] - 36s 91ms/step - loss: 1.1752 - accuracy: 0.5774\n",
            "Epoch 10/50\n",
            "391/391 [==============================] - 36s 92ms/step - loss: 1.1388 - accuracy: 0.5949\n",
            "Epoch 11/50\n",
            "391/391 [==============================] - 36s 91ms/step - loss: 1.1081 - accuracy: 0.6038\n",
            "Epoch 12/50\n",
            "391/391 [==============================] - 35s 90ms/step - loss: 1.0746 - accuracy: 0.6153\n",
            "Epoch 13/50\n",
            "391/391 [==============================] - 36s 91ms/step - loss: 1.0500 - accuracy: 0.6259\n",
            "Epoch 14/50\n",
            "391/391 [==============================] - 35s 91ms/step - loss: 1.0312 - accuracy: 0.6350\n",
            "Epoch 15/50\n",
            "391/391 [==============================] - 35s 89ms/step - loss: 1.0064 - accuracy: 0.6412\n",
            "Epoch 16/50\n",
            "391/391 [==============================] - 35s 90ms/step - loss: 0.9881 - accuracy: 0.6494\n",
            "Epoch 17/50\n",
            "391/391 [==============================] - 34s 87ms/step - loss: 0.9716 - accuracy: 0.6575\n",
            "Epoch 18/50\n",
            "391/391 [==============================] - 34s 88ms/step - loss: 0.9595 - accuracy: 0.6619\n",
            "Epoch 19/50\n",
            "391/391 [==============================] - 34s 86ms/step - loss: 0.9393 - accuracy: 0.6660\n",
            "Epoch 20/50\n",
            "391/391 [==============================] - 34s 88ms/step - loss: 0.9257 - accuracy: 0.6720\n",
            "Epoch 21/50\n",
            "391/391 [==============================] - 34s 88ms/step - loss: 0.9161 - accuracy: 0.6751\n",
            "Epoch 22/50\n",
            "391/391 [==============================] - 35s 89ms/step - loss: 0.9023 - accuracy: 0.6817\n",
            "Epoch 23/50\n",
            "391/391 [==============================] - 34s 88ms/step - loss: 0.8930 - accuracy: 0.6843\n",
            "Epoch 24/50\n",
            "391/391 [==============================] - 34s 87ms/step - loss: 0.8835 - accuracy: 0.6907\n",
            "Epoch 25/50\n",
            "391/391 [==============================] - 34s 86ms/step - loss: 0.8720 - accuracy: 0.6942\n",
            "Epoch 26/50\n",
            "391/391 [==============================] - 33s 85ms/step - loss: 0.8664 - accuracy: 0.6948\n",
            "Epoch 27/50\n",
            "391/391 [==============================] - 33s 86ms/step - loss: 0.8541 - accuracy: 0.6988\n",
            "Epoch 28/50\n",
            "391/391 [==============================] - 33s 84ms/step - loss: 0.8461 - accuracy: 0.7022\n",
            "Epoch 29/50\n",
            "391/391 [==============================] - 33s 84ms/step - loss: 0.8415 - accuracy: 0.7030\n",
            "Epoch 30/50\n",
            "391/391 [==============================] - 33s 84ms/step - loss: 0.8344 - accuracy: 0.7073\n",
            "Epoch 31/50\n",
            "391/391 [==============================] - 33s 85ms/step - loss: 0.8293 - accuracy: 0.7103\n",
            "Epoch 32/50\n",
            "391/391 [==============================] - 33s 85ms/step - loss: 0.8210 - accuracy: 0.7136\n",
            "Epoch 33/50\n",
            "391/391 [==============================] - 34s 86ms/step - loss: 0.8159 - accuracy: 0.7149\n",
            "Epoch 34/50\n",
            "391/391 [==============================] - 33s 84ms/step - loss: 0.8120 - accuracy: 0.7173\n",
            "Epoch 35/50\n",
            "391/391 [==============================] - 33s 85ms/step - loss: 0.8117 - accuracy: 0.7164\n",
            "Epoch 36/50\n",
            "391/391 [==============================] - 33s 84ms/step - loss: 0.7990 - accuracy: 0.7208\n",
            "Epoch 37/50\n",
            "391/391 [==============================] - 33s 84ms/step - loss: 0.7898 - accuracy: 0.7227\n",
            "Epoch 38/50\n",
            "391/391 [==============================] - 33s 85ms/step - loss: 0.7903 - accuracy: 0.7237\n",
            "Epoch 39/50\n",
            "391/391 [==============================] - 33s 83ms/step - loss: 0.7871 - accuracy: 0.7246\n",
            "Epoch 40/50\n",
            "391/391 [==============================] - 34s 86ms/step - loss: 0.7871 - accuracy: 0.7280\n",
            "Epoch 41/50\n",
            "391/391 [==============================] - 34s 86ms/step - loss: 0.7853 - accuracy: 0.7273\n",
            "Epoch 42/50\n",
            "391/391 [==============================] - 34s 87ms/step - loss: 0.7828 - accuracy: 0.7282\n",
            "Epoch 43/50\n",
            "391/391 [==============================] - 34s 87ms/step - loss: 0.7757 - accuracy: 0.7321\n",
            "Epoch 44/50\n",
            "391/391 [==============================] - 34s 86ms/step - loss: 0.7755 - accuracy: 0.7316\n",
            "Epoch 45/50\n",
            "391/391 [==============================] - 34s 86ms/step - loss: 0.7770 - accuracy: 0.7313\n",
            "Epoch 46/50\n",
            "391/391 [==============================] - 33s 84ms/step - loss: 0.7634 - accuracy: 0.7347\n",
            "Epoch 47/50\n",
            "391/391 [==============================] - 33s 84ms/step - loss: 0.7671 - accuracy: 0.7348\n",
            "Epoch 48/50\n",
            "391/391 [==============================] - 34s 86ms/step - loss: 0.7646 - accuracy: 0.7338\n",
            "Epoch 49/50\n",
            "391/391 [==============================] - 36s 93ms/step - loss: 0.7566 - accuracy: 0.7381\n",
            "Epoch 50/50\n",
            "391/391 [==============================] - 36s 92ms/step - loss: 0.7558 - accuracy: 0.7396\n"
          ],
          "name": "stdout"
        }
      ]
    },
    {
      "cell_type": "markdown",
      "metadata": {
        "id": "MDjDwkZxKxx3",
        "colab_type": "text"
      },
      "source": [
        "# Saving the model"
      ]
    },
    {
      "cell_type": "code",
      "metadata": {
        "id": "ZNESzJWvYnD7",
        "colab_type": "code",
        "colab": {}
      },
      "source": [
        "folder_path='/content/drive/My Drive/cifar10/'"
      ],
      "execution_count": null,
      "outputs": []
    },
    {
      "cell_type": "code",
      "metadata": {
        "id": "COXvBoueOPn_",
        "colab_type": "code",
        "colab": {}
      },
      "source": [
        "model.save(folder_path+'model_1.h5')"
      ],
      "execution_count": null,
      "outputs": []
    },
    {
      "cell_type": "markdown",
      "metadata": {
        "id": "J_de4jY6K4Ux",
        "colab_type": "text"
      },
      "source": [
        "# Reading the test-data"
      ]
    },
    {
      "cell_type": "code",
      "metadata": {
        "id": "wz0yvHQEYuP1",
        "colab_type": "code",
        "colab": {}
      },
      "source": [
        "import pandas as pd\n",
        "test_data = pd.read_csv(\"https://raw.githubusercontent.com/dphi-official/Datasets/master/cifar_image_flattened_pixels.csv\")"
      ],
      "execution_count": null,
      "outputs": []
    },
    {
      "cell_type": "code",
      "metadata": {
        "id": "nqx6d09Baok9",
        "colab_type": "code",
        "colab": {}
      },
      "source": [
        "x_test=np.asarray(test_data)"
      ],
      "execution_count": null,
      "outputs": []
    },
    {
      "cell_type": "code",
      "metadata": {
        "id": "jccW00HtazfQ",
        "colab_type": "code",
        "colab": {
          "base_uri": "https://localhost:8080/",
          "height": 34
        },
        "outputId": "31394af0-b565-4003-d952-f4d7d7ca6c88"
      },
      "source": [
        "x_test.shape"
      ],
      "execution_count": null,
      "outputs": [
        {
          "output_type": "execute_result",
          "data": {
            "text/plain": [
              "(2000, 3072)"
            ]
          },
          "metadata": {
            "tags": []
          },
          "execution_count": 17
        }
      ]
    },
    {
      "cell_type": "code",
      "metadata": {
        "id": "O68kusNta03E",
        "colab_type": "code",
        "colab": {}
      },
      "source": [
        "x_test=x_test.reshape(-1,32,32,3)"
      ],
      "execution_count": null,
      "outputs": []
    },
    {
      "cell_type": "code",
      "metadata": {
        "id": "bO793OPxa57e",
        "colab_type": "code",
        "colab": {
          "base_uri": "https://localhost:8080/",
          "height": 34
        },
        "outputId": "13fae341-594f-4349-ab92-af2a404313db"
      },
      "source": [
        "x_test.shape"
      ],
      "execution_count": null,
      "outputs": [
        {
          "output_type": "execute_result",
          "data": {
            "text/plain": [
              "(2000, 32, 32, 3)"
            ]
          },
          "metadata": {
            "tags": []
          },
          "execution_count": 19
        }
      ]
    },
    {
      "cell_type": "code",
      "metadata": {
        "id": "Cx1vmkgcbAkq",
        "colab_type": "code",
        "colab": {}
      },
      "source": [
        "x_test=x_test.astype(\"float32\")/np.max(x_test)"
      ],
      "execution_count": null,
      "outputs": []
    },
    {
      "cell_type": "markdown",
      "metadata": {
        "id": "lfsfzxuHK-PU",
        "colab_type": "text"
      },
      "source": [
        "# Predicting the result for the model"
      ]
    },
    {
      "cell_type": "code",
      "metadata": {
        "id": "UEpsV7NGbJ9I",
        "colab_type": "code",
        "colab": {}
      },
      "source": [
        "y_test=model.predict(x_test)"
      ],
      "execution_count": null,
      "outputs": []
    },
    {
      "cell_type": "code",
      "metadata": {
        "id": "McaNyLdHbND0",
        "colab_type": "code",
        "colab": {
          "base_uri": "https://localhost:8080/",
          "height": 68
        },
        "outputId": "9f4a6db9-f24b-4212-cdc8-90676c8ec64d"
      },
      "source": [
        "y_test[0]"
      ],
      "execution_count": null,
      "outputs": [
        {
          "output_type": "execute_result",
          "data": {
            "text/plain": [
              "array([6.93158899e-03, 1.27422740e-04, 4.65360463e-01, 3.05994600e-01,\n",
              "       4.39946949e-02, 1.41057065e-02, 1.37814134e-01, 2.04649661e-02,\n",
              "       2.36569205e-03, 2.84076692e-03], dtype=float32)"
            ]
          },
          "metadata": {
            "tags": []
          },
          "execution_count": 24
        }
      ]
    },
    {
      "cell_type": "code",
      "metadata": {
        "id": "1TUrB5P5bPDp",
        "colab_type": "code",
        "colab": {}
      },
      "source": [
        "y_final=np.argmax(y_test,axis=1)"
      ],
      "execution_count": null,
      "outputs": []
    },
    {
      "cell_type": "code",
      "metadata": {
        "id": "JRk7EseZbT3c",
        "colab_type": "code",
        "colab": {
          "base_uri": "https://localhost:8080/",
          "height": 34
        },
        "outputId": "7d2c42bd-7e37-4d79-951c-ea4c06dbff0f"
      },
      "source": [
        "y_final.shape"
      ],
      "execution_count": null,
      "outputs": [
        {
          "output_type": "execute_result",
          "data": {
            "text/plain": [
              "(2000,)"
            ]
          },
          "metadata": {
            "tags": []
          },
          "execution_count": 30
        }
      ]
    },
    {
      "cell_type": "code",
      "metadata": {
        "id": "Iuskf9b0b1ao",
        "colab_type": "code",
        "colab": {}
      },
      "source": [
        "tes\n",
        "t_data['target']=y_final"
      ],
      "execution_count": null,
      "outputs": []
    },
    {
      "cell_type": "code",
      "metadata": {
        "id": "K2-OPZDzhy_e",
        "colab_type": "code",
        "colab": {}
      },
      "source": [
        "test_data.to_csv(folder_path+'final_data.csv',index=False)"
      ],
      "execution_count": null,
      "outputs": []
    },
    {
      "cell_type": "markdown",
      "metadata": {
        "id": "SVYebMC-AYm2",
        "colab_type": "text"
      },
      "source": [
        "# This model achieves accuracy of 70.6 % on the test set"
      ]
    },
    {
      "cell_type": "markdown",
      "metadata": {
        "id": "iY284_NpLdG6",
        "colab_type": "text"
      },
      "source": [
        "# Method -2 (BITS)"
      ]
    },
    {
      "cell_type": "markdown",
      "metadata": {
        "id": "vTzw5O8aNWfw",
        "colab_type": "text"
      },
      "source": [
        "This is based on the following notebook\n",
        "\n",
        "https://github.com/google-research/big_transfer/blob/master/colabs/big_transfer_pytorch.ipynb"
      ]
    },
    {
      "cell_type": "code",
      "metadata": {
        "id": "KbF64JxPNTeF",
        "colab_type": "code",
        "colab": {}
      },
      "source": [
        "from functools import partial\n",
        "from collections import OrderedDict\n",
        "%config InlineBackend.figure_format = 'retina'\n",
        "import torch\n",
        "import torch.nn as nn\n",
        "import torch.nn.functional as F\n",
        "from torch.autograd import Variable\n",
        "import torchvision as tv\n",
        "import requests\n",
        "import io\n",
        "import PIL"
      ],
      "execution_count": null,
      "outputs": []
    },
    {
      "cell_type": "markdown",
      "metadata": {
        "id": "kpHlDNOlODgj",
        "colab_type": "text"
      },
      "source": [
        "# Reading weight data from the Cloud bucket"
      ]
    },
    {
      "cell_type": "code",
      "metadata": {
        "id": "CZGGkqnoN7GW",
        "colab_type": "code",
        "colab": {}
      },
      "source": [
        "def get_weights(bit_variant):\n",
        "  response = requests.get(f'https://storage.googleapis.com/bit_models/{bit_variant}.npz')\n",
        "  response.raise_for_status()\n",
        "  return np.load(io.BytesIO(response.content))"
      ],
      "execution_count": null,
      "outputs": []
    },
    {
      "cell_type": "code",
      "metadata": {
        "id": "BK_Dbv-TOIjr",
        "colab_type": "code",
        "colab": {}
      },
      "source": [
        "weights = get_weights('BiT-M-R50x1')  # You could use other variants, such as R101x3 or R152x4 here, but it is not advisable in a colab."
      ],
      "execution_count": null,
      "outputs": []
    },
    {
      "cell_type": "markdown",
      "metadata": {
        "id": "QxWsp20XOZtJ",
        "colab_type": "text"
      },
      "source": [
        "# Defining the architecture and loading weights"
      ]
    },
    {
      "cell_type": "code",
      "metadata": {
        "id": "lOh5P10tOMX-",
        "colab_type": "code",
        "colab": {}
      },
      "source": [
        "class StdConv2d(nn.Conv2d):\n",
        "  def forward(self, x):\n",
        "    w = self.weight\n",
        "    v, m = torch.var_mean(w, dim=[1, 2, 3], keepdim=True, unbiased=False)\n",
        "    w = (w - m) / torch.sqrt(v + 1e-10)\n",
        "    return F.conv2d(x, w, self.bias, self.stride, self.padding, self.dilation, self.groups)"
      ],
      "execution_count": null,
      "outputs": []
    },
    {
      "cell_type": "code",
      "metadata": {
        "id": "5amb4TJCOff2",
        "colab_type": "code",
        "colab": {}
      },
      "source": [
        "def conv3x3(cin, cout, stride=1, groups=1, bias=False):\n",
        "  return StdConv2d(cin, cout, kernel_size=3, stride=stride, padding=1, bias=bias, groups=groups)\n",
        "\n",
        "def conv1x1(cin, cout, stride=1, bias=False):\n",
        "  return StdConv2d(cin, cout, kernel_size=1, stride=stride, padding=0, bias=bias)"
      ],
      "execution_count": null,
      "outputs": []
    },
    {
      "cell_type": "code",
      "metadata": {
        "id": "7yvtiORGOiOX",
        "colab_type": "code",
        "colab": {}
      },
      "source": [
        "def tf2th(conv_weights):\n",
        "  \"\"\"Possibly convert HWIO to OIHW\"\"\"\n",
        "  if conv_weights.ndim == 4:\n",
        "    conv_weights = np.transpose(conv_weights, [3, 2, 0, 1])\n",
        "  return torch.from_numpy(conv_weights)"
      ],
      "execution_count": null,
      "outputs": []
    },
    {
      "cell_type": "code",
      "metadata": {
        "id": "tNq34tmsqgXG",
        "colab_type": "code",
        "colab": {}
      },
      "source": [
        "class PreActBottleneck(nn.Module):\n",
        "  \"\"\"\n",
        "  Follows the implementation of \"Identity Mappings in Deep Residual Networks\" here:\n",
        "  https://github.com/KaimingHe/resnet-1k-layers/blob/master/resnet-pre-act.lua\n",
        "\n",
        "  Except it puts the stride on 3x3 conv when available.\n",
        "  \"\"\"\n",
        "  def __init__(self, cin, cout=None, cmid=None, stride=1):\n",
        "    super().__init__()\n",
        "    cout = cout or cin\n",
        "    cmid = cmid or cout//4\n",
        "\n",
        "    self.gn1 = nn.GroupNorm(32, cin)\n",
        "    self.conv1 = conv1x1(cin, cmid)\n",
        "    self.gn2 = nn.GroupNorm(32, cmid)\n",
        "    self.conv2 = conv3x3(cmid, cmid, stride)  # Original ResNetv2 has it on conv1!!\n",
        "    self.gn3 = nn.GroupNorm(32, cmid)\n",
        "    self.conv3 = conv1x1(cmid, cout)\n",
        "    self.relu = nn.ReLU(inplace=True)\n",
        "\n",
        "    if (stride != 1 or cin != cout):\n",
        "      # Projection also with pre-activation according to paper.\n",
        "      self.downsample = conv1x1(cin, cout, stride)\n",
        "\n",
        "  def forward(self, x):\n",
        "      # Conv'ed branch\n",
        "      out = self.relu(self.gn1(x))\n",
        "\n",
        "      # Residual branch\n",
        "      residual = x\n",
        "      if hasattr(self, 'downsample'):\n",
        "          residual = self.downsample(out)\n",
        "\n",
        "      # The first block has already applied pre-act before splitting, see Appendix.\n",
        "      out = self.conv1(out)\n",
        "      out = self.conv2(self.relu(self.gn2(out)))\n",
        "      out = self.conv3(self.relu(self.gn3(out)))\n",
        "\n",
        "      return out + residual\n",
        "\n",
        "  def load_from(self, weights, prefix=''):\n",
        "    with torch.no_grad():\n",
        "      self.conv1.weight.copy_(tf2th(weights[prefix + 'a/standardized_conv2d/kernel']))\n",
        "      self.conv2.weight.copy_(tf2th(weights[prefix + 'b/standardized_conv2d/kernel']))\n",
        "      self.conv3.weight.copy_(tf2th(weights[prefix + 'c/standardized_conv2d/kernel']))\n",
        "      self.gn1.weight.copy_(tf2th(weights[prefix + 'a/group_norm/gamma']))\n",
        "      self.gn2.weight.copy_(tf2th(weights[prefix + 'b/group_norm/gamma']))\n",
        "      self.gn3.weight.copy_(tf2th(weights[prefix + 'c/group_norm/gamma']))\n",
        "      self.gn1.bias.copy_(tf2th(weights[prefix + 'a/group_norm/beta']))\n",
        "      self.gn2.bias.copy_(tf2th(weights[prefix + 'b/group_norm/beta']))\n",
        "      self.gn3.bias.copy_(tf2th(weights[prefix + 'c/group_norm/beta']))\n",
        "      if hasattr(self, 'downsample'):\n",
        "        self.downsample.weight.copy_(tf2th(weights[prefix + 'a/proj/standardized_conv2d/kernel']))\n",
        "    return self"
      ],
      "execution_count": null,
      "outputs": []
    },
    {
      "cell_type": "code",
      "metadata": {
        "id": "3OM6UGSVOsJa",
        "colab_type": "code",
        "colab": {}
      },
      "source": [
        ""
      ],
      "execution_count": null,
      "outputs": []
    },
    {
      "cell_type": "code",
      "metadata": {
        "id": "6fGKjfXm60pY",
        "colab_type": "code",
        "colab": {}
      },
      "source": [
        "class ResNetV2(nn.Module):\n",
        "  BLOCK_UNITS = {\n",
        "      'r50': [3, 4, 6, 3],\n",
        "      'r101': [3, 4, 23, 3],\n",
        "      'r152': [3, 8, 36, 3],\n",
        "  }\n",
        "\n",
        "  def __init__(self, block_units, width_factor, head_size=21843, zero_head=False):\n",
        "    super().__init__()\n",
        "    wf = width_factor  # shortcut 'cause we'll use it a lot.\n",
        "\n",
        "    self.root = nn.Sequential(OrderedDict([\n",
        "        ('conv', StdConv2d(3, 64*wf, kernel_size=7, stride=2, padding=3, bias=False)),\n",
        "        ('padp', nn.ConstantPad2d(1, 0)),\n",
        "        ('pool', nn.MaxPool2d(kernel_size=3, stride=2, padding=0)),\n",
        "        # The following is subtly not the same!\n",
        "        #('pool', nn.MaxPool2d(kernel_size=3, stride=2, padding=1)),\n",
        "    ]))\n",
        "\n",
        "    self.body = nn.Sequential(OrderedDict([\n",
        "        ('block1', nn.Sequential(OrderedDict(\n",
        "            [('unit01', PreActBottleneck(cin= 64*wf, cout=256*wf, cmid=64*wf))] +\n",
        "            [(f'unit{i:02d}', PreActBottleneck(cin=256*wf, cout=256*wf, cmid=64*wf)) for i in range(2, block_units[0] + 1)],\n",
        "        ))),\n",
        "        ('block2', nn.Sequential(OrderedDict(\n",
        "            [('unit01', PreActBottleneck(cin=256*wf, cout=512*wf, cmid=128*wf, stride=2))] +\n",
        "            [(f'unit{i:02d}', PreActBottleneck(cin=512*wf, cout=512*wf, cmid=128*wf)) for i in range(2, block_units[1] + 1)],\n",
        "        ))),\n",
        "        ('block3', nn.Sequential(OrderedDict(\n",
        "            [('unit01', PreActBottleneck(cin= 512*wf, cout=1024*wf, cmid=256*wf, stride=2))] +\n",
        "            [(f'unit{i:02d}', PreActBottleneck(cin=1024*wf, cout=1024*wf, cmid=256*wf)) for i in range(2, block_units[2] + 1)],\n",
        "        ))),\n",
        "        ('block4', nn.Sequential(OrderedDict(\n",
        "            [('unit01', PreActBottleneck(cin=1024*wf, cout=2048*wf, cmid=512*wf, stride=2))] +\n",
        "            [(f'unit{i:02d}', PreActBottleneck(cin=2048*wf, cout=2048*wf, cmid=512*wf)) for i in range(2, block_units[3] + 1)],\n",
        "        ))),\n",
        "    ]))\n",
        "\n",
        "    self.zero_head = zero_head\n",
        "    self.head = nn.Sequential(OrderedDict([\n",
        "        ('gn', nn.GroupNorm(32, 2048*wf)),\n",
        "        ('relu', nn.ReLU(inplace=True)),\n",
        "        ('avg', nn.AdaptiveAvgPool2d(output_size=1)),\n",
        "        ('conv', nn.Conv2d(2048*wf, head_size, kernel_size=1, bias=True)),\n",
        "    ]))\n",
        "  \n",
        "  def forward(self, x):\n",
        "    x = self.head(self.body(self.root(x)))\n",
        "    assert x.shape[-2:] == (1, 1)  # We should have no spatial shape left.\n",
        "    return x[...,0,0]\n",
        "\n",
        "  def load_from(self, weights, prefix='resnet/'):\n",
        "    with torch.no_grad():\n",
        "      self.root.conv.weight.copy_(tf2th(weights[f'{prefix}root_block/standardized_conv2d/kernel']))\n",
        "      self.head.gn.weight.copy_(tf2th(weights[f'{prefix}group_norm/gamma']))\n",
        "      self.head.gn.bias.copy_(tf2th(weights[f'{prefix}group_norm/beta']))\n",
        "      if self.zero_head:\n",
        "        nn.init.zeros_(self.head.conv.weight)\n",
        "        nn.init.zeros_(self.head.conv.bias)\n",
        "      else:\n",
        "        self.head.conv.weight.copy_(tf2th(weights[f'{prefix}head/conv2d/kernel']))\n",
        "        self.head.conv.bias.copy_(tf2th(weights[f'{prefix}head/conv2d/bias']))\n",
        "\n",
        "      for bname, block in self.body.named_children():\n",
        "        for uname, unit in block.named_children():\n",
        "          unit.load_from(weights, prefix=f'{prefix}{bname}/{uname}/')\n",
        "    return self"
      ],
      "execution_count": null,
      "outputs": []
    },
    {
      "cell_type": "code",
      "metadata": {
        "id": "CM71lKghO3sH",
        "colab_type": "code",
        "colab": {}
      },
      "source": [
        "weights_cifar10 = get_weights('BiT-M-R50x1-CIFAR10')"
      ],
      "execution_count": null,
      "outputs": []
    },
    {
      "cell_type": "code",
      "metadata": {
        "id": "2XifkvrdPLKj",
        "colab_type": "code",
        "colab": {}
      },
      "source": [
        "device = torch.device(\"cuda:0\" if torch.cuda.is_available() else \"cpu\")"
      ],
      "execution_count": null,
      "outputs": []
    },
    {
      "cell_type": "code",
      "metadata": {
        "id": "shkInBPZPDaa",
        "colab_type": "code",
        "colab": {
          "base_uri": "https://localhost:8080/",
          "height": 1000
        },
        "outputId": "03f65132-3e49-4f1a-8f7d-ae94121dd960"
      },
      "source": [
        "model = ResNetV2(ResNetV2.BLOCK_UNITS['r50'], width_factor=1, head_size=10)  # NOTE: No new head.\n",
        "model.load_from(weights_cifar10)\n",
        "model.to(device)"
      ],
      "execution_count": null,
      "outputs": [
        {
          "output_type": "execute_result",
          "data": {
            "text/plain": [
              "ResNetV2(\n",
              "  (root): Sequential(\n",
              "    (conv): StdConv2d(3, 64, kernel_size=(7, 7), stride=(2, 2), padding=(3, 3), bias=False)\n",
              "    (padp): ConstantPad2d(padding=(1, 1, 1, 1), value=0)\n",
              "    (pool): MaxPool2d(kernel_size=3, stride=2, padding=0, dilation=1, ceil_mode=False)\n",
              "  )\n",
              "  (body): Sequential(\n",
              "    (block1): Sequential(\n",
              "      (unit01): PreActBottleneck(\n",
              "        (gn1): GroupNorm(32, 64, eps=1e-05, affine=True)\n",
              "        (conv1): StdConv2d(64, 64, kernel_size=(1, 1), stride=(1, 1), bias=False)\n",
              "        (gn2): GroupNorm(32, 64, eps=1e-05, affine=True)\n",
              "        (conv2): StdConv2d(64, 64, kernel_size=(3, 3), stride=(1, 1), padding=(1, 1), bias=False)\n",
              "        (gn3): GroupNorm(32, 64, eps=1e-05, affine=True)\n",
              "        (conv3): StdConv2d(64, 256, kernel_size=(1, 1), stride=(1, 1), bias=False)\n",
              "        (relu): ReLU(inplace=True)\n",
              "        (downsample): StdConv2d(64, 256, kernel_size=(1, 1), stride=(1, 1), bias=False)\n",
              "      )\n",
              "      (unit02): PreActBottleneck(\n",
              "        (gn1): GroupNorm(32, 256, eps=1e-05, affine=True)\n",
              "        (conv1): StdConv2d(256, 64, kernel_size=(1, 1), stride=(1, 1), bias=False)\n",
              "        (gn2): GroupNorm(32, 64, eps=1e-05, affine=True)\n",
              "        (conv2): StdConv2d(64, 64, kernel_size=(3, 3), stride=(1, 1), padding=(1, 1), bias=False)\n",
              "        (gn3): GroupNorm(32, 64, eps=1e-05, affine=True)\n",
              "        (conv3): StdConv2d(64, 256, kernel_size=(1, 1), stride=(1, 1), bias=False)\n",
              "        (relu): ReLU(inplace=True)\n",
              "      )\n",
              "      (unit03): PreActBottleneck(\n",
              "        (gn1): GroupNorm(32, 256, eps=1e-05, affine=True)\n",
              "        (conv1): StdConv2d(256, 64, kernel_size=(1, 1), stride=(1, 1), bias=False)\n",
              "        (gn2): GroupNorm(32, 64, eps=1e-05, affine=True)\n",
              "        (conv2): StdConv2d(64, 64, kernel_size=(3, 3), stride=(1, 1), padding=(1, 1), bias=False)\n",
              "        (gn3): GroupNorm(32, 64, eps=1e-05, affine=True)\n",
              "        (conv3): StdConv2d(64, 256, kernel_size=(1, 1), stride=(1, 1), bias=False)\n",
              "        (relu): ReLU(inplace=True)\n",
              "      )\n",
              "    )\n",
              "    (block2): Sequential(\n",
              "      (unit01): PreActBottleneck(\n",
              "        (gn1): GroupNorm(32, 256, eps=1e-05, affine=True)\n",
              "        (conv1): StdConv2d(256, 128, kernel_size=(1, 1), stride=(1, 1), bias=False)\n",
              "        (gn2): GroupNorm(32, 128, eps=1e-05, affine=True)\n",
              "        (conv2): StdConv2d(128, 128, kernel_size=(3, 3), stride=(2, 2), padding=(1, 1), bias=False)\n",
              "        (gn3): GroupNorm(32, 128, eps=1e-05, affine=True)\n",
              "        (conv3): StdConv2d(128, 512, kernel_size=(1, 1), stride=(1, 1), bias=False)\n",
              "        (relu): ReLU(inplace=True)\n",
              "        (downsample): StdConv2d(256, 512, kernel_size=(1, 1), stride=(2, 2), bias=False)\n",
              "      )\n",
              "      (unit02): PreActBottleneck(\n",
              "        (gn1): GroupNorm(32, 512, eps=1e-05, affine=True)\n",
              "        (conv1): StdConv2d(512, 128, kernel_size=(1, 1), stride=(1, 1), bias=False)\n",
              "        (gn2): GroupNorm(32, 128, eps=1e-05, affine=True)\n",
              "        (conv2): StdConv2d(128, 128, kernel_size=(3, 3), stride=(1, 1), padding=(1, 1), bias=False)\n",
              "        (gn3): GroupNorm(32, 128, eps=1e-05, affine=True)\n",
              "        (conv3): StdConv2d(128, 512, kernel_size=(1, 1), stride=(1, 1), bias=False)\n",
              "        (relu): ReLU(inplace=True)\n",
              "      )\n",
              "      (unit03): PreActBottleneck(\n",
              "        (gn1): GroupNorm(32, 512, eps=1e-05, affine=True)\n",
              "        (conv1): StdConv2d(512, 128, kernel_size=(1, 1), stride=(1, 1), bias=False)\n",
              "        (gn2): GroupNorm(32, 128, eps=1e-05, affine=True)\n",
              "        (conv2): StdConv2d(128, 128, kernel_size=(3, 3), stride=(1, 1), padding=(1, 1), bias=False)\n",
              "        (gn3): GroupNorm(32, 128, eps=1e-05, affine=True)\n",
              "        (conv3): StdConv2d(128, 512, kernel_size=(1, 1), stride=(1, 1), bias=False)\n",
              "        (relu): ReLU(inplace=True)\n",
              "      )\n",
              "      (unit04): PreActBottleneck(\n",
              "        (gn1): GroupNorm(32, 512, eps=1e-05, affine=True)\n",
              "        (conv1): StdConv2d(512, 128, kernel_size=(1, 1), stride=(1, 1), bias=False)\n",
              "        (gn2): GroupNorm(32, 128, eps=1e-05, affine=True)\n",
              "        (conv2): StdConv2d(128, 128, kernel_size=(3, 3), stride=(1, 1), padding=(1, 1), bias=False)\n",
              "        (gn3): GroupNorm(32, 128, eps=1e-05, affine=True)\n",
              "        (conv3): StdConv2d(128, 512, kernel_size=(1, 1), stride=(1, 1), bias=False)\n",
              "        (relu): ReLU(inplace=True)\n",
              "      )\n",
              "    )\n",
              "    (block3): Sequential(\n",
              "      (unit01): PreActBottleneck(\n",
              "        (gn1): GroupNorm(32, 512, eps=1e-05, affine=True)\n",
              "        (conv1): StdConv2d(512, 256, kernel_size=(1, 1), stride=(1, 1), bias=False)\n",
              "        (gn2): GroupNorm(32, 256, eps=1e-05, affine=True)\n",
              "        (conv2): StdConv2d(256, 256, kernel_size=(3, 3), stride=(2, 2), padding=(1, 1), bias=False)\n",
              "        (gn3): GroupNorm(32, 256, eps=1e-05, affine=True)\n",
              "        (conv3): StdConv2d(256, 1024, kernel_size=(1, 1), stride=(1, 1), bias=False)\n",
              "        (relu): ReLU(inplace=True)\n",
              "        (downsample): StdConv2d(512, 1024, kernel_size=(1, 1), stride=(2, 2), bias=False)\n",
              "      )\n",
              "      (unit02): PreActBottleneck(\n",
              "        (gn1): GroupNorm(32, 1024, eps=1e-05, affine=True)\n",
              "        (conv1): StdConv2d(1024, 256, kernel_size=(1, 1), stride=(1, 1), bias=False)\n",
              "        (gn2): GroupNorm(32, 256, eps=1e-05, affine=True)\n",
              "        (conv2): StdConv2d(256, 256, kernel_size=(3, 3), stride=(1, 1), padding=(1, 1), bias=False)\n",
              "        (gn3): GroupNorm(32, 256, eps=1e-05, affine=True)\n",
              "        (conv3): StdConv2d(256, 1024, kernel_size=(1, 1), stride=(1, 1), bias=False)\n",
              "        (relu): ReLU(inplace=True)\n",
              "      )\n",
              "      (unit03): PreActBottleneck(\n",
              "        (gn1): GroupNorm(32, 1024, eps=1e-05, affine=True)\n",
              "        (conv1): StdConv2d(1024, 256, kernel_size=(1, 1), stride=(1, 1), bias=False)\n",
              "        (gn2): GroupNorm(32, 256, eps=1e-05, affine=True)\n",
              "        (conv2): StdConv2d(256, 256, kernel_size=(3, 3), stride=(1, 1), padding=(1, 1), bias=False)\n",
              "        (gn3): GroupNorm(32, 256, eps=1e-05, affine=True)\n",
              "        (conv3): StdConv2d(256, 1024, kernel_size=(1, 1), stride=(1, 1), bias=False)\n",
              "        (relu): ReLU(inplace=True)\n",
              "      )\n",
              "      (unit04): PreActBottleneck(\n",
              "        (gn1): GroupNorm(32, 1024, eps=1e-05, affine=True)\n",
              "        (conv1): StdConv2d(1024, 256, kernel_size=(1, 1), stride=(1, 1), bias=False)\n",
              "        (gn2): GroupNorm(32, 256, eps=1e-05, affine=True)\n",
              "        (conv2): StdConv2d(256, 256, kernel_size=(3, 3), stride=(1, 1), padding=(1, 1), bias=False)\n",
              "        (gn3): GroupNorm(32, 256, eps=1e-05, affine=True)\n",
              "        (conv3): StdConv2d(256, 1024, kernel_size=(1, 1), stride=(1, 1), bias=False)\n",
              "        (relu): ReLU(inplace=True)\n",
              "      )\n",
              "      (unit05): PreActBottleneck(\n",
              "        (gn1): GroupNorm(32, 1024, eps=1e-05, affine=True)\n",
              "        (conv1): StdConv2d(1024, 256, kernel_size=(1, 1), stride=(1, 1), bias=False)\n",
              "        (gn2): GroupNorm(32, 256, eps=1e-05, affine=True)\n",
              "        (conv2): StdConv2d(256, 256, kernel_size=(3, 3), stride=(1, 1), padding=(1, 1), bias=False)\n",
              "        (gn3): GroupNorm(32, 256, eps=1e-05, affine=True)\n",
              "        (conv3): StdConv2d(256, 1024, kernel_size=(1, 1), stride=(1, 1), bias=False)\n",
              "        (relu): ReLU(inplace=True)\n",
              "      )\n",
              "      (unit06): PreActBottleneck(\n",
              "        (gn1): GroupNorm(32, 1024, eps=1e-05, affine=True)\n",
              "        (conv1): StdConv2d(1024, 256, kernel_size=(1, 1), stride=(1, 1), bias=False)\n",
              "        (gn2): GroupNorm(32, 256, eps=1e-05, affine=True)\n",
              "        (conv2): StdConv2d(256, 256, kernel_size=(3, 3), stride=(1, 1), padding=(1, 1), bias=False)\n",
              "        (gn3): GroupNorm(32, 256, eps=1e-05, affine=True)\n",
              "        (conv3): StdConv2d(256, 1024, kernel_size=(1, 1), stride=(1, 1), bias=False)\n",
              "        (relu): ReLU(inplace=True)\n",
              "      )\n",
              "    )\n",
              "    (block4): Sequential(\n",
              "      (unit01): PreActBottleneck(\n",
              "        (gn1): GroupNorm(32, 1024, eps=1e-05, affine=True)\n",
              "        (conv1): StdConv2d(1024, 512, kernel_size=(1, 1), stride=(1, 1), bias=False)\n",
              "        (gn2): GroupNorm(32, 512, eps=1e-05, affine=True)\n",
              "        (conv2): StdConv2d(512, 512, kernel_size=(3, 3), stride=(2, 2), padding=(1, 1), bias=False)\n",
              "        (gn3): GroupNorm(32, 512, eps=1e-05, affine=True)\n",
              "        (conv3): StdConv2d(512, 2048, kernel_size=(1, 1), stride=(1, 1), bias=False)\n",
              "        (relu): ReLU(inplace=True)\n",
              "        (downsample): StdConv2d(1024, 2048, kernel_size=(1, 1), stride=(2, 2), bias=False)\n",
              "      )\n",
              "      (unit02): PreActBottleneck(\n",
              "        (gn1): GroupNorm(32, 2048, eps=1e-05, affine=True)\n",
              "        (conv1): StdConv2d(2048, 512, kernel_size=(1, 1), stride=(1, 1), bias=False)\n",
              "        (gn2): GroupNorm(32, 512, eps=1e-05, affine=True)\n",
              "        (conv2): StdConv2d(512, 512, kernel_size=(3, 3), stride=(1, 1), padding=(1, 1), bias=False)\n",
              "        (gn3): GroupNorm(32, 512, eps=1e-05, affine=True)\n",
              "        (conv3): StdConv2d(512, 2048, kernel_size=(1, 1), stride=(1, 1), bias=False)\n",
              "        (relu): ReLU(inplace=True)\n",
              "      )\n",
              "      (unit03): PreActBottleneck(\n",
              "        (gn1): GroupNorm(32, 2048, eps=1e-05, affine=True)\n",
              "        (conv1): StdConv2d(2048, 512, kernel_size=(1, 1), stride=(1, 1), bias=False)\n",
              "        (gn2): GroupNorm(32, 512, eps=1e-05, affine=True)\n",
              "        (conv2): StdConv2d(512, 512, kernel_size=(3, 3), stride=(1, 1), padding=(1, 1), bias=False)\n",
              "        (gn3): GroupNorm(32, 512, eps=1e-05, affine=True)\n",
              "        (conv3): StdConv2d(512, 2048, kernel_size=(1, 1), stride=(1, 1), bias=False)\n",
              "        (relu): ReLU(inplace=True)\n",
              "      )\n",
              "    )\n",
              "  )\n",
              "  (head): Sequential(\n",
              "    (gn): GroupNorm(32, 2048, eps=1e-05, affine=True)\n",
              "    (relu): ReLU(inplace=True)\n",
              "    (avg): AdaptiveAvgPool2d(output_size=1)\n",
              "    (conv): Conv2d(2048, 10, kernel_size=(1, 1), stride=(1, 1))\n",
              "  )\n",
              ")"
            ]
          },
          "metadata": {
            "tags": []
          },
          "execution_count": 19
        }
      ]
    },
    {
      "cell_type": "markdown",
      "metadata": {
        "id": "YoQJybzHPgiU",
        "colab_type": "text"
      },
      "source": [
        "# We are going to predict the result with the Resnet50 with pre-trained weights"
      ]
    },
    {
      "cell_type": "code",
      "metadata": {
        "id": "RGBiA0vkwaOw",
        "colab_type": "code",
        "colab": {}
      },
      "source": [
        "import pandas as pd\n",
        "test_data = pd.read_csv(\"https://raw.githubusercontent.com/dphi-official/Datasets/master/cifar_image_flattened_pixels.csv\")"
      ],
      "execution_count": null,
      "outputs": []
    },
    {
      "cell_type": "code",
      "metadata": {
        "id": "ooCGYjUPP03a",
        "colab_type": "code",
        "colab": {}
      },
      "source": [
        "x_test=np.reshape(x_test,(-1,32,32,3))"
      ],
      "execution_count": null,
      "outputs": []
    },
    {
      "cell_type": "code",
      "metadata": {
        "id": "t70EbzZXP4O4",
        "colab_type": "code",
        "colab": {}
      },
      "source": [
        "preprocess_eval = tv.transforms.Compose([\n",
        "    tv.transforms.Resize((128, 128), interpolation=PIL.Image.BILINEAR),\n",
        "    tv.transforms.ToTensor(),\n",
        "    tv.transforms.Normalize((0.5, 0.5, 0.5), (0.5, 0.5, 0.5))\n",
        "])"
      ],
      "execution_count": null,
      "outputs": []
    },
    {
      "cell_type": "code",
      "metadata": {
        "id": "Ysx-QlXqP-_j",
        "colab_type": "code",
        "colab": {}
      },
      "source": [
        "def reshape_image(img):\n",
        "  x_new=torch.zeros([img.shape[0],3,128,128])\n",
        "  for val in range(img.shape[0]):\n",
        "    temp=PIL.Image.fromarray(img[val,:,:,:],'RGB')\n",
        "    value=preprocess_eval(temp)\n",
        "    x_new[val,:,:,:]=value\n",
        "  return x_new"
      ],
      "execution_count": null,
      "outputs": []
    },
    {
      "cell_type": "code",
      "metadata": {
        "id": "0YXW-8O-QUry",
        "colab_type": "code",
        "colab": {}
      },
      "source": [
        "x_new=reshape_image(x_test)"
      ],
      "execution_count": null,
      "outputs": []
    },
    {
      "cell_type": "code",
      "metadata": {
        "id": "nRxhrzL2QaWU",
        "colab_type": "code",
        "colab": {
          "base_uri": "https://localhost:8080/",
          "height": 34
        },
        "outputId": "12bfd8f3-d633-4506-9c74-7cef72b8d14d"
      },
      "source": [
        "x_new.shape"
      ],
      "execution_count": null,
      "outputs": [
        {
          "output_type": "execute_result",
          "data": {
            "text/plain": [
              "torch.Size([2000, 3, 128, 128])"
            ]
          },
          "metadata": {
            "tags": []
          },
          "execution_count": 30
        }
      ]
    },
    {
      "cell_type": "code",
      "metadata": {
        "id": "KKK2Feg5QoIl",
        "colab_type": "code",
        "colab": {}
      },
      "source": [
        "loader_test = torch.utils.data.DataLoader(x_new, batch_size=100, shuffle=False, num_workers=2)\n",
        "model.eval()\n",
        "preds = np.zeros((1,2000))\n",
        "with torch.no_grad():\n",
        "  for i, x in enumerate(loader_test):\n",
        "      x= x.to(device)\n",
        "      logits = model(x)\n",
        "      _, y = torch.max(logits.data, 1)\n",
        "      preds[0,i*100:(i*100)+100]=y.cpu()"
      ],
      "execution_count": null,
      "outputs": []
    },
    {
      "cell_type": "code",
      "metadata": {
        "id": "f3uqYLQARXSe",
        "colab_type": "code",
        "colab": {}
      },
      "source": [
        "from google.colab import drive\n",
        "drive.mount('/content/drive')"
      ],
      "execution_count": null,
      "outputs": []
    },
    {
      "cell_type": "code",
      "metadata": {
        "id": "elNbRdxEQsgF",
        "colab_type": "code",
        "colab": {}
      },
      "source": [
        "folder_path='/content/drive/My Drive/cifar10/'"
      ],
      "execution_count": null,
      "outputs": []
    },
    {
      "cell_type": "code",
      "metadata": {
        "id": "1oCqLGze9KfC",
        "colab_type": "code",
        "colab": {}
      },
      "source": [
        "res = pd.DataFrame(preds[0][:]) #preditcions are nothing but the final predictions of your model on input features of your new unseen test data\n",
        "res.index = test_data.index # its important for comparison. Here \"test_new\" is your new test dataset\n",
        "res.columns = [\"prediction\"]\n",
        "res.to_csv(folder_path+\"prediction_results.csv\")      # the csv file will be saved locally on the same location where this notebook is located."
      ],
      "execution_count": null,
      "outputs": []
    },
    {
      "cell_type": "markdown",
      "metadata": {
        "id": "exG-5JUfS6fc",
        "colab_type": "text"
      },
      "source": [
        "# The model achieves 97.6 test accuracy when checked "
      ]
    },
    {
      "cell_type": "markdown",
      "metadata": {
        "id": "etmc_rozAtMT",
        "colab_type": "text"
      },
      "source": [
        "# Future directions"
      ]
    },
    {
      "cell_type": "markdown",
      "metadata": {
        "id": "xnoVNJL2AwpN",
        "colab_type": "text"
      },
      "source": [
        "We can fine-tune the BITS model, add more layers for the first model proposed, train for more epochs in case of first model proposed "
      ]
    },
    {
      "cell_type": "markdown",
      "metadata": {
        "id": "C_14bRwIBH6-",
        "colab_type": "text"
      },
      "source": [
        "The implementation of BITS in tensorflow 2.0 will be uploaded soon in my github link once I complete the work\n",
        "https://github.com/VenkateshSatagopan/"
      ]
    },
    {
      "cell_type": "code",
      "metadata": {
        "id": "vCzofZtmRU9S",
        "colab_type": "code",
        "colab": {}
      },
      "source": [
        ""
      ],
      "execution_count": null,
      "outputs": []
    },
    {
      "cell_type": "code",
      "metadata": {
        "id": "XPJRDo_sRYhj",
        "colab_type": "code",
        "colab": {}
      },
      "source": [
        ""
      ],
      "execution_count": null,
      "outputs": []
    }
  ]
}