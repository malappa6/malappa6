{
 "cells": [
  {
   "cell_type": "markdown",
   "metadata": {
    "colab_type": "text",
    "id": "view-in-github"
   },
   "source": [
    "<a href=\"https://colab.research.google.com/github/dphi-official/Deep_Learning_Bootcamp/blob/master/Assignment2_Help_Notebook.ipynb\" target=\"_parent\"><img src=\"https://colab.research.google.com/assets/colab-badge.svg\" alt=\"Open In Colab\"/></a>"
   ]
  },
  {
   "cell_type": "markdown",
   "metadata": {
    "colab_type": "text",
    "id": "Rhf2cmzDz1Fp"
   },
   "source": [
    "## **Learning Objectives**"
   ]
  },
  {
   "cell_type": "markdown",
   "metadata": {
    "colab_type": "text",
    "id": "SJU-aKuIz-t0"
   },
   "source": [
    "\n",
    "\n",
    "\n",
    "\n",
    "*   Ways to fetch image data\n",
    "*   Ways to load image data\n",
    "\n",
    "\n"
   ]
  },
  {
   "cell_type": "markdown",
   "metadata": {
    "colab_type": "text",
    "id": "oJ4zZpfJO9lc"
   },
   "source": [
    "## **Fetching Image Data**"
   ]
  },
  {
   "cell_type": "markdown",
   "metadata": {
    "colab_type": "text",
    "id": "p6aYQST9lva8"
   },
   "source": [
    "We can fetch data in one of the following ways:\n",
    "\n",
    "1.   Download from shared google drive link\n",
    "2.   Accessing data from our own google drive\n",
    "3.   If the dataset is loaded on Kaggle, we can access it through Kaggle APIs (ignore this step if you are not familiar with kaggle, you can save it to your bucketlist for later)\n",
    "\n"
   ]
  },
  {
   "cell_type": "markdown",
   "metadata": {
    "colab_type": "text",
    "id": "8Shkh7s4mc7s"
   },
   "source": [
    "### 1. Download from shared google drive link"
   ]
  },
  {
   "cell_type": "markdown",
   "metadata": {
    "colab_type": "text",
    "id": "9qAJvh9JPRYP"
   },
   "source": [
    "1. Download from shared google drive link <br>\n",
    "Ex: https://drive.google.com/file/d/176E-pLhoxTgWsJ3MeoJQV_GXczIA6g8D/view?usp=sharing <br>\n",
    "Copy file id from the link : 176E-pLhoxTgWsJ3MeoJQV_GXczIA6g8D"
   ]
  },
  {
   "cell_type": "code",
   "execution_count": null,
   "metadata": {
    "colab": {
     "base_uri": "https://localhost:8080/",
     "height": 54
    },
    "colab_type": "code",
    "id": "Ba5BziJKP6LB",
    "outputId": "17d4dfa0-6d82-49b4-a276-8dcda6838f8b"
   },
   "outputs": [
    {
     "name": "stdout",
     "output_type": "stream",
     "text": [
      "Downloading 176E-pLhoxTgWsJ3MeoJQV_GXczIA6g8D into /content/animals.zip... Done.\n",
      "Unzipping...Done.\n"
     ]
    }
   ],
   "source": [
    "from google_drive_downloader import GoogleDriveDownloader as gdd\n",
    "\n",
    "gdd.download_file_from_google_drive(file_id='176E-pLhoxTgWsJ3MeoJQV_GXczIA6g8D',\n",
    "                                    dest_path='/content/animals.zip',\n",
    "                                    unzip=True)"
   ]
  },
  {
   "cell_type": "markdown",
   "metadata": {
    "colab_type": "text",
    "id": "qj_gmOAaQyf9"
   },
   "source": [
    "### 2. Accessing data from our own google drive"
   ]
  },
  {
   "cell_type": "code",
   "execution_count": null,
   "metadata": {
    "colab": {},
    "colab_type": "code",
    "id": "xizGj2EgQk8i"
   },
   "outputs": [],
   "source": [
    "#mounts the google drive\n",
    "from google.colab import drive\n",
    "drive.mount(\"/content/drive\")"
   ]
  },
  {
   "cell_type": "code",
   "execution_count": null,
   "metadata": {
    "colab": {},
    "colab_type": "code",
    "id": "W5jV6g9BPEEd"
   },
   "outputs": [],
   "source": [
    "#copy the data from drive to colab. Copying a saved model from gdrive to colab.\n",
    "!mkdir 'models1/'\n",
    "!cp '/content/drive/My Drive/PneumoniaClassifier_final_22Mar.pt' '/models1/'"
   ]
  },
  {
   "cell_type": "markdown",
   "metadata": {
    "colab_type": "text",
    "id": "56OUOUQQSlM5"
   },
   "source": [
    "### 3. Access data from kaggle using kaggle API <br>\n",
    "\n",
    "Click on top right profile icon in your kaggle account and go to My Acccount. <br>\n",
    "Scroll down until you see api details\n",
    "![image.png](data:image/png;base64,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) <br>\n",
    "\n",
    "Click on Create New API Token and save the generated kaggle.json in drive."
   ]
  },
  {
   "cell_type": "code",
   "execution_count": null,
   "metadata": {
    "colab": {},
    "colab_type": "code",
    "id": "czD_1h-GSqbd"
   },
   "outputs": [],
   "source": [
    "!pip install kaggle\n",
    "import json\n",
    "!mkdir .kaggle\n",
    "\n",
    "#Enter your kaggle username and api token\n",
    "!cp '/content/drive/My Drive/kaggle.json' ~/.kaggle/kaggle.json\n",
    "!kaggle config set -n path -v{/content}\n",
    "!chmod 600 /root/.kaggle/kaggle.json"
   ]
  },
  {
   "cell_type": "code",
   "execution_count": null,
   "metadata": {
    "colab": {},
    "colab_type": "code",
    "id": "Dz-lx52JTJoi"
   },
   "outputs": [],
   "source": [
    "!kaggle datasets list -s 'cats'"
   ]
  },
  {
   "cell_type": "code",
   "execution_count": null,
   "metadata": {
    "colab": {
     "base_uri": "https://localhost:8080/",
     "height": 72
    },
    "colab_type": "code",
    "id": "Ht2V83WMTPxC",
    "outputId": "8372b0dd-8ae2-4e9e-9fc9-5e98f24c8c57"
   },
   "outputs": [
    {
     "name": "stdout",
     "output_type": "stream",
     "text": [
      "Downloading dogs-cats-images.zip to /content\n",
      " 98% 427M/435M [00:12<00:00, 53.6MB/s]\n",
      "100% 435M/435M [00:12<00:00, 37.7MB/s]\n"
     ]
    }
   ],
   "source": [
    "!kaggle datasets download -d chetankv/dogs-cats-images -p /content --force"
   ]
  },
  {
   "cell_type": "code",
   "execution_count": null,
   "metadata": {
    "colab": {},
    "colab_type": "code",
    "id": "KwEhwt5fT7Kh"
   },
   "outputs": [],
   "source": [
    "!unzip dogs-cats-images.zip"
   ]
  },
  {
   "cell_type": "markdown",
   "metadata": {
    "colab_type": "text",
    "id": "44LXuUJAUqa3"
   },
   "source": [
    "## Loading & Pre-processing image data"
   ]
  },
  {
   "cell_type": "markdown",
   "metadata": {
    "colab_type": "text",
    "id": "gUKSO52Wmxwj"
   },
   "source": [
    "Loading and pre-processing an image dataset can be done in one of the following ways:\n",
    "\n",
    "\n",
    "\n",
    "1.   Without any help from tensorflow/keras (using CV)\n",
    "2.   Using: tf.keras.preprocessing.image_dataset_from_directory\n",
    "3.   Using ImageData generators to load data\n",
    "\n",
    "#### What & Why Data Augmentation\n",
    "\n",
    "Pre-processing steps involve Data Augmentation which is nothing but cropping, re-sizing image, flipping an image horizontal/vertically, zooming etc.\n",
    "\n",
    "Through Data Augmentation, you can create synthentic data i.e different versions of same image (Eg: zoomed picture, horizontally flipped image etc) and train a neural network. This indirectly provides more data to neural networks allowing them to learn and perform better.\n",
    "\n",
    "Refer this meme: https://www.instagram.com/p/CErANi_HjVb/\n",
    "\n"
   ]
  },
  {
   "cell_type": "markdown",
   "metadata": {
    "colab_type": "text",
    "id": "RNwm6VHTUzkH"
   },
   "source": [
    "### Method 1: Without any help from tensorflow/keras (Using CV)"
   ]
  },
  {
   "cell_type": "code",
   "execution_count": null,
   "metadata": {
    "colab": {},
    "colab_type": "code",
    "id": "7551mavoUd_f"
   },
   "outputs": [],
   "source": [
    "#importing necessary libraries\n",
    "import glob\n",
    "import cv2\n",
    "import numpy as np\n",
    "import matplotlib.pyplot as plt\n",
    "class_names = ['cats','dogs']\n",
    "IMG_SIZE = 224"
   ]
  },
  {
   "cell_type": "code",
   "execution_count": null,
   "metadata": {
    "colab": {},
    "colab_type": "code",
    "id": "TYo_gN7BVZ6E"
   },
   "outputs": [],
   "source": [
    "#read the data from a directory\n",
    "def get_data_from_folder(path):\n",
    "  data = []\n",
    "  for class_name in class_names: # iterate through classes\n",
    "    try:\n",
    "      files = glob.glob(path+\"/\"+class_name+\"/*\") # get files in each folder(class)\n",
    "      for f in files:\n",
    "        img = cv2.imread(f) #read the image\n",
    "        img = cv2.resize(img,(IMG_SIZE,IMG_SIZE)) #resize the image\n",
    "        data.append([np.array(img),class_names.index(class_name)]) #Append images and corresponding labels to data\n",
    "    except:\n",
    "      pass\n",
    "  np.random.shuffle(data)\n",
    "  return data"
   ]
  },
  {
   "cell_type": "code",
   "execution_count": null,
   "metadata": {
    "colab": {},
    "colab_type": "code",
    "id": "Bnt0CK_GY5Tb"
   },
   "outputs": [],
   "source": [
    "training_data = get_data_from_folder('dataset/training_set')\n",
    "testing_data = get_data_from_folder('dataset/testing_set')"
   ]
  },
  {
   "cell_type": "markdown",
   "metadata": {
    "colab_type": "text",
    "id": "DGRyXdtoa1u3"
   },
   "source": [
    "### Method 2: **Using**: tf.keras.preprocessing.**image_dataset_from_directory**"
   ]
  },
  {
   "cell_type": "code",
   "execution_count": null,
   "metadata": {
    "colab": {
     "base_uri": "https://localhost:8080/",
     "height": 90
    },
    "colab_type": "code",
    "id": "W8ZCUrVDZ8Nw",
    "outputId": "f68d8dc6-3447-43d5-f94d-e57d2b02e657"
   },
   "outputs": [
    {
     "name": "stdout",
     "output_type": "stream",
     "text": [
      "Found 8000 files belonging to 2 classes.\n",
      "Using 6400 files for training.\n",
      "Found 8000 files belonging to 2 classes.\n",
      "Using 1600 files for validation.\n"
     ]
    }
   ],
   "source": [
    "import tensorflow as tf\n",
    "from tensorflow.keras.preprocessing import image_dataset_from_directory\n",
    "\n",
    "image_size = (224, 224)\n",
    "batch_size = 32\n",
    "\n",
    "train_ds = image_dataset_from_directory(\n",
    "    \"dataset/training_set\",\n",
    "    labels = \"inferred\",\n",
    "    label_mode = 'int',\n",
    "    validation_split=0.2,\n",
    "    subset=\"training\",\n",
    "    seed=1337,\n",
    "    image_size=image_size,\n",
    "    batch_size=batch_size,\n",
    ")\n",
    "val_ds =image_dataset_from_directory(\n",
    "    \"dataset/training_set\",\n",
    "    labels = \"inferred\",\n",
    "    label_mode = 'int',\n",
    "    validation_split=0.2,\n",
    "    subset=\"validation\",\n",
    "    seed=1337,\n",
    "    image_size=image_size,\n",
    "    batch_size=batch_size,\n",
    ")"
   ]
  },
  {
   "cell_type": "code",
   "execution_count": null,
   "metadata": {
    "colab": {
     "base_uri": "https://localhost:8080/",
     "height": 35
    },
    "colab_type": "code",
    "id": "uUjwcz_-be1O",
    "outputId": "1189b409-bbd8-4d7b-8b30-fde01e4587db"
   },
   "outputs": [
    {
     "name": "stdout",
     "output_type": "stream",
     "text": [
      "Found 2000 files belonging to 2 classes.\n"
     ]
    }
   ],
   "source": [
    "test_ds = image_dataset_from_directory(\n",
    "    \"dataset/test_set\",\n",
    "    labels = \"inferred\",\n",
    "    label_mode = 'int',\n",
    "    seed=1337,\n",
    "    image_size=image_size,\n",
    "    batch_size=batch_size,\n",
    ")"
   ]
  },
  {
   "cell_type": "code",
   "execution_count": null,
   "metadata": {
    "colab": {},
    "colab_type": "code",
    "id": "-SQySWUhcvwl"
   },
   "outputs": [],
   "source": [
    "#visualizing the data\n",
    "import matplotlib.pyplot as plt\n",
    "plt.figure(figsize=(10, 10))\n",
    "for images, labels in train_ds.take(1):\n",
    "    for i in range(9):\n",
    "        ax = plt.subplot(3, 3, i + 1)\n",
    "        plt.imshow(images[i].numpy().astype(\"uint8\"))\n",
    "        plt.title(int(labels[i]))\n",
    "        plt.axis(\"off\")"
   ]
  },
  {
   "cell_type": "code",
   "execution_count": null,
   "metadata": {
    "colab": {},
    "colab_type": "code",
    "id": "XrxSpQTKeQw8"
   },
   "outputs": [],
   "source": [
    "#Augmenting the images\n",
    "data_augmentation = tf.keras.Sequential(\n",
    "    [\n",
    "        tf.keras.layers.experimental.preprocessing.RandomFlip(\"horizontal\"),\n",
    "        tf.keras.layers.experimental.preprocessing.RandomRotation(0.1),\n",
    "        tf.keras.layers.experimental.preprocessing.RandomZoom(0.2)\n",
    "    ]\n",
    ")\n",
    "\n",
    "plt.figure(figsize=(10, 10))\n",
    "for images, _ in train_ds.take(2):\n",
    "    for i in range(9):\n",
    "        augmented_images = data_augmentation(images)\n",
    "        ax = plt.subplot(3, 3, i + 1)\n",
    "        plt.imshow(augmented_images[0].numpy().astype(\"uint8\"))\n",
    "        plt.axis(\"off\")"
   ]
  },
  {
   "cell_type": "markdown",
   "metadata": {
    "colab_type": "text",
    "id": "V9tFuQGrhlij"
   },
   "source": [
    "**Augment the training dataset** <br>\n",
    "Method1: Make it part of the model"
   ]
  },
  {
   "cell_type": "code",
   "execution_count": null,
   "metadata": {
    "colab": {},
    "colab_type": "code",
    "id": "yQzN-AAGhpcj"
   },
   "outputs": [],
   "source": [
    "# Method 1.1: Functional way of building a model\n",
    "inputs = tf.keras.Input(shape=input_shape)\n",
    "x = data_augmentation(inputs)\n",
    "x = tf.keras.layers.experimental.preprocessing.Rescaling(1./255)(x)\n",
    "x = tf.keras.layers.Dense(1024,activation='relu')(x)\n",
    "x = tf.keras.layers.Dropout(0.2)(x)\n",
    "outputs = tf.keras.layers.Dense(2,activation='softmax')(x)\n",
    "\n",
    "model = tf.keras.Model(inputs, outputs)\n",
    "\n",
    "# Method 1.2: This model is same as the above in 1.1\n",
    "#Sequential way of building models\n",
    "model = Sequential()\n",
    "model.add(data_augmentation)\n",
    "model.add(tf.keras.layers.experimental.preprocessing.Rescaling(1./255))\n",
    "model.add(tf.keras.layers.Dense(1024,activation='relu'))\n",
    "model.add(tf.keras.layers.Dropout(0.2))\n",
    "model.add(tf.keras.layers.Dense(2,activation='softmax'))"
   ]
  },
  {
   "cell_type": "markdown",
   "metadata": {
    "colab_type": "text",
    "id": "m1YNHoe9mWtS"
   },
   "source": [
    "Method2: use dataset.map function"
   ]
  },
  {
   "cell_type": "code",
   "execution_count": null,
   "metadata": {
    "colab": {},
    "colab_type": "code",
    "id": "49-QEXZHmshj"
   },
   "outputs": [],
   "source": [
    "augmented_train_ds = train_ds.map(\n",
    "  lambda x, y: (data_augmentation(x, training=True), y))"
   ]
  },
  {
   "cell_type": "markdown",
   "metadata": {
    "colab_type": "text",
    "id": "34LtHdKSm2zs"
   },
   "source": [
    "### **Method 3:** Using ImageData generators to load data"
   ]
  },
  {
   "cell_type": "code",
   "execution_count": null,
   "metadata": {
    "colab": {
     "base_uri": "https://localhost:8080/",
     "height": 72
    },
    "colab_type": "code",
    "id": "COJmhjXHmwYM",
    "outputId": "7299d8ed-29ce-4db5-bd23-133ce92732f1"
   },
   "outputs": [
    {
     "name": "stdout",
     "output_type": "stream",
     "text": [
      "Found 6400 images belonging to 2 classes.\n",
      "Found 2000 images belonging to 2 classes.\n",
      "Found 1600 images belonging to 2 classes.\n"
     ]
    }
   ],
   "source": [
    "train_datagen = tf.keras.preprocessing.image.ImageDataGenerator(rescale = 1./255., # rescaling\n",
    "                                   rotation_range = 40,  # for augmentation\n",
    "                                   width_shift_range = 0.2,\n",
    "                                   validation_split = 0.2,\n",
    "                                   height_shift_range = 0.2,\n",
    "                                   shear_range = 0.2,\n",
    "                                   zoom_range = 0.2,\n",
    "                                   horizontal_flip = True)\n",
    "\n",
    "val_datagen = tf.keras.preprocessing.image.ImageDataGenerator(rescale = 1.0/255.,validation_split = 0.2)\n",
    "\n",
    "test_datagen = tf.keras.preprocessing.image.ImageDataGenerator(rescale = 1.0/255.)\n",
    "\n",
    "train_generator = train_datagen.flow_from_directory(\"dataset/training_set/\",\n",
    "                                                    batch_size = 32,\n",
    "                                                    subset=\"training\",\n",
    "                                                    class_mode = 'binary', \n",
    "                                                    target_size = (224, 224))\n",
    "\n",
    "test_generator = test_datagen.flow_from_directory(\"dataset/test_set/\",\n",
    "                                                    batch_size = 32,\n",
    "                                                    class_mode = 'binary', \n",
    "                                                    target_size = (224, 224))\n",
    "\n",
    "val_generator = val_datagen.flow_from_directory(\"dataset/training_set/\",\n",
    "                                                subset = \"validation\",\n",
    "                                                    batch_size = 32,\n",
    "                                                    class_mode = 'binary', \n",
    "                                                    target_size = (224, 224))"
   ]
  },
  {
   "cell_type": "code",
   "execution_count": null,
   "metadata": {
    "colab": {},
    "colab_type": "code",
    "id": "rONSYgUznbkx"
   },
   "outputs": [],
   "source": [
    "#create the model and fit the data\n",
    "history = model.fit(\n",
    "            train_generator,\n",
    "            validation_data = test_generator,\n",
    "            epochs = 10,\n",
    "            verbose = 2)"
   ]
  },
  {
   "cell_type": "markdown",
   "metadata": {
    "colab_type": "text",
    "id": "vPb5hBedpT2_"
   },
   "source": [
    "##Predictions"
   ]
  },
  {
   "cell_type": "code",
   "execution_count": null,
   "metadata": {
    "colab": {},
    "colab_type": "code",
    "id": "Mq6FlKZ1pWVQ"
   },
   "outputs": [],
   "source": [
    "test_loss, test_acc = model.evaluate(test_generator, verbose=2)\n",
    "\n",
    "print('\\nTest accuracy:', test_acc)"
   ]
  },
  {
   "cell_type": "code",
   "execution_count": null,
   "metadata": {
    "colab": {},
    "colab_type": "code",
    "id": "GkBfFtYspe5q"
   },
   "outputs": [],
   "source": [
    "preds = model.predict(test_generator)\n",
    "#if using softmax activation on output layer\n",
    "predicted_labels  = np.argmax(preds,axis=1)"
   ]
  },
  {
   "cell_type": "code",
   "execution_count": null,
   "metadata": {
    "colab": {},
    "colab_type": "code",
    "id": "52UodRzbNHCi"
   },
   "outputs": [],
   "source": [
    "#Accessing classnames with predicted clases\n",
    "final_predictions = [class_names[i] for i in predicted_labels]"
   ]
  }
 ],
 "metadata": {
  "colab": {
   "include_colab_link": true,
   "name": "Assignment2_Help_Notebook.ipynb",
   "provenance": [],
   "toc_visible": true
  },
  "kernelspec": {
   "display_name": "Python 3",
   "language": "python",
   "name": "python3"
  },
  "language_info": {
   "codemirror_mode": {
    "name": "ipython",
    "version": 3
   },
   "file_extension": ".py",
   "mimetype": "text/x-python",
   "name": "python",
   "nbconvert_exporter": "python",
   "pygments_lexer": "ipython3",
   "version": "3.7.6"
  }
 },
 "nbformat": 4,
 "nbformat_minor": 1
}
